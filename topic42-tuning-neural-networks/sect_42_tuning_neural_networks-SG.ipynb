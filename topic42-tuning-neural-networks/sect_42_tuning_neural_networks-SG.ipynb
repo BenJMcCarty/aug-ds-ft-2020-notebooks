{
 "cells": [
  {
   "cell_type": "markdown",
   "metadata": {
    "colab_type": "text",
    "id": "GKw2nWdMDKR6"
   },
   "source": [
    "# Section 42: Tuning Neural Networks"
   ]
  },
  {
   "cell_type": "markdown",
   "metadata": {},
   "source": [
    "- 12/04/20\n",
    "- online-ds-ft-081720"
   ]
  },
  {
   "cell_type": "markdown",
   "metadata": {},
   "source": [
    "> NOTE: YOU MAY **NOT** USE THE FUNCTIONS FROM THIS NOTEBOOK IN YOUR PROJECTS"
   ]
  },
  {
   "cell_type": "markdown",
   "metadata": {},
   "source": [
    "## Announcements"
   ]
  },
  {
   "cell_type": "markdown",
   "metadata": {},
   "source": [
    "- Monday's Check-In will also be Phase 4 Project Kick-Off\n",
    "    - It will be 1 hour long (12-1pm).\n",
    "    \n",
    "- Study Group Topics now appear as all-day events instead of changing the title of our study group event.\n",
    "\n",
    "- Topic 43 will be covered during Phase 5/capstone\n"
   ]
  },
  {
   "cell_type": "markdown",
   "metadata": {},
   "source": [
    "## Learning Objectives"
   ]
  },
  {
   "cell_type": "markdown",
   "metadata": {},
   "source": [
    "- Discuss the different options available for tuning neural networks\n",
    "- Discuss some rules of thumb for tuning Neural Networks\n",
    "\n",
    "- **ACTIVITY: Use a computer vision task to walk-through hyperparameter tuning (cats vs dogs)**\n",
    "    - [Zip File on Google Drive](https://drive.google.com/open?id=1WQ0fdJrNs5qVinJ_6rmVIIinOJD3p-n4)\n",
    "\n",
    "- **Learn how to use GridSearchCV with Keras neural neural networks.**\n",
    "\n",
    "    - Learn how to examine the other parameter results from a GridSearchCV object.\n",
    "\n",
    "    - Learn how to create your own custom scorer for sklearn (and why you'd want to)\n",
    "\n"
   ]
  },
  {
   "cell_type": "markdown",
   "metadata": {},
   "source": [
    "## Questions/Comments?\n",
    "- What are some possible reasons for dramatic swings in validation accuracy from epoch to epoch?\n"
   ]
  },
  {
   "cell_type": "markdown",
   "metadata": {},
   "source": [
    "## Helpful Resources"
   ]
  },
  {
   "cell_type": "markdown",
   "metadata": {},
   "source": [
    "- [Medium: Simple Guide to Hyperparameter Tuning in Neural Networks](https://towardsdatascience.com/simple-guide-to-hyperparameter-tuning-in-neural-networks-3fe03dad8594)\n",
    "- [Medium: A guide to an efficient way to build neural network architectures- Part I:](https://towardsdatascience.com/a-guide-to-an-efficient-way-to-build-neural-network-architectures-part-i-hyper-parameter-8129009f131b)\n",
    "- [Medium: Optimizers for Neural Networks](https://medium.com/@sdoshi579/optimizers-for-training-neural-network-59450d71caf6)"
   ]
  },
  {
   "cell_type": "markdown",
   "metadata": {},
   "source": [
    "# Overview  - Neural Network Tuning "
   ]
  },
  {
   "cell_type": "markdown",
   "metadata": {},
   "source": [
    "## Rules of Thumb for Training Neural Networks"
   ]
  },
  {
   "cell_type": "markdown",
   "metadata": {},
   "source": [
    "- **Always use a train-test-validation split.**\n",
    "    - **Train-test-val splits:**\n",
    "        - Training set: for training the algorithm\n",
    "        - Validation set: used during training\n",
    "        - Testing set: after choosing the final model, use the test set for an unbiased estimate of performance.\n",
    "    - **Set sizes:**\n",
    "        - With big data, your val and test sets don't necessarily need to be 20-30% of all the data. \n",
    "        - You can choose test and hold-out sets that are of size 1-5%. \n",
    "            - eg. 96% train, 2% hold-out, 2% test set.\n",
    "            \n",
    "            \n",
    "- Consider using a `np.random.seed` for reproducibility/comparing models\n",
    "    - but also set with tensorflow. tf.random.set_seed\n",
    "    \n",
    "\n",
    "\n",
    "- **Use cross validation of some sort to compare Networks**\n",
    "\n",
    "\n",
    "- Normalize/Standardize features\n",
    "    \n",
    "    \n",
    "- **Add EarlyStopping and ModelCheckpoint [callbacks](https://keras.io/api/callbacks/)**\n",
    "\n",
    "    "
   ]
  },
  {
   "cell_type": "markdown",
   "metadata": {
    "colab_type": "text",
    "id": "lbzweQKTDPTl"
   },
   "source": [
    "#### Dealing with Bias/Variance\n",
    "\n",
    "- Balancing Bias/Variance:\n",
    "    - High Bias models are **underfit**\n",
    "    - High Variance models are **overfit**\n",
    "\n",
    "\n",
    "\n",
    "- **Rules of thumb re: bias/variance trade-off:**\n",
    "\n",
    "| High Bias? (training performance) | high variance? (validation performance)  |\n",
    "|---------------|-------------|\n",
    "| Use a bigger network|    More data     |\n",
    "| Train longer | Regularization   |\n",
    "| Look for other existing NN architextures |Look for other existing NN architextures |\n"
   ]
  },
  {
   "cell_type": "markdown",
   "metadata": {},
   "source": [
    "## Rules of Thumb - Hyperparameters to Tune \n"
   ]
  },
  {
   "cell_type": "markdown",
   "metadata": {},
   "source": [
    "- This section is roughly laid out in order of importance/what-to-tune-first\n",
    "    - [Blog Post](https://towardsdatascience.com/a-guide-to-an-efficient-way-to-build-neural-network-architectures-part-i-hyper-parameter-8129009f131b)"
   ]
  },
  {
   "cell_type": "markdown",
   "metadata": {},
   "source": [
    "### Hyperparameters (For Dense layers)"
   ]
  },
  {
   "cell_type": "markdown",
   "metadata": {},
   "source": [
    "1. Number of layers (depends on the size of training data)\n",
    "\n",
    "\n",
    "2. Number of neurons(depends on the size of training data)\n",
    "\n",
    "\n",
    "3. Activation functions\n",
    "    - Popular choices:\n",
    "        - relu / leaky-relu\n",
    "        - sigmoid / tanh (for shallow networks)\n",
    "        \n",
    "        \n",
    "4. Optimizer:\n",
    "    - Popular choices:\n",
    "        - SGD (works well for shallow but gets stuck in local minima/saddle-points - if so use RMSProp)\n",
    "        - RMSProp\n",
    "        - Adam (general favorite)\n",
    "        \n",
    "        \n",
    "5. Learning Rate\n",
    "    - Try in powers of 10 (0.001,0.01,.1,1.0)\n",
    "    - Which optimizer changes which l.r. is best (but try the others too).\n",
    "        - SGD: 0.1\n",
    "        - Adam: 0.001/0.01\n",
    "    - Can use the `decay` parameter to reduce learning (though it is better to use adaptive optimizer than to adjust this)/.\n",
    "    \n",
    "    \n",
    "6. Initialization\n",
    "    - Not as important as defaults (glorot-uniform) work well, but:\n",
    "        - Use He-normal/uniform initialization when using ReLu\n",
    "        - Use Glorot-normal/uniform when using Sigmoid\n",
    "    - Avoid using all zeros or any constant for all neurons\n",
    "\n",
    "\n",
    "7. Batch Size\n",
    "    - Finding the \"right\" size is important\n",
    "        - Too small = weights update too quickly and convergence is difficult\n",
    "        - Too large = weights update too slowly (plus PC RAM issues)\n",
    "    - Try batch sizes that are powers of 2 (for memory optimization)\n",
    "    - Larger is better than smaller.\n",
    "    \n",
    "    \n",
    "8. Number of Epochs:\n",
    "    - Important parameter to tune\n",
    "    - Use EarlyStopping callback to prevent overfitting\n",
    "    \n",
    "\n",
    "9. Adding Dropout\n",
    "    - Usually use dropout rate of 0.2 to 0.5\n",
    "    \n",
    "    \n",
    "\n",
    "10. Adding regularization (L1,L2)\n",
    "    - Use when the model continues to over-fit even after adding Dropout"
   ]
  },
  {
   "cell_type": "markdown",
   "metadata": {},
   "source": [
    "### Hyperparameter Details"
   ]
  },
  {
   "cell_type": "markdown",
   "metadata": {},
   "source": [
    "#### Kernel Initialization\n",
    "- Kernel Initializers\n",
    "```python\n",
    "# define the grid search parameters\n",
    "init_mode = ['uniform', 'lecun_uniform', 'normal', 'zero', \n",
    "             'glorot_normal', 'glorot_uniform', 'he_normal', 'he_uniform']```\n",
    "\n",
    "\n",
    "#### Loss Functions\n",
    "- MSE (regression)\n",
    "- categorical cross-entropy (classification with 2D labels )\n",
    "    - sparse categorical cross entropy (classification with 1D labels)\n",
    "- binary cross-entropy (classification)\n",
    "    - 2 categories\n",
    "- **can also uses custom scoring functions**"
   ]
  },
  {
   "cell_type": "markdown",
   "metadata": {},
   "source": [
    "## Using Regularization"
   ]
  },
  {
   "cell_type": "markdown",
   "metadata": {},
   "source": [
    "### L1 & L2 Regularlization\n",
    "- These methods of regularizaiton do so by penalizing coefficients(regression) or weights(neural networks),\n",
    "    - L1 & L2 exist in regression models as well. There, L1='Lasso Regressions' , L2='Ridge regression'\n",
    "    \n",
    "    \n",
    "\n",
    "- **L1 & L2 regularization add a term to the cost function.**\n",
    "\n",
    "$$Cost function = Loss (say, binary cross entropy) + Regularization term$$\n",
    "\n",
    "$$ J (w^{[1]},b^{[1]},...,w^{[L]},b^{[L]}) = \\dfrac{1}{m} \\sum^m_{i=1}\\mathcal{L}(\\hat y^{(i)}, y^{(i)})+ \\dfrac{\\lambda}{2m}\\sum^L_{l=1}||w^{[l]}||^2$$\n",
    "- where $\\lambda$ is the regularization parameter. \n",
    "\n",
    "- **The difference between  L1 vs L2 is that L1 is just the sum of the weights whereas L2 is the sum of the _square_of the weights.**  \n",
    "\n",
    "\n",
    "<br><br>\n",
    "- **L1 Regularization:**\n",
    "    $$ Cost function = Loss + \\frac{\\lambda}{2m} * \\sum ||w||$$\n",
    "    - Uses the absolute value of weights and may reduce the weights down to 0. \n",
    "    \n",
    "        \n",
    "- **L2 Regularization:**:\n",
    "    $$ Cost function = Loss + \\frac{\\lambda}{2m} * \\sum ||w||^2$$\n",
    "    - Also known as weight decay, as it forces weights to decay towards zero, but never exactly 0.. "
   ]
  },
  {
   "cell_type": "markdown",
   "metadata": {},
   "source": [
    "#### L1/L2 Regularization\n",
    "\n",
    "- **CHOOSING L1 OR L2:**\n",
    "    - L1 is very useful when trying to compress a model. (since weights can decreae to 0)\n",
    "    - L2 is generally preferred otherwise.\n",
    "    \n",
    "    \n",
    "- **USING L1/L2 IN KERAS:**\n",
    "    - Add a kernel_regulaizer to a  layer.\n",
    "```python \n",
    "from keras import regularizers\n",
    "model.add(Dense(64, input_dim=64, kernel_regularizer=regularizers.l2(0.01))\n",
    "```\n",
    "    - here 0.01 = $\\lambda$"
   ]
  },
  {
   "cell_type": "markdown",
   "metadata": {},
   "source": [
    "### Additional Options"
   ]
  },
  {
   "cell_type": "markdown",
   "metadata": {},
   "source": [
    "#### Dropout "
   ]
  },
  {
   "cell_type": "markdown",
   "metadata": {
    "colab_type": "text",
    "id": "BlPs5Wd8GrNg"
   },
   "source": [
    "#### Early Stopping"
   ]
  },
  {
   "cell_type": "markdown",
   "metadata": {
    "colab_type": "text",
    "id": "BlPs5Wd8GrNg"
   },
   "source": [
    "- Monitor performance for decrease or plateau in performance, terminate process when given criteria is reached.\n",
    "\n",
    "- **In Keras:**\n",
    "    - Can be applied using the [callbacks function](https://keras.io/callbacks/)\n",
    "```python    \n",
    "from keras.callbacks import EarlyStopping\n",
    "EarlyStopping(monitor='val_err', patience=5)\n",
    "```\n",
    "    - 'Monitor' denotes quanitity to check\n",
    "    - 'val_err' denotes validation error\n",
    "    - 'pateience' denotes # of epochs without improvement before stopping.\n",
    "        - Be careful, as sometimes models _will_ continue to improve after a stagnant period\n"
   ]
  },
  {
   "cell_type": "markdown",
   "metadata": {},
   "source": [
    "# Activity: Dogs vs Cats"
   ]
  },
  {
   "cell_type": "markdown",
   "metadata": {},
   "source": [
    "- Build an image classification model to detect cats vs dogs"
   ]
  },
  {
   "cell_type": "markdown",
   "metadata": {
    "colab_type": "text",
    "id": "8qbS0lSrghaO"
   },
   "source": [
    "## Installs, Imports, & Functions"
   ]
  },
  {
   "cell_type": "code",
   "execution_count": 10,
   "metadata": {
    "ExecuteTime": {
     "end_time": "2020-12-04T19:42:47.137922Z",
     "start_time": "2020-12-04T19:42:47.132242Z"
    }
   },
   "outputs": [
    {
     "data": {
      "text/plain": [
       "'2.3.1'"
      ]
     },
     "execution_count": 10,
     "metadata": {},
     "output_type": "execute_result"
    }
   ],
   "source": [
    "# !pip install -U tensorflow\n",
    "from tensorflow.random import set_seed\n",
    "set_seed(321)\n",
    "\n",
    "import numpy as np\n",
    "np.random.seed(321)\n",
    "\n",
    "import tensorflow as tf\n",
    "from tensorflow import keras\n",
    "tf.__version__"
   ]
  },
  {
   "cell_type": "code",
   "execution_count": 11,
   "metadata": {
    "ExecuteTime": {
     "end_time": "2020-12-04T19:42:47.143440Z",
     "start_time": "2020-12-04T19:42:47.141003Z"
    },
    "colab": {
     "base_uri": "https://localhost:8080/",
     "height": 238
    },
    "colab_type": "code",
    "id": "KHc94KpTlbRj",
    "outputId": "f71ccce3-f23d-4b8e-d4f7-c4736cbe1e76",
    "scrolled": true
   },
   "outputs": [],
   "source": [
    "# !pip install -U fsds\n",
    "from fsds.imports import *"
   ]
  },
  {
   "cell_type": "markdown",
   "metadata": {
    "colab_type": "text",
    "id": "E7D1Ks2mhJim"
   },
   "source": [
    "## Loading in the data"
   ]
  },
  {
   "cell_type": "markdown",
   "metadata": {},
   "source": [
    "- Download the zip file \n",
    "    - [DATASET: Zip File for Dog vs Cats](https://drive.google.com/open?id=1WQ0fdJrNs5qVinJ_6rmVIIinOJD3p-n4)\n",
    "- Extract zip file contents to the a folder on your computer.\n",
    "    - I am using my user folder > Datasets > cats-vs-dogs\n",
    "    "
   ]
  },
  {
   "cell_type": "code",
   "execution_count": 12,
   "metadata": {
    "ExecuteTime": {
     "end_time": "2020-12-04T19:42:47.150491Z",
     "start_time": "2020-12-04T19:42:47.146951Z"
    }
   },
   "outputs": [],
   "source": [
    "import os,glob\n",
    "# print(os.path.abspath(os.curdir))"
   ]
  },
  {
   "cell_type": "code",
   "execution_count": 13,
   "metadata": {
    "ExecuteTime": {
     "end_time": "2020-12-04T19:42:47.158039Z",
     "start_time": "2020-12-04T19:42:47.153524Z"
    }
   },
   "outputs": [
    {
     "data": {
      "text/plain": [
       "['single_prediction', '.DS_Store', 'Models', 'training_set', 'test_set']"
      ]
     },
     "execution_count": 13,
     "metadata": {},
     "output_type": "execute_result"
    }
   ],
   "source": [
    "# change dataset_folder to match where you stored the files\n",
    "base_folder =\"/Users/jamesirving/Datasets/dogs-vs-cats-sorted/\"\n",
    "\n",
    "## Check contents of base fodler\n",
    "os.listdir(base_folder)"
   ]
  },
  {
   "cell_type": "code",
   "execution_count": 18,
   "metadata": {
    "ExecuteTime": {
     "end_time": "2020-12-04T19:43:08.622482Z",
     "start_time": "2020-12-04T19:43:08.617873Z"
    }
   },
   "outputs": [
    {
     "data": {
      "text/plain": [
       "['dogs', 'cats', '.DS_Store']"
      ]
     },
     "execution_count": 18,
     "metadata": {},
     "output_type": "execute_result"
    }
   ],
   "source": [
    "## Define train_folder and test_folder\n",
    "\n",
    "train_folder = base_folder + 'training_set/'\n",
    "test_folder = base_folder + 'test_set/'\n",
    "\n",
    "## Check contents of train_folder\n",
    "os.listdir(train_folder)"
   ]
  },
  {
   "cell_type": "markdown",
   "metadata": {},
   "source": [
    "### Using ImageDataGenerator.flow_from_directory"
   ]
  },
  {
   "cell_type": "code",
   "execution_count": 19,
   "metadata": {
    "ExecuteTime": {
     "end_time": "2020-12-04T19:43:09.698516Z",
     "start_time": "2020-12-04T19:43:09.695428Z"
    }
   },
   "outputs": [],
   "source": [
    "from tensorflow.keras.preprocessing import image\n",
    "from tensorflow.keras.preprocessing.image import ImageDataGenerator, array_to_img, img_to_array, load_img\n",
    "from tensorflow.keras.utils import to_categorical\n",
    "import tensorflow as tf\n"
   ]
  },
  {
   "cell_type": "markdown",
   "metadata": {},
   "source": [
    "> Train-Test-Val Split: https://medium.com/@olagokeibrahim165/split-train-data-into-training-and-validation-when-using-imagedatagenerator-in-keras-ffdc88bbf6f3"
   ]
  },
  {
   "cell_type": "code",
   "execution_count": null,
   "metadata": {},
   "outputs": [],
   "source": []
  },
  {
   "cell_type": "code",
   "execution_count": 20,
   "metadata": {
    "ExecuteTime": {
     "end_time": "2020-12-04T19:43:10.921735Z",
     "start_time": "2020-12-04T19:43:10.917803Z"
    }
   },
   "outputs": [],
   "source": [
    "## get num images\n",
    "import os,glob\n",
    "def get_num_images(train_folder,folders=['dogs','cats'],verbose=True):\n",
    "    \"\"\"Gets the total number of images from all folders listed\"\"\"\n",
    "    num_images = 0\n",
    "    for folder in folders:\n",
    "        num_in_folder = len(os.listdir(train_folder+folder))\n",
    "        \n",
    "        if verbose:\n",
    "            print(f\"- There are {num_in_folder} images in {folder} folder.\")\n",
    "        num_images+=num_in_folder\n",
    "    return num_images"
   ]
  },
  {
   "cell_type": "code",
   "execution_count": 22,
   "metadata": {
    "ExecuteTime": {
     "end_time": "2020-12-04T19:44:08.281116Z",
     "start_time": "2020-12-04T19:44:08.263173Z"
    }
   },
   "outputs": [
    {
     "name": "stdout",
     "output_type": "stream",
     "text": [
      "Training images: 8002\n",
      "Test & Val images: 2002\n"
     ]
    }
   ],
   "source": [
    "## Get the Number of total images for batch size \n",
    "BATCH_SIZE_TRAIN = get_num_images(train_folder,verbose=0)\n",
    "BATCH_SIZE_TEST_VAL = get_num_images(test_folder,verbose=0)\n",
    "print(f\"Training images: {BATCH_SIZE_TRAIN}\")\n",
    "print(f\"Test & Val images: {BATCH_SIZE_TEST_VAL}\")"
   ]
  },
  {
   "cell_type": "code",
   "execution_count": 26,
   "metadata": {
    "ExecuteTime": {
     "end_time": "2020-12-04T19:45:50.973553Z",
     "start_time": "2020-12-04T19:45:50.968382Z"
    }
   },
   "outputs": [
    {
     "data": {
      "text/plain": [
       "(400, 1602)"
      ]
     },
     "execution_count": 26,
     "metadata": {},
     "output_type": "execute_result"
    }
   ],
   "source": [
    "## Make validation split\n",
    "VAL_SPLIT = 0.2\n",
    "BATCH_SIZE_VAL = round(VAL_SPLIT * BATCH_SIZE_TEST_VAL)\n",
    "BATCH_SIZE_TEST = round((1-VAL_SPLIT)* BATCH_SIZE_TEST_VAL)\n",
    "\n",
    "BATCH_SIZE_VAL,BATCH_SIZE_TEST\n"
   ]
  },
  {
   "cell_type": "code",
   "execution_count": 28,
   "metadata": {
    "ExecuteTime": {
     "end_time": "2020-12-04T19:49:44.361881Z",
     "start_time": "2020-12-04T19:49:44.358409Z"
    }
   },
   "outputs": [],
   "source": [
    "## MAKING IMAGE DATA GENERATORS FOR TRAIN TEST VAL\n",
    "IMG_SIZE = (64,64)\n",
    "\n",
    "## Create ImageDataGenerators\n",
    "train_datagen = ImageDataGenerator(rescale =1/255.)\n",
    "\n",
    "test_val_datagen = ImageDataGenerator(rescale =1/255., validation_split=VAL_SPLIT)"
   ]
  },
  {
   "cell_type": "code",
   "execution_count": 65,
   "metadata": {
    "ExecuteTime": {
     "end_time": "2020-12-04T20:14:16.243011Z",
     "start_time": "2020-12-04T20:14:15.795645Z"
    }
   },
   "outputs": [
    {
     "name": "stdout",
     "output_type": "stream",
     "text": [
      "Found 8000 images belonging to 2 classes.\n",
      "Found 1600 images belonging to 2 classes.\n",
      "Found 400 images belonging to 2 classes.\n"
     ]
    }
   ],
   "source": [
    "## Make Training Sets With All Images\n",
    "training_set_full = train_datagen.flow_from_directory(train_folder,\n",
    "                                                      target_size=IMG_SIZE,\n",
    "                                                      class_mode='binary',\n",
    "                                                      batch_size=BATCH_SIZE_TRAIN)                                          \n",
    "                                                      \n",
    "\n",
    "test_set_full =  test_val_datagen.flow_from_directory(test_folder,\n",
    "                                                      target_size=IMG_SIZE,\n",
    "                                                      batch_size=BATCH_SIZE_TEST,\n",
    "                                                      class_mode='binary',\n",
    "                                                     subset='training')      \n",
    "\n",
    "val_set_full = test_val_datagen.flow_from_directory(test_folder,\n",
    "                                                      target_size=IMG_SIZE,\n",
    "                                                      batch_size=BATCH_SIZE_VAL,\n",
    "                                                    class_mode='binary',\n",
    "                                                     subset='validation')   "
   ]
  },
  {
   "cell_type": "code",
   "execution_count": 66,
   "metadata": {
    "ExecuteTime": {
     "end_time": "2020-12-04T20:14:35.837908Z",
     "start_time": "2020-12-04T20:14:16.245098Z"
    }
   },
   "outputs": [
    {
     "data": {
      "text/plain": [
       "array([0., 0., 0., ..., 0., 1., 1.], dtype=float32)"
      ]
     },
     "execution_count": 66,
     "metadata": {},
     "output_type": "execute_result"
    }
   ],
   "source": [
    "## MAKE X and YS FROM GENERATORS\n",
    "X_train,y_train = next(training_set_full)\n",
    "y_train"
   ]
  },
  {
   "cell_type": "code",
   "execution_count": 67,
   "metadata": {
    "ExecuteTime": {
     "end_time": "2020-12-04T20:14:40.835424Z",
     "start_time": "2020-12-04T20:14:35.840611Z"
    }
   },
   "outputs": [],
   "source": [
    "# TEST AND VAL SETS\n",
    "X_test, y_test=next(test_set_full)\n",
    "X_val,y_val = next(val_set_full)"
   ]
  },
  {
   "cell_type": "code",
   "execution_count": null,
   "metadata": {},
   "outputs": [],
   "source": []
  },
  {
   "cell_type": "code",
   "execution_count": 68,
   "metadata": {
    "ExecuteTime": {
     "end_time": "2020-12-04T20:14:40.841148Z",
     "start_time": "2020-12-04T20:14:40.837393Z"
    }
   },
   "outputs": [
    {
     "data": {
      "text/plain": [
       "(8000, 64, 64, 3)"
      ]
     },
     "execution_count": 68,
     "metadata": {},
     "output_type": "execute_result"
    }
   ],
   "source": [
    "## check train shape\n",
    "X_train.shape"
   ]
  },
  {
   "cell_type": "code",
   "execution_count": 69,
   "metadata": {
    "ExecuteTime": {
     "end_time": "2020-12-04T20:14:40.848295Z",
     "start_time": "2020-12-04T20:14:40.842845Z"
    }
   },
   "outputs": [
    {
     "data": {
      "text/plain": [
       "(8000, 12288)"
      ]
     },
     "execution_count": 69,
     "metadata": {},
     "output_type": "execute_result"
    }
   ],
   "source": [
    "## UNROW IMAGES FOR SEQUENTIAL MODEL\n",
    "X_train_unrow = X_train.reshape(X_train.shape[0],-1 )\n",
    "X_test_unrow = X_test.reshape(X_test.shape[0],-1)\n",
    "X_val_unrow = X_val.reshape(X_val.shape[0],-1)\n",
    "X_train_unrow.shape"
   ]
  },
  {
   "cell_type": "code",
   "execution_count": 70,
   "metadata": {
    "ExecuteTime": {
     "end_time": "2020-12-04T20:14:40.854226Z",
     "start_time": "2020-12-04T20:14:40.850281Z"
    }
   },
   "outputs": [
    {
     "data": {
      "text/plain": [
       "(12288,)"
      ]
     },
     "execution_count": 70,
     "metadata": {},
     "output_type": "execute_result"
    }
   ],
   "source": [
    "X_train_unrow[0].shape"
   ]
  },
  {
   "cell_type": "code",
   "execution_count": 71,
   "metadata": {
    "ExecuteTime": {
     "end_time": "2020-12-04T20:14:40.861501Z",
     "start_time": "2020-12-04T20:14:40.857537Z"
    }
   },
   "outputs": [
    {
     "data": {
      "text/plain": [
       "{'cats': 0, 'dogs': 1}"
      ]
     },
     "execution_count": 71,
     "metadata": {},
     "output_type": "execute_result"
    }
   ],
   "source": [
    "training_set_full.class_indices"
   ]
  },
  {
   "cell_type": "code",
   "execution_count": 72,
   "metadata": {
    "ExecuteTime": {
     "end_time": "2020-12-04T20:14:40.872860Z",
     "start_time": "2020-12-04T20:14:40.864464Z"
    }
   },
   "outputs": [
    {
     "data": {
      "text/plain": [
       "0.0"
      ]
     },
     "metadata": {},
     "output_type": "display_data"
    },
    {
     "data": {
      "image/png": "[encoded data removed]",
      "text/plain": [
       "<PIL.Image.Image image mode=RGB size=64x64 at 0x7F920F7E3CC0>"
      ]
     },
     "metadata": {},
     "output_type": "display_data"
    }
   ],
   "source": [
    "## Display random image \n",
    "i = np.random.choice(range(len(y_train)))\n",
    "display(y_train[i])\n",
    "display(array_to_img(X_train[i]))#.reshape(32,32,3)))"
   ]
  },
  {
   "cell_type": "markdown",
   "metadata": {},
   "source": [
    "# Using Dense Networks"
   ]
  },
  {
   "cell_type": "code",
   "execution_count": 73,
   "metadata": {
    "ExecuteTime": {
     "end_time": "2020-12-04T20:14:40.878280Z",
     "start_time": "2020-12-04T20:14:40.874724Z"
    }
   },
   "outputs": [],
   "source": [
    "from tensorflow.keras.models import Sequential\n",
    "from tensorflow.keras.layers import Dense\n",
    "from tensorflow.keras import optimizers,regularizers\n",
    "from tensorflow.keras import models,layers,optimizers,regularizers,activations\n",
    "from tensorflow.keras.layers import Conv2D, MaxPooling2D,Flatten,Dense,Dropout"
   ]
  },
  {
   "cell_type": "code",
   "execution_count": 74,
   "metadata": {
    "ExecuteTime": {
     "end_time": "2020-12-04T20:14:40.883892Z",
     "start_time": "2020-12-04T20:14:40.880178Z"
    }
   },
   "outputs": [
    {
     "data": {
      "text/plain": [
       "(12288,)"
      ]
     },
     "execution_count": 74,
     "metadata": {},
     "output_type": "execute_result"
    }
   ],
   "source": [
    "X_train_unrow[0].shape"
   ]
  },
  {
   "cell_type": "code",
   "execution_count": 75,
   "metadata": {
    "ExecuteTime": {
     "end_time": "2020-12-04T20:14:40.889483Z",
     "start_time": "2020-12-04T20:14:40.885764Z"
    }
   },
   "outputs": [
    {
     "data": {
      "text/plain": [
       "(8000,)"
      ]
     },
     "execution_count": 75,
     "metadata": {},
     "output_type": "execute_result"
    }
   ],
   "source": [
    "y_train.shape"
   ]
  },
  {
   "cell_type": "code",
   "execution_count": 77,
   "metadata": {
    "ExecuteTime": {
     "end_time": "2020-12-04T20:15:09.929575Z",
     "start_time": "2020-12-04T20:15:09.892757Z"
    }
   },
   "outputs": [
    {
     "name": "stdout",
     "output_type": "stream",
     "text": [
      "Model: \"sequential_4\"\n",
      "_________________________________________________________________\n",
      "Layer (type)                 Output Shape              Param #   \n",
      "=================================================================\n",
      "dense_7 (Dense)              (None, 65)                798785    \n",
      "_________________________________________________________________\n",
      "dense_8 (Dense)              (None, 1)                 66        \n",
      "=================================================================\n",
      "Total params: 798,851\n",
      "Trainable params: 798,851\n",
      "Non-trainable params: 0\n",
      "_________________________________________________________________\n"
     ]
    }
   ],
   "source": [
    "##N Sequential model: 64 units, relu, final=dense 1, sigmoid\n",
    "model_1 = Sequential()\n",
    "model_1.add(Dense(65,activation='relu',input_shape=X_train_unrow[0].shape))\n",
    "model_1.add(Dense(1,activation='sigmoid'))\n",
    "model_1.compile(optimizer='adam',loss='binary_crossentropy',metrics=['accuracy',\n",
    "                                                                    tf.keras.metrics.Recall()])\n",
    "model_1.summary()"
   ]
  },
  {
   "cell_type": "code",
   "execution_count": 78,
   "metadata": {
    "ExecuteTime": {
     "end_time": "2020-12-04T20:15:10.668052Z",
     "start_time": "2020-12-04T20:15:10.665347Z"
    }
   },
   "outputs": [],
   "source": [
    "earlystop = tf.keras.callbacks.EarlyStopping(patience=3,verbose=1)"
   ]
  },
  {
   "cell_type": "code",
   "execution_count": 79,
   "metadata": {
    "ExecuteTime": {
     "end_time": "2020-12-04T20:15:19.107874Z",
     "start_time": "2020-12-04T20:15:11.355255Z"
    }
   },
   "outputs": [
    {
     "name": "stdout",
     "output_type": "stream",
     "text": [
      "Epoch 1/500\n",
      "250/250 [==============================] - 1s 5ms/step - loss: 0.8183 - accuracy: 0.5378 - recall_2: 0.5385 - val_loss: 0.6914 - val_accuracy: 0.5475 - val_recall_2: 0.3150\n",
      "Epoch 2/500\n",
      "250/250 [==============================] - 1s 4ms/step - loss: 0.7308 - accuracy: 0.5677 - recall_2: 0.5670 - val_loss: 0.6641 - val_accuracy: 0.6000 - val_recall_2: 0.5250\n",
      "Epoch 3/500\n",
      "250/250 [==============================] - 1s 4ms/step - loss: 0.6845 - accuracy: 0.5910 - recall_2: 0.5940 - val_loss: 0.6790 - val_accuracy: 0.5575 - val_recall_2: 0.2800\n",
      "Epoch 4/500\n",
      "250/250 [==============================] - 1s 4ms/step - loss: 0.6756 - accuracy: 0.5897 - recall_2: 0.5878 - val_loss: 0.6641 - val_accuracy: 0.5975 - val_recall_2: 0.7200\n",
      "Epoch 5/500\n",
      "250/250 [==============================] - 1s 4ms/step - loss: 0.6738 - accuracy: 0.5891 - recall_2: 0.5907 - val_loss: 0.6648 - val_accuracy: 0.5800 - val_recall_2: 0.6450\n",
      "Epoch 6/500\n",
      "250/250 [==============================] - 1s 4ms/step - loss: 0.6516 - accuracy: 0.6160 - recall_2: 0.6230 - val_loss: 0.6708 - val_accuracy: 0.5750 - val_recall_2: 0.8100\n",
      "Epoch 7/500\n",
      "250/250 [==============================] - 1s 4ms/step - loss: 0.6541 - accuracy: 0.6110 - recall_2: 0.6075 - val_loss: 0.6664 - val_accuracy: 0.5925 - val_recall_2: 0.6700\n",
      "Epoch 00007: early stopping\n"
     ]
    }
   ],
   "source": [
    "## Fit Model with 20 epochs\n",
    "history = model_1.fit(X_train_unrow,y_train,\n",
    "                      validation_data=(X_val_unrow,y_val),callbacks=[earlystop],\n",
    "                      epochs=500)\n",
    "                      "
   ]
  },
  {
   "cell_type": "code",
   "execution_count": 80,
   "metadata": {
    "ExecuteTime": {
     "end_time": "2020-12-04T20:15:19.127028Z",
     "start_time": "2020-12-04T20:15:19.112245Z"
    }
   },
   "outputs": [
    {
     "data": {
      "text/html": [
       "<div>\n",
       "<style scoped>\n",
       "    .dataframe tbody tr th:only-of-type {\n",
       "        vertical-align: middle;\n",
       "    }\n",
       "\n",
       "    .dataframe tbody tr th {\n",
       "        vertical-align: top;\n",
       "    }\n",
       "\n",
       "    .dataframe thead th {\n",
       "        text-align: right;\n",
       "    }\n",
       "</style>\n",
       "<table border=\"1\" class=\"dataframe\">\n",
       "  <thead>\n",
       "    <tr style=\"text-align: right;\">\n",
       "      <th></th>\n",
       "      <th>loss</th>\n",
       "      <th>accuracy</th>\n",
       "      <th>recall_2</th>\n",
       "      <th>val_loss</th>\n",
       "      <th>val_accuracy</th>\n",
       "      <th>val_recall_2</th>\n",
       "    </tr>\n",
       "  </thead>\n",
       "  <tbody>\n",
       "    <tr>\n",
       "      <th>0</th>\n",
       "      <td>0.818269</td>\n",
       "      <td>0.537750</td>\n",
       "      <td>0.53850</td>\n",
       "      <td>0.691358</td>\n",
       "      <td>0.5475</td>\n",
       "      <td>0.315</td>\n",
       "    </tr>\n",
       "    <tr>\n",
       "      <th>1</th>\n",
       "      <td>0.730786</td>\n",
       "      <td>0.567750</td>\n",
       "      <td>0.56700</td>\n",
       "      <td>0.664146</td>\n",
       "      <td>0.6000</td>\n",
       "      <td>0.525</td>\n",
       "    </tr>\n",
       "    <tr>\n",
       "      <th>2</th>\n",
       "      <td>0.684550</td>\n",
       "      <td>0.591000</td>\n",
       "      <td>0.59400</td>\n",
       "      <td>0.679039</td>\n",
       "      <td>0.5575</td>\n",
       "      <td>0.280</td>\n",
       "    </tr>\n",
       "    <tr>\n",
       "      <th>3</th>\n",
       "      <td>0.675629</td>\n",
       "      <td>0.589750</td>\n",
       "      <td>0.58775</td>\n",
       "      <td>0.664086</td>\n",
       "      <td>0.5975</td>\n",
       "      <td>0.720</td>\n",
       "    </tr>\n",
       "    <tr>\n",
       "      <th>4</th>\n",
       "      <td>0.673804</td>\n",
       "      <td>0.589125</td>\n",
       "      <td>0.59075</td>\n",
       "      <td>0.664751</td>\n",
       "      <td>0.5800</td>\n",
       "      <td>0.645</td>\n",
       "    </tr>\n",
       "    <tr>\n",
       "      <th>5</th>\n",
       "      <td>0.651622</td>\n",
       "      <td>0.616000</td>\n",
       "      <td>0.62300</td>\n",
       "      <td>0.670782</td>\n",
       "      <td>0.5750</td>\n",
       "      <td>0.810</td>\n",
       "    </tr>\n",
       "    <tr>\n",
       "      <th>6</th>\n",
       "      <td>0.654067</td>\n",
       "      <td>0.611000</td>\n",
       "      <td>0.60750</td>\n",
       "      <td>0.666363</td>\n",
       "      <td>0.5925</td>\n",
       "      <td>0.670</td>\n",
       "    </tr>\n",
       "  </tbody>\n",
       "</table>\n",
       "</div>"
      ],
      "text/plain": [
       "       loss  accuracy  recall_2  val_loss  val_accuracy  val_recall_2\n",
       "0  0.818269  0.537750   0.53850  0.691358        0.5475         0.315\n",
       "1  0.730786  0.567750   0.56700  0.664146        0.6000         0.525\n",
       "2  0.684550  0.591000   0.59400  0.679039        0.5575         0.280\n",
       "3  0.675629  0.589750   0.58775  0.664086        0.5975         0.720\n",
       "4  0.673804  0.589125   0.59075  0.664751        0.5800         0.645\n",
       "5  0.651622  0.616000   0.62300  0.670782        0.5750         0.810\n",
       "6  0.654067  0.611000   0.60750  0.666363        0.5925         0.670"
      ]
     },
     "execution_count": 80,
     "metadata": {},
     "output_type": "execute_result"
    }
   ],
   "source": [
    "history_df = pd.DataFrame(history.history)\n",
    "history_df"
   ]
  },
  {
   "cell_type": "code",
   "execution_count": 81,
   "metadata": {
    "ExecuteTime": {
     "end_time": "2020-12-04T20:15:19.132483Z",
     "start_time": "2020-12-04T20:15:19.130291Z"
    }
   },
   "outputs": [],
   "source": [
    "# history_df.plot(subplots=True)"
   ]
  },
  {
   "cell_type": "code",
   "execution_count": 82,
   "metadata": {
    "ExecuteTime": {
     "end_time": "2020-12-04T20:15:19.839917Z",
     "start_time": "2020-12-04T20:15:19.134619Z"
    },
    "colab": {
     "base_uri": "https://localhost:8080/",
     "height": 34
    },
    "colab_type": "code",
    "id": "2yML_wHNlbRn",
    "outputId": "50fed474-f35a-477d-8b5e-b448e76c97a8",
    "scrolled": false
   },
   "outputs": [
    {
     "data": {
      "image/png": "[encoded data removed]",
      "text/plain": [
       "<Figure size 432x288 with 1 Axes>"
      ]
     },
     "metadata": {
      "needs_background": "light"
     },
     "output_type": "display_data"
    },
    {
     "data": {
      "image/png": "[encoded data removed]",
      "text/plain": [
       "<Figure size 432x288 with 1 Axes>"
      ]
     },
     "metadata": {
      "needs_background": "light"
     },
     "output_type": "display_data"
    },
    {
     "data": {
      "image/png": "[encoded data removed]",
      "text/plain": [
       "<Figure size 432x288 with 1 Axes>"
      ]
     },
     "metadata": {
      "needs_background": "light"
     },
     "output_type": "display_data"
    }
   ],
   "source": [
    "metrics = ['loss','accuracy','recall']\n",
    "for metric in metrics:\n",
    "    plot_me = history_df[[col for col in history_df.columns if metric in col]]\n",
    "    plot_me.plot(marker='o')"
   ]
  },
  {
   "cell_type": "code",
   "execution_count": null,
   "metadata": {
    "ExecuteTime": {
     "end_time": "2020-10-22T15:59:42.509943Z",
     "start_time": "2020-10-22T15:59:42.507934Z"
    }
   },
   "outputs": [],
   "source": [
    "## Get History  as adf\n"
   ]
  },
  {
   "cell_type": "code",
   "execution_count": null,
   "metadata": {
    "ExecuteTime": {
     "end_time": "2020-10-22T15:59:50.646678Z",
     "start_time": "2020-10-22T15:59:50.644649Z"
    }
   },
   "outputs": [],
   "source": [
    "## PLotn all fo the metrics in history"
   ]
  },
  {
   "cell_type": "code",
   "execution_count": 83,
   "metadata": {
    "ExecuteTime": {
     "end_time": "2020-12-04T20:17:52.026455Z",
     "start_time": "2020-12-04T20:17:51.694157Z"
    }
   },
   "outputs": [
    {
     "name": "stdout",
     "output_type": "stream",
     "text": [
      "50/50 [==============================] - 0s 2ms/step - loss: 0.6610 - accuracy: 0.6106 - recall_2: 0.6825\n"
     ]
    },
    {
     "data": {
      "text/plain": [
       "[0.6610205173492432, 0.6106250286102295, 0.6825000047683716]"
      ]
     },
     "execution_count": 83,
     "metadata": {},
     "output_type": "execute_result"
    }
   ],
   "source": [
    "## Model.Evaluate\n",
    "model_1.evaluate(X_test_unrow,y_test)"
   ]
  },
  {
   "cell_type": "code",
   "execution_count": 90,
   "metadata": {
    "ExecuteTime": {
     "end_time": "2020-12-04T20:20:31.015617Z",
     "start_time": "2020-12-04T20:20:30.909535Z"
    }
   },
   "outputs": [],
   "source": [
    "## Get PRedictions\n",
    "y_hat_test = model_1.predict(X_test_unrow)\n",
    "# y_hat_test"
   ]
  },
  {
   "cell_type": "code",
   "execution_count": 87,
   "metadata": {
    "ExecuteTime": {
     "end_time": "2020-12-04T20:20:04.615344Z",
     "start_time": "2020-12-04T20:20:04.611142Z"
    }
   },
   "outputs": [
    {
     "data": {
      "text/plain": [
       "array([1., 1., 0., ..., 1., 1., 0.], dtype=float32)"
      ]
     },
     "execution_count": 87,
     "metadata": {},
     "output_type": "execute_result"
    }
   ],
   "source": [
    "y_test"
   ]
  },
  {
   "cell_type": "code",
   "execution_count": 89,
   "metadata": {
    "ExecuteTime": {
     "end_time": "2020-12-04T20:20:19.355306Z",
     "start_time": "2020-12-04T20:20:19.345486Z"
    }
   },
   "outputs": [
    {
     "name": "stdout",
     "output_type": "stream",
     "text": [
      "              precision    recall  f1-score   support\n",
      "\n",
      "         0.0       0.63      0.54      0.58       800\n",
      "         1.0       0.60      0.68      0.64       800\n",
      "\n",
      "    accuracy                           0.61      1600\n",
      "   macro avg       0.61      0.61      0.61      1600\n",
      "weighted avg       0.61      0.61      0.61      1600\n",
      "\n"
     ]
    }
   ],
   "source": [
    "## Classification Report\n",
    "from sklearn import metrics\n",
    "print(metrics.classification_report(y_test, y_hat_test.round()))"
   ]
  },
  {
   "cell_type": "markdown",
   "metadata": {},
   "source": [
    "### Functionize Model Creation & Plotting"
   ]
  },
  {
   "cell_type": "code",
   "execution_count": 91,
   "metadata": {
    "ExecuteTime": {
     "end_time": "2020-12-04T20:22:39.591202Z",
     "start_time": "2020-12-04T20:22:39.586291Z"
    }
   },
   "outputs": [],
   "source": [
    "## def make_model\n",
    "def make_model():\n",
    "    ##N Sequential model: 64 units, relu, final=dense 1, sigmoid\n",
    "    model_1 = Sequential()\n",
    "    model_1.add(Dense(65,activation='relu',input_shape=X_train_unrow[0].shape))\n",
    "    model_1.add(Dense(1,activation='sigmoid'))\n",
    "    model_1.compile(optimizer='adam',loss='binary_crossentropy',metrics=['accuracy',\n",
    "                                                                        tf.keras.metrics.Recall()])\n",
    "    display(model_1.summary())\n",
    "    return model_1\n",
    "    "
   ]
  },
  {
   "cell_type": "code",
   "execution_count": 95,
   "metadata": {
    "ExecuteTime": {
     "end_time": "2020-12-04T20:24:10.063175Z",
     "start_time": "2020-12-04T20:24:10.059437Z"
    }
   },
   "outputs": [],
   "source": [
    "def plot_history(history, metrics = ['loss','accuracy','recall']):\n",
    "    history_df = pd.DataFrame(history.history)\n",
    "    for metric in metrics:\n",
    "        plot_me = history_df[[col for col in history_df.columns if metric in col]]\n",
    "        plot_me.plot(marker='o')"
   ]
  },
  {
   "cell_type": "code",
   "execution_count": 94,
   "metadata": {
    "ExecuteTime": {
     "end_time": "2020-12-04T20:23:54.074612Z",
     "start_time": "2020-12-04T20:23:45.603408Z"
    },
    "scrolled": false
   },
   "outputs": [
    {
     "name": "stdout",
     "output_type": "stream",
     "text": [
      "Model: \"sequential_6\"\n",
      "_________________________________________________________________\n",
      "Layer (type)                 Output Shape              Param #   \n",
      "=================================================================\n",
      "dense_11 (Dense)             (None, 65)                798785    \n",
      "_________________________________________________________________\n",
      "dense_12 (Dense)             (None, 1)                 66        \n",
      "=================================================================\n",
      "Total params: 798,851\n",
      "Trainable params: 798,851\n",
      "Non-trainable params: 0\n",
      "_________________________________________________________________\n"
     ]
    },
    {
     "data": {
      "text/plain": [
       "None"
      ]
     },
     "metadata": {},
     "output_type": "display_data"
    },
    {
     "name": "stdout",
     "output_type": "stream",
     "text": [
      "Epoch 1/500\n",
      "250/250 [==============================] - 1s 5ms/step - loss: 0.8350 - accuracy: 0.5297 - recall_4: 0.5322 - val_loss: 0.6925 - val_accuracy: 0.5525 - val_recall_4: 0.3450\n",
      "Epoch 2/500\n",
      "250/250 [==============================] - 1s 4ms/step - loss: 0.7430 - accuracy: 0.5655 - recall_4: 0.5673 - val_loss: 0.6774 - val_accuracy: 0.5700 - val_recall_4: 0.3300\n",
      "Epoch 3/500\n",
      "250/250 [==============================] - 1s 4ms/step - loss: 0.7088 - accuracy: 0.5813 - recall_4: 0.5810 - val_loss: 0.6856 - val_accuracy: 0.5625 - val_recall_4: 0.3000\n",
      "Epoch 4/500\n",
      "250/250 [==============================] - 1s 4ms/step - loss: 0.6714 - accuracy: 0.6106 - recall_4: 0.6120 - val_loss: 0.6541 - val_accuracy: 0.6025 - val_recall_4: 0.6950\n",
      "Epoch 5/500\n",
      "250/250 [==============================] - 1s 4ms/step - loss: 0.6561 - accuracy: 0.6184 - recall_4: 0.6170 - val_loss: 0.6652 - val_accuracy: 0.5800 - val_recall_4: 0.6600\n",
      "Epoch 6/500\n",
      "250/250 [==============================] - 1s 4ms/step - loss: 0.6531 - accuracy: 0.6212 - recall_4: 0.6175 - val_loss: 0.6646 - val_accuracy: 0.5975 - val_recall_4: 0.6850\n",
      "Epoch 7/500\n",
      "250/250 [==============================] - 1s 4ms/step - loss: 0.6329 - accuracy: 0.6436 - recall_4: 0.6428 - val_loss: 0.7318 - val_accuracy: 0.5500 - val_recall_4: 0.1750\n",
      "Epoch 00007: early stopping\n"
     ]
    }
   ],
   "source": [
    "## Use new functions to make model and plot history\n",
    "model_2 = make_model()\n",
    "history_2 = model_2.fit(X_train_unrow,y_train,\n",
    "                      validation_data=(X_val_unrow,y_val),callbacks=[earlystop],\n",
    "                      epochs=500)"
   ]
  },
  {
   "cell_type": "code",
   "execution_count": 96,
   "metadata": {
    "ExecuteTime": {
     "end_time": "2020-12-04T20:24:17.046818Z",
     "start_time": "2020-12-04T20:24:16.507441Z"
    }
   },
   "outputs": [
    {
     "data": {
      "image/png": "[encoded data removed]",
      "text/plain": [
       "<Figure size 432x288 with 1 Axes>"
      ]
     },
     "metadata": {
      "needs_background": "light"
     },
     "output_type": "display_data"
    },
    {
     "data": {
      "image/png": "[encoded data removed]",
      "text/plain": [
       "<Figure size 432x288 with 1 Axes>"
      ]
     },
     "metadata": {
      "needs_background": "light"
     },
     "output_type": "display_data"
    },
    {
     "data": {
      "image/png": "[encoded data removed]",
      "text/plain": [
       "<Figure size 432x288 with 1 Axes>"
      ]
     },
     "metadata": {
      "needs_background": "light"
     },
     "output_type": "display_data"
    }
   ],
   "source": [
    "plot_history(history_2)"
   ]
  },
  {
   "cell_type": "markdown",
   "metadata": {},
   "source": [
    "### Combine the Whole Process Into One Func"
   ]
  },
  {
   "cell_type": "code",
   "execution_count": null,
   "metadata": {
    "ExecuteTime": {
     "end_time": "2020-10-22T16:00:41.313919Z",
     "start_time": "2020-10-22T16:00:41.311694Z"
    }
   },
   "outputs": [],
   "source": [
    "def make_fit_plot_model():\n",
    "    None"
   ]
  },
  {
   "cell_type": "code",
   "execution_count": null,
   "metadata": {
    "ExecuteTime": {
     "end_time": "2020-10-22T16:00:56.396204Z",
     "start_time": "2020-10-22T16:00:56.394149Z"
    }
   },
   "outputs": [],
   "source": [
    "## Test out new function\n"
   ]
  },
  {
   "cell_type": "markdown",
   "metadata": {},
   "source": [
    "## Activity: Ok...so now what??"
   ]
  },
  {
   "cell_type": "markdown",
   "metadata": {},
   "source": [
    "> Using the rules of thumb and your own knowledge/research, attempt several methods to improve the results of the model. "
   ]
  },
  {
   "cell_type": "code",
   "execution_count": null,
   "metadata": {},
   "outputs": [],
   "source": []
  },
  {
   "cell_type": "code",
   "execution_count": null,
   "metadata": {},
   "outputs": [],
   "source": []
  },
  {
   "cell_type": "code",
   "execution_count": null,
   "metadata": {},
   "outputs": [],
   "source": []
  },
  {
   "cell_type": "markdown",
   "metadata": {},
   "source": [
    "# HyperParameter Tuning with GridSearchCV & Keras"
   ]
  },
  {
   "cell_type": "markdown",
   "metadata": {},
   "source": [
    "Original Source: https://chrisalbon.com/deep_learning/keras/tuning_neural_network_hyperparameters/\n",
    "<br><br>\n",
    "\n",
    "- To use `GridSearchCV` or other similar functions in scikit-learn with a Keras neural network, we need to wrap our keras model in `keras.wrappers.scikit_learn`'s `KerasClassifier` and `KerasRegressor`.\n",
    "\n",
    "1. To do this, we need to write a build function(`build_fn`) that creates our model such as `create_model`.\n",
    "    - This function must accept whatever parameters you wish to tune. \n",
    "    - It also must have a default argument for each parameter.\n",
    "    - This function must Return the model (and only the model)\n",
    "    \n",
    "\n",
    "```python\n",
    "\n",
    "## Define the build function\n",
    "def create_model(n_units=(50,25,7), activation='relu',final_activation='softmax',\n",
    "                optimizer='adam'):\n",
    "    \n",
    "    ## Pro tip:save the local variables now so you can print out the parameters used to create the model.\n",
    "    params_used = locals()\n",
    "    print('Parameters for model:\\n',params_used)\n",
    "    \n",
    "   \n",
    "    from keras.models import Sequential\n",
    "    from keras import layers\n",
    "    \n",
    "    model=Sequential()\n",
    "    model.add(layers.Dense(n_units[0], activation=activation, input_shape=(2000,)))\n",
    "    model.add(layers.Dense(n_units[1], activation=activation))\n",
    "    model.add(layers.Dense(n_units[2], activation=final_activation))\n",
    "    model.compile(optimizer=optimizer, loss='categorical_crossentropy',metrics=['accuracy'])\n",
    "    \n",
    "    display(model.summary())\n",
    "    return model \n",
    "```    \n",
    "\n",
    "2. We then create out model using the Keras wrapper:\n",
    "\n",
    "```python\n",
    "from keras.wrappers.scikit_learn import KerasClassifier\n",
    "neural_network =  KerasClassifier(build_fn=create_model,verbose=1)\n",
    "```\n",
    "\n",
    "3. Now, set up the hyperparameter space for grid search. (Remember, your `create_model` function must accept the parameter you want to tune)\n",
    "\n",
    "```python\n",
    "params_to_test = {'n_units':[(50,25,7),(100,50,7)],\n",
    "                  'optimizer':['adam','rmsprop','adadelta'],\n",
    "                  'activation':['linear','relu','tanh'],\n",
    "                  'final_activation':['softmax']}\n",
    "```\n",
    "\n",
    "4. Now instantiate your GridSearch function\n",
    "\n",
    "```python\n",
    "from sklearn.model_selection import GridSearchCV\n",
    "\n",
    "grid = GridSearchCV(estimator=neural_network,param_grid=params_to_test)\n",
    "grid_result = grid.fit(X_train, y_train)\n",
    "best_params = grid_result.best_params_\n",
    "```\n",
    "5. And thats it!"
   ]
  },
  {
   "cell_type": "code",
   "execution_count": 127,
   "metadata": {
    "ExecuteTime": {
     "end_time": "2020-12-04T21:10:19.847191Z",
     "start_time": "2020-12-04T21:10:19.842846Z"
    }
   },
   "outputs": [],
   "source": [
    "## def make_model\n",
    "def make_model_cv(n_units=65,activation='relu',optimizer='adam'):\n",
    "    ##N Sequential model: 64 units, relu, final=dense 1, sigmoid\n",
    "    model_1 = Sequential()\n",
    "    model_1.add(Dense(n_units,activation=activation,\n",
    "                      input_shape=X_train_unrow[0].shape))\n",
    "    model_1.add(Dense(1,activation='sigmoid'))\n",
    "    model_1.compile(optimizer=optimizer,loss='binary_crossentropy',\n",
    "                    metrics=['accuracy', tf.keras.metrics.Recall()])\n",
    "    display(model_1.summary())\n",
    "    return model_1\n",
    "    "
   ]
  },
  {
   "cell_type": "code",
   "execution_count": 101,
   "metadata": {
    "ExecuteTime": {
     "end_time": "2020-12-04T20:27:53.315942Z",
     "start_time": "2020-12-04T20:27:53.311681Z"
    }
   },
   "outputs": [
    {
     "data": {
      "text/plain": [
       "<tensorflow.python.keras.wrappers.scikit_learn.KerasClassifier at 0x7f920d96b7f0>"
      ]
     },
     "execution_count": 101,
     "metadata": {},
     "output_type": "execute_result"
    }
   ],
   "source": [
    "from tensorflow.keras.wrappers.scikit_learn import KerasClassifier\n",
    "\n",
    "model = KerasClassifier(make_model_cv)\n",
    "model"
   ]
  },
  {
   "cell_type": "code",
   "execution_count": 103,
   "metadata": {
    "ExecuteTime": {
     "end_time": "2020-12-04T20:30:14.903104Z",
     "start_time": "2020-12-04T20:30:14.896089Z"
    }
   },
   "outputs": [
    {
     "data": {
      "text/plain": [
       "GridSearchCV(cv=3,\n",
       "             estimator=<tensorflow.python.keras.wrappers.scikit_learn.KerasClassifier object at 0x7f920d96b7f0>,\n",
       "             param_grid={'activation': ['relu',\n",
       "                                        <tensorflow.python.keras.layers.advanced_activations.LeakyReLU object at 0x7f92070cc400>],\n",
       "                         'batch_size': [16, 32], 'n_units': [32, 64]})"
      ]
     },
     "execution_count": 103,
     "metadata": {},
     "output_type": "execute_result"
    }
   ],
   "source": [
    "from sklearn.model_selection import GridSearchCV\n",
    "params = {'n_units':[32,64],\n",
    "         'activation':['relu',tf.keras.layers.LeakyReLU()],\n",
    "         'batch_size':[16,32]}\n",
    "grid = GridSearchCV(model, params,cv=3 )\n",
    "grid"
   ]
  },
  {
   "cell_type": "code",
   "execution_count": 104,
   "metadata": {
    "ExecuteTime": {
     "end_time": "2020-12-04T20:34:15.451112Z",
     "start_time": "2020-12-04T20:30:45.843379Z"
    },
    "scrolled": true
   },
   "outputs": [
    {
     "name": "stdout",
     "output_type": "stream",
     "text": [
      "Model: \"sequential_7\"\n",
      "_________________________________________________________________\n",
      "Layer (type)                 Output Shape              Param #   \n",
      "=================================================================\n",
      "dense_13 (Dense)             (None, 32)                393248    \n",
      "_________________________________________________________________\n",
      "dense_14 (Dense)             (None, 1)                 33        \n",
      "=================================================================\n",
      "Total params: 393,281\n",
      "Trainable params: 393,281\n",
      "Non-trainable params: 0\n",
      "_________________________________________________________________\n"
     ]
    },
    {
     "data": {
      "text/plain": [
       "None"
      ]
     },
     "metadata": {},
     "output_type": "display_data"
    },
    {
     "name": "stdout",
     "output_type": "stream",
     "text": [
      "Epoch 1/500\n",
      "334/334 [==============================] - 1s 3ms/step - loss: 0.7446 - accuracy: 0.5457 - recall_5: 0.5572 - val_loss: 0.6928 - val_accuracy: 0.5775 - val_recall_5: 0.7750\n",
      "Epoch 2/500\n",
      "334/334 [==============================] - 1s 3ms/step - loss: 0.6949 - accuracy: 0.5380 - recall_5: 0.3328 - val_loss: 0.6928 - val_accuracy: 0.5025 - val_recall_5: 0.0050\n",
      "Epoch 3/500\n",
      "334/334 [==============================] - 1s 2ms/step - loss: 0.6927 - accuracy: 0.5012 - recall_5: 0.0239 - val_loss: 0.6931 - val_accuracy: 0.5000 - val_recall_5: 0.0000e+00\n",
      "Epoch 4/500\n",
      "334/334 [==============================] - 1s 3ms/step - loss: 0.6932 - accuracy: 0.4917 - recall_5: 0.3620 - val_loss: 0.6931 - val_accuracy: 0.5000 - val_recall_5: 1.0000\n",
      "Epoch 00004: early stopping\n",
      "167/167 [==============================] - 0s 2ms/step - loss: 0.6932 - accuracy: 0.4972 - recall_5: 1.0000\n",
      "Model: \"sequential_8\"\n",
      "_________________________________________________________________\n",
      "Layer (type)                 Output Shape              Param #   \n",
      "=================================================================\n",
      "dense_15 (Dense)             (None, 32)                393248    \n",
      "_________________________________________________________________\n",
      "dense_16 (Dense)             (None, 1)                 33        \n",
      "=================================================================\n",
      "Total params: 393,281\n",
      "Trainable params: 393,281\n",
      "Non-trainable params: 0\n",
      "_________________________________________________________________\n"
     ]
    },
    {
     "data": {
      "text/plain": [
       "None"
      ]
     },
     "metadata": {},
     "output_type": "display_data"
    },
    {
     "name": "stdout",
     "output_type": "stream",
     "text": [
      "Epoch 1/500\n",
      "334/334 [==============================] - 1s 3ms/step - loss: 0.7273 - accuracy: 0.5477 - recall_6: 0.5494 - val_loss: 0.6930 - val_accuracy: 0.5350 - val_recall_6: 0.2200\n",
      "Epoch 2/500\n",
      "334/334 [==============================] - 1s 2ms/step - loss: 0.6860 - accuracy: 0.5674 - recall_6: 0.5749 - val_loss: 0.6769 - val_accuracy: 0.6050 - val_recall_6: 0.6600\n",
      "Epoch 3/500\n",
      "334/334 [==============================] - 1s 3ms/step - loss: 0.6660 - accuracy: 0.5963 - recall_6: 0.5872 - val_loss: 0.6824 - val_accuracy: 0.5850 - val_recall_6: 0.8000\n",
      "Epoch 4/500\n",
      "334/334 [==============================] - 1s 3ms/step - loss: 0.6669 - accuracy: 0.5980 - recall_6: 0.5924 - val_loss: 0.6858 - val_accuracy: 0.5550 - val_recall_6: 0.8600\n",
      "Epoch 5/500\n",
      "334/334 [==============================] - 1s 2ms/step - loss: 0.6586 - accuracy: 0.6053 - recall_6: 0.6025 - val_loss: 0.6988 - val_accuracy: 0.5350 - val_recall_6: 0.1700\n",
      "Epoch 00005: early stopping\n",
      "167/167 [==============================] - 0s 2ms/step - loss: 0.6956 - accuracy: 0.5478 - recall_6: 0.1867\n",
      "Model: \"sequential_9\"\n",
      "_________________________________________________________________\n",
      "Layer (type)                 Output Shape              Param #   \n",
      "=================================================================\n",
      "dense_17 (Dense)             (None, 32)                393248    \n",
      "_________________________________________________________________\n",
      "dense_18 (Dense)             (None, 1)                 33        \n",
      "=================================================================\n",
      "Total params: 393,281\n",
      "Trainable params: 393,281\n",
      "Non-trainable params: 0\n",
      "_________________________________________________________________\n"
     ]
    },
    {
     "data": {
      "text/plain": [
       "None"
      ]
     },
     "metadata": {},
     "output_type": "display_data"
    },
    {
     "name": "stdout",
     "output_type": "stream",
     "text": [
      "Epoch 1/500\n",
      "334/334 [==============================] - 1s 4ms/step - loss: 0.9016 - accuracy: 0.5251 - recall_7: 0.5275 - val_loss: 1.3361 - val_accuracy: 0.5000 - val_recall_7: 0.0050\n",
      "Epoch 2/500\n",
      "334/334 [==============================] - 1s 3ms/step - loss: 0.7875 - accuracy: 0.5540 - recall_7: 0.5430 - val_loss: 0.6902 - val_accuracy: 0.5375 - val_recall_7: 0.8300\n",
      "Epoch 3/500\n",
      "334/334 [==============================] - 1s 3ms/step - loss: 0.7168 - accuracy: 0.5742 - recall_7: 0.5742 - val_loss: 0.7115 - val_accuracy: 0.5450 - val_recall_7: 0.9050\n",
      "Epoch 4/500\n",
      "334/334 [==============================] - 1s 3ms/step - loss: 0.6935 - accuracy: 0.5827 - recall_7: 0.5885 - val_loss: 0.6711 - val_accuracy: 0.5775 - val_recall_7: 0.7600\n",
      "Epoch 5/500\n",
      "334/334 [==============================] - 1s 3ms/step - loss: 0.6732 - accuracy: 0.5699 - recall_7: 0.4115 - val_loss: 0.6924 - val_accuracy: 0.5000 - val_recall_7: 0.0000e+00\n",
      "Epoch 6/500\n",
      "334/334 [==============================] - 1s 3ms/step - loss: 0.6879 - accuracy: 0.5285 - recall_7: 0.8459 - val_loss: 0.6883 - val_accuracy: 0.5350 - val_recall_7: 0.8650\n",
      "Epoch 7/500\n",
      "334/334 [==============================] - 1s 3ms/step - loss: 0.6881 - accuracy: 0.5242 - recall_7: 0.9197 - val_loss: 0.6895 - val_accuracy: 0.5175 - val_recall_7: 0.9600\n",
      "Epoch 00007: early stopping\n",
      "167/167 [==============================] - 0s 2ms/step - loss: 0.6854 - accuracy: 0.5368 - recall_7: 0.9688\n",
      "Model: \"sequential_10\"\n",
      "_________________________________________________________________\n",
      "Layer (type)                 Output Shape              Param #   \n",
      "=================================================================\n",
      "dense_19 (Dense)             (None, 64)                786496    \n",
      "_________________________________________________________________\n",
      "dense_20 (Dense)             (None, 1)                 65        \n",
      "=================================================================\n",
      "Total params: 786,561\n",
      "Trainable params: 786,561\n",
      "Non-trainable params: 0\n",
      "_________________________________________________________________\n"
     ]
    },
    {
     "data": {
      "text/plain": [
       "None"
      ]
     },
     "metadata": {},
     "output_type": "display_data"
    },
    {
     "name": "stdout",
     "output_type": "stream",
     "text": [
      "Epoch 1/500\n",
      "334/334 [==============================] - 1s 4ms/step - loss: 1.1229 - accuracy: 0.5355 - recall_8: 0.5366 - val_loss: 1.5626 - val_accuracy: 0.5050 - val_recall_8: 0.0100\n",
      "Epoch 2/500\n",
      "334/334 [==============================] - 1s 4ms/step - loss: 0.8692 - accuracy: 0.5642 - recall_8: 0.5752 - val_loss: 0.7644 - val_accuracy: 0.5650 - val_recall_8: 0.8700\n",
      "Epoch 3/500\n",
      "334/334 [==============================] - 1s 4ms/step - loss: 0.7752 - accuracy: 0.5892 - recall_8: 0.5871 - val_loss: 0.6939 - val_accuracy: 0.6050 - val_recall_8: 0.6200\n",
      "Epoch 4/500\n",
      "334/334 [==============================] - 1s 4ms/step - loss: 0.7183 - accuracy: 0.6134 - recall_8: 0.6092 - val_loss: 0.8638 - val_accuracy: 0.5375 - val_recall_8: 0.1100\n",
      "Epoch 5/500\n",
      "334/334 [==============================] - 2s 5ms/step - loss: 0.6654 - accuracy: 0.6319 - recall_8: 0.6313 - val_loss: 1.0031 - val_accuracy: 0.5175 - val_recall_8: 0.9800\n",
      "Epoch 6/500\n",
      "334/334 [==============================] - 1s 4ms/step - loss: 0.6887 - accuracy: 0.6239 - recall_8: 0.6212 - val_loss: 0.6889 - val_accuracy: 0.5900 - val_recall_8: 0.4100\n",
      "Epoch 7/500\n",
      "334/334 [==============================] - 1s 4ms/step - loss: 0.6374 - accuracy: 0.6475 - recall_8: 0.6507 - val_loss: 0.9465 - val_accuracy: 0.5225 - val_recall_8: 0.9600\n",
      "Epoch 8/500\n",
      "334/334 [==============================] - 1s 4ms/step - loss: 0.6266 - accuracy: 0.6522 - recall_8: 0.6451 - val_loss: 0.7526 - val_accuracy: 0.5525 - val_recall_8: 0.8800\n",
      "Epoch 9/500\n",
      "334/334 [==============================] - 1s 4ms/step - loss: 0.6366 - accuracy: 0.6495 - recall_8: 0.6627 - val_loss: 0.7867 - val_accuracy: 0.5450 - val_recall_8: 0.1350\n",
      "Epoch 00009: early stopping\n",
      "167/167 [==============================] - 0s 2ms/step - loss: 0.7741 - accuracy: 0.5512 - recall_8: 0.1637\n",
      "Model: \"sequential_11\"\n",
      "_________________________________________________________________\n",
      "Layer (type)                 Output Shape              Param #   \n",
      "=================================================================\n",
      "dense_21 (Dense)             (None, 64)                786496    \n",
      "_________________________________________________________________\n",
      "dense_22 (Dense)             (None, 1)                 65        \n",
      "=================================================================\n",
      "Total params: 786,561\n",
      "Trainable params: 786,561\n",
      "Non-trainable params: 0\n",
      "_________________________________________________________________\n"
     ]
    },
    {
     "data": {
      "text/plain": [
       "None"
      ]
     },
     "metadata": {},
     "output_type": "display_data"
    },
    {
     "name": "stdout",
     "output_type": "stream",
     "text": [
      "Epoch 1/500\n",
      "334/334 [==============================] - 2s 5ms/step - loss: 0.7380 - accuracy: 0.5121 - recall_9: 0.8099 - val_loss: 0.6932 - val_accuracy: 0.5000 - val_recall_9: 1.0000\n",
      "Epoch 2/500\n",
      "334/334 [==============================] - 1s 4ms/step - loss: 0.6942 - accuracy: 0.5040 - recall_9: 0.9753 - val_loss: 0.6932 - val_accuracy: 0.5000 - val_recall_9: 1.0000\n",
      "Epoch 3/500\n",
      "334/334 [==============================] - 1s 4ms/step - loss: 0.6932 - accuracy: 0.5012 - recall_9: 1.0000 - val_loss: 0.6932 - val_accuracy: 0.5000 - val_recall_9: 1.0000\n",
      "Epoch 4/500\n",
      "334/334 [==============================] - 1s 4ms/step - loss: 0.6932 - accuracy: 0.5012 - recall_9: 1.0000 - val_loss: 0.6932 - val_accuracy: 0.5000 - val_recall_9: 1.0000\n",
      "Epoch 5/500\n",
      "334/334 [==============================] - 1s 4ms/step - loss: 0.6932 - accuracy: 0.5012 - recall_9: 1.0000 - val_loss: 0.6932 - val_accuracy: 0.5000 - val_recall_9: 1.0000\n",
      "Epoch 6/500\n",
      "334/334 [==============================] - 1s 4ms/step - loss: 0.6932 - accuracy: 0.4971 - recall_9: 0.8432 - val_loss: 0.6931 - val_accuracy: 0.5000 - val_recall_9: 1.0000\n",
      "Epoch 7/500\n",
      "334/334 [==============================] - 1s 4ms/step - loss: 0.6932 - accuracy: 0.4932 - recall_9: 0.4053 - val_loss: 0.6932 - val_accuracy: 0.5000 - val_recall_9: 1.0000\n",
      "Epoch 8/500\n",
      "334/334 [==============================] - 1s 4ms/step - loss: 0.6932 - accuracy: 0.5010 - recall_9: 0.9996 - val_loss: 0.6932 - val_accuracy: 0.5000 - val_recall_9: 1.0000\n",
      "Epoch 9/500\n",
      "334/334 [==============================] - 1s 4ms/step - loss: 0.6932 - accuracy: 0.4971 - recall_9: 0.6306 - val_loss: 0.6932 - val_accuracy: 0.5000 - val_recall_9: 1.0000\n",
      "Epoch 00009: early stopping\n",
      "167/167 [==============================] - 0s 2ms/step - loss: 0.6932 - accuracy: 0.4983 - recall_9: 1.0000\n",
      "Model: \"sequential_12\"\n",
      "_________________________________________________________________\n",
      "Layer (type)                 Output Shape              Param #   \n",
      "=================================================================\n",
      "dense_23 (Dense)             (None, 64)                786496    \n",
      "_________________________________________________________________\n",
      "dense_24 (Dense)             (None, 1)                 65        \n",
      "=================================================================\n",
      "Total params: 786,561\n",
      "Trainable params: 786,561\n",
      "Non-trainable params: 0\n",
      "_________________________________________________________________\n"
     ]
    },
    {
     "data": {
      "text/plain": [
       "None"
      ]
     },
     "metadata": {},
     "output_type": "display_data"
    },
    {
     "name": "stdout",
     "output_type": "stream",
     "text": [
      "Epoch 1/500\n",
      "334/334 [==============================] - 1s 4ms/step - loss: 1.0518 - accuracy: 0.5341 - recall_10: 0.5207 - val_loss: 0.7395 - val_accuracy: 0.5375 - val_recall_10: 0.2650\n",
      "Epoch 2/500\n",
      "334/334 [==============================] - 1s 4ms/step - loss: 0.8293 - accuracy: 0.5583 - recall_10: 0.5520 - val_loss: 0.6852 - val_accuracy: 0.5900 - val_recall_10: 0.4550\n",
      "Epoch 3/500\n",
      "334/334 [==============================] - 1s 4ms/step - loss: 0.7263 - accuracy: 0.5787 - recall_10: 0.5821 - val_loss: 0.7244 - val_accuracy: 0.5450 - val_recall_10: 0.9050\n",
      "Epoch 4/500\n",
      "334/334 [==============================] - 1s 4ms/step - loss: 0.7028 - accuracy: 0.5816 - recall_10: 0.5897 - val_loss: 0.6722 - val_accuracy: 0.5875 - val_recall_10: 0.6800\n",
      "Epoch 5/500\n",
      "334/334 [==============================] - 1s 4ms/step - loss: 0.6631 - accuracy: 0.6061 - recall_10: 0.6081 - val_loss: 0.6734 - val_accuracy: 0.5650 - val_recall_10: 0.7850\n",
      "Epoch 6/500\n",
      "334/334 [==============================] - 1s 4ms/step - loss: 0.6570 - accuracy: 0.6089 - recall_10: 0.6021 - val_loss: 0.6718 - val_accuracy: 0.5900 - val_recall_10: 0.7900\n",
      "Epoch 7/500\n",
      "334/334 [==============================] - 1s 4ms/step - loss: 0.6541 - accuracy: 0.6138 - recall_10: 0.6209 - val_loss: 0.6693 - val_accuracy: 0.5825 - val_recall_10: 0.6550\n",
      "Epoch 8/500\n",
      "334/334 [==============================] - 1s 4ms/step - loss: 0.6411 - accuracy: 0.6297 - recall_10: 0.6409 - val_loss: 0.6727 - val_accuracy: 0.5800 - val_recall_10: 0.4350\n",
      "Epoch 9/500\n",
      "334/334 [==============================] - 1s 4ms/step - loss: 0.6333 - accuracy: 0.6372 - recall_10: 0.6451 - val_loss: 0.6792 - val_accuracy: 0.5850 - val_recall_10: 0.3750\n",
      "Epoch 10/500\n",
      "334/334 [==============================] - 1s 4ms/step - loss: 0.6294 - accuracy: 0.6457 - recall_10: 0.6500 - val_loss: 0.6903 - val_accuracy: 0.5850 - val_recall_10: 0.3350\n",
      "Epoch 00010: early stopping\n",
      "167/167 [==============================] - 0s 2ms/step - loss: 0.6766 - accuracy: 0.5983 - recall_10: 0.3834\n",
      "Model: \"sequential_13\"\n",
      "_________________________________________________________________\n",
      "Layer (type)                 Output Shape              Param #   \n",
      "=================================================================\n",
      "dense_25 (Dense)             (None, 32)                393248    \n",
      "_________________________________________________________________\n",
      "dense_26 (Dense)             (None, 1)                 33        \n",
      "=================================================================\n",
      "Total params: 393,281\n",
      "Trainable params: 393,281\n",
      "Non-trainable params: 0\n",
      "_________________________________________________________________\n"
     ]
    },
    {
     "data": {
      "text/plain": [
       "None"
      ]
     },
     "metadata": {},
     "output_type": "display_data"
    },
    {
     "name": "stdout",
     "output_type": "stream",
     "text": [
      "Epoch 1/500\n",
      "167/167 [==============================] - 1s 5ms/step - loss: 0.7202 - accuracy: 0.5042 - recall_11: 0.4652 - val_loss: 0.6933 - val_accuracy: 0.4925 - val_recall_11: 0.9850\n",
      "Epoch 2/500\n",
      "167/167 [==============================] - 1s 3ms/step - loss: 0.6918 - accuracy: 0.5243 - recall_11: 0.8190 - val_loss: 0.6885 - val_accuracy: 0.5425 - val_recall_11: 0.4750\n",
      "Epoch 3/500\n",
      "167/167 [==============================] - 1s 3ms/step - loss: 0.6812 - accuracy: 0.5682 - recall_11: 0.6672 - val_loss: 0.6906 - val_accuracy: 0.5375 - val_recall_11: 0.8600\n",
      "Epoch 4/500\n",
      "167/167 [==============================] - 1s 3ms/step - loss: 0.6765 - accuracy: 0.5760 - recall_11: 0.7281 - val_loss: 0.6908 - val_accuracy: 0.5675 - val_recall_11: 0.6050\n",
      "Epoch 5/500\n",
      "167/167 [==============================] - 1s 3ms/step - loss: 0.6706 - accuracy: 0.5820 - recall_11: 0.7397 - val_loss: 0.6882 - val_accuracy: 0.5575 - val_recall_11: 0.6200\n",
      "Epoch 6/500\n",
      "167/167 [==============================] - 1s 3ms/step - loss: 0.6725 - accuracy: 0.5792 - recall_11: 0.7820 - val_loss: 0.6866 - val_accuracy: 0.5600 - val_recall_11: 0.8400\n",
      "Epoch 7/500\n",
      "167/167 [==============================] - 1s 3ms/step - loss: 0.6670 - accuracy: 0.5907 - recall_11: 0.7550 - val_loss: 0.6843 - val_accuracy: 0.5775 - val_recall_11: 0.7400\n",
      "Epoch 8/500\n",
      "167/167 [==============================] - 1s 3ms/step - loss: 0.6638 - accuracy: 0.5910 - recall_11: 0.7853 - val_loss: 0.6830 - val_accuracy: 0.5600 - val_recall_11: 0.7950\n",
      "Epoch 9/500\n",
      "167/167 [==============================] - 1s 3ms/step - loss: 0.6700 - accuracy: 0.5833 - recall_11: 0.7939 - val_loss: 0.6811 - val_accuracy: 0.5650 - val_recall_11: 0.7150\n",
      "Epoch 10/500\n",
      "167/167 [==============================] - 1s 3ms/step - loss: 0.6594 - accuracy: 0.6021 - recall_11: 0.7476 - val_loss: 0.6817 - val_accuracy: 0.5725 - val_recall_11: 0.6650\n",
      "Epoch 11/500\n",
      "167/167 [==============================] - 1s 4ms/step - loss: 0.6587 - accuracy: 0.5976 - recall_11: 0.7700 - val_loss: 0.6818 - val_accuracy: 0.5800 - val_recall_11: 0.7150\n",
      "Epoch 12/500\n",
      "167/167 [==============================] - 1s 4ms/step - loss: 0.6580 - accuracy: 0.5989 - recall_11: 0.7846 - val_loss: 0.6833 - val_accuracy: 0.5800 - val_recall_11: 0.6750\n",
      "Epoch 00012: early stopping\n",
      "84/84 [==============================] - 0s 4ms/step - loss: 0.6846 - accuracy: 0.5759 - recall_11: 0.6855\n",
      "Model: \"sequential_14\"\n",
      "_________________________________________________________________\n",
      "Layer (type)                 Output Shape              Param #   \n",
      "=================================================================\n",
      "dense_27 (Dense)             (None, 32)                393248    \n",
      "_________________________________________________________________\n",
      "dense_28 (Dense)             (None, 1)                 33        \n",
      "=================================================================\n",
      "Total params: 393,281\n",
      "Trainable params: 393,281\n",
      "Non-trainable params: 0\n",
      "_________________________________________________________________\n"
     ]
    },
    {
     "data": {
      "text/plain": [
       "None"
      ]
     },
     "metadata": {},
     "output_type": "display_data"
    },
    {
     "name": "stdout",
     "output_type": "stream",
     "text": [
      "Epoch 1/500\n",
      "167/167 [==============================] - 1s 5ms/step - loss: 0.7300 - accuracy: 0.5378 - recall_12: 0.5464 - val_loss: 0.6795 - val_accuracy: 0.5775 - val_recall_12: 0.7000\n",
      "Epoch 2/500\n",
      "167/167 [==============================] - 1s 3ms/step - loss: 0.6895 - accuracy: 0.5314 - recall_12: 0.5404 - val_loss: 0.6932 - val_accuracy: 0.5000 - val_recall_12: 1.0000\n",
      "Epoch 3/500\n",
      "167/167 [==============================] - 1s 3ms/step - loss: 0.6896 - accuracy: 0.5292 - recall_12: 0.8720 - val_loss: 0.6864 - val_accuracy: 0.5700 - val_recall_12: 0.5050\n",
      "Epoch 4/500\n",
      "167/167 [==============================] - 1s 3ms/step - loss: 0.6779 - accuracy: 0.5843 - recall_12: 0.6647 - val_loss: 0.6933 - val_accuracy: 0.5275 - val_recall_12: 0.9100\n",
      "Epoch 00004: early stopping\n",
      "84/84 [==============================] - 0s 2ms/step - loss: 0.6863 - accuracy: 0.5414 - recall_12: 0.9202\n",
      "Model: \"sequential_15\"\n",
      "_________________________________________________________________\n",
      "Layer (type)                 Output Shape              Param #   \n",
      "=================================================================\n",
      "dense_29 (Dense)             (None, 32)                393248    \n",
      "_________________________________________________________________\n",
      "dense_30 (Dense)             (None, 1)                 33        \n",
      "=================================================================\n",
      "Total params: 393,281\n",
      "Trainable params: 393,281\n",
      "Non-trainable params: 0\n",
      "_________________________________________________________________\n"
     ]
    },
    {
     "data": {
      "text/plain": [
       "None"
      ]
     },
     "metadata": {},
     "output_type": "display_data"
    },
    {
     "name": "stdout",
     "output_type": "stream",
     "text": [
      "Epoch 1/500\n",
      "167/167 [==============================] - 1s 4ms/step - loss: 0.8300 - accuracy: 0.5307 - recall_13: 0.5298 - val_loss: 0.7776 - val_accuracy: 0.5150 - val_recall_13: 0.1400\n",
      "Epoch 2/500\n",
      "167/167 [==============================] - 0s 3ms/step - loss: 0.7607 - accuracy: 0.5621 - recall_13: 0.5437 - val_loss: 0.6660 - val_accuracy: 0.5875 - val_recall_13: 0.5600\n",
      "Epoch 3/500\n",
      "167/167 [==============================] - 1s 3ms/step - loss: 0.7460 - accuracy: 0.5767 - recall_13: 0.5818 - val_loss: 0.6837 - val_accuracy: 0.6000 - val_recall_13: 0.4250\n",
      "Epoch 4/500\n",
      "167/167 [==============================] - 0s 3ms/step - loss: 0.7714 - accuracy: 0.5834 - recall_13: 0.5784 - val_loss: 0.8018 - val_accuracy: 0.5225 - val_recall_13: 0.9550\n",
      "Epoch 5/500\n",
      "167/167 [==============================] - 0s 3ms/step - loss: 0.6952 - accuracy: 0.5990 - recall_13: 0.5983 - val_loss: 0.6715 - val_accuracy: 0.6025 - val_recall_13: 0.6300\n",
      "Epoch 00005: early stopping\n",
      "84/84 [==============================] - 0s 2ms/step - loss: 0.6689 - accuracy: 0.5900 - recall_13: 0.6352\n",
      "Model: \"sequential_16\"\n",
      "_________________________________________________________________\n",
      "Layer (type)                 Output Shape              Param #   \n",
      "=================================================================\n",
      "dense_31 (Dense)             (None, 64)                786496    \n",
      "_________________________________________________________________\n",
      "dense_32 (Dense)             (None, 1)                 65        \n",
      "=================================================================\n",
      "Total params: 786,561\n",
      "Trainable params: 786,561\n",
      "Non-trainable params: 0\n",
      "_________________________________________________________________\n"
     ]
    },
    {
     "data": {
      "text/plain": [
       "None"
      ]
     },
     "metadata": {},
     "output_type": "display_data"
    },
    {
     "name": "stdout",
     "output_type": "stream",
     "text": [
      "Epoch 1/500\n",
      "167/167 [==============================] - 3s 15ms/step - loss: 0.9120 - accuracy: 0.5258 - recall_14: 0.5453 - val_loss: 0.6903 - val_accuracy: 0.5425 - val_recall_14: 0.5550\n",
      "Epoch 2/500\n",
      "167/167 [==============================] - 1s 4ms/step - loss: 0.7914 - accuracy: 0.5573 - recall_14: 0.5531 - val_loss: 0.7503 - val_accuracy: 0.5300 - val_recall_14: 0.1800\n",
      "Epoch 3/500\n",
      "167/167 [==============================] - 1s 4ms/step - loss: 0.7159 - accuracy: 0.5927 - recall_14: 0.6013 - val_loss: 0.6942 - val_accuracy: 0.5775 - val_recall_14: 0.8050\n",
      "Epoch 4/500\n",
      "167/167 [==============================] - 1s 4ms/step - loss: 0.7470 - accuracy: 0.5833 - recall_14: 0.5961 - val_loss: 1.0859 - val_accuracy: 0.5025 - val_recall_14: 0.0050\n",
      "Epoch 00004: early stopping\n",
      "84/84 [==============================] - 0s 2ms/step - loss: 1.0965 - accuracy: 0.5081 - recall_14: 0.0173\n",
      "Model: \"sequential_17\"\n",
      "_________________________________________________________________\n",
      "Layer (type)                 Output Shape              Param #   \n",
      "=================================================================\n",
      "dense_33 (Dense)             (None, 64)                786496    \n",
      "_________________________________________________________________\n",
      "dense_34 (Dense)             (None, 1)                 65        \n",
      "=================================================================\n",
      "Total params: 786,561\n",
      "Trainable params: 786,561\n",
      "Non-trainable params: 0\n",
      "_________________________________________________________________\n"
     ]
    },
    {
     "data": {
      "text/plain": [
       "None"
      ]
     },
     "metadata": {},
     "output_type": "display_data"
    },
    {
     "name": "stdout",
     "output_type": "stream",
     "text": [
      "Epoch 1/500\n",
      "167/167 [==============================] - 1s 5ms/step - loss: 0.9143 - accuracy: 0.5333 - recall_15: 0.5299 - val_loss: 0.6814 - val_accuracy: 0.5575 - val_recall_15: 0.4700\n",
      "Epoch 2/500\n",
      "167/167 [==============================] - 1s 4ms/step - loss: 0.7018 - accuracy: 0.5745 - recall_15: 0.5909 - val_loss: 0.6967 - val_accuracy: 0.5475 - val_recall_15: 0.3100\n",
      "Epoch 3/500\n",
      "167/167 [==============================] - 1s 4ms/step - loss: 0.6823 - accuracy: 0.5845 - recall_15: 0.5786 - val_loss: 0.6774 - val_accuracy: 0.5900 - val_recall_15: 0.6500\n",
      "Epoch 4/500\n",
      "167/167 [==============================] - 1s 4ms/step - loss: 0.6755 - accuracy: 0.6012 - recall_15: 0.5924 - val_loss: 0.7169 - val_accuracy: 0.5400 - val_recall_15: 0.9150\n",
      "Epoch 5/500\n",
      "167/167 [==============================] - 1s 4ms/step - loss: 0.6600 - accuracy: 0.6072 - recall_15: 0.6123 - val_loss: 0.8909 - val_accuracy: 0.5325 - val_recall_15: 0.0700\n",
      "Epoch 6/500\n",
      "167/167 [==============================] - 1s 4ms/step - loss: 0.6659 - accuracy: 0.6034 - recall_15: 0.6067 - val_loss: 0.6718 - val_accuracy: 0.5700 - val_recall_15: 0.4550\n",
      "Epoch 7/500\n",
      "167/167 [==============================] - 1s 4ms/step - loss: 0.6475 - accuracy: 0.6263 - recall_15: 0.6171 - val_loss: 0.7017 - val_accuracy: 0.5450 - val_recall_15: 0.2800\n",
      "Epoch 8/500\n",
      "167/167 [==============================] - 1s 4ms/step - loss: 0.6599 - accuracy: 0.6164 - recall_15: 0.6179 - val_loss: 0.7478 - val_accuracy: 0.5425 - val_recall_15: 0.1650\n",
      "Epoch 9/500\n",
      "167/167 [==============================] - 1s 5ms/step - loss: 0.6618 - accuracy: 0.6098 - recall_15: 0.6108 - val_loss: 0.7514 - val_accuracy: 0.5400 - val_recall_15: 0.1800\n",
      "Epoch 00009: early stopping\n",
      "84/84 [==============================] - 0s 2ms/step - loss: 0.7455 - accuracy: 0.5549 - recall_15: 0.1913\n",
      "Model: \"sequential_18\"\n",
      "_________________________________________________________________\n",
      "Layer (type)                 Output Shape              Param #   \n",
      "=================================================================\n",
      "dense_35 (Dense)             (None, 64)                786496    \n",
      "_________________________________________________________________\n",
      "dense_36 (Dense)             (None, 1)                 65        \n",
      "=================================================================\n",
      "Total params: 786,561\n",
      "Trainable params: 786,561\n",
      "Non-trainable params: 0\n",
      "_________________________________________________________________\n"
     ]
    },
    {
     "data": {
      "text/plain": [
       "None"
      ]
     },
     "metadata": {},
     "output_type": "display_data"
    },
    {
     "name": "stdout",
     "output_type": "stream",
     "text": [
      "Epoch 1/500\n",
      "167/167 [==============================] - 1s 6ms/step - loss: 0.9934 - accuracy: 0.5313 - recall_16: 0.5279 - val_loss: 0.7465 - val_accuracy: 0.5100 - val_recall_16: 0.1350\n",
      "Epoch 2/500\n",
      "167/167 [==============================] - 1s 4ms/step - loss: 0.7524 - accuracy: 0.5583 - recall_16: 0.5512 - val_loss: 0.7044 - val_accuracy: 0.5475 - val_recall_16: 0.1700\n",
      "Epoch 3/500\n",
      "167/167 [==============================] - 1s 5ms/step - loss: 0.7087 - accuracy: 0.5722 - recall_16: 0.5735 - val_loss: 0.6920 - val_accuracy: 0.5500 - val_recall_16: 0.8300\n",
      "Epoch 4/500\n",
      "167/167 [==============================] - 1s 4ms/step - loss: 0.7237 - accuracy: 0.5757 - recall_16: 0.5682 - val_loss: 0.6820 - val_accuracy: 0.5650 - val_recall_16: 0.7500\n",
      "Epoch 5/500\n",
      "167/167 [==============================] - 1s 4ms/step - loss: 0.6856 - accuracy: 0.5986 - recall_16: 0.6063 - val_loss: 0.6939 - val_accuracy: 0.5550 - val_recall_16: 0.8800\n",
      "Epoch 6/500\n",
      "167/167 [==============================] - 1s 4ms/step - loss: 0.6960 - accuracy: 0.5804 - recall_16: 0.5697 - val_loss: 0.7543 - val_accuracy: 0.5275 - val_recall_16: 0.9450\n",
      "Epoch 7/500\n",
      "167/167 [==============================] - 1s 4ms/step - loss: 0.6563 - accuracy: 0.6132 - recall_16: 0.6134 - val_loss: 0.6888 - val_accuracy: 0.5575 - val_recall_16: 0.2450\n",
      "Epoch 00007: early stopping\n",
      "84/84 [==============================] - 0s 2ms/step - loss: 0.6888 - accuracy: 0.5645 - recall_16: 0.2793\n",
      "Model: \"sequential_19\"\n",
      "_________________________________________________________________\n",
      "Layer (type)                 Output Shape              Param #   \n",
      "=================================================================\n",
      "dense_37 (Dense)             (None, 32)                393248    \n",
      "_________________________________________________________________\n",
      "dense_38 (Dense)             (None, 1)                 33        \n",
      "=================================================================\n",
      "Total params: 393,281\n",
      "Trainable params: 393,281\n",
      "Non-trainable params: 0\n",
      "_________________________________________________________________\n"
     ]
    },
    {
     "data": {
      "text/plain": [
       "None"
      ]
     },
     "metadata": {},
     "output_type": "display_data"
    },
    {
     "name": "stdout",
     "output_type": "stream",
     "text": [
      "Epoch 1/500\n",
      "334/334 [==============================] - 1s 3ms/step - loss: 1.0504 - accuracy: 0.5333 - recall_17: 0.5310 - val_loss: 1.4640 - val_accuracy: 0.5025 - val_recall_17: 0.0050\n",
      "Epoch 2/500\n",
      "334/334 [==============================] - 1s 3ms/step - loss: 0.8530 - accuracy: 0.5618 - recall_17: 0.5696 - val_loss: 0.7132 - val_accuracy: 0.5650 - val_recall_17: 0.7250\n",
      "Epoch 3/500\n",
      "334/334 [==============================] - 1s 3ms/step - loss: 0.7776 - accuracy: 0.5783 - recall_17: 0.5849 - val_loss: 0.7196 - val_accuracy: 0.5800 - val_recall_17: 0.8450\n",
      "Epoch 4/500\n",
      "334/334 [==============================] - 1s 3ms/step - loss: 0.7002 - accuracy: 0.6015 - recall_17: 0.6025 - val_loss: 0.7309 - val_accuracy: 0.5600 - val_recall_17: 0.2550\n",
      "Epoch 5/500\n",
      "334/334 [==============================] - 1s 3ms/step - loss: 0.7016 - accuracy: 0.6089 - recall_17: 0.6081 - val_loss: 0.8507 - val_accuracy: 0.5200 - val_recall_17: 0.9750\n",
      "Epoch 00005: early stopping\n",
      "167/167 [==============================] - 0s 2ms/step - loss: 0.8690 - accuracy: 0.5159 - recall_17: 0.9721\n",
      "Model: \"sequential_20\"\n",
      "_________________________________________________________________\n",
      "Layer (type)                 Output Shape              Param #   \n",
      "=================================================================\n",
      "dense_39 (Dense)             (None, 32)                393248    \n",
      "_________________________________________________________________\n",
      "dense_40 (Dense)             (None, 1)                 33        \n",
      "=================================================================\n",
      "Total params: 393,281\n",
      "Trainable params: 393,281\n",
      "Non-trainable params: 0\n",
      "_________________________________________________________________\n"
     ]
    },
    {
     "data": {
      "text/plain": [
       "None"
      ]
     },
     "metadata": {},
     "output_type": "display_data"
    },
    {
     "name": "stdout",
     "output_type": "stream",
     "text": [
      "Epoch 1/500\n",
      "334/334 [==============================] - 1s 4ms/step - loss: 0.9883 - accuracy: 0.5290 - recall_18: 0.5341 - val_loss: 1.1983 - val_accuracy: 0.5000 - val_recall_18: 0.0050\n",
      "Epoch 2/500\n",
      "334/334 [==============================] - 1s 3ms/step - loss: 0.8303 - accuracy: 0.5740 - recall_18: 0.5715 - val_loss: 0.9513 - val_accuracy: 0.5175 - val_recall_18: 0.9700\n",
      "Epoch 3/500\n",
      "334/334 [==============================] - 1s 3ms/step - loss: 0.8373 - accuracy: 0.5721 - recall_18: 0.5745 - val_loss: 0.8987 - val_accuracy: 0.5300 - val_recall_18: 0.9650\n",
      "Epoch 4/500\n",
      "334/334 [==============================] - 1s 3ms/step - loss: 0.7142 - accuracy: 0.5937 - recall_18: 0.5951 - val_loss: 1.0262 - val_accuracy: 0.5100 - val_recall_18: 0.0350\n",
      "Epoch 5/500\n",
      "334/334 [==============================] - 1s 3ms/step - loss: 0.7215 - accuracy: 0.6087 - recall_18: 0.6074 - val_loss: 0.9076 - val_accuracy: 0.5325 - val_recall_18: 0.9600\n",
      "Epoch 6/500\n",
      "334/334 [==============================] - 1s 3ms/step - loss: 0.6981 - accuracy: 0.6094 - recall_18: 0.6089 - val_loss: 0.7688 - val_accuracy: 0.5450 - val_recall_18: 0.1600\n",
      "Epoch 7/500\n",
      "334/334 [==============================] - 1s 3ms/step - loss: 0.6801 - accuracy: 0.6240 - recall_18: 0.6243 - val_loss: 1.1087 - val_accuracy: 0.5075 - val_recall_18: 0.9850\n",
      "Epoch 8/500\n",
      "334/334 [==============================] - 1s 3ms/step - loss: 0.6550 - accuracy: 0.6297 - recall_18: 0.6302 - val_loss: 0.6808 - val_accuracy: 0.5750 - val_recall_18: 0.7000\n",
      "Epoch 9/500\n",
      "334/334 [==============================] - 1s 3ms/step - loss: 0.6471 - accuracy: 0.6409 - recall_18: 0.6490 - val_loss: 0.7404 - val_accuracy: 0.5500 - val_recall_18: 0.2000\n",
      "Epoch 10/500\n",
      "334/334 [==============================] - 1s 3ms/step - loss: 0.6610 - accuracy: 0.6216 - recall_18: 0.6284 - val_loss: 0.7122 - val_accuracy: 0.5575 - val_recall_18: 0.2300\n",
      "Epoch 11/500\n",
      "334/334 [==============================] - 1s 3ms/step - loss: 0.6271 - accuracy: 0.6501 - recall_18: 0.6538 - val_loss: 0.6740 - val_accuracy: 0.5925 - val_recall_18: 0.5700\n",
      "Epoch 12/500\n",
      "334/334 [==============================] - 1s 3ms/step - loss: 0.6338 - accuracy: 0.6522 - recall_18: 0.6415 - val_loss: 0.7153 - val_accuracy: 0.5600 - val_recall_18: 0.8950\n",
      "Epoch 13/500\n",
      "334/334 [==============================] - 1s 3ms/step - loss: 0.6251 - accuracy: 0.6488 - recall_18: 0.6460 - val_loss: 0.7665 - val_accuracy: 0.5475 - val_recall_18: 0.9250\n",
      "Epoch 14/500\n",
      "334/334 [==============================] - 1s 3ms/step - loss: 0.6180 - accuracy: 0.6621 - recall_18: 0.6643 - val_loss: 0.6787 - val_accuracy: 0.6000 - val_recall_18: 0.4150\n",
      "Epoch 00014: early stopping\n",
      "167/167 [==============================] - 0s 2ms/step - loss: 0.6731 - accuracy: 0.5977 - recall_18: 0.4360\n",
      "Model: \"sequential_21\"\n",
      "_________________________________________________________________\n",
      "Layer (type)                 Output Shape              Param #   \n",
      "=================================================================\n",
      "dense_41 (Dense)             (None, 32)                393248    \n",
      "_________________________________________________________________\n",
      "dense_42 (Dense)             (None, 1)                 33        \n",
      "=================================================================\n",
      "Total params: 393,281\n",
      "Trainable params: 393,281\n",
      "Non-trainable params: 0\n",
      "_________________________________________________________________\n"
     ]
    },
    {
     "data": {
      "text/plain": [
       "None"
      ]
     },
     "metadata": {},
     "output_type": "display_data"
    },
    {
     "name": "stdout",
     "output_type": "stream",
     "text": [
      "Epoch 1/500\n",
      "334/334 [==============================] - 1s 4ms/step - loss: 1.0305 - accuracy: 0.5232 - recall_19: 0.5256 - val_loss: 0.6965 - val_accuracy: 0.5775 - val_recall_19: 0.6700\n",
      "Epoch 2/500\n",
      "334/334 [==============================] - 1s 3ms/step - loss: 0.8437 - accuracy: 0.5607 - recall_19: 0.5565 - val_loss: 1.0232 - val_accuracy: 0.5100 - val_recall_19: 0.9600\n",
      "Epoch 3/500\n",
      "334/334 [==============================] - 1s 3ms/step - loss: 0.8390 - accuracy: 0.5737 - recall_19: 0.5708 - val_loss: 0.7656 - val_accuracy: 0.5425 - val_recall_19: 0.8550\n",
      "Epoch 4/500\n",
      "334/334 [==============================] - 1s 3ms/step - loss: 0.7425 - accuracy: 0.5941 - recall_19: 0.5953 - val_loss: 0.7058 - val_accuracy: 0.5825 - val_recall_19: 0.4450\n",
      "Epoch 00004: early stopping\n",
      "167/167 [==============================] - 0s 2ms/step - loss: 0.7093 - accuracy: 0.5671 - recall_19: 0.4599\n",
      "Model: \"sequential_22\"\n",
      "_________________________________________________________________\n",
      "Layer (type)                 Output Shape              Param #   \n",
      "=================================================================\n",
      "dense_43 (Dense)             (None, 64)                786496    \n",
      "_________________________________________________________________\n",
      "dense_44 (Dense)             (None, 1)                 65        \n",
      "=================================================================\n",
      "Total params: 786,561\n",
      "Trainable params: 786,561\n",
      "Non-trainable params: 0\n",
      "_________________________________________________________________\n"
     ]
    },
    {
     "data": {
      "text/plain": [
       "None"
      ]
     },
     "metadata": {},
     "output_type": "display_data"
    },
    {
     "name": "stdout",
     "output_type": "stream",
     "text": [
      "Epoch 1/500\n",
      "334/334 [==============================] - 1s 4ms/step - loss: 1.1640 - accuracy: 0.5312 - recall_20: 0.5303 - val_loss: 2.4077 - val_accuracy: 0.5000 - val_recall_20: 0.0000e+00\n",
      "Epoch 2/500\n",
      "334/334 [==============================] - 1s 4ms/step - loss: 0.9552 - accuracy: 0.5601 - recall_20: 0.5643 - val_loss: 0.8927 - val_accuracy: 0.5475 - val_recall_20: 0.8700\n",
      "Epoch 3/500\n",
      "334/334 [==============================] - 1s 4ms/step - loss: 0.8021 - accuracy: 0.5905 - recall_20: 0.5868 - val_loss: 1.0825 - val_accuracy: 0.5325 - val_recall_20: 0.9500\n",
      "Epoch 4/500\n",
      "334/334 [==============================] - 1s 4ms/step - loss: 0.7993 - accuracy: 0.5905 - recall_20: 0.5991 - val_loss: 1.3925 - val_accuracy: 0.5100 - val_recall_20: 0.0300\n",
      "Epoch 5/500\n",
      "334/334 [==============================] - 1s 4ms/step - loss: 0.7419 - accuracy: 0.6135 - recall_20: 0.6219 - val_loss: 0.7311 - val_accuracy: 0.5600 - val_recall_20: 0.3550\n",
      "Epoch 6/500\n",
      "334/334 [==============================] - 1s 4ms/step - loss: 0.8479 - accuracy: 0.5944 - recall_20: 0.5961 - val_loss: 0.7447 - val_accuracy: 0.5525 - val_recall_20: 0.5400\n",
      "Epoch 7/500\n",
      "334/334 [==============================] - 1s 4ms/step - loss: 0.7601 - accuracy: 0.6149 - recall_20: 0.6234 - val_loss: 1.1451 - val_accuracy: 0.5175 - val_recall_20: 0.9900\n",
      "Epoch 8/500\n",
      "334/334 [==============================] - 1s 4ms/step - loss: 0.6827 - accuracy: 0.6278 - recall_20: 0.6358 - val_loss: 0.8687 - val_accuracy: 0.5325 - val_recall_20: 0.9300\n",
      "Epoch 00008: early stopping\n",
      "167/167 [==============================] - 0s 2ms/step - loss: 0.8652 - accuracy: 0.5328 - recall_20: 0.9208\n",
      "Model: \"sequential_23\"\n",
      "_________________________________________________________________\n",
      "Layer (type)                 Output Shape              Param #   \n",
      "=================================================================\n",
      "dense_45 (Dense)             (None, 64)                786496    \n",
      "_________________________________________________________________\n",
      "dense_46 (Dense)             (None, 1)                 65        \n",
      "=================================================================\n",
      "Total params: 786,561\n",
      "Trainable params: 786,561\n",
      "Non-trainable params: 0\n",
      "_________________________________________________________________\n"
     ]
    },
    {
     "data": {
      "text/plain": [
       "None"
      ]
     },
     "metadata": {},
     "output_type": "display_data"
    },
    {
     "name": "stdout",
     "output_type": "stream",
     "text": [
      "Epoch 1/500\n",
      "334/334 [==============================] - 1s 4ms/step - loss: 1.0777 - accuracy: 0.5344 - recall_21: 0.5348 - val_loss: 1.2018 - val_accuracy: 0.5000 - val_recall_21: 0.0050\n",
      "Epoch 2/500\n",
      "334/334 [==============================] - 1s 3ms/step - loss: 0.8576 - accuracy: 0.5667 - recall_21: 0.5573 - val_loss: 0.9452 - val_accuracy: 0.5150 - val_recall_21: 0.9600\n",
      "Epoch 3/500\n",
      "334/334 [==============================] - 1s 4ms/step - loss: 0.8573 - accuracy: 0.5691 - recall_21: 0.5719 - val_loss: 0.8866 - val_accuracy: 0.5425 - val_recall_21: 0.9550\n",
      "Epoch 4/500\n",
      "334/334 [==============================] - 1s 3ms/step - loss: 0.7447 - accuracy: 0.5873 - recall_21: 0.5924 - val_loss: 1.1555 - val_accuracy: 0.5025 - val_recall_21: 0.0050\n",
      "Epoch 5/500\n",
      "334/334 [==============================] - 1s 3ms/step - loss: 0.7273 - accuracy: 0.6042 - recall_21: 0.6067 - val_loss: 0.7541 - val_accuracy: 0.5525 - val_recall_21: 0.8100\n",
      "Epoch 6/500\n",
      "334/334 [==============================] - 1s 3ms/step - loss: 0.7117 - accuracy: 0.6047 - recall_21: 0.5992 - val_loss: 0.7252 - val_accuracy: 0.5550 - val_recall_21: 0.2300\n",
      "Epoch 7/500\n",
      "334/334 [==============================] - 1s 4ms/step - loss: 0.6748 - accuracy: 0.6244 - recall_21: 0.6257 - val_loss: 1.1485 - val_accuracy: 0.5050 - val_recall_21: 0.9850\n",
      "Epoch 8/500\n",
      "334/334 [==============================] - 1s 4ms/step - loss: 0.6566 - accuracy: 0.6285 - recall_21: 0.6299 - val_loss: 0.6793 - val_accuracy: 0.5725 - val_recall_21: 0.7000\n",
      "Epoch 9/500\n",
      "334/334 [==============================] - 1s 4ms/step - loss: 0.6483 - accuracy: 0.6390 - recall_21: 0.6426 - val_loss: 0.7652 - val_accuracy: 0.5350 - val_recall_21: 0.1550\n",
      "Epoch 10/500\n",
      "334/334 [==============================] - 1s 4ms/step - loss: 0.6598 - accuracy: 0.6169 - recall_21: 0.6254 - val_loss: 0.7095 - val_accuracy: 0.5675 - val_recall_21: 0.2550\n",
      "Epoch 11/500\n",
      "334/334 [==============================] - 1s 4ms/step - loss: 0.6287 - accuracy: 0.6531 - recall_21: 0.6534 - val_loss: 0.6825 - val_accuracy: 0.5800 - val_recall_21: 0.7600\n",
      "Epoch 00011: early stopping\n",
      "167/167 [==============================] - 0s 2ms/step - loss: 0.6751 - accuracy: 0.5823 - recall_21: 0.7620\n",
      "Model: \"sequential_24\"\n",
      "_________________________________________________________________\n",
      "Layer (type)                 Output Shape              Param #   \n",
      "=================================================================\n",
      "dense_47 (Dense)             (None, 64)                786496    \n",
      "_________________________________________________________________\n",
      "dense_48 (Dense)             (None, 1)                 65        \n",
      "=================================================================\n",
      "Total params: 786,561\n",
      "Trainable params: 786,561\n",
      "Non-trainable params: 0\n",
      "_________________________________________________________________\n"
     ]
    },
    {
     "data": {
      "text/plain": [
       "None"
      ]
     },
     "metadata": {},
     "output_type": "display_data"
    },
    {
     "name": "stdout",
     "output_type": "stream",
     "text": [
      "Epoch 1/500\n",
      "334/334 [==============================] - 1s 4ms/step - loss: 1.2144 - accuracy: 0.5292 - recall_22: 0.5271 - val_loss: 0.7267 - val_accuracy: 0.5650 - val_recall_22: 0.7150\n",
      "Epoch 2/500\n",
      "334/334 [==============================] - 1s 3ms/step - loss: 0.8433 - accuracy: 0.5750 - recall_22: 0.5705 - val_loss: 0.8634 - val_accuracy: 0.5250 - val_recall_22: 0.8850\n",
      "Epoch 3/500\n",
      "334/334 [==============================] - 1s 4ms/step - loss: 0.8499 - accuracy: 0.5727 - recall_22: 0.5712 - val_loss: 0.7563 - val_accuracy: 0.5550 - val_recall_22: 0.8350\n",
      "Epoch 4/500\n",
      "334/334 [==============================] - 1s 4ms/step - loss: 0.7410 - accuracy: 0.5945 - recall_22: 0.5923 - val_loss: 0.7204 - val_accuracy: 0.5425 - val_recall_22: 0.7850\n",
      "Epoch 5/500\n",
      "334/334 [==============================] - 1s 4ms/step - loss: 0.7396 - accuracy: 0.5971 - recall_22: 0.5916 - val_loss: 0.7905 - val_accuracy: 0.5400 - val_recall_22: 0.1800\n",
      "Epoch 6/500\n",
      "334/334 [==============================] - 1s 4ms/step - loss: 0.7193 - accuracy: 0.6162 - recall_22: 0.6134 - val_loss: 0.8303 - val_accuracy: 0.5275 - val_recall_22: 0.9400\n",
      "Epoch 7/500\n",
      "334/334 [==============================] - 1s 4ms/step - loss: 0.6967 - accuracy: 0.6089 - recall_22: 0.6089 - val_loss: 0.9635 - val_accuracy: 0.5175 - val_recall_22: 0.9650\n",
      "Epoch 00007: early stopping\n",
      "167/167 [==============================] - 1s 3ms/step - loss: 0.9559 - accuracy: 0.5218 - recall_22: 0.9785\n",
      "Model: \"sequential_25\"\n",
      "_________________________________________________________________\n",
      "Layer (type)                 Output Shape              Param #   \n",
      "=================================================================\n",
      "dense_49 (Dense)             (None, 32)                393248    \n",
      "_________________________________________________________________\n",
      "dense_50 (Dense)             (None, 1)                 33        \n",
      "=================================================================\n",
      "Total params: 393,281\n",
      "Trainable params: 393,281\n",
      "Non-trainable params: 0\n",
      "_________________________________________________________________\n"
     ]
    },
    {
     "data": {
      "text/plain": [
       "None"
      ]
     },
     "metadata": {},
     "output_type": "display_data"
    },
    {
     "name": "stdout",
     "output_type": "stream",
     "text": [
      "Epoch 1/500\n",
      "167/167 [==============================] - 1s 5ms/step - loss: 0.8621 - accuracy: 0.5310 - recall_23: 0.5363 - val_loss: 0.7574 - val_accuracy: 0.5450 - val_recall_23: 0.8950\n",
      "Epoch 2/500\n",
      "167/167 [==============================] - 0s 3ms/step - loss: 0.7717 - accuracy: 0.5633 - recall_23: 0.5598 - val_loss: 0.7761 - val_accuracy: 0.5300 - val_recall_23: 0.1600\n",
      "Epoch 3/500\n",
      "167/167 [==============================] - 1s 3ms/step - loss: 0.7222 - accuracy: 0.5839 - recall_23: 0.5916 - val_loss: 0.6765 - val_accuracy: 0.5725 - val_recall_23: 0.6350\n",
      "Epoch 4/500\n",
      "167/167 [==============================] - 1s 3ms/step - loss: 0.7723 - accuracy: 0.5811 - recall_23: 0.5924 - val_loss: 1.5570 - val_accuracy: 0.5000 - val_recall_23: 0.0000e+00\n",
      "Epoch 5/500\n",
      "167/167 [==============================] - 1s 3ms/step - loss: 0.7524 - accuracy: 0.5912 - recall_23: 0.5931 - val_loss: 0.7568 - val_accuracy: 0.5425 - val_recall_23: 0.1950\n",
      "Epoch 6/500\n",
      "167/167 [==============================] - 1s 4ms/step - loss: 0.7719 - accuracy: 0.5845 - recall_23: 0.5901 - val_loss: 0.8051 - val_accuracy: 0.5350 - val_recall_23: 0.1950\n",
      "Epoch 00006: early stopping\n",
      "84/84 [==============================] - 0s 2ms/step - loss: 0.8026 - accuracy: 0.5561 - recall_23: 0.2051\n",
      "Model: \"sequential_26\"\n",
      "_________________________________________________________________\n",
      "Layer (type)                 Output Shape              Param #   \n",
      "=================================================================\n",
      "dense_51 (Dense)             (None, 32)                393248    \n",
      "_________________________________________________________________\n",
      "dense_52 (Dense)             (None, 1)                 33        \n",
      "=================================================================\n",
      "Total params: 393,281\n",
      "Trainable params: 393,281\n",
      "Non-trainable params: 0\n",
      "_________________________________________________________________\n"
     ]
    },
    {
     "data": {
      "text/plain": [
       "None"
      ]
     },
     "metadata": {},
     "output_type": "display_data"
    },
    {
     "name": "stdout",
     "output_type": "stream",
     "text": [
      "Epoch 1/500\n",
      "167/167 [==============================] - 1s 4ms/step - loss: 1.0471 - accuracy: 0.5250 - recall_24: 0.5232 - val_loss: 0.7336 - val_accuracy: 0.5500 - val_recall_24: 0.2150\n",
      "Epoch 2/500\n",
      "167/167 [==============================] - 0s 3ms/step - loss: 0.7558 - accuracy: 0.5588 - recall_24: 0.5580 - val_loss: 0.8648 - val_accuracy: 0.5225 - val_recall_24: 0.0850\n",
      "Epoch 3/500\n",
      "167/167 [==============================] - 1s 3ms/step - loss: 0.7350 - accuracy: 0.5847 - recall_24: 0.5827 - val_loss: 0.6813 - val_accuracy: 0.5800 - val_recall_24: 0.5300\n",
      "Epoch 4/500\n",
      "167/167 [==============================] - 1s 3ms/step - loss: 0.7142 - accuracy: 0.5923 - recall_24: 0.5902 - val_loss: 0.7263 - val_accuracy: 0.5500 - val_recall_24: 0.2150\n",
      "Epoch 5/500\n",
      "167/167 [==============================] - 1s 3ms/step - loss: 0.7267 - accuracy: 0.5895 - recall_24: 0.5883 - val_loss: 0.7197 - val_accuracy: 0.5475 - val_recall_24: 0.7600\n",
      "Epoch 6/500\n",
      "167/167 [==============================] - 1s 4ms/step - loss: 0.7047 - accuracy: 0.6070 - recall_24: 0.6014 - val_loss: 0.6815 - val_accuracy: 0.5750 - val_recall_24: 0.3900\n",
      "Epoch 00006: early stopping\n",
      "84/84 [==============================] - 1s 8ms/step - loss: 0.6907 - accuracy: 0.5823 - recall_24: 0.4270\n",
      "Model: \"sequential_27\"\n",
      "_________________________________________________________________\n",
      "Layer (type)                 Output Shape              Param #   \n",
      "=================================================================\n",
      "dense_53 (Dense)             (None, 32)                393248    \n",
      "_________________________________________________________________\n",
      "dense_54 (Dense)             (None, 1)                 33        \n",
      "=================================================================\n",
      "Total params: 393,281\n",
      "Trainable params: 393,281\n",
      "Non-trainable params: 0\n",
      "_________________________________________________________________\n"
     ]
    },
    {
     "data": {
      "text/plain": [
       "None"
      ]
     },
     "metadata": {},
     "output_type": "display_data"
    },
    {
     "name": "stdout",
     "output_type": "stream",
     "text": [
      "Epoch 1/500\n",
      "167/167 [==============================] - 1s 4ms/step - loss: 0.9482 - accuracy: 0.5347 - recall_25: 0.5399 - val_loss: 1.0642 - val_accuracy: 0.5000 - val_recall_25: 0.0000e+00\n",
      "Epoch 2/500\n",
      "167/167 [==============================] - 1s 3ms/step - loss: 0.7841 - accuracy: 0.5579 - recall_25: 0.5407 - val_loss: 0.6725 - val_accuracy: 0.5650 - val_recall_25: 0.3250\n",
      "Epoch 3/500\n",
      "167/167 [==============================] - 0s 3ms/step - loss: 0.7687 - accuracy: 0.5677 - recall_25: 0.5750 - val_loss: 0.6803 - val_accuracy: 0.5800 - val_recall_25: 0.7400\n",
      "Epoch 4/500\n",
      "167/167 [==============================] - 0s 3ms/step - loss: 0.7809 - accuracy: 0.5787 - recall_25: 0.5784 - val_loss: 0.9875 - val_accuracy: 0.5125 - val_recall_25: 0.9850\n",
      "Epoch 5/500\n",
      "167/167 [==============================] - 1s 3ms/step - loss: 0.7020 - accuracy: 0.6065 - recall_25: 0.6104 - val_loss: 0.7249 - val_accuracy: 0.5550 - val_recall_25: 0.8900\n",
      "Epoch 00005: early stopping\n",
      "84/84 [==============================] - 0s 2ms/step - loss: 0.7276 - accuracy: 0.5566 - recall_25: 0.8744\n",
      "Model: \"sequential_28\"\n",
      "_________________________________________________________________\n",
      "Layer (type)                 Output Shape              Param #   \n",
      "=================================================================\n",
      "dense_55 (Dense)             (None, 64)                786496    \n",
      "_________________________________________________________________\n",
      "dense_56 (Dense)             (None, 1)                 65        \n",
      "=================================================================\n",
      "Total params: 786,561\n",
      "Trainable params: 786,561\n",
      "Non-trainable params: 0\n",
      "_________________________________________________________________\n"
     ]
    },
    {
     "data": {
      "text/plain": [
       "None"
      ]
     },
     "metadata": {},
     "output_type": "display_data"
    },
    {
     "name": "stdout",
     "output_type": "stream",
     "text": [
      "Epoch 1/500\n",
      "167/167 [==============================] - 1s 6ms/step - loss: 0.8976 - accuracy: 0.5329 - recall_26: 0.5423 - val_loss: 0.7108 - val_accuracy: 0.5575 - val_recall_26: 0.3850\n",
      "Epoch 2/500\n",
      "167/167 [==============================] - 1s 4ms/step - loss: 0.8269 - accuracy: 0.5575 - recall_26: 0.5524 - val_loss: 0.9750 - val_accuracy: 0.5250 - val_recall_26: 0.0800\n",
      "Epoch 3/500\n",
      "167/167 [==============================] - 1s 4ms/step - loss: 0.7210 - accuracy: 0.5877 - recall_26: 0.6006 - val_loss: 0.6947 - val_accuracy: 0.5650 - val_recall_26: 0.4000\n",
      "Epoch 4/500\n",
      "167/167 [==============================] - 1s 4ms/step - loss: 0.8100 - accuracy: 0.5813 - recall_26: 0.5860 - val_loss: 0.8905 - val_accuracy: 0.5500 - val_recall_26: 0.1250\n",
      "Epoch 5/500\n",
      "167/167 [==============================] - 1s 5ms/step - loss: 0.7395 - accuracy: 0.5950 - recall_26: 0.5972 - val_loss: 0.8606 - val_accuracy: 0.5450 - val_recall_26: 0.1300\n",
      "Epoch 6/500\n",
      "167/167 [==============================] - 1s 5ms/step - loss: 0.7384 - accuracy: 0.5989 - recall_26: 0.6073 - val_loss: 0.6892 - val_accuracy: 0.5950 - val_recall_26: 0.7500\n",
      "Epoch 7/500\n",
      "167/167 [==============================] - 1s 5ms/step - loss: 0.6968 - accuracy: 0.6175 - recall_26: 0.6238 - val_loss: 0.7439 - val_accuracy: 0.5625 - val_recall_26: 0.8300\n",
      "Epoch 8/500\n",
      "167/167 [==============================] - 1s 4ms/step - loss: 0.7078 - accuracy: 0.6179 - recall_26: 0.6215 - val_loss: 0.7099 - val_accuracy: 0.5550 - val_recall_26: 0.7050\n",
      "Epoch 9/500\n",
      "167/167 [==============================] - 1s 4ms/step - loss: 0.6365 - accuracy: 0.6469 - recall_26: 0.6518 - val_loss: 0.7559 - val_accuracy: 0.5575 - val_recall_26: 0.2200\n",
      "Epoch 00009: early stopping\n",
      "84/84 [==============================] - 0s 2ms/step - loss: 0.7545 - accuracy: 0.5594 - recall_26: 0.2255\n",
      "Model: \"sequential_29\"\n",
      "_________________________________________________________________\n",
      "Layer (type)                 Output Shape              Param #   \n",
      "=================================================================\n",
      "dense_57 (Dense)             (None, 64)                786496    \n",
      "_________________________________________________________________\n",
      "dense_58 (Dense)             (None, 1)                 65        \n",
      "=================================================================\n",
      "Total params: 786,561\n",
      "Trainable params: 786,561\n",
      "Non-trainable params: 0\n",
      "_________________________________________________________________\n"
     ]
    },
    {
     "data": {
      "text/plain": [
       "None"
      ]
     },
     "metadata": {},
     "output_type": "display_data"
    },
    {
     "name": "stdout",
     "output_type": "stream",
     "text": [
      "Epoch 1/500\n",
      "167/167 [==============================] - 1s 5ms/step - loss: 1.1361 - accuracy: 0.5337 - recall_27: 0.5367 - val_loss: 0.7650 - val_accuracy: 0.5350 - val_recall_27: 0.9000\n",
      "Epoch 2/500\n",
      "167/167 [==============================] - 1s 4ms/step - loss: 0.8376 - accuracy: 0.5460 - recall_27: 0.5475 - val_loss: 0.7257 - val_accuracy: 0.5350 - val_recall_27: 0.3150\n",
      "Epoch 3/500\n",
      "167/167 [==============================] - 1s 4ms/step - loss: 0.7115 - accuracy: 0.5933 - recall_27: 0.5981 - val_loss: 0.6807 - val_accuracy: 0.5775 - val_recall_27: 0.5350\n",
      "Epoch 4/500\n",
      "167/167 [==============================] - 1s 4ms/step - loss: 0.7583 - accuracy: 0.5933 - recall_27: 0.5939 - val_loss: 0.7398 - val_accuracy: 0.5500 - val_recall_27: 0.2450\n",
      "Epoch 5/500\n",
      "167/167 [==============================] - 1s 4ms/step - loss: 0.7502 - accuracy: 0.5880 - recall_27: 0.5883 - val_loss: 0.7050 - val_accuracy: 0.5650 - val_recall_27: 0.6000\n",
      "Epoch 6/500\n",
      "167/167 [==============================] - 1s 4ms/step - loss: 0.7234 - accuracy: 0.6030 - recall_27: 0.5902 - val_loss: 0.7003 - val_accuracy: 0.5800 - val_recall_27: 0.3650\n",
      "Epoch 00006: early stopping\n",
      "84/84 [==============================] - 0s 2ms/step - loss: 0.7075 - accuracy: 0.5767 - recall_27: 0.3607\n",
      "Model: \"sequential_30\"\n",
      "_________________________________________________________________\n",
      "Layer (type)                 Output Shape              Param #   \n",
      "=================================================================\n",
      "dense_59 (Dense)             (None, 64)                786496    \n",
      "_________________________________________________________________\n",
      "dense_60 (Dense)             (None, 1)                 65        \n",
      "=================================================================\n",
      "Total params: 786,561\n",
      "Trainable params: 786,561\n",
      "Non-trainable params: 0\n",
      "_________________________________________________________________\n"
     ]
    },
    {
     "data": {
      "text/plain": [
       "None"
      ]
     },
     "metadata": {},
     "output_type": "display_data"
    },
    {
     "name": "stdout",
     "output_type": "stream",
     "text": [
      "Epoch 1/500\n",
      "167/167 [==============================] - 1s 5ms/step - loss: 1.1630 - accuracy: 0.5326 - recall_28: 0.5283 - val_loss: 0.8076 - val_accuracy: 0.5100 - val_recall_28: 0.1150\n",
      "Epoch 2/500\n",
      "167/167 [==============================] - 1s 4ms/step - loss: 0.8012 - accuracy: 0.5551 - recall_28: 0.5347 - val_loss: 0.8083 - val_accuracy: 0.5200 - val_recall_28: 0.9400\n",
      "Epoch 3/500\n",
      "167/167 [==============================] - 1s 4ms/step - loss: 0.8440 - accuracy: 0.5621 - recall_28: 0.5686 - val_loss: 0.6947 - val_accuracy: 0.5750 - val_recall_28: 0.6500\n",
      "Epoch 4/500\n",
      "167/167 [==============================] - 1s 4ms/step - loss: 0.8106 - accuracy: 0.5799 - recall_28: 0.5772 - val_loss: 1.6000 - val_accuracy: 0.5050 - val_recall_28: 1.0000\n",
      "Epoch 5/500\n",
      "167/167 [==============================] - 1s 4ms/step - loss: 0.7565 - accuracy: 0.6025 - recall_28: 0.6055 - val_loss: 0.7768 - val_accuracy: 0.5550 - val_recall_28: 0.9050\n",
      "Epoch 6/500\n",
      "167/167 [==============================] - 1s 4ms/step - loss: 0.7659 - accuracy: 0.5844 - recall_28: 0.5836 - val_loss: 0.7632 - val_accuracy: 0.5450 - val_recall_28: 0.8500\n",
      "Epoch 00006: early stopping\n",
      "84/84 [==============================] - 0s 2ms/step - loss: 0.7636 - accuracy: 0.5585 - recall_28: 0.8730\n",
      "Model: \"sequential_31\"\n",
      "_________________________________________________________________\n",
      "Layer (type)                 Output Shape              Param #   \n",
      "=================================================================\n",
      "dense_61 (Dense)             (None, 32)                393248    \n",
      "_________________________________________________________________\n",
      "dense_62 (Dense)             (None, 1)                 33        \n",
      "=================================================================\n",
      "Total params: 393,281\n",
      "Trainable params: 393,281\n",
      "Non-trainable params: 0\n",
      "_________________________________________________________________\n"
     ]
    },
    {
     "data": {
      "text/plain": [
       "None"
      ]
     },
     "metadata": {},
     "output_type": "display_data"
    },
    {
     "name": "stdout",
     "output_type": "stream",
     "text": [
      "Epoch 1/500\n",
      "250/250 [==============================] - 1s 4ms/step - loss: 0.7646 - accuracy: 0.5390 - recall_29: 0.5355 - val_loss: 0.6914 - val_accuracy: 0.5550 - val_recall_29: 0.3500\n",
      "Epoch 2/500\n",
      "250/250 [==============================] - 1s 3ms/step - loss: 0.7388 - accuracy: 0.5689 - recall_29: 0.5698 - val_loss: 0.6866 - val_accuracy: 0.5425 - val_recall_29: 0.2600\n",
      "Epoch 3/500\n",
      "250/250 [==============================] - 1s 3ms/step - loss: 0.7228 - accuracy: 0.5829 - recall_29: 0.5775 - val_loss: 0.7065 - val_accuracy: 0.5475 - val_recall_29: 0.2050\n",
      "Epoch 4/500\n",
      "250/250 [==============================] - 1s 3ms/step - loss: 0.6859 - accuracy: 0.6024 - recall_29: 0.6047 - val_loss: 0.7667 - val_accuracy: 0.5275 - val_recall_29: 0.9300\n",
      "Epoch 5/500\n",
      "250/250 [==============================] - 1s 3ms/step - loss: 0.6774 - accuracy: 0.6062 - recall_29: 0.6112 - val_loss: 0.6745 - val_accuracy: 0.5625 - val_recall_29: 0.6850\n",
      "Epoch 6/500\n",
      "250/250 [==============================] - 1s 3ms/step - loss: 0.6962 - accuracy: 0.5962 - recall_29: 0.5930 - val_loss: 0.6643 - val_accuracy: 0.5975 - val_recall_29: 0.6000\n",
      "Epoch 7/500\n",
      "250/250 [==============================] - 1s 3ms/step - loss: 0.6550 - accuracy: 0.6249 - recall_29: 0.6248 - val_loss: 0.8395 - val_accuracy: 0.5300 - val_recall_29: 0.0950\n",
      "Epoch 8/500\n",
      "250/250 [==============================] - 1s 3ms/step - loss: 0.6504 - accuracy: 0.6266 - recall_29: 0.6263 - val_loss: 0.7198 - val_accuracy: 0.5475 - val_recall_29: 0.2450\n",
      "Epoch 9/500\n",
      "250/250 [==============================] - 1s 3ms/step - loss: 0.6486 - accuracy: 0.6301 - recall_29: 0.6263 - val_loss: 0.8512 - val_accuracy: 0.5400 - val_recall_29: 0.1050\n",
      "Epoch 00009: early stopping\n"
     ]
    }
   ],
   "source": [
    "history = grid.fit(X_train_unrow,y_train,validation_data=(X_val_unrow,y_val),callbacks=[earlystop],\n",
    "                      epochs=500)"
   ]
  },
  {
   "cell_type": "code",
   "execution_count": 106,
   "metadata": {
    "ExecuteTime": {
     "end_time": "2020-12-04T20:34:30.189298Z",
     "start_time": "2020-12-04T20:34:30.184903Z"
    }
   },
   "outputs": [
    {
     "data": {
      "text/plain": [
       "{'activation': 'relu', 'batch_size': 32, 'n_units': 32}"
      ]
     },
     "execution_count": 106,
     "metadata": {},
     "output_type": "execute_result"
    }
   ],
   "source": [
    "grid.best_params_"
   ]
  },
  {
   "cell_type": "markdown",
   "metadata": {},
   "source": [
    "#### Advanced ways of using the build function's params for gridsearch"
   ]
  },
  {
   "cell_type": "code",
   "execution_count": 128,
   "metadata": {
    "ExecuteTime": {
     "end_time": "2020-12-04T21:10:28.179866Z",
     "start_time": "2020-12-04T21:10:28.175169Z"
    }
   },
   "outputs": [],
   "source": [
    "## def make_model\n",
    "def make_model_example(n_units=65,activation='relu',optimizer='adam',n_layers=2):\n",
    "    ##N Sequential model: 64 units, relu, final=dense 1, sigmoid\n",
    "    model_1 = Sequential()\n",
    "    \n",
    "    for n in range(n_layers):\n",
    "        model_1.add(Dense(n_units,activation=activation,\n",
    "                          input_shape=X_train_unrow[0].shape))\n",
    "    model_1.add(Dense(1,activation='sigmoid'))\n",
    "    model_1.compile(optimizer=optimizer,loss='binary_crossentropy',\n",
    "                    metrics=['accuracy', tf.keras.metrics.Recall()])\n",
    "    display(model_1.summary())\n",
    "    return model_1"
   ]
  },
  {
   "cell_type": "markdown",
   "metadata": {},
   "source": [
    "## END OF STUDY GROUP RECORDING"
   ]
  },
  {
   "cell_type": "code",
   "execution_count": 118,
   "metadata": {
    "ExecuteTime": {
     "end_time": "2020-12-04T21:07:36.087039Z",
     "start_time": "2020-12-04T21:07:36.083487Z"
    }
   },
   "outputs": [
    {
     "data": {
      "text/plain": [
       "{'activation': 'relu', 'batch_size': 32, 'n_units': 32}"
      ]
     },
     "execution_count": 118,
     "metadata": {},
     "output_type": "execute_result"
    }
   ],
   "source": [
    "best_params = grid.best_params_\n",
    "best_params"
   ]
  },
  {
   "cell_type": "code",
   "execution_count": 130,
   "metadata": {
    "ExecuteTime": {
     "end_time": "2020-12-04T21:11:16.776099Z",
     "start_time": "2020-12-04T21:11:00.606737Z"
    }
   },
   "outputs": [
    {
     "name": "stdout",
     "output_type": "stream",
     "text": [
      "Model: \"sequential_41\"\n",
      "_________________________________________________________________\n",
      "Layer (type)                 Output Shape              Param #   \n",
      "=================================================================\n",
      "dense_65 (Dense)             (None, 32)                393248    \n",
      "_________________________________________________________________\n",
      "dense_66 (Dense)             (None, 1)                 33        \n",
      "=================================================================\n",
      "Total params: 393,281\n",
      "Trainable params: 393,281\n",
      "Non-trainable params: 0\n",
      "_________________________________________________________________\n"
     ]
    },
    {
     "data": {
      "text/plain": [
       "None"
      ]
     },
     "metadata": {},
     "output_type": "display_data"
    },
    {
     "name": "stdout",
     "output_type": "stream",
     "text": [
      "Epoch 1/30\n",
      "238/250 [===========================>..] - ETA: 0s - loss: 0.7219 - accuracy: 0.4902 - recall_31: 0.7717WARNING:tensorflow:Early stopping conditioned on metric `val_loss` which is not available. Available metrics are: loss,accuracy,recall_31\n",
      "250/250 [==============================] - 0s 2ms/step - loss: 0.7205 - accuracy: 0.4908 - recall_31: 0.7828\n",
      "Epoch 2/30\n",
      "232/250 [==========================>...] - ETA: 0s - loss: 0.6932 - accuracy: 0.5015 - recall_31: 1.0000WARNING:tensorflow:Early stopping conditioned on metric `val_loss` which is not available. Available metrics are: loss,accuracy,recall_31\n",
      "250/250 [==============================] - 1s 2ms/step - loss: 0.6932 - accuracy: 0.5000 - recall_31: 1.0000\n",
      "Epoch 3/30\n",
      "250/250 [==============================] - ETA: 0s - loss: 0.6932 - accuracy: 0.4950 - recall_31: 0.9190WARNING:tensorflow:Early stopping conditioned on metric `val_loss` which is not available. Available metrics are: loss,accuracy,recall_31\n",
      "250/250 [==============================] - 1s 2ms/step - loss: 0.6932 - accuracy: 0.4950 - recall_31: 0.9190\n",
      "Epoch 4/30\n",
      "237/250 [===========================>..] - ETA: 0s - loss: 0.6932 - accuracy: 0.4917 - recall_31: 0.2321WARNING:tensorflow:Early stopping conditioned on metric `val_loss` which is not available. Available metrics are: loss,accuracy,recall_31\n",
      "250/250 [==============================] - 1s 2ms/step - loss: 0.6932 - accuracy: 0.4918 - recall_31: 0.2358\n",
      "Epoch 5/30\n",
      "241/250 [===========================>..] - ETA: 0s - loss: 0.6932 - accuracy: 0.4982 - recall_31: 0.8725WARNING:tensorflow:Early stopping conditioned on metric `val_loss` which is not available. Available metrics are: loss,accuracy,recall_31\n",
      "250/250 [==============================] - 0s 2ms/step - loss: 0.6932 - accuracy: 0.4967 - recall_31: 0.8767\n",
      "Epoch 6/30\n",
      "234/250 [===========================>..] - ETA: 0s - loss: 0.6932 - accuracy: 0.5013 - recall_31: 0.9165WARNING:tensorflow:Early stopping conditioned on metric `val_loss` which is not available. Available metrics are: loss,accuracy,recall_31\n",
      "250/250 [==============================] - 0s 2ms/step - loss: 0.6932 - accuracy: 0.5005 - recall_31: 0.8565\n",
      "Epoch 7/30\n",
      "239/250 [===========================>..] - ETA: 0s - loss: 0.6932 - accuracy: 0.4893 - recall_31: 0.7801WARNING:tensorflow:Early stopping conditioned on metric `val_loss` which is not available. Available metrics are: loss,accuracy,recall_31\n",
      "250/250 [==============================] - 1s 2ms/step - loss: 0.6932 - accuracy: 0.4897 - recall_31: 0.7458\n",
      "Epoch 8/30\n",
      "231/250 [==========================>...] - ETA: 0s - loss: 0.6932 - accuracy: 0.4920 - recall_31: 0.2868WARNING:tensorflow:Early stopping conditioned on metric `val_loss` which is not available. Available metrics are: loss,accuracy,recall_31\n",
      "250/250 [==============================] - 1s 2ms/step - loss: 0.6932 - accuracy: 0.4918 - recall_31: 0.3397\n",
      "Epoch 9/30\n",
      "230/250 [==========================>...] - ETA: 0s - loss: 0.6932 - accuracy: 0.4921 - recall_31: 0.8898WARNING:tensorflow:Early stopping conditioned on metric `val_loss` which is not available. Available metrics are: loss,accuracy,recall_31\n",
      "250/250 [==============================] - 1s 2ms/step - loss: 0.6932 - accuracy: 0.4900 - recall_31: 0.8980\n",
      "Epoch 10/30\n",
      "247/250 [============================>.] - ETA: 0s - loss: 0.6932 - accuracy: 0.5000 - recall_31: 0.0157    WARNING:tensorflow:Early stopping conditioned on metric `val_loss` which is not available. Available metrics are: loss,accuracy,recall_31\n",
      "250/250 [==============================] - 1s 2ms/step - loss: 0.6932 - accuracy: 0.5005 - recall_31: 0.0285\n",
      "Epoch 11/30\n",
      "244/250 [============================>.] - ETA: 0s - loss: 0.6932 - accuracy: 0.4988 - recall_31: 0.1178WARNING:tensorflow:Early stopping conditioned on metric `val_loss` which is not available. Available metrics are: loss,accuracy,recall_31\n",
      "250/250 [==============================] - 1s 2ms/step - loss: 0.6932 - accuracy: 0.4988 - recall_31: 0.1388\n",
      "Epoch 12/30\n",
      "230/250 [==========================>...] - ETA: 0s - loss: 0.6932 - accuracy: 0.4913 - recall_31: 0.7694WARNING:tensorflow:Early stopping conditioned on metric `val_loss` which is not available. Available metrics are: loss,accuracy,recall_31\n",
      "250/250 [==============================] - 1s 2ms/step - loss: 0.6932 - accuracy: 0.4918 - recall_31: 0.7878\n",
      "Epoch 13/30\n",
      "244/250 [============================>.] - ETA: 0s - loss: 0.6932 - accuracy: 0.4972 - recall_31: 0.6899WARNING:tensorflow:Early stopping conditioned on metric `val_loss` which is not available. Available metrics are: loss,accuracy,recall_31\n",
      "250/250 [==============================] - 1s 2ms/step - loss: 0.6932 - accuracy: 0.4975 - recall_31: 0.6975\n",
      "Epoch 14/30\n",
      "229/250 [==========================>...] - ETA: 0s - loss: 0.6932 - accuracy: 0.4967 - recall_31: 0.9285WARNING:tensorflow:Early stopping conditioned on metric `val_loss` which is not available. Available metrics are: loss,accuracy,recall_31\n",
      "250/250 [==============================] - 1s 2ms/step - loss: 0.6932 - accuracy: 0.4952 - recall_31: 0.8512\n",
      "Epoch 15/30\n",
      "236/250 [===========================>..] - ETA: 0s - loss: 0.6932 - accuracy: 0.4915 - recall_31: 0.4661WARNING:tensorflow:Early stopping conditioned on metric `val_loss` which is not available. Available metrics are: loss,accuracy,recall_31\n",
      "250/250 [==============================] - 1s 2ms/step - loss: 0.6932 - accuracy: 0.4915 - recall_31: 0.4955\n",
      "Epoch 16/30\n",
      "227/250 [==========================>...] - ETA: 0s - loss: 0.6932 - accuracy: 0.5007 - recall_31: 1.0000WARNING:tensorflow:Early stopping conditioned on metric `val_loss` which is not available. Available metrics are: loss,accuracy,recall_31\n",
      "250/250 [==============================] - 1s 2ms/step - loss: 0.6932 - accuracy: 0.5000 - recall_31: 1.0000\n",
      "Epoch 17/30\n",
      "243/250 [============================>.] - ETA: 0s - loss: 0.6932 - accuracy: 0.4978 - recall_31: 0.0267WARNING:tensorflow:Early stopping conditioned on metric `val_loss` which is not available. Available metrics are: loss,accuracy,recall_31\n",
      "250/250 [==============================] - 1s 2ms/step - loss: 0.6932 - accuracy: 0.4970 - recall_31: 0.0370\n",
      "Epoch 18/30\n",
      "227/250 [==========================>...] - ETA: 0s - loss: 0.6932 - accuracy: 0.4884 - recall_31: 0.5745WARNING:tensorflow:Early stopping conditioned on metric `val_loss` which is not available. Available metrics are: loss,accuracy,recall_31\n",
      "250/250 [==============================] - 1s 2ms/step - loss: 0.6932 - accuracy: 0.4888 - recall_31: 0.5207\n",
      "Epoch 19/30\n",
      "247/250 [============================>.] - ETA: 0s - loss: 0.6932 - accuracy: 0.4901 - recall_31: 0.5407WARNING:tensorflow:Early stopping conditioned on metric `val_loss` which is not available. Available metrics are: loss,accuracy,recall_31\n",
      "250/250 [==============================] - 1s 2ms/step - loss: 0.6932 - accuracy: 0.4900 - recall_31: 0.5460\n",
      "Epoch 20/30\n",
      "241/250 [===========================>..] - ETA: 0s - loss: 0.6932 - accuracy: 0.4918 - recall_31: 0.7349WARNING:tensorflow:Early stopping conditioned on metric `val_loss` which is not available. Available metrics are: loss,accuracy,recall_31\n",
      "250/250 [==============================] - 1s 2ms/step - loss: 0.6932 - accuracy: 0.4915 - recall_31: 0.7075\n",
      "Epoch 21/30\n",
      "234/250 [===========================>..] - ETA: 0s - loss: 0.6932 - accuracy: 0.4956 - recall_31: 0.7045WARNING:tensorflow:Early stopping conditioned on metric `val_loss` which is not available. Available metrics are: loss,accuracy,recall_31\n",
      "250/250 [==============================] - 0s 2ms/step - loss: 0.6932 - accuracy: 0.4970 - recall_31: 0.6610\n",
      "Epoch 22/30\n",
      "246/250 [============================>.] - ETA: 0s - loss: 0.6932 - accuracy: 0.4964 - recall_31: 0.2848WARNING:tensorflow:Early stopping conditioned on metric `val_loss` which is not available. Available metrics are: loss,accuracy,recall_31\n",
      "250/250 [==============================] - 0s 2ms/step - loss: 0.6932 - accuracy: 0.4960 - recall_31: 0.2800\n",
      "Epoch 23/30\n",
      "229/250 [==========================>...] - ETA: 0s - loss: 0.6932 - accuracy: 0.4947 - recall_31: 0.3490WARNING:tensorflow:Early stopping conditioned on metric `val_loss` which is not available. Available metrics are: loss,accuracy,recall_31\n"
     ]
    },
    {
     "name": "stdout",
     "output_type": "stream",
     "text": [
      "250/250 [==============================] - 1s 2ms/step - loss: 0.6932 - accuracy: 0.4942 - recall_31: 0.3902\n",
      "Epoch 24/30\n",
      "235/250 [===========================>..] - ETA: 0s - loss: 0.6932 - accuracy: 0.4949 - recall_31: 0.7050WARNING:tensorflow:Early stopping conditioned on metric `val_loss` which is not available. Available metrics are: loss,accuracy,recall_31\n",
      "250/250 [==============================] - 0s 2ms/step - loss: 0.6932 - accuracy: 0.4927 - recall_31: 0.6727\n",
      "Epoch 25/30\n",
      "249/250 [============================>.] - ETA: 0s - loss: 0.6932 - accuracy: 0.4951 - recall_31: 0.4770WARNING:tensorflow:Early stopping conditioned on metric `val_loss` which is not available. Available metrics are: loss,accuracy,recall_31\n",
      "250/250 [==============================] - 0s 2ms/step - loss: 0.6932 - accuracy: 0.4945 - recall_31: 0.4745\n",
      "Epoch 26/30\n",
      "232/250 [==========================>...] - ETA: 0s - loss: 0.6932 - accuracy: 0.4934 - recall_31: 0.6735WARNING:tensorflow:Early stopping conditioned on metric `val_loss` which is not available. Available metrics are: loss,accuracy,recall_31\n",
      "250/250 [==============================] - 0s 2ms/step - loss: 0.6932 - accuracy: 0.4927 - recall_31: 0.6488\n",
      "Epoch 27/30\n",
      "228/250 [==========================>...] - ETA: 0s - loss: 0.6932 - accuracy: 0.4890 - recall_31: 0.1388  WARNING:tensorflow:Early stopping conditioned on metric `val_loss` which is not available. Available metrics are: loss,accuracy,recall_31\n",
      "250/250 [==============================] - 0s 2ms/step - loss: 0.6932 - accuracy: 0.4893 - recall_31: 0.2132\n",
      "Epoch 28/30\n",
      "234/250 [===========================>..] - ETA: 0s - loss: 0.6932 - accuracy: 0.4900 - recall_31: 0.6267WARNING:tensorflow:Early stopping conditioned on metric `val_loss` which is not available. Available metrics are: loss,accuracy,recall_31\n",
      "250/250 [==============================] - 0s 2ms/step - loss: 0.6932 - accuracy: 0.4893 - recall_31: 0.6012\n",
      "Epoch 29/30\n",
      "238/250 [===========================>..] - ETA: 0s - loss: 0.6932 - accuracy: 0.4941 - recall_31: 0.1451WARNING:tensorflow:Early stopping conditioned on metric `val_loss` which is not available. Available metrics are: loss,accuracy,recall_31\n",
      "250/250 [==============================] - 1s 2ms/step - loss: 0.6932 - accuracy: 0.4947 - recall_31: 0.1867\n",
      "Epoch 30/30\n",
      "250/250 [==============================] - ETA: 0s - loss: 0.6932 - accuracy: 0.4945 - recall_31: 0.8905WARNING:tensorflow:Early stopping conditioned on metric `val_loss` which is not available. Available metrics are: loss,accuracy,recall_31\n",
      "250/250 [==============================] - 1s 2ms/step - loss: 0.6932 - accuracy: 0.4945 - recall_31: 0.8905\n"
     ]
    },
    {
     "data": {
      "text/plain": [
       "<tensorflow.python.keras.callbacks.History at 0x7f9136a846a0>"
      ]
     },
     "execution_count": 130,
     "metadata": {},
     "output_type": "execute_result"
    }
   ],
   "source": [
    "best_model = KerasClassifier(make_model_cv,**best_params)\n",
    "best_model.fit(X_train_unrow,y_train,epochs=30, callbacks=[earlystop],batch_size=best_params['batch_size'])#,batch_size=grid.best_params_['batch_size'])"
   ]
  },
  {
   "cell_type": "code",
   "execution_count": null,
   "metadata": {},
   "outputs": [],
   "source": []
  },
  {
   "cell_type": "code",
   "execution_count": null,
   "metadata": {},
   "outputs": [],
   "source": []
  },
  {
   "cell_type": "markdown",
   "metadata": {
    "heading_collapsed": true
   },
   "source": [
    "# APPENDIX/HOW-TOs:"
   ]
  },
  {
   "cell_type": "markdown",
   "metadata": {
    "hidden": true
   },
   "source": [
    "## How to Make a Custom Scoring Function"
   ]
  },
  {
   "cell_type": "markdown",
   "metadata": {
    "hidden": true
   },
   "source": [
    "1. **Why would you do this?**\n",
    "    1. You may want to use a metric that isn't available in sklearn. \n",
    "        - In the included `my_custom_scorer` function, I take the accuracy of each class's predictions from the diagonal of a normalized confusion matrix. \n",
    "        - I then calculate the mean of those 3 class accuracies, which is the `score` that is returned to the gridsearch. \n",
    "        \n",
    "    2. You may want to add a printout or display to the scoring function so you can see the results as the search is going.\n",
    "<br><br>\n",
    "2. **How do you do write your own?**\n",
    "    1. Define your custom scoring function.\n",
    "        - It must accept `y_true`,`y_pred`\n",
    "        - It must return a value to maximize. (like accuracy)\n",
    "    2. You can add print or display commands to have the scoring function report the current results as the gridsearch is still going.\n",
    "        - If you combine this with the example `create_model` function above that includes the `vars=locals(); print(vars)` command, then gridsearch will display:\n",
    "            1. the parameters of each model (each time the `create_model` function is called.\n",
    "            2. The score of each model, including a confusion matrix figure (each time it calls `my_custom_scorer`).\n",
    "        \n",
    "```python\n",
    "def my_custom_scorer(y_true,y_pred):\n",
    "    \"\"\"My custom score function to use with sklearn's GridSearchCV\n",
    "    Maximizes the average accuracy per class using a normalized confusion matrix\"\"\"\n",
    "    from sklearn.metrics import confusion_matrix\n",
    "    import numpy as np\n",
    "    import functions_combined_BEST as ji    \n",
    "\n",
    "    ## Flatten one-hot encoded target columns into 1 column for sklearn functions\n",
    "    if y_true.ndim>1 or y_pred.ndim>1:\n",
    "        \n",
    "        ## reduce dimensions of y_train and y_test\n",
    "        if y_true.ndim>1:            \n",
    "            y_true = y_true.argmax(axis=1)\n",
    "        \n",
    "        if y_pred.ndim>1:\n",
    "            y_pred = y_pred.argmax(axis=1)\n",
    "\n",
    "    \n",
    "     # Get confusion matrx\n",
    "    cm = confusion_matrix(y_true, y_pred)\n",
    "\n",
    "    # Normalize confusion matrix\n",
    "    cm_norm = cm.astype('float')/cm.sum(axis=1)[:,np.newaxis]\n",
    "\n",
    "    ## Get diagonals for class accuracy\n",
    "    diag = cm_norm.diagonal()\n",
    "    \n",
    "    # Get the mean of the diagonal values\n",
    "    score = np.mean(diag)\n",
    "    \n",
    "    ## Display Results for the User\n",
    "    print(f'Mean Class Accuracy = {score}')\n",
    "    print(f'Class Accuracy Values:')\n",
    "    print(diag)    \n",
    "\n",
    "    ## Plot the confusion matrix.\n",
    "    ji.plot_confusion_matrix(cm,normalize=True)\n",
    "\n",
    "    # return the score \n",
    "    return score\n",
    "```        \n",
    "        \n",
    "        \n",
    "3. **How do you use it?**\n",
    "    - When instantiating GridSearchCV pass your function as the `scoring=` parameter, wrapped in the  `sklearn.metrics.make_scorer` function.\n",
    "  \n",
    "\n",
    "```python\n",
    "## Using custom scoring function\n",
    "from sklearn.metrics import make_scorer\n",
    "\n",
    "grid = GridSearchCV(estimator=neural_network, \n",
    "                    param_grid=params_to_test,\n",
    "                   scoring=make_scorer(my_custom_scorer))\n",
    "                    \n",
    "grid_result = grid.fit(X_train, y_train)\n",
    "```"
   ]
  },
  {
   "cell_type": "code",
   "execution_count": null,
   "metadata": {
    "hidden": true
   },
   "outputs": [],
   "source": []
  }
 ],
 "metadata": {
  "colab": {
   "collapsed_sections": [],
   "name": "Copy of James' Study Group Notes - Section 41-42 (condensed version).ipynb",
   "provenance": []
  },
  "kernelspec": {
   "display_name": "Python [conda env:learn-env] *",
   "language": "python",
   "name": "conda-env-learn-env-py"
  },
  "language_info": {
   "codemirror_mode": {
    "name": "ipython",
    "version": 3
   },
   "file_extension": ".py",
   "mimetype": "text/x-python",
   "name": "python",
   "nbconvert_exporter": "python",
   "pygments_lexer": "ipython3",
   "version": "3.6.11"
  },
  "toc": {
   "base_numbering": 1,
   "nav_menu": {},
   "number_sections": false,
   "sideBar": true,
   "skip_h1_title": false,
   "title_cell": "Table of Contents",
   "title_sidebar": "Contents",
   "toc_cell": false,
   "toc_position": {
    "height": "calc(100% - 180px)",
    "left": "10px",
    "top": "150px",
    "width": "256px"
   },
   "toc_section_display": true,
   "toc_window_display": false
  }
 },
 "nbformat": 4,
 "nbformat_minor": 1
}
