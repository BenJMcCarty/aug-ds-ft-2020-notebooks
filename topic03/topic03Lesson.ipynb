{
 "cells": [
  {
   "cell_type": "markdown",
   "metadata": {},
   "source": [
    "# questions\n",
    "* logical operators and, or, not "
   ]
  },
  {
   "cell_type": "code",
   "execution_count": 1,
   "metadata": {},
   "outputs": [
    {
     "name": "stdout",
     "output_type": "stream",
     "text": [
      "10. True\n"
     ]
    }
   ],
   "source": [
    "# 0 is False\n",
    "# not 0 = not False => True\n",
    "\n",
    "print(\"10.\", not 0)"
   ]
  },
  {
   "cell_type": "code",
   "execution_count": 3,
   "metadata": {},
   "outputs": [
    {
     "name": "stdout",
     "output_type": "stream",
     "text": [
      "10. False\n"
     ]
    }
   ],
   "source": [
    "# non-zero numbers are true by default\n",
    "# at least, 100 must be True\n",
    "# not 100 = not True => False\n",
    "print(\"10.\", not 100)"
   ]
  },
  {
   "cell_type": "code",
   "execution_count": 5,
   "metadata": {},
   "outputs": [
    {
     "name": "stdout",
     "output_type": "stream",
     "text": [
      "10. False\n"
     ]
    }
   ],
   "source": [
    "\n",
    "print(\"10.\", not -23)"
   ]
  },
  {
   "cell_type": "code",
   "execution_count": 15,
   "metadata": {},
   "outputs": [
    {
     "name": "stdout",
     "output_type": "stream",
     "text": [
      "this must have been true\n"
     ]
    }
   ],
   "source": [
    "# non-zero numbers trigger a Truthy statement\n",
    "if 5.8:\n",
    "    print(\"this must have been true\")\n",
    "else:\n",
    "    print(\"5 is false\")"
   ]
  },
  {
   "cell_type": "code",
   "execution_count": 17,
   "metadata": {},
   "outputs": [
    {
     "data": {
      "text/plain": [
       "(True, False, True, True, True)"
      ]
     },
     "execution_count": 17,
     "metadata": {},
     "output_type": "execute_result"
    }
   ],
   "source": [
    "# a == b checks if a and b are equivalent in value\n",
    "# a is b checks if a and b are in the same spot in memory\n",
    "1 == True, 1 is True, 1 + 1 == 2, 1 + 1 is 2, True + True is 2"
   ]
  },
  {
   "cell_type": "code",
   "execution_count": 18,
   "metadata": {},
   "outputs": [
    {
     "data": {
      "text/plain": [
       "(True, True)"
      ]
     },
     "execution_count": 18,
     "metadata": {},
     "output_type": "execute_result"
    }
   ],
   "source": [
    "x = 1 + 1 \n",
    "y = 2\n",
    "x == y, x is y"
   ]
  },
  {
   "cell_type": "code",
   "execution_count": 19,
   "metadata": {},
   "outputs": [],
   "source": [
    "def print_nonzero(k):\n",
    "    if k:\n",
    "        print(k)\n",
    "    return None"
   ]
  },
  {
   "cell_type": "code",
   "execution_count": 24,
   "metadata": {},
   "outputs": [
    {
     "name": "stdout",
     "output_type": "stream",
     "text": [
      "5\n",
      "nan\n",
      "[2, 3]\n"
     ]
    },
    {
     "data": {
      "text/plain": [
       "(None, None, None, None, None)"
      ]
     },
     "execution_count": 24,
     "metadata": {},
     "output_type": "execute_result"
    }
   ],
   "source": [
    "import numpy as np\n",
    "print_nonzero(5), print_nonzero(0), print_nonzero(np.nan), print_nonzero([2, 3]), print_nonzero([])"
   ]
  },
  {
   "cell_type": "code",
   "execution_count": null,
   "metadata": {},
   "outputs": [],
   "source": [
    "# boolean -> True, False\n",
    "# int -> 1, 2, 3, 4, 0, -1, 2, 3, etc\n",
    "# float -> 1.12, 1.0"
   ]
  },
  {
   "cell_type": "code",
   "execution_count": 27,
   "metadata": {},
   "outputs": [
    {
     "data": {
      "text/plain": [
       "False"
      ]
     },
     "execution_count": 27,
     "metadata": {},
     "output_type": "execute_result"
    }
   ],
   "source": [
    "x = {}\n",
    "y = {}\n",
    "x is y"
   ]
  },
  {
   "cell_type": "code",
   "execution_count": 25,
   "metadata": {},
   "outputs": [
    {
     "name": "stdout",
     "output_type": "stream",
     "text": [
      "1. False\n",
      "2. False\n",
      "4. False\n"
     ]
    }
   ],
   "source": [
    "print(\"1.\", {} is {}) \n",
    "print(\"2.\", [] is [])\n",
    "print(\"4.\", [\"same\"] is [\"same\"])"
   ]
  },
  {
   "cell_type": "code",
   "execution_count": 52,
   "metadata": {},
   "outputs": [],
   "source": [
    "# is called a statistic/average\n",
    "def get_mean(lst):\n",
    "    return sum(lst)/len(lst)\n",
    "\n",
    "# averages: mean, median, geometric mean, mode\n",
    "# statistics: averages, max, min, std, variance, quartiles, skew, kurt"
   ]
  },
  {
   "cell_type": "code",
   "execution_count": 30,
   "metadata": {},
   "outputs": [
    {
     "data": {
      "text/plain": [
       "2.5"
      ]
     },
     "execution_count": 30,
     "metadata": {},
     "output_type": "execute_result"
    }
   ],
   "source": [
    "lst = [1, 2, 3, 4]\n",
    "mean(lst)"
   ]
  },
  {
   "cell_type": "code",
   "execution_count": 53,
   "metadata": {},
   "outputs": [],
   "source": [
    "# [1, 2, 3, 4, 5, 6, 7] -> middle indice = 3, len(lst)//2\n",
    "def get_middle_odd(lst):\n",
    "    l = len(lst)\n",
    "    return l//2\n",
    "    \n",
    "    \n",
    "# [1, 2, 3, 4, 5, 6, 7, 8] -> middle indices = [3, 4], len(lst)//2-1, len(lst)//2\n",
    "def get_middle_even(lst):\n",
    "    l = len(lst)\n",
    "    i1 = len(lst)//2\n",
    "    i0 = i1 - 1\n",
    "    return [i0, i1]\n",
    "\n",
    "\n",
    "def get_median(lst):\n",
    "    if len(lst)%2==1:\n",
    "        index = get_middle_odd(lst)\n",
    "        mn = sorted(lst)[index]\n",
    "        median =  mn\n",
    "    else:\n",
    "        i0, i1 = get_middle_even(lst)\n",
    "        mns = sorted(lst)[i0:i1+1]\n",
    "        median = get_mean(mns)\n",
    "    return median"
   ]
  },
  {
   "cell_type": "code",
   "execution_count": 51,
   "metadata": {},
   "outputs": [
    {
     "data": {
      "text/plain": [
       "(55, 4.5)"
      ]
     },
     "execution_count": 51,
     "metadata": {},
     "output_type": "execute_result"
    }
   ],
   "source": [
    "lst = [11, 22, 33, 44, 55, 66, 77, 88, 99]\n",
    "lst2 = [1, 2, 3, 4, 5, 6, 7, 8]\n",
    "\n",
    "median(lst), median(lst2)"
   ]
  },
  {
   "cell_type": "markdown",
   "metadata": {},
   "source": [
    "# What is something you learned? \n",
    "* truthyness of numerical objects in python\n",
    "* how to get the mean and median in an efficient way\n",
    "* better idea of identity in Python\n",
    "* defaultdicts are amazing\n",
    "* how to find the middle index \n",
    "* string, floats, lists and other object types can be comparative (True or False)\n",
    "* True == 1, False == 0"
   ]
  },
  {
   "cell_type": "code",
   "execution_count": 57,
   "metadata": {},
   "outputs": [
    {
     "data": {
      "text/plain": [
       "3"
      ]
     },
     "execution_count": 57,
     "metadata": {},
     "output_type": "execute_result"
    }
   ],
   "source": []
  },
  {
   "cell_type": "code",
   "execution_count": 58,
   "metadata": {},
   "outputs": [],
   "source": [
    "def median_review_count(list_of_restaurants):\n",
    "    review_counts = sorted([r['review_count'] for r in list_of_restaurants])\n",
    "    while len(review_counts) > 2:\n",
    "        review_counts.pop(-1)\n",
    "        review_counts.pop(0)\n",
    "    return sum(review_counts)/len(review_counts)"
   ]
  },
  {
   "cell_type": "code",
   "execution_count": null,
   "metadata": {},
   "outputs": [],
   "source": [
    "def median_review_count(list_of_restaurants):\n",
    "    review_counts = sorted([r['review_count'] for r in list_of_restaurants]) \n",
    "    while True:\n",
    "        if len(review_counts)<=2:\n",
    "            break\n",
    "        review_counts.pop(-1)\n",
    "        review_counts.pop(0)\n",
    "    return sum(review_counts)/len(review_counts)"
   ]
  },
  {
   "cell_type": "code",
   "execution_count": 70,
   "metadata": {},
   "outputs": [
    {
     "data": {
      "text/plain": [
       "{5: 3, 6: 3, 8: 4, 9: 3, 3: 2, 2: 3, 4: 3, 0: 1, 10: 1, 1: 1, 7: 1}"
      ]
     },
     "execution_count": 70,
     "metadata": {},
     "output_type": "execute_result"
    }
   ],
   "source": [
    "# how to make a counter dictionary with Counter\n",
    "import random\n",
    "\n",
    "my_list = [random.randint(0, 10) for i in range(25)]\n",
    "\n",
    "# Easiest\n",
    "# let's count the frequency of each number\n",
    "# from collections import Counter\n",
    "# counter = Counter(my_list)\n",
    "# counter\n",
    "\n",
    "\n",
    "# the most fundamental approach\n",
    "# counter = {}\n",
    "# for number in my_list:\n",
    "#     key = number\n",
    "#     if key in counter.keys():\n",
    "#         # if i've seen the number before\n",
    "#         counter[key] += 1\n",
    "#     else:\n",
    "#         # if I'm seeing it for the first time\n",
    "#         counter[key] = 1\n",
    "# counter\n",
    "\n",
    "# the most clever\n",
    "counter = {}\n",
    "for key in my_list:\n",
    "    counter[key] = counter.get(key, 0) + 1\n",
    "counter"
   ]
  },
  {
   "cell_type": "code",
   "execution_count": null,
   "metadata": {},
   "outputs": [],
   "source": []
  }
 ],
 "metadata": {
  "kernelspec": {
   "display_name": "Python [conda env:flatiron-env] *",
   "language": "python",
   "name": "conda-env-flatiron-env-py"
  },
  "language_info": {
   "codemirror_mode": {
    "name": "ipython",
    "version": 3
   },
   "file_extension": ".py",
   "mimetype": "text/x-python",
   "name": "python",
   "nbconvert_exporter": "python",
   "pygments_lexer": "ipython3",
   "version": "3.6.10"
  }
 },
 "nbformat": 4,
 "nbformat_minor": 4
}
