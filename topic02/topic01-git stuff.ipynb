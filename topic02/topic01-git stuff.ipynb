{
 "cells": [
  {
   "cell_type": "markdown",
   "metadata": {},
   "source": [
    "# Questions "
   ]
  },
  {
   "cell_type": "markdown",
   "metadata": {},
   "source": [
    "## Git Stuff\n",
    "Git repo\n",
    "* a folder that is configured to run version control with git\n",
    "* can live\n",
    "    * on your computer\n",
    "    * on github\n",
    "    * on some server\n",
    "\n",
    "Github repo\n",
    "* a git repo that is stored on github\n",
    "\n",
    "\n",
    "## Outline\n",
    "* make a folder with some files\n",
    "* transform it into a git repo\n",
    "* create some stuff in it\n",
    "* then I want to attach it to a github url"
   ]
  },
  {
   "cell_type": "markdown",
   "metadata": {},
   "source": [
    "# What did we learn today?\n",
    "* can make a git repo on your computer without a github url \n",
    "* learned that nan values don't equal themselves\n",
    "* f-strings: they allow one to inject a variable value into a string\n",
    "* git add. adds everything in the current directory\n",
    "* make github repo out of local git repo\n",
    "* don't create repos within repos\n",
    "* how to rotate the xticks\n",
    "* using '..' send you back one folder with the 'cd' command in terminal\n",
    "* cd ~ which takes you home\n",
    "* cd this also takes you home"
   ]
  },
  {
   "cell_type": "code",
   "execution_count": null,
   "metadata": {},
   "outputs": [],
   "source": []
  }
 ],
 "metadata": {
  "kernelspec": {
   "display_name": "Python [conda env:flatiron-env] *",
   "language": "python",
   "name": "conda-env-flatiron-env-py"
  },
  "language_info": {
   "codemirror_mode": {
    "name": "ipython",
    "version": 3
   },
   "file_extension": ".py",
   "mimetype": "text/x-python",
   "name": "python",
   "nbconvert_exporter": "python",
   "pygments_lexer": "ipython3",
   "version": "3.6.10"
  }
 },
 "nbformat": 4,
 "nbformat_minor": 4
}
