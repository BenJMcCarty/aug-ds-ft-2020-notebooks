{
 "cells": [
  {
   "cell_type": "markdown",
   "metadata": {},
   "source": [
    "# Objectives\n",
    "YWBAT\n",
    "* apply hypothesis testing to a dataset to test for equality of means\n",
    "* test for the assumptions of various hypothesis tests\n",
    "* write conclusions for those tests\n",
    "\n",
    "# Outline\n",
    "* read in the senateExpenses dataset using pandas\n",
    "* choose an office to query on\n",
    "* plot expense distributions by gender\n",
    "* perform hypothesis testing on payment from those offices by Gender\n",
    "* drill down into the various types of occupation title for gender and compare expenses\n",
    "\n",
    "# Disclaimer\n",
    "This data has not been looked through yet. Your hypotheses tests may not yield anything *interesting*. Nevertheless, it's important to practice hypothesis testing on data. "
   ]
  },
  {
   "cell_type": "code",
   "execution_count": 2,
   "metadata": {},
   "outputs": [],
   "source": [
    "import warnings\n",
    "warnings.filterwarnings('ignore')\n",
    "import numpy as np\n",
    "import pandas as pd\n",
    "\n",
    "import scipy.stats as scs\n",
    "from statsmodels.stats.power import TTestIndPower, TTestPower, tt_ind_solve_power\n",
    "\n",
    "import matplotlib.pyplot as plt\n",
    "import seaborn as sns"
   ]
  },
  {
   "cell_type": "code",
   "execution_count": 3,
   "metadata": {},
   "outputs": [],
   "source": [
    "def bootstrap(arr):\n",
    "    return np.random.choice(arr, size=arr.shape, replace=True)\n",
    "\n",
    "\n",
    "def generate_sample_mus(arr, num_samples=30):\n",
    "    sample_mus = [] \n",
    "    for i in range(num_samples):\n",
    "        sample = bootstrap(arr)\n",
    "        mu = np.mean(sample)\n",
    "        sample_mus.append(mu)\n",
    "    return sample_mus\n",
    "\n",
    "\n",
    "def test_for_normality(arr, confidence=0.95):\n",
    "    t, p = scs.shapiro(arr)\n",
    "    if p <= 1 - confidence:\n",
    "        print(\"reject the null\")\n",
    "        return False\n",
    "    print(\"fail to reject the null\")\n",
    "    return True\n",
    "\n",
    "\n",
    "def cohens_d(arr1, arr2):\n",
    "    narr1 = len(arr1)\n",
    "    narr2 = len(arr2)\n",
    "    dof = narr1 + narr2 - 2\n",
    "    return (np.mean(arr1) - np.mean(arr2)) / np.sqrt(((narr1-1)*np.std(arr1, ddof=1) ** 2 + (narr2-1)*np.std(arr2, ddof=1) ** 2) / dof)"
   ]
  },
  {
   "cell_type": "code",
   "execution_count": 4,
   "metadata": {},
   "outputs": [
    {
     "data": {
      "text/html": [
       "<div>\n",
       "<style scoped>\n",
       "    .dataframe tbody tr th:only-of-type {\n",
       "        vertical-align: middle;\n",
       "    }\n",
       "\n",
       "    .dataframe tbody tr th {\n",
       "        vertical-align: top;\n",
       "    }\n",
       "\n",
       "    .dataframe thead th {\n",
       "        text-align: right;\n",
       "    }\n",
       "</style>\n",
       "<table border=\"1\" class=\"dataframe\">\n",
       "  <thead>\n",
       "    <tr style=\"text-align: right;\">\n",
       "      <th></th>\n",
       "      <th>Unique ID</th>\n",
       "      <th>Last Name</th>\n",
       "      <th>First Name</th>\n",
       "      <th>Middle 1</th>\n",
       "      <th>Middle 2</th>\n",
       "      <th>Middle 3</th>\n",
       "      <th>Full Name</th>\n",
       "      <th>Title</th>\n",
       "      <th>Keyword</th>\n",
       "      <th>Text Cluster</th>\n",
       "      <th>Payment</th>\n",
       "      <th>FULL or Partial</th>\n",
       "      <th>Gender</th>\n",
       "      <th>Office</th>\n",
       "      <th>Type (office, committee, political staff)</th>\n",
       "      <th>Party</th>\n",
       "      <th>Administrative or Political</th>\n",
       "    </tr>\n",
       "  </thead>\n",
       "  <tbody>\n",
       "    <tr>\n",
       "      <th>0</th>\n",
       "      <td>BLACKBARRYCHAPLAIN</td>\n",
       "      <td>BLACK</td>\n",
       "      <td>BARRY</td>\n",
       "      <td>C</td>\n",
       "      <td>NaN</td>\n",
       "      <td>NaN</td>\n",
       "      <td>BARRY BLACK</td>\n",
       "      <td>CHAPLAIN</td>\n",
       "      <td>CHAPLAIN</td>\n",
       "      <td>NaN</td>\n",
       "      <td>80393.40</td>\n",
       "      <td>Full</td>\n",
       "      <td>M</td>\n",
       "      <td>CHAPLIAIN'S OFFICE</td>\n",
       "      <td>Office</td>\n",
       "      <td>Non-partisan</td>\n",
       "      <td>Administrative</td>\n",
       "    </tr>\n",
       "    <tr>\n",
       "      <th>1</th>\n",
       "      <td>BOGOSLAVSKIJODYDIRECTOROFCOMMUNICATIONS</td>\n",
       "      <td>BOGOSLAVSKI</td>\n",
       "      <td>JODY</td>\n",
       "      <td>M</td>\n",
       "      <td>NaN</td>\n",
       "      <td>NaN</td>\n",
       "      <td>JODY BOGOSLAVSKI</td>\n",
       "      <td>DIRECTOR OF COMMUNICATIONS</td>\n",
       "      <td>DIRECTOR,OF,COMMUNICATIONS</td>\n",
       "      <td>NaN</td>\n",
       "      <td>46999.92</td>\n",
       "      <td>FULL</td>\n",
       "      <td>A</td>\n",
       "      <td>CHAPLIAIN'S OFFICE</td>\n",
       "      <td>Office</td>\n",
       "      <td>Non-partisan</td>\n",
       "      <td>Administrative</td>\n",
       "    </tr>\n",
       "    <tr>\n",
       "      <th>2</th>\n",
       "      <td>SCHULTZLISACHIEFOFSTAFF</td>\n",
       "      <td>SCHULTZ</td>\n",
       "      <td>LISA</td>\n",
       "      <td>W</td>\n",
       "      <td>NaN</td>\n",
       "      <td>NaN</td>\n",
       "      <td>LISA SCHULTZ</td>\n",
       "      <td>CHIEF OF STAFF</td>\n",
       "      <td>CHIEF,OF,STAFF</td>\n",
       "      <td>NaN</td>\n",
       "      <td>61500.00</td>\n",
       "      <td>FULL</td>\n",
       "      <td>F</td>\n",
       "      <td>CHAPLIAIN'S OFFICE</td>\n",
       "      <td>Office</td>\n",
       "      <td>Non-partisan</td>\n",
       "      <td>Administrative</td>\n",
       "    </tr>\n",
       "    <tr>\n",
       "      <th>3</th>\n",
       "      <td>CHAPUISSUZANNEEXECUTIVEASSISTANT</td>\n",
       "      <td>CHAPUIS</td>\n",
       "      <td>SUZANNE</td>\n",
       "      <td>M</td>\n",
       "      <td>NaN</td>\n",
       "      <td>NaN</td>\n",
       "      <td>SUZANNE CHAPUIS</td>\n",
       "      <td>EXECUTIVE ASSISTANT</td>\n",
       "      <td>EXECUTIVE,ASSISTANT</td>\n",
       "      <td>NaN</td>\n",
       "      <td>42000.00</td>\n",
       "      <td>FULL</td>\n",
       "      <td>F</td>\n",
       "      <td>CHAPLIAIN'S OFFICE</td>\n",
       "      <td>Office</td>\n",
       "      <td>Non-partisan</td>\n",
       "      <td>Administrative</td>\n",
       "    </tr>\n",
       "    <tr>\n",
       "      <th>4</th>\n",
       "      <td>DEMPSEYERICAPROFESSIONALSTAFFTOMAY.8</td>\n",
       "      <td>DEMPSEY</td>\n",
       "      <td>ERICA</td>\n",
       "      <td>J</td>\n",
       "      <td>NaN</td>\n",
       "      <td>NaN</td>\n",
       "      <td>ERICA DEMPSEY</td>\n",
       "      <td>PROFESSIONAL STAFF TO MAY. 8</td>\n",
       "      <td>PROFESSIONAL,STAFF,TO,MAY.,8</td>\n",
       "      <td>NaN</td>\n",
       "      <td>6003.77</td>\n",
       "      <td>PARTIAL</td>\n",
       "      <td>F</td>\n",
       "      <td>COMMITTEE ON APPROPRIATIONS</td>\n",
       "      <td>Office</td>\n",
       "      <td>Non-partisan</td>\n",
       "      <td>Administrative</td>\n",
       "    </tr>\n",
       "  </tbody>\n",
       "</table>\n",
       "</div>"
      ],
      "text/plain": [
       "                                 Unique ID  ... Administrative or Political\n",
       "0                       BLACKBARRYCHAPLAIN  ...              Administrative\n",
       "1  BOGOSLAVSKIJODYDIRECTOROFCOMMUNICATIONS  ...              Administrative\n",
       "2                  SCHULTZLISACHIEFOFSTAFF  ...              Administrative\n",
       "3         CHAPUISSUZANNEEXECUTIVEASSISTANT  ...              Administrative\n",
       "4     DEMPSEYERICAPROFESSIONALSTAFFTOMAY.8  ...              Administrative\n",
       "\n",
       "[5 rows x 17 columns]"
      ]
     },
     "execution_count": 4,
     "metadata": {},
     "output_type": "execute_result"
    }
   ],
   "source": [
    "df = pd.read_excel(\"../data/senateExpenses\")\n",
    "df.head()"
   ]
  },
  {
   "cell_type": "code",
   "execution_count": 5,
   "metadata": {},
   "outputs": [
    {
     "data": {
      "text/html": [
       "<div>\n",
       "<style scoped>\n",
       "    .dataframe tbody tr th:only-of-type {\n",
       "        vertical-align: middle;\n",
       "    }\n",
       "\n",
       "    .dataframe tbody tr th {\n",
       "        vertical-align: top;\n",
       "    }\n",
       "\n",
       "    .dataframe thead th {\n",
       "        text-align: right;\n",
       "    }\n",
       "</style>\n",
       "<table border=\"1\" class=\"dataframe\">\n",
       "  <thead>\n",
       "    <tr style=\"text-align: right;\">\n",
       "      <th></th>\n",
       "      <th>Unique ID</th>\n",
       "      <th>Last Name</th>\n",
       "      <th>First Name</th>\n",
       "      <th>Middle 1</th>\n",
       "      <th>Middle 2</th>\n",
       "      <th>Middle 3</th>\n",
       "      <th>Full Name</th>\n",
       "      <th>Title</th>\n",
       "      <th>Keyword</th>\n",
       "      <th>Text Cluster</th>\n",
       "      <th>Payment</th>\n",
       "      <th>FULL or Partial</th>\n",
       "      <th>Gender</th>\n",
       "      <th>Office</th>\n",
       "      <th>Type (office, committee, political staff)</th>\n",
       "      <th>Party</th>\n",
       "      <th>Administrative or Political</th>\n",
       "    </tr>\n",
       "  </thead>\n",
       "  <tbody>\n",
       "    <tr>\n",
       "      <th>0</th>\n",
       "      <td>BLACKBARRYCHAPLAIN</td>\n",
       "      <td>BLACK</td>\n",
       "      <td>BARRY</td>\n",
       "      <td>C</td>\n",
       "      <td>NaN</td>\n",
       "      <td>NaN</td>\n",
       "      <td>BARRY BLACK</td>\n",
       "      <td>CHAPLAIN</td>\n",
       "      <td>CHAPLAIN</td>\n",
       "      <td>NaN</td>\n",
       "      <td>80393.40</td>\n",
       "      <td>Full</td>\n",
       "      <td>M</td>\n",
       "      <td>CHAPLIAIN'S OFFICE</td>\n",
       "      <td>Office</td>\n",
       "      <td>Non-partisan</td>\n",
       "      <td>Administrative</td>\n",
       "    </tr>\n",
       "    <tr>\n",
       "      <th>1</th>\n",
       "      <td>BOGOSLAVSKIJODYDIRECTOROFCOMMUNICATIONS</td>\n",
       "      <td>BOGOSLAVSKI</td>\n",
       "      <td>JODY</td>\n",
       "      <td>M</td>\n",
       "      <td>NaN</td>\n",
       "      <td>NaN</td>\n",
       "      <td>JODY BOGOSLAVSKI</td>\n",
       "      <td>DIRECTOR OF COMMUNICATIONS</td>\n",
       "      <td>DIRECTOR,OF,COMMUNICATIONS</td>\n",
       "      <td>NaN</td>\n",
       "      <td>46999.92</td>\n",
       "      <td>FULL</td>\n",
       "      <td>A</td>\n",
       "      <td>CHAPLIAIN'S OFFICE</td>\n",
       "      <td>Office</td>\n",
       "      <td>Non-partisan</td>\n",
       "      <td>Administrative</td>\n",
       "    </tr>\n",
       "    <tr>\n",
       "      <th>2</th>\n",
       "      <td>SCHULTZLISACHIEFOFSTAFF</td>\n",
       "      <td>SCHULTZ</td>\n",
       "      <td>LISA</td>\n",
       "      <td>W</td>\n",
       "      <td>NaN</td>\n",
       "      <td>NaN</td>\n",
       "      <td>LISA SCHULTZ</td>\n",
       "      <td>CHIEF OF STAFF</td>\n",
       "      <td>CHIEF,OF,STAFF</td>\n",
       "      <td>NaN</td>\n",
       "      <td>61500.00</td>\n",
       "      <td>FULL</td>\n",
       "      <td>F</td>\n",
       "      <td>CHAPLIAIN'S OFFICE</td>\n",
       "      <td>Office</td>\n",
       "      <td>Non-partisan</td>\n",
       "      <td>Administrative</td>\n",
       "    </tr>\n",
       "    <tr>\n",
       "      <th>3</th>\n",
       "      <td>CHAPUISSUZANNEEXECUTIVEASSISTANT</td>\n",
       "      <td>CHAPUIS</td>\n",
       "      <td>SUZANNE</td>\n",
       "      <td>M</td>\n",
       "      <td>NaN</td>\n",
       "      <td>NaN</td>\n",
       "      <td>SUZANNE CHAPUIS</td>\n",
       "      <td>EXECUTIVE ASSISTANT</td>\n",
       "      <td>EXECUTIVE,ASSISTANT</td>\n",
       "      <td>NaN</td>\n",
       "      <td>42000.00</td>\n",
       "      <td>FULL</td>\n",
       "      <td>F</td>\n",
       "      <td>CHAPLIAIN'S OFFICE</td>\n",
       "      <td>Office</td>\n",
       "      <td>Non-partisan</td>\n",
       "      <td>Administrative</td>\n",
       "    </tr>\n",
       "    <tr>\n",
       "      <th>4</th>\n",
       "      <td>DEMPSEYERICAPROFESSIONALSTAFFTOMAY.8</td>\n",
       "      <td>DEMPSEY</td>\n",
       "      <td>ERICA</td>\n",
       "      <td>J</td>\n",
       "      <td>NaN</td>\n",
       "      <td>NaN</td>\n",
       "      <td>ERICA DEMPSEY</td>\n",
       "      <td>PROFESSIONAL STAFF TO MAY. 8</td>\n",
       "      <td>PROFESSIONAL,STAFF,TO,MAY.,8</td>\n",
       "      <td>NaN</td>\n",
       "      <td>6003.77</td>\n",
       "      <td>PARTIAL</td>\n",
       "      <td>F</td>\n",
       "      <td>COMMITTEE ON APPROPRIATIONS</td>\n",
       "      <td>Office</td>\n",
       "      <td>Non-partisan</td>\n",
       "      <td>Administrative</td>\n",
       "    </tr>\n",
       "  </tbody>\n",
       "</table>\n",
       "</div>"
      ],
      "text/plain": [
       "                                 Unique ID  ... Administrative or Political\n",
       "0                       BLACKBARRYCHAPLAIN  ...              Administrative\n",
       "1  BOGOSLAVSKIJODYDIRECTOROFCOMMUNICATIONS  ...              Administrative\n",
       "2                  SCHULTZLISACHIEFOFSTAFF  ...              Administrative\n",
       "3         CHAPUISSUZANNEEXECUTIVEASSISTANT  ...              Administrative\n",
       "4     DEMPSEYERICAPROFESSIONALSTAFFTOMAY.8  ...              Administrative\n",
       "\n",
       "[5 rows x 17 columns]"
      ]
     },
     "execution_count": 5,
     "metadata": {},
     "output_type": "execute_result"
    }
   ],
   "source": [
    "admin_df = df.loc[df['Administrative or Political']=='Administrative']\n",
    "admin_df.head()"
   ]
  },
  {
   "cell_type": "code",
   "execution_count": 6,
   "metadata": {},
   "outputs": [
    {
     "data": {
      "text/plain": [
       "(1698, 17)"
      ]
     },
     "execution_count": 6,
     "metadata": {},
     "output_type": "execute_result"
    }
   ],
   "source": [
    "admin_df.shape"
   ]
  },
  {
   "cell_type": "code",
   "execution_count": 7,
   "metadata": {},
   "outputs": [],
   "source": [
    "admin_payment_m = admin_df.loc[admin_df['Gender']==\"M\", 'Payment']\n",
    "admin_payment_f = admin_df.loc[admin_df['Gender']==\"F\", 'Payment']"
   ]
  },
  {
   "cell_type": "code",
   "execution_count": 8,
   "metadata": {},
   "outputs": [],
   "source": [
    "# plot the payment by gender"
   ]
  },
  {
   "cell_type": "code",
   "execution_count": 9,
   "metadata": {},
   "outputs": [
    {
     "data": {
      "image/png": "[encoded data removed]",
      "text/plain": [
       "<Figure size 576x360 with 1 Axes>"
      ]
     },
     "metadata": {
      "needs_background": "light"
     },
     "output_type": "display_data"
    }
   ],
   "source": [
    "plt.figure(figsize=(8, 5))\n",
    "sns.distplot(admin_payment_m, label=\"Male\", bins=20)\n",
    "sns.distplot(admin_payment_f, label=\"Female\", bins=20)\n",
    "plt.legend()\n",
    "plt.show()"
   ]
  },
  {
   "cell_type": "markdown",
   "metadata": {},
   "source": [
    "# Test the payment means by gender using bootstrap sampling to get a normal distribution of mean payments\n",
    "\n",
    "## What are the assumptions\n",
    "* Both samples are normal\n",
    "* Both samples are independent\n",
    "* Standard deviation is the same\n",
    "    * we don't need this to be true \n",
    "* Data is continuous\n",
    "\n",
    "H0: mu_M = mu_F\n",
    "\n",
    "HA: mu_M != mu_F\n",
    "\n",
    "# What ttest could I use? \n",
    "* student ttest (2 sample ind ttest)\n",
    "    * normality, equal variance\n",
    "* Welch's ttest (2 sample ind ttest)\n",
    "    * normality, unequal variance"
   ]
  },
  {
   "cell_type": "code",
   "execution_count": 10,
   "metadata": {},
   "outputs": [
    {
     "name": "stdout",
     "output_type": "stream",
     "text": [
      "5.765710465363323e-19\n"
     ]
    }
   ],
   "source": [
    "# test for normality\n",
    "# H0: data is normal\n",
    "# HA: data is not normal\n",
    "\n",
    "t, p = scs.shapiro(admin_payment_m)\n",
    "print(p)\n",
    "\n",
    "# p is basically 0 which means we reject the null that the data is Normal"
   ]
  },
  {
   "cell_type": "code",
   "execution_count": 11,
   "metadata": {},
   "outputs": [],
   "source": [
    "# we use the CLT to create a normal distribution of sample means\n",
    "sample_mus_payments_m = generate_sample_mus(admin_payment_m)\n",
    "sample_mus_payments_f = generate_sample_mus(admin_payment_f)"
   ]
  },
  {
   "cell_type": "code",
   "execution_count": 12,
   "metadata": {},
   "outputs": [
    {
     "name": "stdout",
     "output_type": "stream",
     "text": [
      "fail to reject the null\n",
      "reject the null\n"
     ]
    },
    {
     "data": {
      "text/plain": [
       "(True, False)"
      ]
     },
     "execution_count": 12,
     "metadata": {},
     "output_type": "execute_result"
    }
   ],
   "source": [
    "test_for_normality(sample_mus_payments_m), test_for_normality(sample_mus_payments_f)"
   ]
  },
  {
   "cell_type": "code",
   "execution_count": 13,
   "metadata": {},
   "outputs": [
    {
     "data": {
      "text/plain": [
       "3.9875599558345986e-32"
      ]
     },
     "execution_count": 13,
     "metadata": {},
     "output_type": "execute_result"
    }
   ],
   "source": [
    "# run our 2sample_ind_ttest\n",
    "# H0: mu_M  = mu_F \n",
    "# HA: mu_M != mu_F\n",
    "t, p = scs.ttest_ind(sample_mus_payments_m, sample_mus_payments_f, equal_var=False)\n",
    "p\n",
    "# reject the null that the means are the same"
   ]
  },
  {
   "cell_type": "code",
   "execution_count": 14,
   "metadata": {},
   "outputs": [
    {
     "data": {
      "image/png": "[encoded data removed]",
      "text/plain": [
       "<Figure size 576x360 with 1 Axes>"
      ]
     },
     "metadata": {
      "needs_background": "light"
     },
     "output_type": "display_data"
    }
   ],
   "source": [
    "plt.figure(figsize=(8, 5))\n",
    "sns.distplot(sample_mus_payments_m, label=\"Male\", bins=20)\n",
    "sns.distplot(sample_mus_payments_f, label=\"Female\", bins=20)\n",
    "plt.legend()\n",
    "plt.show()"
   ]
  },
  {
   "cell_type": "markdown",
   "metadata": {},
   "source": [
    "# what are you conclusions? \n",
    "The mean of the sampling distribution of males in this office is different than the mean of the sampling distribution of females. "
   ]
  },
  {
   "cell_type": "markdown",
   "metadata": {},
   "source": [
    "# What is the purpose of a Power Test? \n",
    "* Ttest - measures: are these different/less/greater, etc\n",
    "* Power - measures: the probability of correctly rejecting the null given a sample of data, how different"
   ]
  },
  {
   "cell_type": "code",
   "execution_count": 15,
   "metadata": {},
   "outputs": [
    {
     "data": {
      "text/plain": [
       "6.517392988108209"
      ]
     },
     "execution_count": 15,
     "metadata": {},
     "output_type": "execute_result"
    }
   ],
   "source": [
    "effect_size = cohens_d(sample_mus_payments_m, sample_mus_payments_f)\n",
    "effect_size"
   ]
  },
  {
   "cell_type": "code",
   "execution_count": 17,
   "metadata": {},
   "outputs": [
    {
     "data": {
      "text/plain": [
       "1.0"
      ]
     },
     "execution_count": 17,
     "metadata": {},
     "output_type": "execute_result"
    }
   ],
   "source": [
    "power = tt_ind_solve_power(effect_size=effect_size,\n",
    "                           nobs1=len(sample_mus_payments_m),\n",
    "                           alpha=0.05)\n",
    "power"
   ]
  },
  {
   "cell_type": "markdown",
   "metadata": {},
   "source": [
    "# Power Analysis\n",
    "Our power value is 1.0. This means that if given a sample mean we can with almost 100% certainty identify which gender the sample was taken from (males or females)."
   ]
  },
  {
   "cell_type": "code",
   "execution_count": 18,
   "metadata": {},
   "outputs": [
    {
     "data": {
      "text/html": [
       "<div>\n",
       "<style scoped>\n",
       "    .dataframe tbody tr th:only-of-type {\n",
       "        vertical-align: middle;\n",
       "    }\n",
       "\n",
       "    .dataframe tbody tr th {\n",
       "        vertical-align: top;\n",
       "    }\n",
       "\n",
       "    .dataframe thead th {\n",
       "        text-align: right;\n",
       "    }\n",
       "</style>\n",
       "<table border=\"1\" class=\"dataframe\">\n",
       "  <thead>\n",
       "    <tr style=\"text-align: right;\">\n",
       "      <th></th>\n",
       "      <th>Unique ID</th>\n",
       "      <th>Last Name</th>\n",
       "      <th>First Name</th>\n",
       "      <th>Middle 1</th>\n",
       "      <th>Middle 2</th>\n",
       "      <th>Middle 3</th>\n",
       "      <th>Full Name</th>\n",
       "      <th>Title</th>\n",
       "      <th>Keyword</th>\n",
       "      <th>Text Cluster</th>\n",
       "      <th>Payment</th>\n",
       "      <th>FULL or Partial</th>\n",
       "      <th>Gender</th>\n",
       "      <th>Office</th>\n",
       "      <th>Type (office, committee, political staff)</th>\n",
       "      <th>Party</th>\n",
       "      <th>Administrative or Political</th>\n",
       "      <th>director_chief</th>\n",
       "    </tr>\n",
       "  </thead>\n",
       "  <tbody>\n",
       "    <tr>\n",
       "      <th>0</th>\n",
       "      <td>BLACKBARRYCHAPLAIN</td>\n",
       "      <td>BLACK</td>\n",
       "      <td>BARRY</td>\n",
       "      <td>C</td>\n",
       "      <td>NaN</td>\n",
       "      <td>NaN</td>\n",
       "      <td>BARRY BLACK</td>\n",
       "      <td>CHAPLAIN</td>\n",
       "      <td>CHAPLAIN</td>\n",
       "      <td>NaN</td>\n",
       "      <td>80393.40</td>\n",
       "      <td>Full</td>\n",
       "      <td>M</td>\n",
       "      <td>CHAPLIAIN'S OFFICE</td>\n",
       "      <td>Office</td>\n",
       "      <td>Non-partisan</td>\n",
       "      <td>Administrative</td>\n",
       "      <td>False</td>\n",
       "    </tr>\n",
       "    <tr>\n",
       "      <th>1</th>\n",
       "      <td>BOGOSLAVSKIJODYDIRECTOROFCOMMUNICATIONS</td>\n",
       "      <td>BOGOSLAVSKI</td>\n",
       "      <td>JODY</td>\n",
       "      <td>M</td>\n",
       "      <td>NaN</td>\n",
       "      <td>NaN</td>\n",
       "      <td>JODY BOGOSLAVSKI</td>\n",
       "      <td>DIRECTOR OF COMMUNICATIONS</td>\n",
       "      <td>DIRECTOR,OF,COMMUNICATIONS</td>\n",
       "      <td>NaN</td>\n",
       "      <td>46999.92</td>\n",
       "      <td>FULL</td>\n",
       "      <td>A</td>\n",
       "      <td>CHAPLIAIN'S OFFICE</td>\n",
       "      <td>Office</td>\n",
       "      <td>Non-partisan</td>\n",
       "      <td>Administrative</td>\n",
       "      <td>True</td>\n",
       "    </tr>\n",
       "    <tr>\n",
       "      <th>2</th>\n",
       "      <td>SCHULTZLISACHIEFOFSTAFF</td>\n",
       "      <td>SCHULTZ</td>\n",
       "      <td>LISA</td>\n",
       "      <td>W</td>\n",
       "      <td>NaN</td>\n",
       "      <td>NaN</td>\n",
       "      <td>LISA SCHULTZ</td>\n",
       "      <td>CHIEF OF STAFF</td>\n",
       "      <td>CHIEF,OF,STAFF</td>\n",
       "      <td>NaN</td>\n",
       "      <td>61500.00</td>\n",
       "      <td>FULL</td>\n",
       "      <td>F</td>\n",
       "      <td>CHAPLIAIN'S OFFICE</td>\n",
       "      <td>Office</td>\n",
       "      <td>Non-partisan</td>\n",
       "      <td>Administrative</td>\n",
       "      <td>True</td>\n",
       "    </tr>\n",
       "    <tr>\n",
       "      <th>3</th>\n",
       "      <td>CHAPUISSUZANNEEXECUTIVEASSISTANT</td>\n",
       "      <td>CHAPUIS</td>\n",
       "      <td>SUZANNE</td>\n",
       "      <td>M</td>\n",
       "      <td>NaN</td>\n",
       "      <td>NaN</td>\n",
       "      <td>SUZANNE CHAPUIS</td>\n",
       "      <td>EXECUTIVE ASSISTANT</td>\n",
       "      <td>EXECUTIVE,ASSISTANT</td>\n",
       "      <td>NaN</td>\n",
       "      <td>42000.00</td>\n",
       "      <td>FULL</td>\n",
       "      <td>F</td>\n",
       "      <td>CHAPLIAIN'S OFFICE</td>\n",
       "      <td>Office</td>\n",
       "      <td>Non-partisan</td>\n",
       "      <td>Administrative</td>\n",
       "      <td>False</td>\n",
       "    </tr>\n",
       "    <tr>\n",
       "      <th>4</th>\n",
       "      <td>DEMPSEYERICAPROFESSIONALSTAFFTOMAY.8</td>\n",
       "      <td>DEMPSEY</td>\n",
       "      <td>ERICA</td>\n",
       "      <td>J</td>\n",
       "      <td>NaN</td>\n",
       "      <td>NaN</td>\n",
       "      <td>ERICA DEMPSEY</td>\n",
       "      <td>PROFESSIONAL STAFF TO MAY. 8</td>\n",
       "      <td>PROFESSIONAL,STAFF,TO,MAY.,8</td>\n",
       "      <td>NaN</td>\n",
       "      <td>6003.77</td>\n",
       "      <td>PARTIAL</td>\n",
       "      <td>F</td>\n",
       "      <td>COMMITTEE ON APPROPRIATIONS</td>\n",
       "      <td>Office</td>\n",
       "      <td>Non-partisan</td>\n",
       "      <td>Administrative</td>\n",
       "      <td>False</td>\n",
       "    </tr>\n",
       "  </tbody>\n",
       "</table>\n",
       "</div>"
      ],
      "text/plain": [
       "                                 Unique ID  ... director_chief\n",
       "0                       BLACKBARRYCHAPLAIN  ...          False\n",
       "1  BOGOSLAVSKIJODYDIRECTOROFCOMMUNICATIONS  ...           True\n",
       "2                  SCHULTZLISACHIEFOFSTAFF  ...           True\n",
       "3         CHAPUISSUZANNEEXECUTIVEASSISTANT  ...          False\n",
       "4     DEMPSEYERICAPROFESSIONALSTAFFTOMAY.8  ...          False\n",
       "\n",
       "[5 rows x 18 columns]"
      ]
     },
     "execution_count": 18,
     "metadata": {},
     "output_type": "execute_result"
    }
   ],
   "source": [
    "admin_df['director_chief'] = admin_df['Title'].apply(lambda string: (\"director\" in string.lower()) or (\"chief\" in string.lower()))\n",
    "admin_df.head()"
   ]
  },
  {
   "cell_type": "code",
   "execution_count": 10,
   "metadata": {},
   "outputs": [],
   "source": [
    "# now lets take into account titles, anything we can do with titles? "
   ]
  },
  {
   "cell_type": "code",
   "execution_count": 11,
   "metadata": {},
   "outputs": [],
   "source": [
    "# lets do some feature engineering on titles. add a column called director_chief if the title includes the word director this column should have a value of 1 and a 0 otherwise "
   ]
  },
  {
   "cell_type": "code",
   "execution_count": 12,
   "metadata": {},
   "outputs": [],
   "source": [
    "# perform a hypothesis test on director payments"
   ]
  },
  {
   "cell_type": "code",
   "execution_count": null,
   "metadata": {},
   "outputs": [],
   "source": []
  }
 ],
 "metadata": {
  "kernelspec": {
   "display_name": "flatiron-env",
   "language": "python",
   "name": "flatiron-env"
  },
  "language_info": {
   "codemirror_mode": {
    "name": "ipython",
    "version": 3
   },
   "file_extension": ".py",
   "mimetype": "text/x-python",
   "name": "python",
   "nbconvert_exporter": "python",
   "pygments_lexer": "ipython3",
   "version": "3.7.3"
  }
 },
 "nbformat": 4,
 "nbformat_minor": 2
}
