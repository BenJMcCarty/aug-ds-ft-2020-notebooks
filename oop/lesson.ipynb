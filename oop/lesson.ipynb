{
 "cells": [
  {
   "cell_type": "markdown",
   "metadata": {},
   "source": [
    "# Objectives\n",
    "YWBAT\n",
    "* build a class in python\n",
    "* give that class attributes and methods\n",
    "* use that class \n",
    "\n",
    "\n",
    "# Outline\n",
    "* Make a class\n",
    "* How Classes\n",
    "* Give that class attributes\n",
    "* Give that class methods\n",
    "* cover the `__init__` method \n",
    "\n",
    "\n",
    "In Python, everything is an object"
   ]
  },
  {
   "cell_type": "code",
   "execution_count": null,
   "metadata": {},
   "outputs": [],
   "source": [
    "# class called student\n",
    "\n",
    "class Student():\n",
    "    \n",
    "    \n",
    "    name = None\n",
    "    age = None\n",
    "    city = None\n",
    "    \n",
    "    \n",
    "    def hello_world(self):\n",
    "        print(\"Hello World\")\n",
    "        print(f\"My name is {self.name} and I am {self.age} years old\")\n",
    "        return None\n",
    "    \n",
    "    \n",
    "    def goodbye_cruel_world(self):\n",
    "        print(\"toodles!!!\")\n",
    "        return None"
   ]
  },
  {
   "cell_type": "code",
   "execution_count": null,
   "metadata": {},
   "outputs": [],
   "source": [
    "student = Student() # student is a Student object"
   ]
  },
  {
   "cell_type": "code",
   "execution_count": null,
   "metadata": {},
   "outputs": [],
   "source": [
    "student.hello_world()"
   ]
  },
  {
   "cell_type": "code",
   "execution_count": null,
   "metadata": {},
   "outputs": [],
   "source": [
    "student.name = \"rafa\"\n",
    "student.age = 33\n",
    "student.city = \"irving\""
   ]
  },
  {
   "cell_type": "code",
   "execution_count": null,
   "metadata": {},
   "outputs": [],
   "source": [
    "vars(student)"
   ]
  },
  {
   "cell_type": "code",
   "execution_count": null,
   "metadata": {},
   "outputs": [],
   "source": [
    "student.hello_world()"
   ]
  },
  {
   "cell_type": "code",
   "execution_count": null,
   "metadata": {},
   "outputs": [],
   "source": [
    "student.goodbye_cruel_world()"
   ]
  },
  {
   "cell_type": "markdown",
   "metadata": {},
   "source": [
    "# How to use the __init__ method\n",
    "* __init__ is a keyword that python recognizes\n",
    "    * when you create a class object it automatically runs __init__"
   ]
  },
  {
   "cell_type": "code",
   "execution_count": null,
   "metadata": {},
   "outputs": [],
   "source": [
    "# class called student\n",
    "\n",
    "class Student():\n",
    "    \n",
    "    def __init__(self, name=None, age=None, city=None):\n",
    "        self.name = name\n",
    "        self.age = age\n",
    "        self.city = city\n",
    "        self.greeting = f\"My name is {self.name} and I am {self.age} years old\"\n",
    "        self.hello_world()\n",
    "    \n",
    "    \n",
    "    def hello_world(self):\n",
    "        print(\"Hello World\")\n",
    "        print(self.greeting)\n",
    "        return None\n",
    "    \n",
    "    \n",
    "    @staticmethod\n",
    "    def goodbye_cruel_world():\n",
    "        print(\"toodles!!!\")\n",
    "        return None"
   ]
  },
  {
   "cell_type": "code",
   "execution_count": null,
   "metadata": {},
   "outputs": [],
   "source": [
    "student = Student(name=\"rafa\", age=33, city=\"irving\")\n",
    "student.name"
   ]
  },
  {
   "cell_type": "code",
   "execution_count": null,
   "metadata": {},
   "outputs": [],
   "source": [
    "student.goodbye_cruel_world()"
   ]
  },
  {
   "cell_type": "markdown",
   "metadata": {},
   "source": [
    "# Dry vs Wet Code\n",
    "* Do Not repeat Yourself"
   ]
  },
  {
   "cell_type": "code",
   "execution_count": null,
   "metadata": {},
   "outputs": [],
   "source": [
    "import sqlite3"
   ]
  },
  {
   "cell_type": "code",
   "execution_count": null,
   "metadata": {},
   "outputs": [],
   "source": [
    "class MyDatabase():\n",
    "    \n",
    "    def __init__(self, filepath):\n",
    "        self.conn = sqlite3.Connection(filepath)\n",
    "        self.cursor = self.conn.cursor()\n",
    "        \n",
    "        \n",
    "    def list_tables(self):\n",
    "        query = \"select name from sqlite_master where type='table'\"\n",
    "        res = self.conn.execute(query).fetchall()\n",
    "        table_names = [r[0] for r in res]\n",
    "        return table_names"
   ]
  },
  {
   "cell_type": "code",
   "execution_count": null,
   "metadata": {},
   "outputs": [],
   "source": [
    "myDB = MyDatabase(filepath=\"../topic07/data/data.sqlite\")"
   ]
  },
  {
   "cell_type": "code",
   "execution_count": null,
   "metadata": {},
   "outputs": [],
   "source": [
    "myDB.list_tables()"
   ]
  },
  {
   "cell_type": "code",
   "execution_count": null,
   "metadata": {},
   "outputs": [],
   "source": [
    "import numpy as np"
   ]
  },
  {
   "cell_type": "code",
   "execution_count": null,
   "metadata": {},
   "outputs": [],
   "source": [
    "# let's talk about the array class\n",
    "\n",
    "arr = np.array([[1, 2, 3], [2, 3, 5]])"
   ]
  },
  {
   "cell_type": "code",
   "execution_count": null,
   "metadata": {},
   "outputs": [],
   "source": [
    "# what are some of the methods of an array \n",
    "# how do we know this is a method, because it needs parentheses\n",
    "# methods are verbs, executed by ()\n",
    "arr.max()"
   ]
  },
  {
   "cell_type": "code",
   "execution_count": null,
   "metadata": {},
   "outputs": [],
   "source": [
    "# what is an attribute of a numpy array \n",
    "# attributes don't require parentheses\n",
    "# \n",
    "arr.shape, arr.size"
   ]
  },
  {
   "cell_type": "code",
   "execution_count": null,
   "metadata": {},
   "outputs": [],
   "source": [
    "arr.flatten()"
   ]
  },
  {
   "cell_type": "code",
   "execution_count": null,
   "metadata": {},
   "outputs": [],
   "source": [
    "type(arr)"
   ]
  },
  {
   "cell_type": "code",
   "execution_count": 2,
   "metadata": {},
   "outputs": [],
   "source": [
    "# from folder.file import Class\n",
    "from student.student import Student"
   ]
  },
  {
   "cell_type": "code",
   "execution_count": 3,
   "metadata": {},
   "outputs": [
    {
     "name": "stdout",
     "output_type": "stream",
     "text": [
      "Hello World\n",
      "My name is rafa and I am None years old\n"
     ]
    },
    {
     "data": {
      "text/plain": [
       "{'name': 'rafa',\n",
       " 'age': None,\n",
       " 'city': None,\n",
       " 'greeting': 'My name is rafa and I am None years old'}"
      ]
     },
     "execution_count": 3,
     "metadata": {},
     "output_type": "execute_result"
    }
   ],
   "source": [
    "student = Student(name=\"rafa\")\n",
    "vars(student)"
   ]
  },
  {
   "cell_type": "markdown",
   "metadata": {},
   "source": [
    "# What did we learn today? \n",
    "* how to make a class in python\n",
    "* staticmethods\n",
    "* vars - built in python function\n",
    "* decorators\n",
    "* when to use a class\n",
    "* the beauty of self\n",
    "* __init__ method\n",
    "* basically everything"
   ]
  },
  {
   "cell_type": "code",
   "execution_count": null,
   "metadata": {},
   "outputs": [],
   "source": []
  }
 ],
 "metadata": {
  "kernelspec": {
   "display_name": "Python [conda env:flatiron-env] *",
   "language": "python",
   "name": "conda-env-flatiron-env-py"
  },
  "language_info": {
   "codemirror_mode": {
    "name": "ipython",
    "version": 3
   },
   "file_extension": ".py",
   "mimetype": "text/x-python",
   "name": "python",
   "nbconvert_exporter": "python",
   "pygments_lexer": "ipython3",
   "version": "3.6.10"
  }
 },
 "nbformat": 4,
 "nbformat_minor": 4
}
