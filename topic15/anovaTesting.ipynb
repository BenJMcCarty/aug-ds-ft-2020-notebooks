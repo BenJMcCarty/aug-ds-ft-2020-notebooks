{
 "cells": [
  {
   "cell_type": "markdown",
   "metadata": {},
   "source": [
    "# What is ANOVA testing? \n",
    "* testing multiple features\n",
    "* testing for a difference in means between mutliple groups \n",
    "* testing for differences in multiple groups\n",
    "* measure pvalues on tests on multiple features \n",
    "* limiting problems with multiple tests \n",
    "\n",
    "H0: all means are equal\n",
    "\n",
    "HA: at least one mean is different\n",
    "\n",
    "Limited, insofar as it doesn't say which group is different. \n",
    "\n",
    "Tukey Testing will do pairwise testing across all the groups\n",
    "\n",
    "# Objectives\n",
    "YWBAT\n",
    "* apply anova testing for various groups on a dataset\n",
    "* apply tukey testing for various groups on a dataset \n",
    "* use plotly to plot multiple distributions at one time\n",
    "\n",
    "\n",
    "# Outline\n",
    "* load in data\n",
    "* plot distributions using plotly\n",
    "* conduct anova test\n",
    "* conduct tukey test"
   ]
  },
  {
   "cell_type": "code",
   "execution_count": null,
   "metadata": {},
   "outputs": [],
   "source": [
    "import warnings\n",
    "warnings.filterwarnings('ignore')\n",
    "import numpy as np \n",
    "import pandas as pd\n",
    "\n",
    "import scipy.stats as scs\n",
    "import statsmodels.api as sm\n",
    "from statsmodels.formula.api import ols\n",
    "\n",
    "\n",
    "from statsmodels.stats.multicomp import pairwise_tukeyhsd, MultiComparison\n",
    "\n",
    "import matplotlib.pyplot as plt\n",
    "import seaborn as sns\n",
    "import plotly.express as px \n",
    "import plotly.figure_factory as ff\n",
    "#^^^ if this throws an error run the code in the cell below\n",
    "# let it finish\n",
    "# then rerun this cell when it is finished"
   ]
  },
  {
   "cell_type": "code",
   "execution_count": null,
   "metadata": {},
   "outputs": [],
   "source": [
    "# import sys\n",
    "# !conda install --yes --prefix {sys.prefix} plotly"
   ]
  },
  {
   "cell_type": "code",
   "execution_count": null,
   "metadata": {},
   "outputs": [],
   "source": [
    "# load in data from the gzip file\n",
    "df = pd.read_csv(\"../data/BNG_autoData.csv.gz\")\n",
    "df.head()"
   ]
  },
  {
   "cell_type": "code",
   "execution_count": null,
   "metadata": {},
   "outputs": [],
   "source": [
    "df.columns"
   ]
  },
  {
   "cell_type": "code",
   "execution_count": null,
   "metadata": {
    "scrolled": false
   },
   "outputs": [],
   "source": [
    "# plot the distributions of horsepower colored by num-of-doors\n",
    "fig = px.histogram(df, \n",
    "                   x=\"horsepower\", \n",
    "                   color=\"num-of-doors\", \n",
    "                   opacity=0.5,\n",
    "                   hover_data=['fuel-system', 'bore'])\n",
    "fig.show()"
   ]
  },
  {
   "cell_type": "code",
   "execution_count": null,
   "metadata": {},
   "outputs": [],
   "source": [
    "num_samples = 100\n",
    "group_labels = ['two', 'four']\n",
    "two_door_horsepower = df.loc[df['num-of-doors']=='two', 'horsepower'].sample(n=num_samples)\n",
    "four_door_horsepower = df.loc[df['num-of-doors']=='four', 'horsepower'].sample(n=num_samples)\n"
   ]
  },
  {
   "cell_type": "code",
   "execution_count": null,
   "metadata": {},
   "outputs": [],
   "source": [
    "hist_data = [two_door_horsepower, four_door_horsepower]\n",
    "\n",
    "fig = ff.create_distplot(hist_data, group_labels)\n",
    "fig.show()"
   ]
  },
  {
   "cell_type": "code",
   "execution_count": null,
   "metadata": {},
   "outputs": [],
   "source": [
    "# repeat this with coloring by fuel-type\n",
    "fig = px.histogram(df, \n",
    "                   x=\"horsepower\", \n",
    "                   color=\"fuel-type\", \n",
    "                   opacity=0.5,\n",
    "                   hover_data=['fuel-system', 'bore'])\n",
    "fig.show()"
   ]
  },
  {
   "cell_type": "code",
   "execution_count": null,
   "metadata": {},
   "outputs": [],
   "source": [
    "# repeat for body-style\n",
    "fig = px.histogram(df, \n",
    "                   x=\"horsepower\", \n",
    "                   color=\"body-style\", \n",
    "                   opacity=0.5,\n",
    "                   hover_data=['fuel-system', 'bore'])\n",
    "fig.show()"
   ]
  },
  {
   "cell_type": "code",
   "execution_count": null,
   "metadata": {},
   "outputs": [],
   "source": [
    "df['body-style'].unique()"
   ]
  },
  {
   "cell_type": "code",
   "execution_count": null,
   "metadata": {},
   "outputs": [],
   "source": [
    "# conduct a one way anova test with horsepower by body-style\n",
    "# make sure you're writing the H0 and HA\n",
    "\n",
    "# H0: means are all equal\n",
    "# HA: at least one mean is different\n",
    "hatchback_hp = df.loc[df['body-style']=='hatchback', 'horsepower']\n",
    "sedan_hp = df.loc[df['body-style']=='sedan', 'horsepower']\n",
    "wagon_hp = df.loc[df['body-style']=='wagon', 'horsepower']\n",
    "hardtop_hp = df.loc[df['body-style']=='hardtop', 'horsepower']\n",
    "convertible_hp = df.loc[df['body-style']=='convertible', 'horsepower']\n",
    "\n",
    "\n",
    "scs.f_oneway(hatchback_hp, sedan_hp, wagon_hp, hardtop_hp, convertible_hp)\n",
    "# p is close to zero implies that at least one of these is different"
   ]
  },
  {
   "cell_type": "markdown",
   "metadata": {},
   "source": [
    "# What are your conclusions?  \n",
    "We know that there is a difference of means in horsepower across body-styles.  Now to investigate particular differences in body styles. "
   ]
  },
  {
   "cell_type": "markdown",
   "metadata": {},
   "source": [
    "## Tukey Testing on body-style"
   ]
  },
  {
   "cell_type": "code",
   "execution_count": null,
   "metadata": {},
   "outputs": [],
   "source": [
    "multicompare_body_style = MultiComparison(df['horsepower'], df['body-style'])"
   ]
  },
  {
   "cell_type": "code",
   "execution_count": null,
   "metadata": {},
   "outputs": [],
   "source": [
    "tukey_hsd = multicompare_body_style.tukeyhsd(alpha=.05)"
   ]
  },
  {
   "cell_type": "code",
   "execution_count": null,
   "metadata": {},
   "outputs": [],
   "source": [
    "simple_table = tukey_hsd.summary()\n",
    "simple_table"
   ]
  },
  {
   "cell_type": "markdown",
   "metadata": {},
   "source": [
    "## Tukey Analysis Conclusion\n",
    "The only groups where the null hypothesis (means are equal) was failed to be rejected were comparing **convertible to hatchback** and **hardtop to wagon**.  All of the other groups under pairwise comparisons, yielded a **similar mean horsepower** using the Tukey test. "
   ]
  },
  {
   "cell_type": "code",
   "execution_count": null,
   "metadata": {},
   "outputs": [],
   "source": [
    "# Repeat this for fuel-type"
   ]
  },
  {
   "cell_type": "code",
   "execution_count": null,
   "metadata": {},
   "outputs": [],
   "source": [
    "# Conduct Tukey test for horsepower by body-style"
   ]
  },
  {
   "cell_type": "code",
   "execution_count": null,
   "metadata": {},
   "outputs": [],
   "source": [
    "# What are your conclusions"
   ]
  },
  {
   "cell_type": "markdown",
   "metadata": {},
   "source": [
    "# what did we learn? \n",
    "* could it be that student ttest is preferred when sample sizes are small...yes. \n",
    "* chaining the `.sample()` method to a dataframe/series to get a sample of data\n",
    "* play with plotly some more \n",
    "* hot hand fallacy\n",
    "* tukey testing for multicomparison \n",
    "* method for tukey testing\n",
    "* Use a tukey test when the anova indicates differences in means and Bonferroni correction\n",
    "* organizing data for a tukey test\n",
    "* using scipy.stats for a oneway anova"
   ]
  },
  {
   "cell_type": "code",
   "execution_count": null,
   "metadata": {},
   "outputs": [],
   "source": []
  }
 ],
 "metadata": {
  "kernelspec": {
   "display_name": "flatiron-env",
   "language": "python",
   "name": "flatiron-env"
  },
  "language_info": {
   "codemirror_mode": {
    "name": "ipython",
    "version": 3
   },
   "file_extension": ".py",
   "mimetype": "text/x-python",
   "name": "python",
   "nbconvert_exporter": "python",
   "pygments_lexer": "ipython3",
   "version": "3.7.3"
  }
 },
 "nbformat": 4,
 "nbformat_minor": 2
}
