{
 "cells": [
  {
   "cell_type": "markdown",
   "metadata": {},
   "source": [
    "# Questions\n",
    "* what is the difference between lists and dictionaries\n",
    "* docstrings\n",
    "* iterating over a dictionary\n",
    "* talk about how to send notebooks to someone else for feedback using jupyter hub\n",
    "* for loops\n",
    "* git fatal...is it actually fatal?\n",
    "* how to keep jupyter running but add repos and continue working\n",
    "* how to save git credentials permanently \n",
    "* how to get spell check in jupyter"
   ]
  },
  {
   "cell_type": "markdown",
   "metadata": {},
   "source": [
    "# Let's begin\n",
    "\n",
    "let's make a list of students and put them in pandas dataframe by the end of this study group"
   ]
  },
  {
   "cell_type": "code",
   "execution_count": 2,
   "metadata": {},
   "outputs": [
    {
     "data": {
      "text/plain": [
       "{'fName': 'rafa', 'lName': 'carrasco', 'timezone': 'cst'}"
      ]
     },
     "execution_count": 2,
     "metadata": {},
     "output_type": "execute_result"
    }
   ],
   "source": [
    "# each student needs to have a dictionary of information\n",
    "# fName, lName, timezone\n",
    "\n",
    "student1 = {\"fName\": \"rafa\", \"lName\": \"carrasco\", \"timezone\": \"cst\"}\n",
    "student1\n",
    "\n",
    "# this takes way too long if we're doing 10 students"
   ]
  },
  {
   "cell_type": "code",
   "execution_count": 19,
   "metadata": {},
   "outputs": [],
   "source": [
    "fnames = [\"juico\", \"rafa\", \"kristen\", \"andrew\", \"gabby\", \"wolfgang\", \"seth\", \"tia\", \"anna\", \"george\"]"
   ]
  },
  {
   "cell_type": "code",
   "execution_count": 20,
   "metadata": {},
   "outputs": [
    {
     "data": {
      "text/plain": [
       "('gabby', 'seth', 'gabby')"
      ]
     },
     "execution_count": 20,
     "metadata": {},
     "output_type": "execute_result"
    }
   ],
   "source": [
    "# how do we get specific elements from the list\n",
    "# indexing our list \n",
    "fnames[4], fnames[6], fnames[-6]"
   ]
  },
  {
   "cell_type": "code",
   "execution_count": 21,
   "metadata": {},
   "outputs": [
    {
     "data": {
      "text/plain": [
       "10"
      ]
     },
     "execution_count": 21,
     "metadata": {},
     "output_type": "execute_result"
    }
   ],
   "source": [
    "len(fnames)"
   ]
  },
  {
   "cell_type": "code",
   "execution_count": 22,
   "metadata": {},
   "outputs": [
    {
     "data": {
      "text/plain": [
       "'george'"
      ]
     },
     "execution_count": 22,
     "metadata": {},
     "output_type": "execute_result"
    }
   ],
   "source": [
    "# to get the last element\n",
    "fnames[len(fnames)-1]"
   ]
  },
  {
   "cell_type": "code",
   "execution_count": 23,
   "metadata": {},
   "outputs": [
    {
     "data": {
      "text/plain": [
       "['juico_student',\n",
       " 'rafa_student',\n",
       " 'kristen_student',\n",
       " 'andrew_student',\n",
       " 'gabby_student',\n",
       " 'wolfgang_student',\n",
       " 'seth_student',\n",
       " 'tia_student',\n",
       " 'anna_student',\n",
       " 'george_student']"
      ]
     },
     "execution_count": 23,
     "metadata": {},
     "output_type": "execute_result"
    }
   ],
   "source": [
    "# for each name I want to add _student to the end of it\n",
    "for index, fname in enumerate(fnames):\n",
    "    fname += \"_student\"\n",
    "    fnames[index] = fname\n",
    "fnames"
   ]
  },
  {
   "cell_type": "code",
   "execution_count": 24,
   "metadata": {},
   "outputs": [],
   "source": [
    "fnames = [\"juico\", \"rafa\", \"kristen\", \"andrew\", \"gabby\", \"wolfgang\", \"seth\", \"tia\", \"anna\", \"george\"]"
   ]
  },
  {
   "cell_type": "code",
   "execution_count": 26,
   "metadata": {},
   "outputs": [
    {
     "data": {
      "text/plain": [
       "['juico_student',\n",
       " 'rafa_student',\n",
       " 'kristen_student',\n",
       " 'andrew_student',\n",
       " 'gabby_student',\n",
       " 'wolfgang_student',\n",
       " 'seth_student',\n",
       " 'tia_student',\n",
       " 'anna_student',\n",
       " 'george_student']"
      ]
     },
     "execution_count": 26,
     "metadata": {},
     "output_type": "execute_result"
    }
   ],
   "source": [
    "# inline for loop - very pythonic\n",
    "# list comprehension\n",
    "new_fnames = [fname+\"_student\" for fname in fnames]\n",
    "new_fnames"
   ]
  },
  {
   "cell_type": "code",
   "execution_count": 31,
   "metadata": {},
   "outputs": [
    {
     "data": {
      "text/plain": [
       "['bowley',\n",
       " 'carrasco',\n",
       " 'davis',\n",
       " 'moy',\n",
       " 'wallach',\n",
       " 'chart',\n",
       " 'plagata',\n",
       " \"d'angela\",\n",
       " 'paskalev',\n",
       " 'holley']"
      ]
     },
     "execution_count": 31,
     "metadata": {},
     "output_type": "execute_result"
    }
   ],
   "source": [
    "# let's make another list of last names\n",
    "lnames_string = \"bowley carrasco davis moy wallach chart plagata d'angela paskalev holley\"\n",
    "lnames = lnames_string.split(\" \")\n",
    "lnames"
   ]
  },
  {
   "cell_type": "code",
   "execution_count": 38,
   "metadata": {},
   "outputs": [
    {
     "data": {
      "text/plain": [
       "['juico_bowley',\n",
       " 'rafa_carrasco',\n",
       " 'kristen_davis',\n",
       " 'andrew_moy',\n",
       " 'gabby_wallach',\n",
       " 'wolfgang_chart',\n",
       " 'seth_plagata',\n",
       " \"tia_d'angela\",\n",
       " 'anna_paskalev',\n",
       " 'george_holley']"
      ]
     },
     "execution_count": 38,
     "metadata": {},
     "output_type": "execute_result"
    }
   ],
   "source": [
    "# before adding these to a dictionary I want to make a list of complete names\n",
    "\n",
    "complete_names = [fname+\"_\"+lname for fname, lname in zip(fnames, lnames)]\n",
    "complete_names"
   ]
  },
  {
   "cell_type": "code",
   "execution_count": 40,
   "metadata": {},
   "outputs": [
    {
     "data": {
      "text/plain": [
       "{'juico': 'bowley',\n",
       " 'rafa': 'carrasco',\n",
       " 'kristen': 'davis',\n",
       " 'andrew': 'moy',\n",
       " 'gabby': 'wallach',\n",
       " 'wolfgang': 'chart',\n",
       " 'seth': 'plagata',\n",
       " 'tia': \"d'angela\",\n",
       " 'anna': 'paskalev',\n",
       " 'george': 'holley'}"
      ]
     },
     "execution_count": 40,
     "metadata": {},
     "output_type": "execute_result"
    }
   ],
   "source": [
    "dict(zip(fnames, lnames)) # dictionary k = fname, v = lname\n"
   ]
  },
  {
   "cell_type": "code",
   "execution_count": 46,
   "metadata": {},
   "outputs": [
    {
     "data": {
      "text/plain": [
       "[{'fname': 'juico', 'lname': 'bowley'},\n",
       " {'fname': 'rafa', 'lname': 'carrasco'},\n",
       " {'fname': 'kristen', 'lname': 'davis'},\n",
       " {'fname': 'andrew', 'lname': 'moy'},\n",
       " {'fname': 'gabby', 'lname': 'wallach'},\n",
       " {'fname': 'wolfgang', 'lname': 'chart'},\n",
       " {'fname': 'seth', 'lname': 'plagata'},\n",
       " {'fname': 'tia', 'lname': \"d'angela\"},\n",
       " {'fname': 'anna', 'lname': 'paskalev'},\n",
       " {'fname': 'george', 'lname': 'holley'}]"
      ]
     },
     "execution_count": 46,
     "metadata": {},
     "output_type": "execute_result"
    }
   ],
   "source": [
    "# let's make our list of students (each student is a dictionary)\n",
    "list_of_students = []\n",
    "\n",
    "\n",
    "# \n",
    "for fname, lname, cn in zip(fnames, lnames, complete_names): # (juico, bowley), ('rafa', 'carrasco')\n",
    "    d = {} # d = {}, \n",
    "    d['fname'] = fname # d = {'fname': 'juico'}\n",
    "    d['lname'] = lname # d = {'fname': 'juico', 'lname': 'bowley'}\n",
    "    list_of_students.append(d) # list_of_students=[{'fname': 'juico', 'lname': 'bowley'}]\n",
    "list_of_students"
   ]
  },
  {
   "cell_type": "code",
   "execution_count": 47,
   "metadata": {},
   "outputs": [],
   "source": [
    "# list of dictionaries is usually the best way to create data for data processing"
   ]
  },
  {
   "cell_type": "code",
   "execution_count": 48,
   "metadata": {},
   "outputs": [],
   "source": [
    "# fname, lname\n",
    "# 'juico', 'bowley'\n",
    "# 'rafa', 'carrasco'\n",
    "# 'kristen', 'davis'\n",
    "\n",
    "import pandas as pd"
   ]
  },
  {
   "cell_type": "code",
   "execution_count": 49,
   "metadata": {},
   "outputs": [],
   "source": [
    "df = pd.DataFrame(list_of_students)"
   ]
  },
  {
   "cell_type": "code",
   "execution_count": 50,
   "metadata": {},
   "outputs": [
    {
     "data": {
      "text/html": [
       "<div>\n",
       "<style scoped>\n",
       "    .dataframe tbody tr th:only-of-type {\n",
       "        vertical-align: middle;\n",
       "    }\n",
       "\n",
       "    .dataframe tbody tr th {\n",
       "        vertical-align: top;\n",
       "    }\n",
       "\n",
       "    .dataframe thead th {\n",
       "        text-align: right;\n",
       "    }\n",
       "</style>\n",
       "<table border=\"1\" class=\"dataframe\">\n",
       "  <thead>\n",
       "    <tr style=\"text-align: right;\">\n",
       "      <th></th>\n",
       "      <th>fname</th>\n",
       "      <th>lname</th>\n",
       "    </tr>\n",
       "  </thead>\n",
       "  <tbody>\n",
       "    <tr>\n",
       "      <th>0</th>\n",
       "      <td>juico</td>\n",
       "      <td>bowley</td>\n",
       "    </tr>\n",
       "    <tr>\n",
       "      <th>1</th>\n",
       "      <td>rafa</td>\n",
       "      <td>carrasco</td>\n",
       "    </tr>\n",
       "    <tr>\n",
       "      <th>2</th>\n",
       "      <td>kristen</td>\n",
       "      <td>davis</td>\n",
       "    </tr>\n",
       "    <tr>\n",
       "      <th>3</th>\n",
       "      <td>andrew</td>\n",
       "      <td>moy</td>\n",
       "    </tr>\n",
       "    <tr>\n",
       "      <th>4</th>\n",
       "      <td>gabby</td>\n",
       "      <td>wallach</td>\n",
       "    </tr>\n",
       "  </tbody>\n",
       "</table>\n",
       "</div>"
      ],
      "text/plain": [
       "     fname     lname\n",
       "0    juico    bowley\n",
       "1     rafa  carrasco\n",
       "2  kristen     davis\n",
       "3   andrew       moy\n",
       "4    gabby   wallach"
      ]
     },
     "execution_count": 50,
     "metadata": {},
     "output_type": "execute_result"
    }
   ],
   "source": [
    "df.head()"
   ]
  },
  {
   "cell_type": "code",
   "execution_count": 51,
   "metadata": {},
   "outputs": [],
   "source": [
    "df.to_csv(\"data/students.csv\", index=False)"
   ]
  },
  {
   "cell_type": "markdown",
   "metadata": {},
   "source": [
    "# What did you learn?\n",
    "* gained a better understanding of the zip function\n",
    "* how to convert a list of dictionaries into a csv using pandas \n",
    "* inline for loops\n",
    "* sublime text - great keybindings\n",
    "* how to use the .split() method for str type objects\n",
    "* modify elements of a list \n",
    "* nbextensions - pip install nbextensions\n",
    "* multi-cursor typing\n",
    "* tuples (too-plz)\n",
    "    * memory efficient...immutable\n",
    "    * mutable and immutable\n",
    "* pros of dictionaries\n",
    "    * look up items waaaay faster than in a list\n",
    "    * hashable"
   ]
  },
  {
   "cell_type": "code",
   "execution_count": 1,
   "metadata": {},
   "outputs": [],
   "source": [
    "import numpy as np\n",
    "import pandas as pd"
   ]
  },
  {
   "cell_type": "code",
   "execution_count": null,
   "metadata": {},
   "outputs": [],
   "source": [
    "import numpy as np\n",
    "import pandas as pd\n",
    "\n",
    ";pyviz"
   ]
  }
 ],
 "metadata": {
  "kernelspec": {
   "display_name": "Python [conda env:flatiron-env] *",
   "language": "python",
   "name": "conda-env-flatiron-env-py"
  },
  "language_info": {
   "codemirror_mode": {
    "name": "ipython",
    "version": 3
   },
   "file_extension": ".py",
   "mimetype": "text/x-python",
   "name": "python",
   "nbconvert_exporter": "python",
   "pygments_lexer": "ipython3",
   "version": "3.6.10"
  }
 },
 "nbformat": 4,
 "nbformat_minor": 4
}
