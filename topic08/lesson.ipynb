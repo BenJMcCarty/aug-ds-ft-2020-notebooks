{
 "cells": [
  {
   "cell_type": "markdown",
   "metadata": {},
   "source": [
    "# Questions\n",
    "* sql has a .fetchall() list(query)\n",
    "\n",
    "\n",
    "# Objectives\n",
    "YWBAT\n",
    "* write data to a mongodb \n",
    "* use a script to write data to mongodb\n",
    "* convert a mongodb query to a dataframe\n",
    "\n",
    "\n",
    "\n",
    "# Outline\n",
    "* talk about MongoDB \n",
    "    * what it is\n",
    "    * how to use it\n",
    "    * how to use it in shell\n",
    "    * how to use it in python \n",
    "* create a collection (table)\n",
    "* add documents (rows) to our collection (table)"
   ]
  },
  {
   "cell_type": "code",
   "execution_count": null,
   "metadata": {},
   "outputs": [],
   "source": [
    "from pymongo import MongoClient\n",
    "import json\n",
    "\n",
    "import pandas as pd\n",
    "import numpy as np\n",
    "\n",
    "from pprint import pprint"
   ]
  },
  {
   "cell_type": "code",
   "execution_count": null,
   "metadata": {},
   "outputs": [],
   "source": [
    "client = MongoClient(host='localhost', port=27017)"
   ]
  },
  {
   "cell_type": "code",
   "execution_count": null,
   "metadata": {},
   "outputs": [],
   "source": [
    "list(client.list_databases())"
   ]
  },
  {
   "cell_type": "code",
   "execution_count": null,
   "metadata": {},
   "outputs": [],
   "source": [
    "# how do we make a new collection in pymongo?\n",
    "\n",
    "new_db = client['new_db']"
   ]
  },
  {
   "cell_type": "code",
   "execution_count": null,
   "metadata": {},
   "outputs": [],
   "source": [
    "# running again\n",
    "\n",
    "list(client.list_databases())"
   ]
  },
  {
   "cell_type": "code",
   "execution_count": null,
   "metadata": {},
   "outputs": [],
   "source": [
    "new_collection = new_db['new_collection']"
   ]
  },
  {
   "cell_type": "code",
   "execution_count": null,
   "metadata": {},
   "outputs": [],
   "source": [
    "first_doc = {\"name\":\"rafa\", \"favoriteDrink\":\"redBullFTW\", \"favoriteShow\":\"Dare Devil\"}"
   ]
  },
  {
   "cell_type": "code",
   "execution_count": null,
   "metadata": {},
   "outputs": [],
   "source": [
    "new_collection.insert_one(first_doc)"
   ]
  },
  {
   "cell_type": "code",
   "execution_count": null,
   "metadata": {},
   "outputs": [],
   "source": [
    "# let me grab some tweets and add them to a tweet collection\n",
    "tweet_collection = new_db['tweets']"
   ]
  },
  {
   "cell_type": "code",
   "execution_count": null,
   "metadata": {},
   "outputs": [],
   "source": [
    "with open(\"\") as f:\n",
    "    d = json.load(f)"
   ]
  },
  {
   "cell_type": "code",
   "execution_count": null,
   "metadata": {},
   "outputs": [],
   "source": [
    "import tweepy "
   ]
  },
  {
   "cell_type": "code",
   "execution_count": null,
   "metadata": {},
   "outputs": [],
   "source": [
    "auth = tweepy.OAuthHandler(consumer_key=d['consumer_key'], consumer_secret=d['consumer_secret'])"
   ]
  },
  {
   "cell_type": "code",
   "execution_count": null,
   "metadata": {},
   "outputs": [],
   "source": [
    "api = tweepy.API(auth)"
   ]
  },
  {
   "cell_type": "code",
   "execution_count": null,
   "metadata": {
    "scrolled": false
   },
   "outputs": [],
   "source": [
    "tweets = []\n",
    "for r in api.search(\"#happy\"):\n",
    "    tweets.append(r._json)"
   ]
  },
  {
   "cell_type": "code",
   "execution_count": null,
   "metadata": {},
   "outputs": [],
   "source": [
    "tweet_collection.insert_many(tweets)"
   ]
  },
  {
   "cell_type": "code",
   "execution_count": null,
   "metadata": {},
   "outputs": [],
   "source": [
    "messy_doc = {\"name\": \"some name\", \"city\": \"seattle\"}"
   ]
  },
  {
   "cell_type": "code",
   "execution_count": null,
   "metadata": {},
   "outputs": [],
   "source": [
    "tweet_collection.insert_one(messy_doc)"
   ]
  },
  {
   "cell_type": "markdown",
   "metadata": {},
   "source": [
    "# let's get our tweets into a dataframe"
   ]
  },
  {
   "cell_type": "code",
   "execution_count": null,
   "metadata": {},
   "outputs": [],
   "source": [
    "df = pd.DataFrame(list(tweet_collection.find({}))) # the equivalent to 'select * from tweet_collection'"
   ]
  },
  {
   "cell_type": "code",
   "execution_count": null,
   "metadata": {
    "scrolled": false
   },
   "outputs": [],
   "source": [
    "df.head()"
   ]
  },
  {
   "cell_type": "markdown",
   "metadata": {},
   "source": [
    "# what are examples of unstructured data? \n",
    "* emails\n",
    "    * semi-structured\n",
    "* images\n",
    "* data coming from different sources with different keys\n",
    "* audio \n",
    "* video \n",
    "* cell phone user data\n",
    "* workstation configurations for a company\n",
    "* webpages \n",
    "* weather data \n",
    "\n",
    "\n",
    "# pros of mongo\n",
    "* dump data into it\n",
    "* takes in unstructured data\n",
    "\n",
    "# cons of mongo\n",
    "* cannot do joins\n",
    "* doesn't force structure on your data"
   ]
  },
  {
   "cell_type": "code",
   "execution_count": null,
   "metadata": {},
   "outputs": [],
   "source": [
    "entity_data = df[[\"_id\", \"entities\"]]\n",
    "entity_data"
   ]
  },
  {
   "cell_type": "code",
   "execution_count": null,
   "metadata": {},
   "outputs": [],
   "source": [
    "# how can I convert my mongodb to a sqlite3 file? "
   ]
  },
  {
   "cell_type": "code",
   "execution_count": null,
   "metadata": {},
   "outputs": [],
   "source": [
    "df_mini = df[['_id', \"text\"]]\n",
    "df_mini"
   ]
  },
  {
   "cell_type": "markdown",
   "metadata": {},
   "source": [
    "# What did we learn today? \n",
    "* how to convert mongo queries into a dataframe\n",
    "* insert_one vs insert_many\n",
    "* cons of mongo\n",
    "* unstructured, semi-structured data\n",
    "* how to use NoSQL in your toolbox\n",
    "* use mongo to store data when scraping websites\n",
    "    * scraping steps (old)\n",
    "        * get the files\n",
    "        * parse the files\n",
    "* data from apis are generally structured\n",
    "* how to pass a specific db to mongo\n",
    "* what is a mongodb? a folder containing mongo(ish/y/thingy) files\n",
    "* host and port for mongoclient\n",
    "* ubiquiti cloud key "
   ]
  },
  {
   "cell_type": "code",
   "execution_count": null,
   "metadata": {},
   "outputs": [],
   "source": [
    "tweet_collection.count_documents({})"
   ]
  },
  {
   "cell_type": "code",
   "execution_count": 1,
   "metadata": {},
   "outputs": [],
   "source": [
    "import twitter_writer"
   ]
  },
  {
   "cell_type": "code",
   "execution_count": null,
   "metadata": {},
   "outputs": [],
   "source": []
  }
 ],
 "metadata": {
  "kernelspec": {
   "display_name": "Python [conda env:flatiron-env] *",
   "language": "python",
   "name": "conda-env-flatiron-env-py"
  },
  "language_info": {
   "codemirror_mode": {
    "name": "ipython",
    "version": 3
   },
   "file_extension": ".py",
   "mimetype": "text/x-python",
   "name": "python",
   "nbconvert_exporter": "python",
   "pygments_lexer": "ipython3",
   "version": "3.6.10"
  }
 },
 "nbformat": 4,
 "nbformat_minor": 4
}
