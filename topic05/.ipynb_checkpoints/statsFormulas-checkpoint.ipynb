{
 "cells": [
  {
   "cell_type": "markdown",
   "metadata": {},
   "source": [
    "# Objectives\n",
    "* read mathematical formulas with bigger context\n",
    "* read math like a mathematician"
   ]
  },
  {
   "cell_type": "code",
   "execution_count": 2,
   "metadata": {},
   "outputs": [],
   "source": [
    "# create the following functions\n",
    "# dot product function"
   ]
  },
  {
   "cell_type": "code",
   "execution_count": 11,
   "metadata": {},
   "outputs": [],
   "source": [
    "# What is a dot product? \n",
    "\n",
    "v1 = [1, 4, 7]\n",
    "v2 = [3, 0, 4]\n",
    "\n"
   ]
  },
  {
   "cell_type": "code",
   "execution_count": 16,
   "metadata": {},
   "outputs": [],
   "source": [
    "def dot_product(v1,  v2):\n",
    "    d = 0\n",
    "    for i, j in zip(v1, v2):\n",
    "        d += i*j\n",
    "    return d\n",
    "\n",
    "\n",
    "def center_vec(v1):\n",
    "    mu = sum(v1)/len(v1)\n",
    "    v1_c = [i - mu for i in v1]\n",
    "    return v1_c\n",
    "\n",
    "\n",
    "def covariance(v1, v2):\n",
    "    n = len(v1)\n",
    "    v1_c = center_vec(v1)\n",
    "    v2_c = center_vec(v2)\n",
    "    numerator = dot_product(v1_c, v2_c)\n",
    "    return numerator/n\n",
    "\n",
    "\n",
    "\n",
    "def correlation(v1, v2):\n",
    "    v1_c = center_vec(v1)\n",
    "    v2_c = center_vec(v2)\n",
    "    numerator = dot_product(v1_c, v2_c)\n",
    "    denominator = dot_product(v1_c, v1_c) * dot_product(v2_c, v2_c)\n",
    "    denominator = denominator**0.5\n",
    "    return numerator/denominator"
   ]
  },
  {
   "cell_type": "code",
   "execution_count": 13,
   "metadata": {},
   "outputs": [
    {
     "data": {
      "text/plain": [
       "[-3.0, 0.0, 3.0]"
      ]
     },
     "execution_count": 13,
     "metadata": {},
     "output_type": "execute_result"
    }
   ],
   "source": [
    "v1_c = center_vec(v1)\n",
    "v1_c"
   ]
  },
  {
   "cell_type": "code",
   "execution_count": 15,
   "metadata": {},
   "outputs": [
    {
     "data": {
      "text/plain": [
       "1.0000000000000002"
      ]
     },
     "execution_count": 15,
     "metadata": {},
     "output_type": "execute_result"
    }
   ],
   "source": [
    "covariance(v1, v2)"
   ]
  },
  {
   "cell_type": "code",
   "execution_count": 17,
   "metadata": {},
   "outputs": [
    {
     "data": {
      "text/plain": [
       "0.2401922307076307"
      ]
     },
     "execution_count": 17,
     "metadata": {},
     "output_type": "execute_result"
    }
   ],
   "source": [
    "correlation(v1, v2)"
   ]
  },
  {
   "cell_type": "code",
   "execution_count": 18,
   "metadata": {},
   "outputs": [],
   "source": [
    "import numpy as np"
   ]
  },
  {
   "cell_type": "code",
   "execution_count": 20,
   "metadata": {},
   "outputs": [
    {
     "data": {
      "text/plain": [
       "array([[1.        , 0.24019223],\n",
       "       [0.24019223, 1.        ]])"
      ]
     },
     "execution_count": 20,
     "metadata": {},
     "output_type": "execute_result"
    }
   ],
   "source": [
    "np.corrcoef(v1, v2)"
   ]
  },
  {
   "cell_type": "code",
   "execution_count": null,
   "metadata": {},
   "outputs": [],
   "source": []
  }
 ],
 "metadata": {
  "kernelspec": {
   "display_name": "Python [conda env:flatiron-env] *",
   "language": "python",
   "name": "conda-env-flatiron-env-py"
  },
  "language_info": {
   "codemirror_mode": {
    "name": "ipython",
    "version": 3
   },
   "file_extension": ".py",
   "mimetype": "text/x-python",
   "name": "python",
   "nbconvert_exporter": "python",
   "pygments_lexer": "ipython3",
   "version": "3.6.10"
  }
 },
 "nbformat": 4,
 "nbformat_minor": 4
}
