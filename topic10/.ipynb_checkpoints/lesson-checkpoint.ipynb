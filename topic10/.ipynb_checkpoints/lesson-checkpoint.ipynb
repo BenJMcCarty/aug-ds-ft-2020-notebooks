{
 "cells": [
  {
   "cell_type": "markdown",
   "metadata": {},
   "source": [
    "# objectives\n",
    "YWBAT \n",
    "* send an html requests\n",
    "* parse an html file using beautifulsoup\n",
    "\n",
    "\n",
    "# outline\n",
    "* setup a request\n",
    "* get content\n",
    "* parse html content for specific data "
   ]
  },
  {
   "cell_type": "code",
   "execution_count": 1,
   "metadata": {},
   "outputs": [],
   "source": [
    "import requests\n",
    "import pandas as pd\n",
    "\n",
    "\n",
    "# this is a parser\n",
    "from bs4 import BeautifulSoup"
   ]
  },
  {
   "cell_type": "markdown",
   "metadata": {},
   "source": [
    "# Step 1 Get HTML Page"
   ]
  },
  {
   "cell_type": "code",
   "execution_count": 3,
   "metadata": {},
   "outputs": [],
   "source": [
    "url = \"https://www.ebay.com/sch/i.html\"\n",
    "params = {\"_nkw\":'\"mechanical keyboards\"'}"
   ]
  },
  {
   "cell_type": "code",
   "execution_count": 4,
   "metadata": {},
   "outputs": [],
   "source": [
    "r = requests.get(url, params=params)"
   ]
  },
  {
   "cell_type": "code",
   "execution_count": 7,
   "metadata": {},
   "outputs": [
    {
     "data": {
      "text/plain": [
       "b'<!DOCTYPE html><!--[if IE 9]><html class=\"ie9 srp-ds6\" lang=\"en\"><![endif]--><!--[if gt IE 9]><!--><'"
      ]
     },
     "execution_count": 7,
     "metadata": {},
     "output_type": "execute_result"
    }
   ],
   "source": [
    "# view content\n",
    "r.content[:100]"
   ]
  },
  {
   "cell_type": "markdown",
   "metadata": {},
   "source": [
    "# Step 2 Parse Content"
   ]
  },
  {
   "cell_type": "code",
   "execution_count": 8,
   "metadata": {},
   "outputs": [],
   "source": [
    "soup = BeautifulSoup(r.content, 'html.parser')"
   ]
  },
  {
   "cell_type": "code",
   "execution_count": 9,
   "metadata": {},
   "outputs": [],
   "source": [
    "# what do you want from this ebay page? \n",
    "# item name \n",
    "# item price\n",
    "# item image url"
   ]
  },
  {
   "cell_type": "code",
   "execution_count": 14,
   "metadata": {},
   "outputs": [
    {
     "data": {
      "text/plain": [
       "<div class=\"s-item__wrapper clearfix\"><div class=\"s-item__image-section\"><div class=\"s-item__image\"><a _sp=\"p2351460.m1686.l7400\" aria-hidden=\"true\" data-track='{\"eventFamily\":\"LST\",\"eventAction\":\"ACTN\",\"actionKind\":\"NAVSRC\",\"actionKinds\":[\"NAVSRC\"],\"operationId\":\"2351460\",\"flushImmediately\":false,\"eventProperty\":{\"moduledtl\":\"mi:1686|iid:1|li:7400|luid:1|scen:Listings\",\"parentrq\":\"5a53f76d1740a77d3b510034fff0aa2a\",\"pageci\":\"83890e48-eeda-11ea-b886-ae86f0113b92\"}}' href=\"https://www.ebay.com/itm/104-Keycaps-Colorful-ABS-Backlit-Gaming-Replacement-Mechanical-Keyboards/303631056178?hash=item46b1d23d32:g:SVQAAOSwhU5fGQAD\" tabindex=\"-1\"><div class=\"s-item__image-wrapper\"><div class=\"s-item__image-helper\"></div><img alt=\"104 Keycaps Colorful ABS Backlit Gaming Replacement Mechanical Keyboards\" class=\"s-item__image-img\" loading=\"eager\" onload='SITE_SPEED.ATF_TIMER.measure(this); if (performance &amp;&amp; performance.mark) { performance.mark(\"first-meaningful-paint\"); }' src=\"https://i.ebayimg.com/thumbs/images/g/SVQAAOSwhU5fGQAD/s-l225.jpg\"/></div></a></div></div><div class=\"s-item__info clearfix\"><div class=\"s-item__title-hotness\"></div><a _sp=\"p2351460.m1686.l7400\" class=\"s-item__link\" data-track='{\"eventFamily\":\"LST\",\"eventAction\":\"ACTN\",\"actionKind\":\"NAVSRC\",\"actionKinds\":[\"NAVSRC\"],\"operationId\":\"2351460\",\"flushImmediately\":false,\"eventProperty\":{\"moduledtl\":\"mi:1686|iid:1|li:7400|luid:1|scen:Listings\",\"parentrq\":\"5a53f76d1740a77d3b510034fff0aa2a\",\"pageci\":\"83890e48-eeda-11ea-b886-ae86f0113b92\"}}' href=\"https://www.ebay.com/itm/104-Keycaps-Colorful-ABS-Backlit-Gaming-Replacement-Mechanical-Keyboards/303631056178?hash=item46b1d23d32:g:SVQAAOSwhU5fGQAD\"><h3 class=\"s-item__title\">104 Keycaps Colorful ABS Backlit Gaming Replacement Mechanical Keyboards</h3></a><div class=\"s-item__subtitle\"><span class=\"SECONDARY_INFO\">Brand New</span></div><div class=\"s-item__details clearfix\"><div class=\"s-item__detail s-item__detail--primary\"><span class=\"s-item__price\">$15.89</span></div><span class=\"s-item__detail s-item__detail--secondary\"><span class=\"s-item__msku s-item__mskuInfo\">More colors</span></span><div class=\"s-item__detail s-item__detail--primary\"><span aria-label=\"\" class=\"s-item__purchase-options-with-icon\">Buy It Now</span></div><div class=\"s-item__detail s-item__detail--primary\"><span class=\"s-item__shipping s-item__logisticsCost\">Free shipping</span></div><div class=\"s-item__detail s-item__detail--primary\"><span aria-label=\"\" class=\"s-item__hotness s-item__itemHotness\"><span class=\"BOLD NEGATIVE\">12+ watchers</span></span></div></div></div></div>"
      ]
     },
     "execution_count": 14,
     "metadata": {},
     "output_type": "execute_result"
    }
   ],
   "source": [
    "# let's test and find our item container\n",
    "\n",
    "# # one way to search for <div class=\"s-item__wrapper clearfix\"/>\n",
    "# soup.find(\"div\", class_=\"s-item__wrapper clearfix\")\n",
    "\n",
    "# what rafa prefers\n",
    "soup.find(\"div\", attrs={\"class\":\"s-item__wrapper clearfix\"})"
   ]
  },
  {
   "cell_type": "code",
   "execution_count": 15,
   "metadata": {},
   "outputs": [],
   "source": [
    "# go into one container and find all the data we want\n",
    "\n",
    "first_container = soup.find(\"div\", attrs={\"class\":\"s-item__wrapper clearfix\"})"
   ]
  },
  {
   "cell_type": "code",
   "execution_count": 23,
   "metadata": {},
   "outputs": [
    {
     "data": {
      "text/plain": [
       "('104 Keycaps Colorful ABS Backlit Gaming Replacement Mechanical Keyboards',\n",
       " '$15.89',\n",
       " 'https://i.ebayimg.com/thumbs/images/g/SVQAAOSwhU5fGQAD/s-l225.jpg')"
      ]
     },
     "execution_count": 23,
     "metadata": {},
     "output_type": "execute_result"
    }
   ],
   "source": [
    "# .text grabs the text in between all of the open/close tags\n",
    "name = first_container.find(\"h3\", attrs={\"class\":\"s-item__title\"}).text\n",
    "price = first_container.find(\"span\", attrs={\"class\":\"s-item__price\"}).text\n",
    "image_url = first_container.find(\"img\", attrs={\"class\":\"s-item__image-img\"})[\"src\"]\n",
    "name, price, image_url"
   ]
  },
  {
   "cell_type": "code",
   "execution_count": 21,
   "metadata": {},
   "outputs": [
    {
     "data": {
      "text/plain": [
       "'https://i.ebayimg.com/thumbs/images/g/SVQAAOSwhU5fGQAD/s-l225.jpg'"
      ]
     },
     "execution_count": 21,
     "metadata": {},
     "output_type": "execute_result"
    }
   ],
   "source": [
    "image_url[\"src\"]"
   ]
  },
  {
   "cell_type": "code",
   "execution_count": 30,
   "metadata": {
    "scrolled": false
   },
   "outputs": [],
   "source": [
    "containers = soup.find_all(\"div\", attrs={\"class\":\"s-item__wrapper clearfix\"})\n",
    "item_information_list = []\n",
    "for index, container in enumerate(containers):\n",
    "    d = {}\n",
    "    try:\n",
    "        d[\"name\"] = container.find(\"h3\", attrs={\"class\":\"s-item__title\"}).text\n",
    "    except:\n",
    "        d[\"name\"] = None\n",
    "    try:\n",
    "        d[\"price\"] = container.find(\"span\", attrs={\"class\":\"s-item__price\"}).text\n",
    "    except:\n",
    "        d[\"price\"] = None\n",
    "    try:\n",
    "        d[\"image_url\"] = container.find(\"img\", attrs={\"class\":\"s-item__image-img\"})[\"src\"]\n",
    "    except:\n",
    "        d[\"image_url\"] = None\n",
    "    item_information_list.append(d)"
   ]
  },
  {
   "cell_type": "code",
   "execution_count": 34,
   "metadata": {},
   "outputs": [],
   "source": [
    "def parse_soup(soup):\n",
    "    containers = soup.find_all(\"div\", attrs={\"class\":\"s-item__wrapper clearfix\"})\n",
    "    item_information_list = []\n",
    "    for index, container in enumerate(containers):\n",
    "        d = {}\n",
    "        try:\n",
    "            d[\"name\"] = container.find(\"h3\", attrs={\"class\":\"s-item__title\"}).text\n",
    "        except:\n",
    "            d[\"name\"] = None\n",
    "        try:\n",
    "            d[\"price\"] = container.find(\"span\", attrs={\"class\":\"s-item__price\"}).text\n",
    "        except:\n",
    "            d[\"price\"] = None\n",
    "        try:\n",
    "            d[\"image_url\"] = container.find(\"img\", attrs={\"class\":\"s-item__image-img\"})[\"src\"]\n",
    "        except:\n",
    "            d[\"image_url\"] = None\n",
    "        item_information_list.append(d)\n",
    "    return item_information_list"
   ]
  },
  {
   "cell_type": "code",
   "execution_count": 31,
   "metadata": {},
   "outputs": [
    {
     "data": {
      "text/html": [
       "<div>\n",
       "<style scoped>\n",
       "    .dataframe tbody tr th:only-of-type {\n",
       "        vertical-align: middle;\n",
       "    }\n",
       "\n",
       "    .dataframe tbody tr th {\n",
       "        vertical-align: top;\n",
       "    }\n",
       "\n",
       "    .dataframe thead th {\n",
       "        text-align: right;\n",
       "    }\n",
       "</style>\n",
       "<table border=\"1\" class=\"dataframe\">\n",
       "  <thead>\n",
       "    <tr style=\"text-align: right;\">\n",
       "      <th></th>\n",
       "      <th>name</th>\n",
       "      <th>price</th>\n",
       "      <th>image_url</th>\n",
       "    </tr>\n",
       "  </thead>\n",
       "  <tbody>\n",
       "    <tr>\n",
       "      <th>0</th>\n",
       "      <td>104 Keycaps Colorful ABS Backlit Gaming Replac...</td>\n",
       "      <td>$15.89</td>\n",
       "      <td>https://i.ebayimg.com/thumbs/images/g/SVQAAOSw...</td>\n",
       "    </tr>\n",
       "    <tr>\n",
       "      <th>1</th>\n",
       "      <td>PBT Keycap Set 104 Translucent Backlit Key Cap...</td>\n",
       "      <td>$17.87</td>\n",
       "      <td>https://i.ebayimg.com/thumbs/images/g/HJsAAOSw...</td>\n",
       "    </tr>\n",
       "    <tr>\n",
       "      <th>2</th>\n",
       "      <td>PBT Keycap Set 104 Translucent Backlit Key Cap...</td>\n",
       "      <td>$19.22</td>\n",
       "      <td>https://i.ebayimg.com/thumbs/images/g/OjEAAOSw...</td>\n",
       "    </tr>\n",
       "    <tr>\n",
       "      <th>3</th>\n",
       "      <td>Griarrac Cherry MX Switch Tester Mechanical Ke...</td>\n",
       "      <td>$40.00</td>\n",
       "      <td>https://i.ebayimg.com/thumbs/images/g/N8MAAOSw...</td>\n",
       "    </tr>\n",
       "    <tr>\n",
       "      <th>4</th>\n",
       "      <td>PBT Keycap Suit 104 Translucent Backlit Key Ca...</td>\n",
       "      <td>$16.19 to $17.09</td>\n",
       "      <td>https://i.ebayimg.com/thumbs/images/g/oyQAAOSw...</td>\n",
       "    </tr>\n",
       "  </tbody>\n",
       "</table>\n",
       "</div>"
      ],
      "text/plain": [
       "                                                name             price  \\\n",
       "0  104 Keycaps Colorful ABS Backlit Gaming Replac...            $15.89   \n",
       "1  PBT Keycap Set 104 Translucent Backlit Key Cap...            $17.87   \n",
       "2  PBT Keycap Set 104 Translucent Backlit Key Cap...            $19.22   \n",
       "3  Griarrac Cherry MX Switch Tester Mechanical Ke...            $40.00   \n",
       "4  PBT Keycap Suit 104 Translucent Backlit Key Ca...  $16.19 to $17.09   \n",
       "\n",
       "                                           image_url  \n",
       "0  https://i.ebayimg.com/thumbs/images/g/SVQAAOSw...  \n",
       "1  https://i.ebayimg.com/thumbs/images/g/HJsAAOSw...  \n",
       "2  https://i.ebayimg.com/thumbs/images/g/OjEAAOSw...  \n",
       "3  https://i.ebayimg.com/thumbs/images/g/N8MAAOSw...  \n",
       "4  https://i.ebayimg.com/thumbs/images/g/oyQAAOSw...  "
      ]
     },
     "execution_count": 31,
     "metadata": {},
     "output_type": "execute_result"
    }
   ],
   "source": [
    "df = pd.DataFrame(item_information_list)\n",
    "df.head()"
   ]
  },
  {
   "cell_type": "markdown",
   "metadata": {},
   "source": [
    "# Parse all of the pages we can"
   ]
  },
  {
   "cell_type": "code",
   "execution_count": 35,
   "metadata": {},
   "outputs": [],
   "source": [
    "url = \"https://www.ebay.com/sch/i.html\"\n",
    "page_number = 1\n",
    "items_information_list = []\n",
    "while True:\n",
    "    if page_number==30:\n",
    "        break\n",
    "    params = {\"_nkw\":'\"mechanical keyboards\"', \"_pgn\": page_number}\n",
    "    try:\n",
    "        r = requests.get(url, params = params)\n",
    "        soup = BeautifulSoup(r.content, 'html.parser')\n",
    "        _item_information_list = parse_soup(soup)\n",
    "        items_information_list.extend(_item_information_list)\n",
    "    except:\n",
    "        break\n",
    "    page_number += 1"
   ]
  },
  {
   "cell_type": "code",
   "execution_count": 37,
   "metadata": {},
   "outputs": [
    {
     "data": {
      "text/html": [
       "<div>\n",
       "<style scoped>\n",
       "    .dataframe tbody tr th:only-of-type {\n",
       "        vertical-align: middle;\n",
       "    }\n",
       "\n",
       "    .dataframe tbody tr th {\n",
       "        vertical-align: top;\n",
       "    }\n",
       "\n",
       "    .dataframe thead th {\n",
       "        text-align: right;\n",
       "    }\n",
       "</style>\n",
       "<table border=\"1\" class=\"dataframe\">\n",
       "  <thead>\n",
       "    <tr style=\"text-align: right;\">\n",
       "      <th></th>\n",
       "      <th>name</th>\n",
       "      <th>price</th>\n",
       "      <th>image_url</th>\n",
       "    </tr>\n",
       "  </thead>\n",
       "  <tbody>\n",
       "    <tr>\n",
       "      <th>0</th>\n",
       "      <td>104 Keycaps Colorful ABS Backlit Gaming Replac...</td>\n",
       "      <td>$15.89</td>\n",
       "      <td>https://i.ebayimg.com/thumbs/images/g/SVQAAOSw...</td>\n",
       "    </tr>\n",
       "    <tr>\n",
       "      <th>1</th>\n",
       "      <td>PBT Keycap Set 104 Translucent Backlit Key Cap...</td>\n",
       "      <td>$17.87</td>\n",
       "      <td>https://i.ebayimg.com/thumbs/images/g/HJsAAOSw...</td>\n",
       "    </tr>\n",
       "    <tr>\n",
       "      <th>2</th>\n",
       "      <td>PBT Keycap Set 104 Translucent Backlit Key Cap...</td>\n",
       "      <td>$19.22</td>\n",
       "      <td>https://i.ebayimg.com/thumbs/images/g/OjEAAOSw...</td>\n",
       "    </tr>\n",
       "    <tr>\n",
       "      <th>3</th>\n",
       "      <td>Griarrac Cherry MX Switch Tester Mechanical Ke...</td>\n",
       "      <td>$40.00</td>\n",
       "      <td>https://i.ebayimg.com/thumbs/images/g/N8MAAOSw...</td>\n",
       "    </tr>\n",
       "    <tr>\n",
       "      <th>4</th>\n",
       "      <td>PBT Keycap Suit 104 Translucent Backlit Key Ca...</td>\n",
       "      <td>$16.19 to $17.09</td>\n",
       "      <td>https://i.ebayimg.com/thumbs/images/g/oyQAAOSw...</td>\n",
       "    </tr>\n",
       "  </tbody>\n",
       "</table>\n",
       "</div>"
      ],
      "text/plain": [
       "                                                name             price  \\\n",
       "0  104 Keycaps Colorful ABS Backlit Gaming Replac...            $15.89   \n",
       "1  PBT Keycap Set 104 Translucent Backlit Key Cap...            $17.87   \n",
       "2  PBT Keycap Set 104 Translucent Backlit Key Cap...            $19.22   \n",
       "3  Griarrac Cherry MX Switch Tester Mechanical Ke...            $40.00   \n",
       "4  PBT Keycap Suit 104 Translucent Backlit Key Ca...  $16.19 to $17.09   \n",
       "\n",
       "                                           image_url  \n",
       "0  https://i.ebayimg.com/thumbs/images/g/SVQAAOSw...  \n",
       "1  https://i.ebayimg.com/thumbs/images/g/HJsAAOSw...  \n",
       "2  https://i.ebayimg.com/thumbs/images/g/OjEAAOSw...  \n",
       "3  https://i.ebayimg.com/thumbs/images/g/N8MAAOSw...  \n",
       "4  https://i.ebayimg.com/thumbs/images/g/oyQAAOSw...  "
      ]
     },
     "execution_count": 37,
     "metadata": {},
     "output_type": "execute_result"
    }
   ],
   "source": [
    "df = pd.DataFrame(item_information_list)\n",
    "df.head()"
   ]
  },
  {
   "cell_type": "code",
   "execution_count": 38,
   "metadata": {},
   "outputs": [
    {
     "data": {
      "text/plain": [
       "(1321, 3)"
      ]
     },
     "execution_count": 38,
     "metadata": {},
     "output_type": "execute_result"
    }
   ],
   "source": [
    "df.shape"
   ]
  },
  {
   "cell_type": "code",
   "execution_count": 40,
   "metadata": {},
   "outputs": [],
   "source": [
    "df.to_csv(\"../data/ebay_scraped_items.csv\")"
   ]
  },
  {
   "cell_type": "markdown",
   "metadata": {},
   "source": [
    "# what did we learn? \n",
    "* extend vs append \n",
    "* soup objects\n",
    "* beautiful soup is a beautiful parser\n",
    "* web scraping is mainly detective work on finding what you want\n",
    "* a more clear idea of what beautifulsoup is and isn't\n",
    "* how to use postman to help with webscraping\n"
   ]
  },
  {
   "cell_type": "code",
   "execution_count": null,
   "metadata": {},
   "outputs": [],
   "source": []
  }
 ],
 "metadata": {
  "kernelspec": {
   "display_name": "Python [conda env:flatiron-env] *",
   "language": "python",
   "name": "conda-env-flatiron-env-py"
  },
  "language_info": {
   "codemirror_mode": {
    "name": "ipython",
    "version": 3
   },
   "file_extension": ".py",
   "mimetype": "text/x-python",
   "name": "python",
   "nbconvert_exporter": "python",
   "pygments_lexer": "ipython3",
   "version": "3.6.10"
  }
 },
 "nbformat": 4,
 "nbformat_minor": 4
}
