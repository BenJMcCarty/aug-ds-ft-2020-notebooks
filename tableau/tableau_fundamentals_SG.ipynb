{
 "cells": [
  {
   "cell_type": "markdown",
   "metadata": {},
   "source": [
    "<img src=\"images/tableau_cmyk_2015.png\">"
   ]
  },
  {
   "cell_type": "markdown",
   "metadata": {},
   "source": [
    "# Tableau Fundamentals"
   ]
  },
  {
   "cell_type": "markdown",
   "metadata": {},
   "source": [
    "- 02/04/21\n",
    "- 081720FT"
   ]
  },
  {
   "cell_type": "markdown",
   "metadata": {},
   "source": [
    "## Topics"
   ]
  },
  {
   "cell_type": "markdown",
   "metadata": {},
   "source": [
    "- Tableau vs Tableau Public\n",
    "- Installing Tableau Public\n",
    "- Loading Data Files \n",
    "- Key Vocabulary\n",
    "- Making Several Types of Plots\n",
    "    - Scatter Plots with Trendlines\n",
    "    - Histograms/Grouped Histogram\n",
    "    - Map scatter plot \n",
    "    - Map Shaded Area Plot\n",
    "- Customizing Plots\n",
    "- Your Tableau Profile\n"
   ]
  },
  {
   "cell_type": "markdown",
   "metadata": {},
   "source": [
    "## Resources/References"
   ]
  },
  {
   "cell_type": "markdown",
   "metadata": {},
   "source": [
    "- Udemy Course: [Tableau 2020 A-Z: Hands-On Tableau Training for Data Science](https://www.udemy.com/course/tableau10/)"
   ]
  },
  {
   "cell_type": "markdown",
   "metadata": {},
   "source": [
    "# Tableau vs Tableau Public"
   ]
  },
  {
   "cell_type": "markdown",
   "metadata": {},
   "source": [
    "- Tableau Public is the free version of Tableau.\n",
    "- They are VERY similar, but there are important distinctions:\n",
    "    - Data Access\n",
    "        - Tableau can access SQL servers\n",
    "        - Tableau Public cannot.\n",
    "    - Saving Projects:\n",
    "        - Tableau can save and load projects locally.\n",
    "        - Tableau Public can only save to the cloud"
   ]
  },
  {
   "cell_type": "markdown",
   "metadata": {},
   "source": [
    "# Installing Tableau Public"
   ]
  },
  {
   "cell_type": "markdown",
   "metadata": {},
   "source": [
    "- https://public.tableau.com/en-us/s/"
   ]
  },
  {
   "cell_type": "markdown",
   "metadata": {},
   "source": [
    "# Loading Data Files"
   ]
  },
  {
   "cell_type": "markdown",
   "metadata": {},
   "source": [
    "## Saving Dataset for Demo"
   ]
  },
  {
   "cell_type": "code",
   "execution_count": 29,
   "metadata": {
    "ExecuteTime": {
     "end_time": "2021-02-04T01:12:37.761769Z",
     "start_time": "2021-02-04T01:12:37.760000Z"
    }
   },
   "outputs": [],
   "source": [
    "# !pip install -U fsds\n",
    "# from fsds.imports import *"
   ]
  },
  {
   "cell_type": "code",
   "execution_count": 30,
   "metadata": {
    "ExecuteTime": {
     "end_time": "2021-02-04T01:12:41.242341Z",
     "start_time": "2021-02-04T01:12:41.240444Z"
    },
    "scrolled": true
   },
   "outputs": [],
   "source": [
    "# df = fs.datasets.load_mod1_proj(read_csv_kwds={'index_col':0})\n",
    "# display(df.head())\n",
    "# df.to_csv('regression_data_complete.csv')"
   ]
  },
  {
   "cell_type": "markdown",
   "metadata": {},
   "source": [
    "## Load in `regression_data_details.csv`"
   ]
  },
  {
   "cell_type": "markdown",
   "metadata": {},
   "source": [
    "> - Open Tableau Public and load up the first housing regression dataset file (`regression_data_details.csv`)\n",
    "    - CSVs are technically \"Text Files\"   \n",
    "\n",
    "> - Notice that Tableau automatically replaced text values in numeric columns ('?' in sqft)\n",
    "    - It also cleaned up the column names (`sqft_living` -> \"Sqft Living\")\n",
    "  \n",
    "- Now click \"Go to Worksheet\" / \"Sheet 1\" at the bottom of the app.\n",
    "\n"
   ]
  },
  {
   "cell_type": "markdown",
   "metadata": {},
   "source": [
    "# Vocab"
   ]
  },
  {
   "cell_type": "markdown",
   "metadata": {},
   "source": [
    "- Dimensions: \n",
    "    - categorical features/independent variables\n",
    "- Measures: \n",
    "    - numeric features / dependent variables.\n",
    "    - Measures get aggregated (SUM, MEAN,etc)\n",
    "- Attributes\n"
   ]
  },
  {
   "cell_type": "markdown",
   "metadata": {},
   "source": [
    "# Our Tasks"
   ]
  },
  {
   "cell_type": "markdown",
   "metadata": {},
   "source": [
    "## Plots to Make"
   ]
  },
  {
   "cell_type": "markdown",
   "metadata": {},
   "source": [
    "1. [ ] A scatter plot of Sqft Living vs Price + a trendline.\n",
    "2. [ ] A scatter plot of Sqft Living vs Price grouped by if its waterfront property (+ trendlines) <br><t>(first with null values then without)\n",
    "3. [ ] A histogram of price in in **\\$**100K-bins.\n",
    "4. [ ] A histogram of price in in **\\$**100K-bins broken out by Waterfront properties.\n",
    "5. [ ] A map of median prices by zipcode (with a Green color scale broken into 5 shades of green)\n",
    "6. [ ] A map of all homes with color-coded price with the smallest markers possible. \n",
    "\n"
   ]
  }
 ],
 "metadata": {
  "kernelspec": {
   "display_name": "learn-env",
   "language": "python",
   "name": "learn-env"
  },
  "language_info": {
   "codemirror_mode": {
    "name": "ipython",
    "version": 3
   },
   "file_extension": ".py",
   "mimetype": "text/x-python",
   "name": "python",
   "nbconvert_exporter": "python",
   "pygments_lexer": "ipython3",
   "version": "3.6.11"
  },
  "toc": {
   "base_numbering": 1,
   "nav_menu": {},
   "number_sections": false,
   "sideBar": true,
   "skip_h1_title": false,
   "title_cell": "Table of Contents",
   "title_sidebar": "Contents",
   "toc_cell": false,
   "toc_position": {},
   "toc_section_display": true,
   "toc_window_display": true
  }
 },
 "nbformat": 4,
 "nbformat_minor": 4
}
