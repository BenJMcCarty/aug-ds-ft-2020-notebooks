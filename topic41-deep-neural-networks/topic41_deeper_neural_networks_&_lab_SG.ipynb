{
 "cells": [
  {
   "cell_type": "markdown",
   "metadata": {},
   "source": [
    "# Sect 41:  Deeper Neural Networks\n"
   ]
  },
  {
   "cell_type": "markdown",
   "metadata": {},
   "source": [
    "- Study Group: 12/03/20\n",
    "- online-ds-ft-081720"
   ]
  },
  {
   "cell_type": "markdown",
   "metadata": {},
   "source": [
    "## Announcements"
   ]
  },
  {
   "cell_type": "markdown",
   "metadata": {},
   "source": [
    "- **No Feelings Fridays this week**,\n",
    "    - Will resume next week **(12/11) at 12 - 12:30 pm EST.**"
   ]
  },
  {
   "cell_type": "markdown",
   "metadata": {},
   "source": [
    "## Learning Objectives"
   ]
  },
  {
   "cell_type": "markdown",
   "metadata": {},
   "source": [
    "- Review basics from last class about an individual neuron. \n",
    "\n",
    "- **Discuss details about deep neural networks:**\n",
    "    - what makes an ANN \"deep\"?\n",
    "    - what are the different activation functions?\n",
    "    \n",
    "    \n",
    "- Revisit Tensorflow Playground with deeper network\n",
    "- **Activity: Deep Neural Networks Lab + Bonus Task**"
   ]
  },
  {
   "cell_type": "markdown",
   "metadata": {},
   "source": [
    "## Questions?"
   ]
  },
  {
   "cell_type": "markdown",
   "metadata": {},
   "source": [
    "- What is l in the feature vector size? Is it the same an n? And was is ℝ?\n",
    "- Clarify the difference between back and forward propagation please\n",
    "- What are the units/values being plotted for loss when plotting a training history?\n"
   ]
  },
  {
   "cell_type": "markdown",
   "metadata": {},
   "source": [
    "### QUestions for Tomorrow\n",
    "- visuals for softmax"
   ]
  },
  {
   "cell_type": "markdown",
   "metadata": {},
   "source": [
    "### Researching Tips"
   ]
  },
  {
   "cell_type": "markdown",
   "metadata": {},
   "source": [
    "> Google Tips: Add phrases like \"best practices\" or \"for beginners\"\n",
    "- e.g.: \"artificial neural network best practices\"\n",
    "\n",
    "> Get specific with your task:\n",
    "- e.g. \"multiclass text classification activation functions Dense layers\"\n",
    "- \"binary text classification activation functions LSTM layers\""
   ]
  },
  {
   "cell_type": "markdown",
   "metadata": {},
   "source": [
    "# Quick Review from Last Class"
   ]
  },
  {
   "cell_type": "markdown",
   "metadata": {
    "colab_type": "text",
    "id": "tlvqq-TbP5zO"
   },
   "source": [
    "### Processing within a Neuron"
   ]
  },
  {
   "cell_type": "markdown",
   "metadata": {
    "colab_type": "text",
    "id": "tlvqq-TbP5zO"
   },
   "source": [
    "\n",
    "<img src=\"https://raw.githubusercontent.com/jirvingphd/dsc-04-40-02-introduction-to-neural-networks-online-ds-ft-021119/master/figures/log_reg.png\">\n",
    "\n",
    "- **Activation functions** control the output of a neuron.($\\hat y =f_{activation}(x)$ )\n",
    "    - Most basic activation function is sigmoid functin ($\\hat y =\\sigma(x)$)\n",
    "    - Choice of activation function controls the size/range of the output.\n",
    "- **Linear transformations** ( $z = w^T x + b$ ) are used control the output of the activation function .\n",
    "    - where $w^T $ is the weight(/coefficient), $x$ is the input, and  $b$ is a bias. \n",
    "        - weights: \n",
    "        - bias:\n",
    "        "
   ]
  },
  {
   "cell_type": "markdown",
   "metadata": {
    "colab_type": "text",
    "id": "tlvqq-TbP5zO"
   },
   "source": [
    "### How Neurons Learn"
   ]
  },
  {
   "cell_type": "markdown",
   "metadata": {
    "colab_type": "text",
    "id": "tlvqq-TbP5zO"
   },
   "source": [
    "- **Loss functions** ($\\mathcal{L}(\\hat y, y) $)  measure inconsistency between predicted ($\\hat y$) and actual $y$\n",
    "    - will be optimized using gradient descent\n",
    "    - defined over 1 traning sample\n",
    "- **Cost functions** takes the average loss over all of the samples.\n",
    "    - $J(w,b) = \\displaystyle\\frac{1}{l}\\displaystyle\\sum^l_{i=1}\\mathcal{L}(\\hat y^{(i)}, y^{(i)})$\n",
    "    - where $l$ is the number of samples"
   ]
  },
  {
   "cell_type": "markdown",
   "metadata": {
    "colab_type": "text",
    "id": "tlvqq-TbP5zO"
   },
   "source": [
    "> #### How weights and biases are updated\n",
    "- **Forward propagation** is the calculating  loss and cost functions.\n",
    "- **Back propagation** involves using gradient descent to update the values for  $w$ and $b$.\n",
    "    - $w := w- \\alpha\\displaystyle \\frac{dJ(w)}{dw}$ <br><br>\n",
    "    - $b := b- \\alpha\\displaystyle \\frac{dJ(b)}{db}$\n",
    "        - where $ \\displaystyle \\frac{dJ(w)}{dw}$ and $\\displaystyle \\frac{dJ(b)}{db}$ represent the *slope* of the function $J$ with respect to $w$ and $b$ respectively\n",
    "        - $\\alpha$ denote the *learning rate*. \n",
    " "
   ]
  },
  {
   "cell_type": "markdown",
   "metadata": {},
   "source": [
    "### Summary of Process\n",
    "<img src=\"https://raw.githubusercontent.com/jirvingphd/fsds_100719_cohort_notes/master/images/neural_network_steps.png\" width=90%>"
   ]
  },
  {
   "cell_type": "markdown",
   "metadata": {},
   "source": [
    "## Activation Functions\n",
    "- https://dashee87.github.io/deep%20learning/visualising-activation-functions-in-neural-networks/"
   ]
  },
  {
   "cell_type": "code",
   "execution_count": 1,
   "metadata": {
    "ExecuteTime": {
     "end_time": "2020-12-03T19:19:35.327015Z",
     "start_time": "2020-12-03T19:19:34.550370Z"
    }
   },
   "outputs": [],
   "source": [
    "import numpy as np\n",
    "import matplotlib.pyplot as plt\n",
    "%matplotlib inline\n",
    "\n",
    "from functions import *"
   ]
  },
  {
   "cell_type": "markdown",
   "metadata": {
    "colab_type": "text",
    "id": "tlvqq-TbP5zO"
   },
   "source": [
    "- **sigmoid:**<br>\n",
    "<!-- <img src=\"https://raw.githubusercontent.com/jirvingphd/dsc-04-40-04-deeper-neural-networks-online-ds-ft-021119/master/index_files/index_33_1.png\" width=200> -->\n",
    "    - $ f_a=\\dfrac{1}{1+ \\exp(-z)}$\n",
    "    - outputs 0 to +1\n",
    "    "
   ]
  },
  {
   "cell_type": "code",
   "execution_count": 2,
   "metadata": {
    "ExecuteTime": {
     "end_time": "2020-12-03T19:19:36.171681Z",
     "start_time": "2020-12-03T19:19:35.962912Z"
    }
   },
   "outputs": [
    {
     "data": {
      "image/png": "[encoded data removed]",
      "text/plain": [
       "<Figure size 432x288 with 1 Axes>"
      ]
     },
     "metadata": {
      "needs_background": "light"
     },
     "output_type": "display_data"
    }
   ],
   "source": [
    "plot_activation(sigmoid)"
   ]
  },
  {
   "cell_type": "markdown",
   "metadata": {
    "colab_type": "text",
    "id": "tlvqq-TbP5zO"
   },
   "source": [
    "- **tanh (hyperbolic tan):**<br>\n",
    "    - $f_a = =\\dfrac{\\exp(z)- \\exp(-z)}{\\exp(z)+ \\exp(-z)}$\n",
    "    - outputs -1 to +1\n",
    "    - Generally works well in intermediate layers\n",
    "    - one of most popular functions\n",
    "    "
   ]
  },
  {
   "cell_type": "code",
   "execution_count": 3,
   "metadata": {
    "ExecuteTime": {
     "end_time": "2020-12-03T19:21:08.091321Z",
     "start_time": "2020-12-03T19:21:07.894659Z"
    }
   },
   "outputs": [
    {
     "data": {
      "image/png": "[encoded data removed]",
      "text/plain": [
       "<Figure size 432x288 with 1 Axes>"
      ]
     },
     "metadata": {
      "needs_background": "light"
     },
     "output_type": "display_data"
    }
   ],
   "source": [
    "plot_activation(tanh)"
   ]
  },
  {
   "cell_type": "markdown",
   "metadata": {
    "colab_type": "text",
    "id": "tlvqq-TbP5zO"
   },
   "source": [
    "- **arctan**\n",
    "    -  similar qualities as tanh, but slope is more gentle than tanh\n",
    "    - outputs ~ 1.6 to 1.6\n",
    "    "
   ]
  },
  {
   "cell_type": "code",
   "execution_count": 4,
   "metadata": {
    "ExecuteTime": {
     "end_time": "2020-12-03T19:21:51.985432Z",
     "start_time": "2020-12-03T19:21:51.754818Z"
    }
   },
   "outputs": [
    {
     "data": {
      "image/png": "[encoded data removed]",
      "text/plain": [
       "<Figure size 432x288 with 1 Axes>"
      ]
     },
     "metadata": {
      "needs_background": "light"
     },
     "output_type": "display_data"
    }
   ],
   "source": [
    "plot_activation(arctan)"
   ]
  },
  {
   "cell_type": "markdown",
   "metadata": {
    "colab_type": "text",
    "id": "tlvqq-TbP5zO"
   },
   "source": [
    "-  **Rectified Linear Unit (relu):**<br>\n",
    "    - most popular activation function\n",
    "    - Activation is exactly 0 when Z <0\n",
    "    - Makes taking directives slightly cumbersome\n",
    "    - $f_a=\\max(0,z)$\n",
    "    "
   ]
  },
  {
   "cell_type": "code",
   "execution_count": 5,
   "metadata": {
    "ExecuteTime": {
     "end_time": "2020-12-03T19:22:59.039491Z",
     "start_time": "2020-12-03T19:22:58.802394Z"
    }
   },
   "outputs": [
    {
     "data": {
      "image/png": "[encoded data removed]",
      "text/plain": [
       "<Figure size 432x288 with 1 Axes>"
      ]
     },
     "metadata": {
      "needs_background": "light"
     },
     "output_type": "display_data"
    }
   ],
   "source": [
    "plot_activation(relu)"
   ]
  },
  {
   "cell_type": "markdown",
   "metadata": {
    "colab_type": "text",
    "id": "tlvqq-TbP5zO"
   },
   "source": [
    "- **leaky_relu:**\n",
    "    -  altered version of relu where the activatiom is slightly negative when $z<0$\n",
    "    - $f_a=\\max(0.001*z,z)$"
   ]
  },
  {
   "cell_type": "code",
   "execution_count": 6,
   "metadata": {
    "ExecuteTime": {
     "end_time": "2020-12-03T19:23:55.612734Z",
     "start_time": "2020-12-03T19:23:55.425146Z"
    },
    "scrolled": false
   },
   "outputs": [
    {
     "data": {
      "image/png": "[encoded data removed]",
      "text/plain": [
       "<Figure size 432x288 with 1 Axes>"
      ]
     },
     "metadata": {
      "needs_background": "light"
     },
     "output_type": "display_data"
    }
   ],
   "source": [
    "plot_activation(leaky_relu)"
   ]
  },
  {
   "cell_type": "markdown",
   "metadata": {},
   "source": [
    "# Sect 41:  Deeper Neural Networks\n"
   ]
  },
  {
   "cell_type": "markdown",
   "metadata": {},
   "source": [
    "<img src=\"https://raw.githubusercontent.com/learn-co-students/dsc-image-classification-with-mlps-online-ds-ft-100719/master/images/Deeper_network.jpg\">"
   ]
  },
  {
   "cell_type": "markdown",
   "metadata": {},
   "source": [
    "## Why deeper networks?"
   ]
  },
  {
   "cell_type": "markdown",
   "metadata": {},
   "source": [
    "- **Advantages:**\n",
    "    - largely eliminates need for feature engineering\n",
    "    - multiple levels of information processing in one networking.\n",
    "        - Ex: for images:\n",
    "            - First layer detects edges\n",
    "            - second layer gorups edges and detects patterns\n",
    "            - more layers group even bigger parts together\n",
    "        - Ex: for audio:\n",
    "            - first layer: low level wave features\n",
    "            - second: basic units of sounds (\"phonemes\")\n",
    "            - third: word recognition\n",
    "            - fourth: sentence recognition\n",
    "    "
   ]
  },
  {
   "cell_type": "markdown",
   "metadata": {},
   "source": [
    "## How many layers/units?"
   ]
  },
  {
   "cell_type": "markdown",
   "metadata": {},
   "source": [
    "- **Two schools of thought on how how many layers:**\n",
    "    - Start with a single layer with few neurons\n",
    "        - Add additional, add additional\n",
    "    - Start with a fully fleshed out network that we then prune until we see a dropoff in in performance (then restore the last changes)"
   ]
  },
  {
   "cell_type": "markdown",
   "metadata": {},
   "source": [
    "### Other Resources"
   ]
  },
  {
   "cell_type": "markdown",
   "metadata": {},
   "source": [
    "- [Visualization of a Convolutional Neural Network - maybe?](https://www.cs.ryerson.ca/~aharley/vis/conv/flat.html)\n",
    "\n",
    "- [Blog post: How many Hidden Layers?](https://towardsdatascience.com/beginners-ask-how-many-hidden-layers-neurons-to-use-in-artificial-neural-networks-51466afa0d3e)"
   ]
  },
  {
   "cell_type": "markdown",
   "metadata": {},
   "source": [
    "## Demo: Revisit Tensorflow Playground Spiral \n",
    "\n",
    "- [Tensorflow Playground - Spiral Task](https://playground.tensorflow.org/#activation=relu&batchSize=10&dataset=spiral&regDataset=reg-plane&learningRate=0.03&regularizationRate=0&noise=0&networkShape=4,2&seed=0.58541&showTestData=false&discretize=false&percTrainData=50&x=true&y=true&xTimesY=false&xSquared=false&ySquared=false&cosX=false&sinX=false&cosY=false&sinY=false&collectStats=false&problem=classification&initZero=false&hideText=false)\n",
    "    - ~~[Potenial Solution](https://playground.tensorflow.org/#activation=relu&batchSize=10&dataset=spiral&regDataset=reg-plane&learningRate=0.03&regularizationRate=0&noise=0&networkShape=4,5,5,2&seed=0.58541&showTestData=false&discretize=false&percTrainData=50&x=true&y=true&xTimesY=false&xSquared=false&ySquared=false&cosX=false&sinX=false&cosY=false&sinY=false&collectStats=false&problem=classification&initZero=false&hideText=false)~~\n",
    "    "
   ]
  },
  {
   "cell_type": "markdown",
   "metadata": {},
   "source": [
    "## Math Notation for Deeper Networks:"
   ]
  },
  {
   "cell_type": "markdown",
   "metadata": {},
   "source": [
    "\n",
    "> ***Note: we will only walk through this in detail if the class has questions.***\n",
    " \n",
    "\n",
    "- Networks are comprised of sequential layers of neurons/nodes.\n",
    "    - \\# of layers = hidden+output layer\n",
    "        - The input layer is not counted as formal layer.\n",
    "    - All layers except the final are _hidden layers_.\n",
    "    \n",
    "    <img src=\"https://raw.githubusercontent.com/jirvingphd/dsc-04-40-04-deeper-neural-networks-online-ds-ft-021119/master/figures/small_deeper.png\">\n",
    "    \n",
    "\n",
    "\n",
    "**The output of a layer $j$ is denoted as $a^{[j]}$.**\n",
    "\n",
    "**For our 2-layer neural network above, this means that:**\n",
    "\n",
    "- $x = a^{[0]}$  as x is what comes out of the input layer\n",
    "- $a^{[1]} = \\begin{bmatrix} a^{[1]}_1  \\\\ a^{[1]}_2 \\\\ a^{[1]}_3  \\\\\\end{bmatrix}$ is the value generated by the hidden layer\n",
    "- $\\hat y =  a^{[2]}$, the output layer will generate a value $a^{[2]}$, which is equal to $\\hat y$.\n",
    "\n",
    "\n",
    "\n",
    "<br>For the **first node** in the hidden layer:\n",
    "- The linear transformation that occurs is:  $ z^{[1]}_1 = w^{[1]}_1 x +b^{[1]}_1$,\n",
    "    - Where $w$ = the weight, and $b$ = bias\n",
    "\n",
    "- For **all nodes** in the hidden layer:\n",
    "    - $ z^{[1]}_1 = w^{[1]}_1 x +b^{[1]}_1$ and  $a^{[1]}_1= f(z^{[1]}_1)$\n",
    "\n",
    "    - $ z^{[1]}_2 = w^{[1]}_2 x +b^{[1]}_2$ and $a^{[1]}_2= f(z^{[1]}_2)$\n",
    "\n",
    "    - $ z^{[1]}_3 = w^{[1]}_3 x +b^{[1]}_3$ and $a^{[1]}_3= f(z^{[1]}_3)$\n",
    "\n",
    "The **dimensions** of the elements:\n",
    "\n",
    "- $w^{[1]} = \\begin{bmatrix} w^{[1]}_{1,1}  & w^{[1]}_{2,1} & w^{[1]}_{3,1}  \\\\ w^{[1]}_{1,2}  & w^{[1]}_{2,2} & w^{[1]}_{3,2}\\end{bmatrix}$\n",
    "    - where, eg. $w^{[1]}_{1,2}$ denotes the weight of the arrow going **from $x_2$ into the first node** of the hidden layer. \n",
    "\n",
    "\n",
    "- When multiplying the transpose of this matrix (making it a 2 x 3 matrix) \n",
    "    - $w^{[1]T}_1$ with $x = \\begin{bmatrix} x_1  \\\\x_2\\end{bmatrix}$ and add $b^{[1]} = \\begin{bmatrix} b^{[1]}_1  \\\\b^{[1]}_2 \\\\ b^{[1]}_3 \\end{bmatrix}$,\n",
    "    - we obtain $z^{[1]} = \\begin{bmatrix} z^{[1]}_1  \\\\z^{[1]}_2 \\\\ z^{[1]}_3 \\end{bmatrix}$.\n",
    "\n",
    "----\n",
    "\n",
    "- The activation function is   $a^{[1]}_1= f(z^{[1]}_1)$.\n",
    "$w^{[1]}_{1,2}$\n",
    "\n",
    "$w^{[1]} = \\begin{bmatrix} w^{[1]}_{1,1}  & w^{[1]}_{2,1} & w^{[1]}_{3,1}  \\\\ w^{[1]}_{1,2}  & w^{[1]}_{2,2} & w^{[1]}_{3,2}\\end{bmatrix}$ \n",
    "\n",
    "[Reminder: $x = \\begin{bmatrix} x_1  \\\\x_2\\end{bmatrix} \\equiv a^{[0]}$ and that $a^{[2]} = \\hat y$ ]\n",
    "\n",
    "- Then, given input $x$:\n",
    "\n",
    "    - $z^{[1]} = w^{[1]T} a^{[0]} + b^{[1]}$\n",
    "\n",
    "    - $a^{[1]} = f(z^{[1]})$\n",
    "\n",
    "    - $z^{[2]} = w^{[2]T} a^{[1]} + b^{[2]}$\n",
    "\n",
    "    - $a^{[2]} = f(z^{[1]})$\n",
    "    \n",
    "    \n",
    "- When adding in several training samples ($i$), these become:\n",
    "    - $z^{[1](i)} = w^{[1]T} a^{[0](i)} + b^{[0]}$\n",
    "\n",
    "    - $a^{[1](i)} = f(z^{[1](i)})$\n",
    "\n",
    "    - $z^{[2](i)} = w^{[2]T} a^{[1](i)} + b^{[2]}$\n",
    "\n",
    "    - $a^{[2](i)} = f(z^{[1](i)})$\n",
    "    \n",
    "<!---    \n",
    "### Process Summary\n",
    "- We begin by defining a model architecture which includes the number of hidden layers, activation functions (sigmoid or relu) and the number of units in each of these.  \n",
    "- We then initialize parameters for each of these layers (typically randomly). After the initial parameters are set, forward propagation evaluates the model giving a prediction, which is then used to evaluate a cost function. Forward propogation involves evaluating each layer and then piping this output into the next layer. \n",
    "- Each layer consists of a linear transformation and an activation function.  The parameters for the linear transformation in **each** layer include $W^l$ and $b^l$. The output of this linear transformation is represented by $Z^l$. This is then fed through the activation function (again, for each layer) giving us an output $A^l$ which is the input for the next layer of the model.  \n",
    "- After forward propogation is completed and the cost function is evaluated, backpropogation is used to calculate gradients of the initial parameters with respect to this cost function. Finally, these gradients are then used in an optimization algorithm, such as gradient descent, to make small adjustments to the parameters and the entire process of forward propogation, back propogation and parameter adjustments is repeated until the modeller is satisfied with the results.--->"
   ]
  },
  {
   "cell_type": "markdown",
   "metadata": {
    "colab_type": "text",
    "id": "Bu64jh4K3oKt"
   },
   "source": [
    "# Basics of Building a Neural Network with Keras (Tensorflow 2.0+):\n"
   ]
  },
  {
   "cell_type": "markdown",
   "metadata": {
    "colab_type": "text",
    "id": "TNk4Uz27wVZc"
   },
   "source": [
    "**Basics of Building a Neural Network with Keras:**\n",
    "1. **Import required modules**\n",
    "    - **For general neural network**\n",
    "        - `from tensorflow.keras import models, layers,optimizers`\n",
    "    - **For text:**\n",
    "        - `from tensorflow.keras.preprocessing.text import Tokenizer`\n",
    "        - `from tensorflow.keras.utils import to_categorical`\n",
    "    - **For images:**\n",
    "        - `from tensorflow.keras.preprocessing.image import ImageDataGenerator, img_to_array, array_to_img`\n",
    "    - **For relocating image files:**\n",
    "        - `import os, shutil`"
   ]
  },
  {
   "cell_type": "markdown",
   "metadata": {
    "colab_type": "text",
    "id": "TNk4Uz27wVZc"
   },
   "source": [
    "2. **Decide on a network architecture (have only discussed sequential thus far)**\n",
    "    - `model = models.Sequential()`\n",
    "\n",
    "3. **Adding layers - specifying layer type, number of neurons, activation functions, and, optionally, the input shape.**\n",
    "    - `model.add(layers.Dense(units, activation='relu', input_shape))`\n",
    "    - `model.add(layers.Dense(units, activation='relu'))`\n",
    "\n",
    ">- **3B. Final layer choice:**\n",
    "    - Want to have as many neurons as classes you are trying to predict\n",
    "    -  Final activation function:\n",
    "        - For binary classificaiton, use `activation='sigmoid'`\n",
    "        - For multi classificaiton, use `activation='softmax'`\n",
    "    - For regression tasks, have a single final neuron.\n",
    "        `activation='linear'`/`relu`"
   ]
  },
  {
   "cell_type": "markdown",
   "metadata": {
    "colab_type": "text",
    "id": "TNk4Uz27wVZc"
   },
   "source": [
    "> 4. **Compile the model:**\n",
    "    - Specify [optimiziers](https://keras.io/api/optimizers/)\n",
    "        - `RMSprop`, `SGD`,`adam`\n",
    "    - specify [loss functions](https://keras.io/api/losses/)\n",
    "        - for binary classification: `'binary_crossentropy'`\n",
    "        - for multi classification: `'categorical_crossentropy'`\n",
    "        - for regression:\n",
    "            - `mse`,`mae`\n",
    "    - specify metrics\n",
    "        -usually 'acc'\n",
    "    \n",
    "    "
   ]
  },
  {
   "cell_type": "markdown",
   "metadata": {
    "colab_type": "text",
    "id": "TNk4Uz27wVZc"
   },
   "source": [
    "5. **Training the model**\n",
    "    - `model.fit(X_train, y_train, epochs=20,batch_size=512,validation_data=(x_val,y_val))`\n",
    "        - Note: if using images with ImageDataGenerator, use `model.fit_generator()`\n",
    "    \n",
    "    - **batches:**\n",
    "        - a set of N samples, processed independently in parallel\n",
    "        - a batch determines how many samples are fed through before back-propagation. \n",
    "        - model only updates after a batch is complete.\n",
    "\n",
    "        - larger batches usually run faster than smaller ones for evaluation/prediction. \n",
    "    - **epoch:**\n",
    "        - arbitrary cutoff / \"one pass over the entire dataset\", useful for logging and periodic evaluation\n",
    "        - when using kera's `model.fit` parameters `validation_data` or `validation_split`, these evaluations run at the end of every epoch.\n",
    "        - Within Keras can add callbacksto be run at the end of an epoch. Examples of these are learning rate changes and model checkpointing (saving).\n",
    "        \n",
    "\n",
    "6. **Evaluation / Predictions**\n",
    "    - To get predicted results:\n",
    "        - `y_hat_test = model.predict(test)`\n",
    "    - To get evaluation metrics:\n",
    "        - `results_test = model.evaluate(test, label_test)`\n",
    "        "
   ]
  },
  {
   "cell_type": "markdown",
   "metadata": {
    "colab_type": "text",
    "id": "TNk4Uz27wVZc"
   },
   "source": [
    "7. **Visualization**\n",
    "    - **`history =  model.fit()` creates history object with .history attribute.**\n",
    "        - `history.history()` returns a dictionary of metrics from each epoch. \n",
    "            - `history.history['loss']` and `history.history['acc']` \n",
    " "
   ]
  },
  {
   "cell_type": "markdown",
   "metadata": {},
   "source": [
    "<img src=\"https://raw.githubusercontent.com/learn-co-students/dsc-image-classification-with-mlps-online-ds-ft-100719/master/images/Deeper_network.jpg\">"
   ]
  },
  {
   "cell_type": "markdown",
   "metadata": {},
   "source": [
    "# Activity: Deeper Neural Networks Lab"
   ]
  },
  {
   "cell_type": "markdown",
   "metadata": {},
   "source": [
    "> **Bonus Assignment for us: Add a final model where we use MinMaxScaler instead of StandardScaler and look for convergence.**"
   ]
  },
  {
   "cell_type": "code",
   "execution_count": null,
   "metadata": {},
   "outputs": [],
   "source": []
  },
  {
   "cell_type": "markdown",
   "metadata": {},
   "source": [
    "## Deeper Neural Networks - Lab\n",
    "\n",
    "### Introduction\n",
    "\n",
    "In this lesson, we'll dig deeper into the work horse of deep learning, **_Multi-Layer Perceptrons_**! We'll build and train a couple of different MLPs with Keras and explore the tradeoffs that come with adding extra hidden layers. We'll also try switching between some of the activation functions we learned about in the previous lesson to see how they affect training and performance. \n",
    "\n",
    "\n",
    "## Objectives\n",
    "\n",
    "- Build a deep neural network using Keras \n",
    "\n",
    "\n",
    "## Getting Started\n",
    "\n",
    "Run the cell below to import everything we'll need for this lab. "
   ]
  },
  {
   "cell_type": "code",
   "execution_count": 7,
   "metadata": {
    "ExecuteTime": {
     "end_time": "2020-12-03T19:59:42.188991Z",
     "start_time": "2020-12-03T19:59:38.471304Z"
    }
   },
   "outputs": [],
   "source": [
    "import pandas as pd\n",
    "import numpy as np\n",
    "import matplotlib.pyplot as plt\n",
    "%matplotlib inline\n",
    "import keras\n",
    "from keras.models import Sequential\n",
    "from keras.layers import Dense\n",
    "from sklearn.datasets import load_breast_cancer\n",
    "from sklearn.preprocessing import StandardScaler, LabelBinarizer"
   ]
  },
  {
   "cell_type": "markdown",
   "metadata": {},
   "source": [
    "For this lab, we'll be working with the [Boston Breast Cancer Dataset](https://www.kaggle.com/uciml/breast-cancer-wisconsin-data). Although we're importing this dataset directly from scikit-learn, the Kaggle link above contains a detailed explanation of the dataset, in case you're interested. We recommend you take a minute to familiarize yourself with the dataset before digging in. \n",
    "\n",
    "In the cell below:\n",
    "\n",
    "* Call `load_breast_cancer()` to store the dataset  \n",
    "* Access the `.data`, `.target`, and `.feature_names` attributes and store them in the appropriate variables below "
   ]
  },
  {
   "cell_type": "code",
   "execution_count": 8,
   "metadata": {
    "ExecuteTime": {
     "end_time": "2020-12-03T20:00:10.850356Z",
     "start_time": "2020-12-03T20:00:10.835195Z"
    }
   },
   "outputs": [],
   "source": [
    "bc_dataset = load_breast_cancer()\n",
    "data = bc_dataset.data\n",
    "target = bc_dataset.target\n",
    "col_names = bc_dataset.feature_names"
   ]
  },
  {
   "cell_type": "markdown",
   "metadata": {},
   "source": [
    "Now, let's create a DataFrame so that we can see the data and explore it a bit more easily with the column names attached. \n",
    "\n",
    "- In the cell below, create a pandas DataFrame from `data` (use `col_names` for column names)  \n",
    "- Print the `.head()` of the DataFrame "
   ]
  },
  {
   "cell_type": "code",
   "execution_count": 9,
   "metadata": {
    "ExecuteTime": {
     "end_time": "2020-12-03T20:00:12.928094Z",
     "start_time": "2020-12-03T20:00:12.893077Z"
    }
   },
   "outputs": [
    {
     "data": {
      "text/html": [
       "<div>\n",
       "<style scoped>\n",
       "    .dataframe tbody tr th:only-of-type {\n",
       "        vertical-align: middle;\n",
       "    }\n",
       "\n",
       "    .dataframe tbody tr th {\n",
       "        vertical-align: top;\n",
       "    }\n",
       "\n",
       "    .dataframe thead th {\n",
       "        text-align: right;\n",
       "    }\n",
       "</style>\n",
       "<table border=\"1\" class=\"dataframe\">\n",
       "  <thead>\n",
       "    <tr style=\"text-align: right;\">\n",
       "      <th></th>\n",
       "      <th>mean radius</th>\n",
       "      <th>mean texture</th>\n",
       "      <th>mean perimeter</th>\n",
       "      <th>mean area</th>\n",
       "      <th>mean smoothness</th>\n",
       "      <th>mean compactness</th>\n",
       "      <th>mean concavity</th>\n",
       "      <th>mean concave points</th>\n",
       "      <th>mean symmetry</th>\n",
       "      <th>mean fractal dimension</th>\n",
       "      <th>...</th>\n",
       "      <th>worst radius</th>\n",
       "      <th>worst texture</th>\n",
       "      <th>worst perimeter</th>\n",
       "      <th>worst area</th>\n",
       "      <th>worst smoothness</th>\n",
       "      <th>worst compactness</th>\n",
       "      <th>worst concavity</th>\n",
       "      <th>worst concave points</th>\n",
       "      <th>worst symmetry</th>\n",
       "      <th>worst fractal dimension</th>\n",
       "    </tr>\n",
       "  </thead>\n",
       "  <tbody>\n",
       "    <tr>\n",
       "      <th>0</th>\n",
       "      <td>17.99</td>\n",
       "      <td>10.38</td>\n",
       "      <td>122.80</td>\n",
       "      <td>1001.0</td>\n",
       "      <td>0.11840</td>\n",
       "      <td>0.27760</td>\n",
       "      <td>0.3001</td>\n",
       "      <td>0.14710</td>\n",
       "      <td>0.2419</td>\n",
       "      <td>0.07871</td>\n",
       "      <td>...</td>\n",
       "      <td>25.38</td>\n",
       "      <td>17.33</td>\n",
       "      <td>184.60</td>\n",
       "      <td>2019.0</td>\n",
       "      <td>0.1622</td>\n",
       "      <td>0.6656</td>\n",
       "      <td>0.7119</td>\n",
       "      <td>0.2654</td>\n",
       "      <td>0.4601</td>\n",
       "      <td>0.11890</td>\n",
       "    </tr>\n",
       "    <tr>\n",
       "      <th>1</th>\n",
       "      <td>20.57</td>\n",
       "      <td>17.77</td>\n",
       "      <td>132.90</td>\n",
       "      <td>1326.0</td>\n",
       "      <td>0.08474</td>\n",
       "      <td>0.07864</td>\n",
       "      <td>0.0869</td>\n",
       "      <td>0.07017</td>\n",
       "      <td>0.1812</td>\n",
       "      <td>0.05667</td>\n",
       "      <td>...</td>\n",
       "      <td>24.99</td>\n",
       "      <td>23.41</td>\n",
       "      <td>158.80</td>\n",
       "      <td>1956.0</td>\n",
       "      <td>0.1238</td>\n",
       "      <td>0.1866</td>\n",
       "      <td>0.2416</td>\n",
       "      <td>0.1860</td>\n",
       "      <td>0.2750</td>\n",
       "      <td>0.08902</td>\n",
       "    </tr>\n",
       "    <tr>\n",
       "      <th>2</th>\n",
       "      <td>19.69</td>\n",
       "      <td>21.25</td>\n",
       "      <td>130.00</td>\n",
       "      <td>1203.0</td>\n",
       "      <td>0.10960</td>\n",
       "      <td>0.15990</td>\n",
       "      <td>0.1974</td>\n",
       "      <td>0.12790</td>\n",
       "      <td>0.2069</td>\n",
       "      <td>0.05999</td>\n",
       "      <td>...</td>\n",
       "      <td>23.57</td>\n",
       "      <td>25.53</td>\n",
       "      <td>152.50</td>\n",
       "      <td>1709.0</td>\n",
       "      <td>0.1444</td>\n",
       "      <td>0.4245</td>\n",
       "      <td>0.4504</td>\n",
       "      <td>0.2430</td>\n",
       "      <td>0.3613</td>\n",
       "      <td>0.08758</td>\n",
       "    </tr>\n",
       "    <tr>\n",
       "      <th>3</th>\n",
       "      <td>11.42</td>\n",
       "      <td>20.38</td>\n",
       "      <td>77.58</td>\n",
       "      <td>386.1</td>\n",
       "      <td>0.14250</td>\n",
       "      <td>0.28390</td>\n",
       "      <td>0.2414</td>\n",
       "      <td>0.10520</td>\n",
       "      <td>0.2597</td>\n",
       "      <td>0.09744</td>\n",
       "      <td>...</td>\n",
       "      <td>14.91</td>\n",
       "      <td>26.50</td>\n",
       "      <td>98.87</td>\n",
       "      <td>567.7</td>\n",
       "      <td>0.2098</td>\n",
       "      <td>0.8663</td>\n",
       "      <td>0.6869</td>\n",
       "      <td>0.2575</td>\n",
       "      <td>0.6638</td>\n",
       "      <td>0.17300</td>\n",
       "    </tr>\n",
       "    <tr>\n",
       "      <th>4</th>\n",
       "      <td>20.29</td>\n",
       "      <td>14.34</td>\n",
       "      <td>135.10</td>\n",
       "      <td>1297.0</td>\n",
       "      <td>0.10030</td>\n",
       "      <td>0.13280</td>\n",
       "      <td>0.1980</td>\n",
       "      <td>0.10430</td>\n",
       "      <td>0.1809</td>\n",
       "      <td>0.05883</td>\n",
       "      <td>...</td>\n",
       "      <td>22.54</td>\n",
       "      <td>16.67</td>\n",
       "      <td>152.20</td>\n",
       "      <td>1575.0</td>\n",
       "      <td>0.1374</td>\n",
       "      <td>0.2050</td>\n",
       "      <td>0.4000</td>\n",
       "      <td>0.1625</td>\n",
       "      <td>0.2364</td>\n",
       "      <td>0.07678</td>\n",
       "    </tr>\n",
       "  </tbody>\n",
       "</table>\n",
       "<p>5 rows × 30 columns</p>\n",
       "</div>"
      ],
      "text/plain": [
       "   mean radius  mean texture  mean perimeter  mean area  mean smoothness  \\\n",
       "0        17.99         10.38          122.80     1001.0          0.11840   \n",
       "1        20.57         17.77          132.90     1326.0          0.08474   \n",
       "2        19.69         21.25          130.00     1203.0          0.10960   \n",
       "3        11.42         20.38           77.58      386.1          0.14250   \n",
       "4        20.29         14.34          135.10     1297.0          0.10030   \n",
       "\n",
       "   mean compactness  mean concavity  mean concave points  mean symmetry  \\\n",
       "0           0.27760          0.3001              0.14710         0.2419   \n",
       "1           0.07864          0.0869              0.07017         0.1812   \n",
       "2           0.15990          0.1974              0.12790         0.2069   \n",
       "3           0.28390          0.2414              0.10520         0.2597   \n",
       "4           0.13280          0.1980              0.10430         0.1809   \n",
       "\n",
       "   mean fractal dimension  ...  worst radius  worst texture  worst perimeter  \\\n",
       "0                 0.07871  ...         25.38          17.33           184.60   \n",
       "1                 0.05667  ...         24.99          23.41           158.80   \n",
       "2                 0.05999  ...         23.57          25.53           152.50   \n",
       "3                 0.09744  ...         14.91          26.50            98.87   \n",
       "4                 0.05883  ...         22.54          16.67           152.20   \n",
       "\n",
       "   worst area  worst smoothness  worst compactness  worst concavity  \\\n",
       "0      2019.0            0.1622             0.6656           0.7119   \n",
       "1      1956.0            0.1238             0.1866           0.2416   \n",
       "2      1709.0            0.1444             0.4245           0.4504   \n",
       "3       567.7            0.2098             0.8663           0.6869   \n",
       "4      1575.0            0.1374             0.2050           0.4000   \n",
       "\n",
       "   worst concave points  worst symmetry  worst fractal dimension  \n",
       "0                0.2654          0.4601                  0.11890  \n",
       "1                0.1860          0.2750                  0.08902  \n",
       "2                0.2430          0.3613                  0.08758  \n",
       "3                0.2575          0.6638                  0.17300  \n",
       "4                0.1625          0.2364                  0.07678  \n",
       "\n",
       "[5 rows x 30 columns]"
      ]
     },
     "execution_count": 9,
     "metadata": {},
     "output_type": "execute_result"
    }
   ],
   "source": [
    "df = pd.DataFrame(data, columns=col_names)\n",
    "df.head()"
   ]
  },
  {
   "cell_type": "markdown",
   "metadata": {},
   "source": [
    "### Getting the Data Ready for Deep Learning\n",
    "\n",
    "In order to pass this data into a neural network, we'll need to make sure that the data:\n",
    "\n",
    "* is purely numerical\n",
    "* contains no missing values\n",
    "* is normalized \n",
    "\n",
    "Let's begin by calling the DataFrame's `.info()` method to check the datatype of each feature. "
   ]
  },
  {
   "cell_type": "code",
   "execution_count": 10,
   "metadata": {
    "ExecuteTime": {
     "end_time": "2020-12-03T20:00:37.242798Z",
     "start_time": "2020-12-03T20:00:37.230452Z"
    }
   },
   "outputs": [
    {
     "name": "stdout",
     "output_type": "stream",
     "text": [
      "<class 'pandas.core.frame.DataFrame'>\n",
      "RangeIndex: 569 entries, 0 to 568\n",
      "Data columns (total 30 columns):\n",
      " #   Column                   Non-Null Count  Dtype  \n",
      "---  ------                   --------------  -----  \n",
      " 0   mean radius              569 non-null    float64\n",
      " 1   mean texture             569 non-null    float64\n",
      " 2   mean perimeter           569 non-null    float64\n",
      " 3   mean area                569 non-null    float64\n",
      " 4   mean smoothness          569 non-null    float64\n",
      " 5   mean compactness         569 non-null    float64\n",
      " 6   mean concavity           569 non-null    float64\n",
      " 7   mean concave points      569 non-null    float64\n",
      " 8   mean symmetry            569 non-null    float64\n",
      " 9   mean fractal dimension   569 non-null    float64\n",
      " 10  radius error             569 non-null    float64\n",
      " 11  texture error            569 non-null    float64\n",
      " 12  perimeter error          569 non-null    float64\n",
      " 13  area error               569 non-null    float64\n",
      " 14  smoothness error         569 non-null    float64\n",
      " 15  compactness error        569 non-null    float64\n",
      " 16  concavity error          569 non-null    float64\n",
      " 17  concave points error     569 non-null    float64\n",
      " 18  symmetry error           569 non-null    float64\n",
      " 19  fractal dimension error  569 non-null    float64\n",
      " 20  worst radius             569 non-null    float64\n",
      " 21  worst texture            569 non-null    float64\n",
      " 22  worst perimeter          569 non-null    float64\n",
      " 23  worst area               569 non-null    float64\n",
      " 24  worst smoothness         569 non-null    float64\n",
      " 25  worst compactness        569 non-null    float64\n",
      " 26  worst concavity          569 non-null    float64\n",
      " 27  worst concave points     569 non-null    float64\n",
      " 28  worst symmetry           569 non-null    float64\n",
      " 29  worst fractal dimension  569 non-null    float64\n",
      "dtypes: float64(30)\n",
      "memory usage: 133.5 KB\n"
     ]
    }
   ],
   "source": [
    "df.info()"
   ]
  },
  {
   "cell_type": "markdown",
   "metadata": {},
   "source": [
    "From the output above, we can see that the entire dataset is already in numerical format. We can also see from the counts that each feature has the same number of entries as the number of rows in the DataFrame -- that means that no feature contains any missing values. Great!\n",
    "\n",
    "Now, let's check to see if our data needs to be normalized. Instead of doing statistical tests here, let's just take a quick look at the `.head()` of the DataFrame again. Do this in the cell below. "
   ]
  },
  {
   "cell_type": "code",
   "execution_count": 12,
   "metadata": {
    "ExecuteTime": {
     "end_time": "2020-12-03T20:01:27.034748Z",
     "start_time": "2020-12-03T20:01:26.921755Z"
    }
   },
   "outputs": [
    {
     "data": {
      "text/html": [
       "<div>\n",
       "<style scoped>\n",
       "    .dataframe tbody tr th:only-of-type {\n",
       "        vertical-align: middle;\n",
       "    }\n",
       "\n",
       "    .dataframe tbody tr th {\n",
       "        vertical-align: top;\n",
       "    }\n",
       "\n",
       "    .dataframe thead th {\n",
       "        text-align: right;\n",
       "    }\n",
       "</style>\n",
       "<table border=\"1\" class=\"dataframe\">\n",
       "  <thead>\n",
       "    <tr style=\"text-align: right;\">\n",
       "      <th></th>\n",
       "      <th>mean radius</th>\n",
       "      <th>mean texture</th>\n",
       "      <th>mean perimeter</th>\n",
       "      <th>mean area</th>\n",
       "      <th>mean smoothness</th>\n",
       "      <th>mean compactness</th>\n",
       "      <th>mean concavity</th>\n",
       "      <th>mean concave points</th>\n",
       "      <th>mean symmetry</th>\n",
       "      <th>mean fractal dimension</th>\n",
       "      <th>...</th>\n",
       "      <th>worst radius</th>\n",
       "      <th>worst texture</th>\n",
       "      <th>worst perimeter</th>\n",
       "      <th>worst area</th>\n",
       "      <th>worst smoothness</th>\n",
       "      <th>worst compactness</th>\n",
       "      <th>worst concavity</th>\n",
       "      <th>worst concave points</th>\n",
       "      <th>worst symmetry</th>\n",
       "      <th>worst fractal dimension</th>\n",
       "    </tr>\n",
       "  </thead>\n",
       "  <tbody>\n",
       "    <tr>\n",
       "      <th>count</th>\n",
       "      <td>569.00</td>\n",
       "      <td>569.00</td>\n",
       "      <td>569.00</td>\n",
       "      <td>569.00</td>\n",
       "      <td>569.00</td>\n",
       "      <td>569.00</td>\n",
       "      <td>569.00</td>\n",
       "      <td>569.00</td>\n",
       "      <td>569.00</td>\n",
       "      <td>569.00</td>\n",
       "      <td>...</td>\n",
       "      <td>569.00</td>\n",
       "      <td>569.00</td>\n",
       "      <td>569.00</td>\n",
       "      <td>569.00</td>\n",
       "      <td>569.00</td>\n",
       "      <td>569.00</td>\n",
       "      <td>569.00</td>\n",
       "      <td>569.00</td>\n",
       "      <td>569.00</td>\n",
       "      <td>569.00</td>\n",
       "    </tr>\n",
       "    <tr>\n",
       "      <th>mean</th>\n",
       "      <td>14.13</td>\n",
       "      <td>19.29</td>\n",
       "      <td>91.97</td>\n",
       "      <td>654.89</td>\n",
       "      <td>0.10</td>\n",
       "      <td>0.10</td>\n",
       "      <td>0.09</td>\n",
       "      <td>0.05</td>\n",
       "      <td>0.18</td>\n",
       "      <td>0.06</td>\n",
       "      <td>...</td>\n",
       "      <td>16.27</td>\n",
       "      <td>25.68</td>\n",
       "      <td>107.26</td>\n",
       "      <td>880.58</td>\n",
       "      <td>0.13</td>\n",
       "      <td>0.25</td>\n",
       "      <td>0.27</td>\n",
       "      <td>0.11</td>\n",
       "      <td>0.29</td>\n",
       "      <td>0.08</td>\n",
       "    </tr>\n",
       "    <tr>\n",
       "      <th>std</th>\n",
       "      <td>3.52</td>\n",
       "      <td>4.30</td>\n",
       "      <td>24.30</td>\n",
       "      <td>351.91</td>\n",
       "      <td>0.01</td>\n",
       "      <td>0.05</td>\n",
       "      <td>0.08</td>\n",
       "      <td>0.04</td>\n",
       "      <td>0.03</td>\n",
       "      <td>0.01</td>\n",
       "      <td>...</td>\n",
       "      <td>4.83</td>\n",
       "      <td>6.15</td>\n",
       "      <td>33.60</td>\n",
       "      <td>569.36</td>\n",
       "      <td>0.02</td>\n",
       "      <td>0.16</td>\n",
       "      <td>0.21</td>\n",
       "      <td>0.07</td>\n",
       "      <td>0.06</td>\n",
       "      <td>0.02</td>\n",
       "    </tr>\n",
       "    <tr>\n",
       "      <th>min</th>\n",
       "      <td>6.98</td>\n",
       "      <td>9.71</td>\n",
       "      <td>43.79</td>\n",
       "      <td>143.50</td>\n",
       "      <td>0.05</td>\n",
       "      <td>0.02</td>\n",
       "      <td>0.00</td>\n",
       "      <td>0.00</td>\n",
       "      <td>0.11</td>\n",
       "      <td>0.05</td>\n",
       "      <td>...</td>\n",
       "      <td>7.93</td>\n",
       "      <td>12.02</td>\n",
       "      <td>50.41</td>\n",
       "      <td>185.20</td>\n",
       "      <td>0.07</td>\n",
       "      <td>0.03</td>\n",
       "      <td>0.00</td>\n",
       "      <td>0.00</td>\n",
       "      <td>0.16</td>\n",
       "      <td>0.06</td>\n",
       "    </tr>\n",
       "    <tr>\n",
       "      <th>25%</th>\n",
       "      <td>11.70</td>\n",
       "      <td>16.17</td>\n",
       "      <td>75.17</td>\n",
       "      <td>420.30</td>\n",
       "      <td>0.09</td>\n",
       "      <td>0.06</td>\n",
       "      <td>0.03</td>\n",
       "      <td>0.02</td>\n",
       "      <td>0.16</td>\n",
       "      <td>0.06</td>\n",
       "      <td>...</td>\n",
       "      <td>13.01</td>\n",
       "      <td>21.08</td>\n",
       "      <td>84.11</td>\n",
       "      <td>515.30</td>\n",
       "      <td>0.12</td>\n",
       "      <td>0.15</td>\n",
       "      <td>0.11</td>\n",
       "      <td>0.06</td>\n",
       "      <td>0.25</td>\n",
       "      <td>0.07</td>\n",
       "    </tr>\n",
       "    <tr>\n",
       "      <th>50%</th>\n",
       "      <td>13.37</td>\n",
       "      <td>18.84</td>\n",
       "      <td>86.24</td>\n",
       "      <td>551.10</td>\n",
       "      <td>0.10</td>\n",
       "      <td>0.09</td>\n",
       "      <td>0.06</td>\n",
       "      <td>0.03</td>\n",
       "      <td>0.18</td>\n",
       "      <td>0.06</td>\n",
       "      <td>...</td>\n",
       "      <td>14.97</td>\n",
       "      <td>25.41</td>\n",
       "      <td>97.66</td>\n",
       "      <td>686.50</td>\n",
       "      <td>0.13</td>\n",
       "      <td>0.21</td>\n",
       "      <td>0.23</td>\n",
       "      <td>0.10</td>\n",
       "      <td>0.28</td>\n",
       "      <td>0.08</td>\n",
       "    </tr>\n",
       "    <tr>\n",
       "      <th>75%</th>\n",
       "      <td>15.78</td>\n",
       "      <td>21.80</td>\n",
       "      <td>104.10</td>\n",
       "      <td>782.70</td>\n",
       "      <td>0.11</td>\n",
       "      <td>0.13</td>\n",
       "      <td>0.13</td>\n",
       "      <td>0.07</td>\n",
       "      <td>0.20</td>\n",
       "      <td>0.07</td>\n",
       "      <td>...</td>\n",
       "      <td>18.79</td>\n",
       "      <td>29.72</td>\n",
       "      <td>125.40</td>\n",
       "      <td>1084.00</td>\n",
       "      <td>0.15</td>\n",
       "      <td>0.34</td>\n",
       "      <td>0.38</td>\n",
       "      <td>0.16</td>\n",
       "      <td>0.32</td>\n",
       "      <td>0.09</td>\n",
       "    </tr>\n",
       "    <tr>\n",
       "      <th>max</th>\n",
       "      <td>28.11</td>\n",
       "      <td>39.28</td>\n",
       "      <td>188.50</td>\n",
       "      <td>2501.00</td>\n",
       "      <td>0.16</td>\n",
       "      <td>0.35</td>\n",
       "      <td>0.43</td>\n",
       "      <td>0.20</td>\n",
       "      <td>0.30</td>\n",
       "      <td>0.10</td>\n",
       "      <td>...</td>\n",
       "      <td>36.04</td>\n",
       "      <td>49.54</td>\n",
       "      <td>251.20</td>\n",
       "      <td>4254.00</td>\n",
       "      <td>0.22</td>\n",
       "      <td>1.06</td>\n",
       "      <td>1.25</td>\n",
       "      <td>0.29</td>\n",
       "      <td>0.66</td>\n",
       "      <td>0.21</td>\n",
       "    </tr>\n",
       "  </tbody>\n",
       "</table>\n",
       "<p>8 rows × 30 columns</p>\n",
       "</div>"
      ],
      "text/plain": [
       "       mean radius  mean texture  mean perimeter  mean area  mean smoothness  \\\n",
       "count       569.00        569.00          569.00     569.00           569.00   \n",
       "mean         14.13         19.29           91.97     654.89             0.10   \n",
       "std           3.52          4.30           24.30     351.91             0.01   \n",
       "min           6.98          9.71           43.79     143.50             0.05   \n",
       "25%          11.70         16.17           75.17     420.30             0.09   \n",
       "50%          13.37         18.84           86.24     551.10             0.10   \n",
       "75%          15.78         21.80          104.10     782.70             0.11   \n",
       "max          28.11         39.28          188.50    2501.00             0.16   \n",
       "\n",
       "       mean compactness  mean concavity  mean concave points  mean symmetry  \\\n",
       "count            569.00          569.00               569.00         569.00   \n",
       "mean               0.10            0.09                 0.05           0.18   \n",
       "std                0.05            0.08                 0.04           0.03   \n",
       "min                0.02            0.00                 0.00           0.11   \n",
       "25%                0.06            0.03                 0.02           0.16   \n",
       "50%                0.09            0.06                 0.03           0.18   \n",
       "75%                0.13            0.13                 0.07           0.20   \n",
       "max                0.35            0.43                 0.20           0.30   \n",
       "\n",
       "       mean fractal dimension  ...  worst radius  worst texture  \\\n",
       "count                  569.00  ...        569.00         569.00   \n",
       "mean                     0.06  ...         16.27          25.68   \n",
       "std                      0.01  ...          4.83           6.15   \n",
       "min                      0.05  ...          7.93          12.02   \n",
       "25%                      0.06  ...         13.01          21.08   \n",
       "50%                      0.06  ...         14.97          25.41   \n",
       "75%                      0.07  ...         18.79          29.72   \n",
       "max                      0.10  ...         36.04          49.54   \n",
       "\n",
       "       worst perimeter  worst area  worst smoothness  worst compactness  \\\n",
       "count           569.00      569.00            569.00             569.00   \n",
       "mean            107.26      880.58              0.13               0.25   \n",
       "std              33.60      569.36              0.02               0.16   \n",
       "min              50.41      185.20              0.07               0.03   \n",
       "25%              84.11      515.30              0.12               0.15   \n",
       "50%              97.66      686.50              0.13               0.21   \n",
       "75%             125.40     1084.00              0.15               0.34   \n",
       "max             251.20     4254.00              0.22               1.06   \n",
       "\n",
       "       worst concavity  worst concave points  worst symmetry  \\\n",
       "count           569.00                569.00          569.00   \n",
       "mean              0.27                  0.11            0.29   \n",
       "std               0.21                  0.07            0.06   \n",
       "min               0.00                  0.00            0.16   \n",
       "25%               0.11                  0.06            0.25   \n",
       "50%               0.23                  0.10            0.28   \n",
       "75%               0.38                  0.16            0.32   \n",
       "max               1.25                  0.29            0.66   \n",
       "\n",
       "       worst fractal dimension  \n",
       "count                   569.00  \n",
       "mean                      0.08  \n",
       "std                       0.02  \n",
       "min                       0.06  \n",
       "25%                       0.07  \n",
       "50%                       0.08  \n",
       "75%                       0.09  \n",
       "max                       0.21  \n",
       "\n",
       "[8 rows x 30 columns]"
      ]
     },
     "execution_count": 12,
     "metadata": {},
     "output_type": "execute_result"
    }
   ],
   "source": [
    "df.describe().round(2)"
   ]
  },
  {
   "cell_type": "markdown",
   "metadata": {},
   "source": [
    "As we can see from comparing `mean radius` and `mean area`, columns are clearly on different scales, which means that we need to normalize our dataset. To do this, we'll make use of scikit-learn's `StandardScaler()` class. \n",
    "\n",
    "In the cell below, instantiate a `StandardScaler` and use it to create a normalized version of our dataset. "
   ]
  },
  {
   "cell_type": "code",
   "execution_count": 15,
   "metadata": {
    "ExecuteTime": {
     "end_time": "2020-12-03T20:04:14.285288Z",
     "start_time": "2020-12-03T20:04:14.249455Z"
    }
   },
   "outputs": [
    {
     "data": {
      "text/html": [
       "<div>\n",
       "<style scoped>\n",
       "    .dataframe tbody tr th:only-of-type {\n",
       "        vertical-align: middle;\n",
       "    }\n",
       "\n",
       "    .dataframe tbody tr th {\n",
       "        vertical-align: top;\n",
       "    }\n",
       "\n",
       "    .dataframe thead th {\n",
       "        text-align: right;\n",
       "    }\n",
       "</style>\n",
       "<table border=\"1\" class=\"dataframe\">\n",
       "  <thead>\n",
       "    <tr style=\"text-align: right;\">\n",
       "      <th></th>\n",
       "      <th>mean radius</th>\n",
       "      <th>mean texture</th>\n",
       "      <th>mean perimeter</th>\n",
       "      <th>mean area</th>\n",
       "      <th>mean smoothness</th>\n",
       "      <th>mean compactness</th>\n",
       "      <th>mean concavity</th>\n",
       "      <th>mean concave points</th>\n",
       "      <th>mean symmetry</th>\n",
       "      <th>mean fractal dimension</th>\n",
       "      <th>...</th>\n",
       "      <th>worst radius</th>\n",
       "      <th>worst texture</th>\n",
       "      <th>worst perimeter</th>\n",
       "      <th>worst area</th>\n",
       "      <th>worst smoothness</th>\n",
       "      <th>worst compactness</th>\n",
       "      <th>worst concavity</th>\n",
       "      <th>worst concave points</th>\n",
       "      <th>worst symmetry</th>\n",
       "      <th>worst fractal dimension</th>\n",
       "    </tr>\n",
       "  </thead>\n",
       "  <tbody>\n",
       "    <tr>\n",
       "      <th>0</th>\n",
       "      <td>1.097064</td>\n",
       "      <td>-2.073335</td>\n",
       "      <td>1.269934</td>\n",
       "      <td>0.984375</td>\n",
       "      <td>1.568466</td>\n",
       "      <td>3.283515</td>\n",
       "      <td>2.652874</td>\n",
       "      <td>2.532475</td>\n",
       "      <td>2.217515</td>\n",
       "      <td>2.255747</td>\n",
       "      <td>...</td>\n",
       "      <td>1.886690</td>\n",
       "      <td>-1.359293</td>\n",
       "      <td>2.303601</td>\n",
       "      <td>2.001237</td>\n",
       "      <td>1.307686</td>\n",
       "      <td>2.616665</td>\n",
       "      <td>2.109526</td>\n",
       "      <td>2.296076</td>\n",
       "      <td>2.750622</td>\n",
       "      <td>1.937015</td>\n",
       "    </tr>\n",
       "    <tr>\n",
       "      <th>1</th>\n",
       "      <td>1.829821</td>\n",
       "      <td>-0.353632</td>\n",
       "      <td>1.685955</td>\n",
       "      <td>1.908708</td>\n",
       "      <td>-0.826962</td>\n",
       "      <td>-0.487072</td>\n",
       "      <td>-0.023846</td>\n",
       "      <td>0.548144</td>\n",
       "      <td>0.001392</td>\n",
       "      <td>-0.868652</td>\n",
       "      <td>...</td>\n",
       "      <td>1.805927</td>\n",
       "      <td>-0.369203</td>\n",
       "      <td>1.535126</td>\n",
       "      <td>1.890489</td>\n",
       "      <td>-0.375612</td>\n",
       "      <td>-0.430444</td>\n",
       "      <td>-0.146749</td>\n",
       "      <td>1.087084</td>\n",
       "      <td>-0.243890</td>\n",
       "      <td>0.281190</td>\n",
       "    </tr>\n",
       "    <tr>\n",
       "      <th>2</th>\n",
       "      <td>1.579888</td>\n",
       "      <td>0.456187</td>\n",
       "      <td>1.566503</td>\n",
       "      <td>1.558884</td>\n",
       "      <td>0.942210</td>\n",
       "      <td>1.052926</td>\n",
       "      <td>1.363478</td>\n",
       "      <td>2.037231</td>\n",
       "      <td>0.939685</td>\n",
       "      <td>-0.398008</td>\n",
       "      <td>...</td>\n",
       "      <td>1.511870</td>\n",
       "      <td>-0.023974</td>\n",
       "      <td>1.347475</td>\n",
       "      <td>1.456285</td>\n",
       "      <td>0.527407</td>\n",
       "      <td>1.082932</td>\n",
       "      <td>0.854974</td>\n",
       "      <td>1.955000</td>\n",
       "      <td>1.152255</td>\n",
       "      <td>0.201391</td>\n",
       "    </tr>\n",
       "    <tr>\n",
       "      <th>3</th>\n",
       "      <td>-0.768909</td>\n",
       "      <td>0.253732</td>\n",
       "      <td>-0.592687</td>\n",
       "      <td>-0.764464</td>\n",
       "      <td>3.283553</td>\n",
       "      <td>3.402909</td>\n",
       "      <td>1.915897</td>\n",
       "      <td>1.451707</td>\n",
       "      <td>2.867383</td>\n",
       "      <td>4.910919</td>\n",
       "      <td>...</td>\n",
       "      <td>-0.281464</td>\n",
       "      <td>0.133984</td>\n",
       "      <td>-0.249939</td>\n",
       "      <td>-0.550021</td>\n",
       "      <td>3.394275</td>\n",
       "      <td>3.893397</td>\n",
       "      <td>1.989588</td>\n",
       "      <td>2.175786</td>\n",
       "      <td>6.046041</td>\n",
       "      <td>4.935010</td>\n",
       "    </tr>\n",
       "    <tr>\n",
       "      <th>4</th>\n",
       "      <td>1.750297</td>\n",
       "      <td>-1.151816</td>\n",
       "      <td>1.776573</td>\n",
       "      <td>1.826229</td>\n",
       "      <td>0.280372</td>\n",
       "      <td>0.539340</td>\n",
       "      <td>1.371011</td>\n",
       "      <td>1.428493</td>\n",
       "      <td>-0.009560</td>\n",
       "      <td>-0.562450</td>\n",
       "      <td>...</td>\n",
       "      <td>1.298575</td>\n",
       "      <td>-1.466770</td>\n",
       "      <td>1.338539</td>\n",
       "      <td>1.220724</td>\n",
       "      <td>0.220556</td>\n",
       "      <td>-0.313395</td>\n",
       "      <td>0.613179</td>\n",
       "      <td>0.729259</td>\n",
       "      <td>-0.868353</td>\n",
       "      <td>-0.397100</td>\n",
       "    </tr>\n",
       "    <tr>\n",
       "      <th>...</th>\n",
       "      <td>...</td>\n",
       "      <td>...</td>\n",
       "      <td>...</td>\n",
       "      <td>...</td>\n",
       "      <td>...</td>\n",
       "      <td>...</td>\n",
       "      <td>...</td>\n",
       "      <td>...</td>\n",
       "      <td>...</td>\n",
       "      <td>...</td>\n",
       "      <td>...</td>\n",
       "      <td>...</td>\n",
       "      <td>...</td>\n",
       "      <td>...</td>\n",
       "      <td>...</td>\n",
       "      <td>...</td>\n",
       "      <td>...</td>\n",
       "      <td>...</td>\n",
       "      <td>...</td>\n",
       "      <td>...</td>\n",
       "      <td>...</td>\n",
       "    </tr>\n",
       "    <tr>\n",
       "      <th>564</th>\n",
       "      <td>2.110995</td>\n",
       "      <td>0.721473</td>\n",
       "      <td>2.060786</td>\n",
       "      <td>2.343856</td>\n",
       "      <td>1.041842</td>\n",
       "      <td>0.219060</td>\n",
       "      <td>1.947285</td>\n",
       "      <td>2.320965</td>\n",
       "      <td>-0.312589</td>\n",
       "      <td>-0.931027</td>\n",
       "      <td>...</td>\n",
       "      <td>1.901185</td>\n",
       "      <td>0.117700</td>\n",
       "      <td>1.752563</td>\n",
       "      <td>2.015301</td>\n",
       "      <td>0.378365</td>\n",
       "      <td>-0.273318</td>\n",
       "      <td>0.664512</td>\n",
       "      <td>1.629151</td>\n",
       "      <td>-1.360158</td>\n",
       "      <td>-0.709091</td>\n",
       "    </tr>\n",
       "    <tr>\n",
       "      <th>565</th>\n",
       "      <td>1.704854</td>\n",
       "      <td>2.085134</td>\n",
       "      <td>1.615931</td>\n",
       "      <td>1.723842</td>\n",
       "      <td>0.102458</td>\n",
       "      <td>-0.017833</td>\n",
       "      <td>0.693043</td>\n",
       "      <td>1.263669</td>\n",
       "      <td>-0.217664</td>\n",
       "      <td>-1.058611</td>\n",
       "      <td>...</td>\n",
       "      <td>1.536720</td>\n",
       "      <td>2.047399</td>\n",
       "      <td>1.421940</td>\n",
       "      <td>1.494959</td>\n",
       "      <td>-0.691230</td>\n",
       "      <td>-0.394820</td>\n",
       "      <td>0.236573</td>\n",
       "      <td>0.733827</td>\n",
       "      <td>-0.531855</td>\n",
       "      <td>-0.973978</td>\n",
       "    </tr>\n",
       "    <tr>\n",
       "      <th>566</th>\n",
       "      <td>0.702284</td>\n",
       "      <td>2.045574</td>\n",
       "      <td>0.672676</td>\n",
       "      <td>0.577953</td>\n",
       "      <td>-0.840484</td>\n",
       "      <td>-0.038680</td>\n",
       "      <td>0.046588</td>\n",
       "      <td>0.105777</td>\n",
       "      <td>-0.809117</td>\n",
       "      <td>-0.895587</td>\n",
       "      <td>...</td>\n",
       "      <td>0.561361</td>\n",
       "      <td>1.374854</td>\n",
       "      <td>0.579001</td>\n",
       "      <td>0.427906</td>\n",
       "      <td>-0.809587</td>\n",
       "      <td>0.350735</td>\n",
       "      <td>0.326767</td>\n",
       "      <td>0.414069</td>\n",
       "      <td>-1.104549</td>\n",
       "      <td>-0.318409</td>\n",
       "    </tr>\n",
       "    <tr>\n",
       "      <th>567</th>\n",
       "      <td>1.838341</td>\n",
       "      <td>2.336457</td>\n",
       "      <td>1.982524</td>\n",
       "      <td>1.735218</td>\n",
       "      <td>1.525767</td>\n",
       "      <td>3.272144</td>\n",
       "      <td>3.296944</td>\n",
       "      <td>2.658866</td>\n",
       "      <td>2.137194</td>\n",
       "      <td>1.043695</td>\n",
       "      <td>...</td>\n",
       "      <td>1.961239</td>\n",
       "      <td>2.237926</td>\n",
       "      <td>2.303601</td>\n",
       "      <td>1.653171</td>\n",
       "      <td>1.430427</td>\n",
       "      <td>3.904848</td>\n",
       "      <td>3.197605</td>\n",
       "      <td>2.289985</td>\n",
       "      <td>1.919083</td>\n",
       "      <td>2.219635</td>\n",
       "    </tr>\n",
       "    <tr>\n",
       "      <th>568</th>\n",
       "      <td>-1.808401</td>\n",
       "      <td>1.221792</td>\n",
       "      <td>-1.814389</td>\n",
       "      <td>-1.347789</td>\n",
       "      <td>-3.112085</td>\n",
       "      <td>-1.150752</td>\n",
       "      <td>-1.114873</td>\n",
       "      <td>-1.261820</td>\n",
       "      <td>-0.820070</td>\n",
       "      <td>-0.561032</td>\n",
       "      <td>...</td>\n",
       "      <td>-1.410893</td>\n",
       "      <td>0.764190</td>\n",
       "      <td>-1.432735</td>\n",
       "      <td>-1.075813</td>\n",
       "      <td>-1.859019</td>\n",
       "      <td>-1.207552</td>\n",
       "      <td>-1.305831</td>\n",
       "      <td>-1.745063</td>\n",
       "      <td>-0.048138</td>\n",
       "      <td>-0.751207</td>\n",
       "    </tr>\n",
       "  </tbody>\n",
       "</table>\n",
       "<p>569 rows × 30 columns</p>\n",
       "</div>"
      ],
      "text/plain": [
       "     mean radius  mean texture  mean perimeter  mean area  mean smoothness  \\\n",
       "0       1.097064     -2.073335        1.269934   0.984375         1.568466   \n",
       "1       1.829821     -0.353632        1.685955   1.908708        -0.826962   \n",
       "2       1.579888      0.456187        1.566503   1.558884         0.942210   \n",
       "3      -0.768909      0.253732       -0.592687  -0.764464         3.283553   \n",
       "4       1.750297     -1.151816        1.776573   1.826229         0.280372   \n",
       "..           ...           ...             ...        ...              ...   \n",
       "564     2.110995      0.721473        2.060786   2.343856         1.041842   \n",
       "565     1.704854      2.085134        1.615931   1.723842         0.102458   \n",
       "566     0.702284      2.045574        0.672676   0.577953        -0.840484   \n",
       "567     1.838341      2.336457        1.982524   1.735218         1.525767   \n",
       "568    -1.808401      1.221792       -1.814389  -1.347789        -3.112085   \n",
       "\n",
       "     mean compactness  mean concavity  mean concave points  mean symmetry  \\\n",
       "0            3.283515        2.652874             2.532475       2.217515   \n",
       "1           -0.487072       -0.023846             0.548144       0.001392   \n",
       "2            1.052926        1.363478             2.037231       0.939685   \n",
       "3            3.402909        1.915897             1.451707       2.867383   \n",
       "4            0.539340        1.371011             1.428493      -0.009560   \n",
       "..                ...             ...                  ...            ...   \n",
       "564          0.219060        1.947285             2.320965      -0.312589   \n",
       "565         -0.017833        0.693043             1.263669      -0.217664   \n",
       "566         -0.038680        0.046588             0.105777      -0.809117   \n",
       "567          3.272144        3.296944             2.658866       2.137194   \n",
       "568         -1.150752       -1.114873            -1.261820      -0.820070   \n",
       "\n",
       "     mean fractal dimension  ...  worst radius  worst texture  \\\n",
       "0                  2.255747  ...      1.886690      -1.359293   \n",
       "1                 -0.868652  ...      1.805927      -0.369203   \n",
       "2                 -0.398008  ...      1.511870      -0.023974   \n",
       "3                  4.910919  ...     -0.281464       0.133984   \n",
       "4                 -0.562450  ...      1.298575      -1.466770   \n",
       "..                      ...  ...           ...            ...   \n",
       "564               -0.931027  ...      1.901185       0.117700   \n",
       "565               -1.058611  ...      1.536720       2.047399   \n",
       "566               -0.895587  ...      0.561361       1.374854   \n",
       "567                1.043695  ...      1.961239       2.237926   \n",
       "568               -0.561032  ...     -1.410893       0.764190   \n",
       "\n",
       "     worst perimeter  worst area  worst smoothness  worst compactness  \\\n",
       "0           2.303601    2.001237          1.307686           2.616665   \n",
       "1           1.535126    1.890489         -0.375612          -0.430444   \n",
       "2           1.347475    1.456285          0.527407           1.082932   \n",
       "3          -0.249939   -0.550021          3.394275           3.893397   \n",
       "4           1.338539    1.220724          0.220556          -0.313395   \n",
       "..               ...         ...               ...                ...   \n",
       "564         1.752563    2.015301          0.378365          -0.273318   \n",
       "565         1.421940    1.494959         -0.691230          -0.394820   \n",
       "566         0.579001    0.427906         -0.809587           0.350735   \n",
       "567         2.303601    1.653171          1.430427           3.904848   \n",
       "568        -1.432735   -1.075813         -1.859019          -1.207552   \n",
       "\n",
       "     worst concavity  worst concave points  worst symmetry  \\\n",
       "0           2.109526              2.296076        2.750622   \n",
       "1          -0.146749              1.087084       -0.243890   \n",
       "2           0.854974              1.955000        1.152255   \n",
       "3           1.989588              2.175786        6.046041   \n",
       "4           0.613179              0.729259       -0.868353   \n",
       "..               ...                   ...             ...   \n",
       "564         0.664512              1.629151       -1.360158   \n",
       "565         0.236573              0.733827       -0.531855   \n",
       "566         0.326767              0.414069       -1.104549   \n",
       "567         3.197605              2.289985        1.919083   \n",
       "568        -1.305831             -1.745063       -0.048138   \n",
       "\n",
       "     worst fractal dimension  \n",
       "0                   1.937015  \n",
       "1                   0.281190  \n",
       "2                   0.201391  \n",
       "3                   4.935010  \n",
       "4                  -0.397100  \n",
       "..                       ...  \n",
       "564                -0.709091  \n",
       "565                -0.973978  \n",
       "566                -0.318409  \n",
       "567                 2.219635  \n",
       "568                -0.751207  \n",
       "\n",
       "[569 rows x 30 columns]"
      ]
     },
     "execution_count": 15,
     "metadata": {},
     "output_type": "execute_result"
    }
   ],
   "source": [
    "scaler = StandardScaler()\n",
    "scaled_data = pd.DataFrame(scaler.fit_transform(df),columns=df.columns)\n",
    "scaled_data"
   ]
  },
  {
   "cell_type": "code",
   "execution_count": 17,
   "metadata": {
    "ExecuteTime": {
     "end_time": "2020-12-03T20:04:30.780092Z",
     "start_time": "2020-12-03T20:04:30.666804Z"
    }
   },
   "outputs": [
    {
     "data": {
      "text/html": [
       "<div>\n",
       "<style scoped>\n",
       "    .dataframe tbody tr th:only-of-type {\n",
       "        vertical-align: middle;\n",
       "    }\n",
       "\n",
       "    .dataframe tbody tr th {\n",
       "        vertical-align: top;\n",
       "    }\n",
       "\n",
       "    .dataframe thead th {\n",
       "        text-align: right;\n",
       "    }\n",
       "</style>\n",
       "<table border=\"1\" class=\"dataframe\">\n",
       "  <thead>\n",
       "    <tr style=\"text-align: right;\">\n",
       "      <th></th>\n",
       "      <th>mean radius</th>\n",
       "      <th>mean texture</th>\n",
       "      <th>mean perimeter</th>\n",
       "      <th>mean area</th>\n",
       "      <th>mean smoothness</th>\n",
       "      <th>mean compactness</th>\n",
       "      <th>mean concavity</th>\n",
       "      <th>mean concave points</th>\n",
       "      <th>mean symmetry</th>\n",
       "      <th>mean fractal dimension</th>\n",
       "      <th>...</th>\n",
       "      <th>worst radius</th>\n",
       "      <th>worst texture</th>\n",
       "      <th>worst perimeter</th>\n",
       "      <th>worst area</th>\n",
       "      <th>worst smoothness</th>\n",
       "      <th>worst compactness</th>\n",
       "      <th>worst concavity</th>\n",
       "      <th>worst concave points</th>\n",
       "      <th>worst symmetry</th>\n",
       "      <th>worst fractal dimension</th>\n",
       "    </tr>\n",
       "  </thead>\n",
       "  <tbody>\n",
       "    <tr>\n",
       "      <th>count</th>\n",
       "      <td>569.000</td>\n",
       "      <td>569.000</td>\n",
       "      <td>569.000</td>\n",
       "      <td>569.000</td>\n",
       "      <td>569.000</td>\n",
       "      <td>569.000</td>\n",
       "      <td>569.000</td>\n",
       "      <td>569.000</td>\n",
       "      <td>569.000</td>\n",
       "      <td>569.000</td>\n",
       "      <td>...</td>\n",
       "      <td>569.000</td>\n",
       "      <td>569.000</td>\n",
       "      <td>569.000</td>\n",
       "      <td>569.000</td>\n",
       "      <td>569.000</td>\n",
       "      <td>569.000</td>\n",
       "      <td>569.000</td>\n",
       "      <td>569.000</td>\n",
       "      <td>569.000</td>\n",
       "      <td>569.000</td>\n",
       "    </tr>\n",
       "    <tr>\n",
       "      <th>mean</th>\n",
       "      <td>-0.000</td>\n",
       "      <td>-0.000</td>\n",
       "      <td>-0.000</td>\n",
       "      <td>-0.000</td>\n",
       "      <td>0.000</td>\n",
       "      <td>-0.000</td>\n",
       "      <td>-0.000</td>\n",
       "      <td>0.000</td>\n",
       "      <td>-0.000</td>\n",
       "      <td>-0.000</td>\n",
       "      <td>...</td>\n",
       "      <td>-0.000</td>\n",
       "      <td>0.000</td>\n",
       "      <td>-0.000</td>\n",
       "      <td>0.000</td>\n",
       "      <td>-0.000</td>\n",
       "      <td>-0.000</td>\n",
       "      <td>0.000</td>\n",
       "      <td>-0.000</td>\n",
       "      <td>-0.000</td>\n",
       "      <td>0.000</td>\n",
       "    </tr>\n",
       "    <tr>\n",
       "      <th>std</th>\n",
       "      <td>1.001</td>\n",
       "      <td>1.001</td>\n",
       "      <td>1.001</td>\n",
       "      <td>1.001</td>\n",
       "      <td>1.001</td>\n",
       "      <td>1.001</td>\n",
       "      <td>1.001</td>\n",
       "      <td>1.001</td>\n",
       "      <td>1.001</td>\n",
       "      <td>1.001</td>\n",
       "      <td>...</td>\n",
       "      <td>1.001</td>\n",
       "      <td>1.001</td>\n",
       "      <td>1.001</td>\n",
       "      <td>1.001</td>\n",
       "      <td>1.001</td>\n",
       "      <td>1.001</td>\n",
       "      <td>1.001</td>\n",
       "      <td>1.001</td>\n",
       "      <td>1.001</td>\n",
       "      <td>1.001</td>\n",
       "    </tr>\n",
       "    <tr>\n",
       "      <th>min</th>\n",
       "      <td>-2.030</td>\n",
       "      <td>-2.229</td>\n",
       "      <td>-1.985</td>\n",
       "      <td>-1.454</td>\n",
       "      <td>-3.112</td>\n",
       "      <td>-1.610</td>\n",
       "      <td>-1.115</td>\n",
       "      <td>-1.262</td>\n",
       "      <td>-2.744</td>\n",
       "      <td>-1.820</td>\n",
       "      <td>...</td>\n",
       "      <td>-1.727</td>\n",
       "      <td>-2.224</td>\n",
       "      <td>-1.693</td>\n",
       "      <td>-1.222</td>\n",
       "      <td>-2.683</td>\n",
       "      <td>-1.444</td>\n",
       "      <td>-1.306</td>\n",
       "      <td>-1.745</td>\n",
       "      <td>-2.161</td>\n",
       "      <td>-1.602</td>\n",
       "    </tr>\n",
       "    <tr>\n",
       "      <th>25%</th>\n",
       "      <td>-0.689</td>\n",
       "      <td>-0.726</td>\n",
       "      <td>-0.692</td>\n",
       "      <td>-0.667</td>\n",
       "      <td>-0.711</td>\n",
       "      <td>-0.747</td>\n",
       "      <td>-0.744</td>\n",
       "      <td>-0.738</td>\n",
       "      <td>-0.703</td>\n",
       "      <td>-0.723</td>\n",
       "      <td>...</td>\n",
       "      <td>-0.675</td>\n",
       "      <td>-0.749</td>\n",
       "      <td>-0.690</td>\n",
       "      <td>-0.642</td>\n",
       "      <td>-0.691</td>\n",
       "      <td>-0.681</td>\n",
       "      <td>-0.757</td>\n",
       "      <td>-0.756</td>\n",
       "      <td>-0.642</td>\n",
       "      <td>-0.692</td>\n",
       "    </tr>\n",
       "    <tr>\n",
       "      <th>50%</th>\n",
       "      <td>-0.215</td>\n",
       "      <td>-0.105</td>\n",
       "      <td>-0.236</td>\n",
       "      <td>-0.295</td>\n",
       "      <td>-0.035</td>\n",
       "      <td>-0.222</td>\n",
       "      <td>-0.342</td>\n",
       "      <td>-0.398</td>\n",
       "      <td>-0.072</td>\n",
       "      <td>-0.178</td>\n",
       "      <td>...</td>\n",
       "      <td>-0.269</td>\n",
       "      <td>-0.044</td>\n",
       "      <td>-0.286</td>\n",
       "      <td>-0.341</td>\n",
       "      <td>-0.047</td>\n",
       "      <td>-0.270</td>\n",
       "      <td>-0.218</td>\n",
       "      <td>-0.223</td>\n",
       "      <td>-0.127</td>\n",
       "      <td>-0.216</td>\n",
       "    </tr>\n",
       "    <tr>\n",
       "      <th>75%</th>\n",
       "      <td>0.469</td>\n",
       "      <td>0.584</td>\n",
       "      <td>0.500</td>\n",
       "      <td>0.364</td>\n",
       "      <td>0.636</td>\n",
       "      <td>0.494</td>\n",
       "      <td>0.526</td>\n",
       "      <td>0.647</td>\n",
       "      <td>0.531</td>\n",
       "      <td>0.471</td>\n",
       "      <td>...</td>\n",
       "      <td>0.522</td>\n",
       "      <td>0.658</td>\n",
       "      <td>0.540</td>\n",
       "      <td>0.358</td>\n",
       "      <td>0.598</td>\n",
       "      <td>0.540</td>\n",
       "      <td>0.531</td>\n",
       "      <td>0.713</td>\n",
       "      <td>0.450</td>\n",
       "      <td>0.451</td>\n",
       "    </tr>\n",
       "    <tr>\n",
       "      <th>max</th>\n",
       "      <td>3.971</td>\n",
       "      <td>4.652</td>\n",
       "      <td>3.976</td>\n",
       "      <td>5.251</td>\n",
       "      <td>4.771</td>\n",
       "      <td>4.568</td>\n",
       "      <td>4.244</td>\n",
       "      <td>3.928</td>\n",
       "      <td>4.485</td>\n",
       "      <td>4.911</td>\n",
       "      <td>...</td>\n",
       "      <td>4.094</td>\n",
       "      <td>3.886</td>\n",
       "      <td>4.287</td>\n",
       "      <td>5.930</td>\n",
       "      <td>3.955</td>\n",
       "      <td>5.113</td>\n",
       "      <td>4.701</td>\n",
       "      <td>2.686</td>\n",
       "      <td>6.046</td>\n",
       "      <td>6.847</td>\n",
       "    </tr>\n",
       "  </tbody>\n",
       "</table>\n",
       "<p>8 rows × 30 columns</p>\n",
       "</div>"
      ],
      "text/plain": [
       "       mean radius  mean texture  mean perimeter  mean area  mean smoothness  \\\n",
       "count      569.000       569.000         569.000    569.000          569.000   \n",
       "mean        -0.000        -0.000          -0.000     -0.000            0.000   \n",
       "std          1.001         1.001           1.001      1.001            1.001   \n",
       "min         -2.030        -2.229          -1.985     -1.454           -3.112   \n",
       "25%         -0.689        -0.726          -0.692     -0.667           -0.711   \n",
       "50%         -0.215        -0.105          -0.236     -0.295           -0.035   \n",
       "75%          0.469         0.584           0.500      0.364            0.636   \n",
       "max          3.971         4.652           3.976      5.251            4.771   \n",
       "\n",
       "       mean compactness  mean concavity  mean concave points  mean symmetry  \\\n",
       "count           569.000         569.000              569.000        569.000   \n",
       "mean             -0.000          -0.000                0.000         -0.000   \n",
       "std               1.001           1.001                1.001          1.001   \n",
       "min              -1.610          -1.115               -1.262         -2.744   \n",
       "25%              -0.747          -0.744               -0.738         -0.703   \n",
       "50%              -0.222          -0.342               -0.398         -0.072   \n",
       "75%               0.494           0.526                0.647          0.531   \n",
       "max               4.568           4.244                3.928          4.485   \n",
       "\n",
       "       mean fractal dimension  ...  worst radius  worst texture  \\\n",
       "count                 569.000  ...       569.000        569.000   \n",
       "mean                   -0.000  ...        -0.000          0.000   \n",
       "std                     1.001  ...         1.001          1.001   \n",
       "min                    -1.820  ...        -1.727         -2.224   \n",
       "25%                    -0.723  ...        -0.675         -0.749   \n",
       "50%                    -0.178  ...        -0.269         -0.044   \n",
       "75%                     0.471  ...         0.522          0.658   \n",
       "max                     4.911  ...         4.094          3.886   \n",
       "\n",
       "       worst perimeter  worst area  worst smoothness  worst compactness  \\\n",
       "count          569.000     569.000           569.000            569.000   \n",
       "mean            -0.000       0.000            -0.000             -0.000   \n",
       "std              1.001       1.001             1.001              1.001   \n",
       "min             -1.693      -1.222            -2.683             -1.444   \n",
       "25%             -0.690      -0.642            -0.691             -0.681   \n",
       "50%             -0.286      -0.341            -0.047             -0.270   \n",
       "75%              0.540       0.358             0.598              0.540   \n",
       "max              4.287       5.930             3.955              5.113   \n",
       "\n",
       "       worst concavity  worst concave points  worst symmetry  \\\n",
       "count          569.000               569.000         569.000   \n",
       "mean             0.000                -0.000          -0.000   \n",
       "std              1.001                 1.001           1.001   \n",
       "min             -1.306                -1.745          -2.161   \n",
       "25%             -0.757                -0.756          -0.642   \n",
       "50%             -0.218                -0.223          -0.127   \n",
       "75%              0.531                 0.713           0.450   \n",
       "max              4.701                 2.686           6.046   \n",
       "\n",
       "       worst fractal dimension  \n",
       "count                  569.000  \n",
       "mean                     0.000  \n",
       "std                      1.001  \n",
       "min                     -1.602  \n",
       "25%                     -0.692  \n",
       "50%                     -0.216  \n",
       "75%                      0.451  \n",
       "max                      6.847  \n",
       "\n",
       "[8 rows x 30 columns]"
      ]
     },
     "execution_count": 17,
     "metadata": {},
     "output_type": "execute_result"
    }
   ],
   "source": [
    "scaled_data.describe().round(3)"
   ]
  },
  {
   "cell_type": "markdown",
   "metadata": {},
   "source": [
    "## Binarizing our Labels\n",
    "\n",
    "If you took a look at the data dictionary on Kaggle, then you probably noticed the target for this dataset is to predict if the sample is \"M\" (Malignant) or \"B\" (Benign). This means that this is a **_Binary Classification_** task, so we'll need to binarize our labels. \n",
    "\n",
    "In the cell below, make use of scikit-learn's `LabelBinarizer()` class to create a binarized version of our labels. "
   ]
  },
  {
   "cell_type": "code",
   "execution_count": 21,
   "metadata": {
    "ExecuteTime": {
     "end_time": "2020-12-03T20:06:00.776953Z",
     "start_time": "2020-12-03T20:06:00.771485Z"
    }
   },
   "outputs": [
    {
     "data": {
      "text/plain": [
       "array([0, 0])"
      ]
     },
     "execution_count": 21,
     "metadata": {},
     "output_type": "execute_result"
    }
   ],
   "source": [
    "target[:2]"
   ]
  },
  {
   "cell_type": "code",
   "execution_count": 22,
   "metadata": {
    "ExecuteTime": {
     "end_time": "2020-12-03T20:06:02.997588Z",
     "start_time": "2020-12-03T20:06:02.992566Z"
    }
   },
   "outputs": [
    {
     "data": {
      "text/plain": [
       "array([[0],\n",
       "       [0]])"
      ]
     },
     "execution_count": 22,
     "metadata": {},
     "output_type": "execute_result"
    }
   ],
   "source": [
    "binarizer = LabelBinarizer()\n",
    "labels = binarizer.fit_transform(target)\n",
    "labels[:2]"
   ]
  },
  {
   "cell_type": "markdown",
   "metadata": {},
   "source": [
    "## Building our MLP\n",
    "\n",
    "Now, we'll build a small **_Multi-Layer Perceptron_** using Keras in the cell below. Our first model will act as a baseline, and then we'll make it bigger to see what happens to model performance. \n",
    "\n",
    "In the cell below:\n",
    "\n",
    "* Instantiate a `Sequential()` Keras model   \n",
    "* Use the model's `.add()` method to add a `Dense` layer with 10 neurons and a `'tanh'` activation function. Also set the `input_shape` attribute to `(30,)`, since we have 30 features  \n",
    "* Since this is a binary classification task, the output layer should be a `Dense` layer with a single neuron, and the activation set to `'sigmoid'` "
   ]
  },
  {
   "cell_type": "code",
   "execution_count": 25,
   "metadata": {
    "ExecuteTime": {
     "end_time": "2020-12-03T20:08:16.960732Z",
     "start_time": "2020-12-03T20:08:16.939308Z"
    }
   },
   "outputs": [],
   "source": [
    "model_1 = Sequential()\n",
    "model_1.add(Dense(10, activation='tanh',input_shape=(30,)))\n",
    "model_1.add(Dense(1,activation='sigmoid'))"
   ]
  },
  {
   "cell_type": "markdown",
   "metadata": {},
   "source": [
    "### Compiling the Model\n",
    "\n",
    "Now that we've created the model, the next step is to compile it. \n",
    "\n",
    "In the cell below, compile the model. Set the following hyperparameters:\n",
    "\n",
    "* `loss='binary_crossentropy'`\n",
    "* `optimizer='sgd'`\n",
    "* `metrics=['acc']`"
   ]
  },
  {
   "cell_type": "code",
   "execution_count": 26,
   "metadata": {
    "ExecuteTime": {
     "end_time": "2020-12-03T20:08:59.816334Z",
     "start_time": "2020-12-03T20:08:59.797700Z"
    }
   },
   "outputs": [
    {
     "name": "stdout",
     "output_type": "stream",
     "text": [
      "Model: \"sequential_2\"\n",
      "_________________________________________________________________\n",
      "Layer (type)                 Output Shape              Param #   \n",
      "=================================================================\n",
      "dense_2 (Dense)              (None, 10)                310       \n",
      "_________________________________________________________________\n",
      "dense_3 (Dense)              (None, 1)                 11        \n",
      "=================================================================\n",
      "Total params: 321\n",
      "Trainable params: 321\n",
      "Non-trainable params: 0\n",
      "_________________________________________________________________\n"
     ]
    }
   ],
   "source": [
    "model_1 = Sequential()\n",
    "model_1.add(Dense(10, activation='tanh',input_shape=(30,)))\n",
    "model_1.add(Dense(1,activation='sigmoid'))\n",
    "model_1.compile(loss='binary_crossentropy',optimizer='sgd', metrics=['acc'])\n",
    "model_1.summary()"
   ]
  },
  {
   "cell_type": "markdown",
   "metadata": {},
   "source": [
    "### Fitting the Model\n",
    "\n",
    "Now, let's fit the model. Set the following hyperparameters:\n",
    "\n",
    "* `epochs=25`\n",
    "* `batch_size=1`\n",
    "* `validation_split=0.2`"
   ]
  },
  {
   "cell_type": "code",
   "execution_count": 28,
   "metadata": {
    "ExecuteTime": {
     "end_time": "2020-12-03T20:09:58.297152Z",
     "start_time": "2020-12-03T20:09:47.556093Z"
    }
   },
   "outputs": [
    {
     "name": "stdout",
     "output_type": "stream",
     "text": [
      "Epoch 1/25\n",
      "455/455 [==============================] - 1s 1ms/step - loss: 0.2094 - acc: 0.9582 - val_loss: 0.1587 - val_acc: 0.9737\n",
      "Epoch 2/25\n",
      "455/455 [==============================] - 0s 773us/step - loss: 0.1078 - acc: 0.9736 - val_loss: 0.1159 - val_acc: 0.9737\n",
      "Epoch 3/25\n",
      "455/455 [==============================] - 0s 748us/step - loss: 0.0878 - acc: 0.9802 - val_loss: 0.1081 - val_acc: 0.9737\n",
      "Epoch 4/25\n",
      "455/455 [==============================] - 0s 751us/step - loss: 0.0795 - acc: 0.9780 - val_loss: 0.0990 - val_acc: 0.9737\n",
      "Epoch 5/25\n",
      "455/455 [==============================] - 0s 746us/step - loss: 0.0741 - acc: 0.9780 - val_loss: 0.1011 - val_acc: 0.9649\n",
      "Epoch 6/25\n",
      "455/455 [==============================] - 0s 744us/step - loss: 0.0701 - acc: 0.9780 - val_loss: 0.1033 - val_acc: 0.9649\n",
      "Epoch 7/25\n",
      "455/455 [==============================] - 0s 874us/step - loss: 0.0673 - acc: 0.9780 - val_loss: 0.0951 - val_acc: 0.9649\n",
      "Epoch 8/25\n",
      "455/455 [==============================] - 0s 971us/step - loss: 0.0648 - acc: 0.9780 - val_loss: 0.0920 - val_acc: 0.9649\n",
      "Epoch 9/25\n",
      "455/455 [==============================] - 0s 857us/step - loss: 0.0627 - acc: 0.9780 - val_loss: 0.0947 - val_acc: 0.9649\n",
      "Epoch 10/25\n",
      "455/455 [==============================] - 0s 1000us/step - loss: 0.0603 - acc: 0.9802 - val_loss: 0.1011 - val_acc: 0.9561\n",
      "Epoch 11/25\n",
      "455/455 [==============================] - 0s 891us/step - loss: 0.0592 - acc: 0.9780 - val_loss: 0.0996 - val_acc: 0.9649\n",
      "Epoch 12/25\n",
      "455/455 [==============================] - 0s 772us/step - loss: 0.0572 - acc: 0.9780 - val_loss: 0.0899 - val_acc: 0.9649\n",
      "Epoch 13/25\n",
      "455/455 [==============================] - 0s 986us/step - loss: 0.0554 - acc: 0.9802 - val_loss: 0.0916 - val_acc: 0.9649\n",
      "Epoch 14/25\n",
      "455/455 [==============================] - 0s 956us/step - loss: 0.0535 - acc: 0.9780 - val_loss: 0.0827 - val_acc: 0.9649\n",
      "Epoch 15/25\n",
      "455/455 [==============================] - 0s 1ms/step - loss: 0.0529 - acc: 0.9802 - val_loss: 0.0903 - val_acc: 0.9649\n",
      "Epoch 16/25\n",
      "455/455 [==============================] - 0s 748us/step - loss: 0.0512 - acc: 0.9780 - val_loss: 0.0859 - val_acc: 0.9649\n",
      "Epoch 17/25\n",
      "455/455 [==============================] - 0s 746us/step - loss: 0.0501 - acc: 0.9824 - val_loss: 0.0955 - val_acc: 0.9649\n",
      "Epoch 18/25\n",
      "455/455 [==============================] - 0s 900us/step - loss: 0.0491 - acc: 0.9824 - val_loss: 0.0884 - val_acc: 0.9649\n",
      "Epoch 19/25\n",
      "455/455 [==============================] - 0s 880us/step - loss: 0.0479 - acc: 0.9868 - val_loss: 0.0884 - val_acc: 0.9649\n",
      "Epoch 20/25\n",
      "455/455 [==============================] - 1s 1ms/step - loss: 0.0467 - acc: 0.9846 - val_loss: 0.0836 - val_acc: 0.9649\n",
      "Epoch 21/25\n",
      "455/455 [==============================] - 0s 942us/step - loss: 0.0455 - acc: 0.9846 - val_loss: 0.0947 - val_acc: 0.9649\n",
      "Epoch 22/25\n",
      "455/455 [==============================] - 0s 1ms/step - loss: 0.0451 - acc: 0.9846 - val_loss: 0.0869 - val_acc: 0.9649\n",
      "Epoch 23/25\n",
      "455/455 [==============================] - 0s 892us/step - loss: 0.0433 - acc: 0.9846 - val_loss: 0.0765 - val_acc: 0.9737\n",
      "Epoch 24/25\n",
      "455/455 [==============================] - 0s 849us/step - loss: 0.0434 - acc: 0.9846 - val_loss: 0.0845 - val_acc: 0.9649\n",
      "Epoch 25/25\n",
      "455/455 [==============================] - 0s 949us/step - loss: 0.0426 - acc: 0.9846 - val_loss: 0.0817 - val_acc: 0.9649\n"
     ]
    }
   ],
   "source": [
    "results_1 = model_1.fit(scaled_data,labels,epochs=25, batch_size=1, validation_split=0.2)"
   ]
  },
  {
   "cell_type": "markdown",
   "metadata": {},
   "source": [
    "Note that when you call a Keras model's `.fit()` method, it returns a Keras callback containing information on the training process of the model. If you examine the callback's `.history` attribute, you'll find a dictionary containing both the training and validation loss, as well as any metrics we specified when compiling the model (in this case, just accuracy). \n",
    "\n",
    "Let's quickly plot our validation and accuracy curves and see if we notice anything. Since we'll want to do this anytime we train an MLP, its worth wrapping this code in a function so that we can easily reuse it. \n",
    "\n",
    "In the cell below, we created a function for visualizing the loss and accuracy metrics. "
   ]
  },
  {
   "cell_type": "code",
   "execution_count": 29,
   "metadata": {
    "ExecuteTime": {
     "end_time": "2020-12-03T20:10:37.680093Z",
     "start_time": "2020-12-03T20:10:37.674634Z"
    }
   },
   "outputs": [],
   "source": [
    "def visualize_training_results(results,plot_kws = {'marker':'o'}):\n",
    "    history = results.history\n",
    "    plt.figure()\n",
    "    plt.plot(history['val_loss'],**plot_kws)\n",
    "    plt.plot(history['loss'],**plot_kws)\n",
    "    plt.legend(['val_loss', 'loss'])\n",
    "    plt.title('Loss')\n",
    "    plt.xlabel('Epochs')\n",
    "    plt.ylabel('Loss')\n",
    "    plt.show()\n",
    "    \n",
    "    plt.figure()\n",
    "    plt.plot(history['val_acc'],**plot_kws)\n",
    "    plt.plot(history['acc'],**plot_kws)\n",
    "    plt.legend(['val_acc', 'acc'])\n",
    "    plt.title('Accuracy')\n",
    "    plt.xlabel('Epochs')\n",
    "    plt.ylabel('Accuracy')\n",
    "    plt.show()"
   ]
  },
  {
   "cell_type": "code",
   "execution_count": 30,
   "metadata": {
    "ExecuteTime": {
     "end_time": "2020-12-03T20:10:38.530511Z",
     "start_time": "2020-12-03T20:10:38.169649Z"
    }
   },
   "outputs": [
    {
     "data": {
      "image/png": "[encoded data removed]",
      "text/plain": [
       "<Figure size 432x288 with 1 Axes>"
      ]
     },
     "metadata": {
      "needs_background": "light"
     },
     "output_type": "display_data"
    },
    {
     "data": {
      "image/png": "[encoded data removed]",
      "text/plain": [
       "<Figure size 432x288 with 1 Axes>"
      ]
     },
     "metadata": {
      "needs_background": "light"
     },
     "output_type": "display_data"
    }
   ],
   "source": [
    "visualize_training_results(results_1)"
   ]
  },
  {
   "cell_type": "markdown",
   "metadata": {},
   "source": [
    "## Detecting Overfitting\n",
    "\n",
    "You'll probably notice that the model did pretty well! It's always recommended to visualize your training and validation metrics against each other after training a model. By plotting them like this, we can easily detect when the model is starting to overfit. We can tell that this is happening by seeing the model's training performance steadily improve long after the validation performance plateaus. We can see that in the plots above as the training loss continues to decrease and the training accuracy continues to increase, and the distance between the two lines gets greater as the epochs gets higher. \n",
    "\n",
    "## Iterating on the Model\n",
    "\n",
    "By adding another hidden layer, we can a given the model the ability to capture more high-level abstraction in the data. However, increasing the depth of the model also increases the amount of data the model needs to converge to answer, because with a more complex model comes the \"Curse of Dimensionality\", thanks to all the extra trainable parameters that come from adding more size to our network. \n",
    "\n",
    "If there is complexity in the data that our smaller model was not big enough to catch, then a larger model may improve performance. However, if our dataset isn't big enough for the new, larger model, then we may see performance decrease as then model \"thrashes\" about a bit, failing to converge. Let's try and see what happens. \n",
    "\n",
    "In the cell below, recreate the model that you created above, with one exception. In the model below, add a second `Dense` layer with `'tanh'` activation function and 5 neurons after the first. The network's output layer should still be a `Dense` layer with a single neuron and a `'sigmoid'` activation function, since this is still a binary classification task. \n",
    "\n",
    "Create, compile, and fit the model in the cells below, and then visualize the results to compare the history. "
   ]
  },
  {
   "cell_type": "code",
   "execution_count": 33,
   "metadata": {
    "ExecuteTime": {
     "end_time": "2020-12-03T20:13:23.757868Z",
     "start_time": "2020-12-03T20:13:23.720717Z"
    }
   },
   "outputs": [
    {
     "name": "stdout",
     "output_type": "stream",
     "text": [
      "Model: \"sequential_4\"\n",
      "_________________________________________________________________\n",
      "Layer (type)                 Output Shape              Param #   \n",
      "=================================================================\n",
      "dense_6 (Dense)              (None, 10)                310       \n",
      "_________________________________________________________________\n",
      "dense_7 (Dense)              (None, 5)                 55        \n",
      "_________________________________________________________________\n",
      "dense_8 (Dense)              (None, 1)                 6         \n",
      "=================================================================\n",
      "Total params: 371\n",
      "Trainable params: 371\n",
      "Non-trainable params: 0\n",
      "_________________________________________________________________\n"
     ]
    }
   ],
   "source": [
    "model_2  = Sequential()\n",
    "model_2.add(Dense(10, activation='tanh',input_shape=(30,)))\n",
    "\n",
    "model_2.add(Dense(5,activation='tanh'))\n",
    "model_2.add(Dense(1,activation='sigmoid'))\n",
    "model_2.compile(loss='binary_crossentropy',optimizer='sgd', metrics=['acc'])\n",
    "model_2.summary()\n"
   ]
  },
  {
   "cell_type": "code",
   "execution_count": null,
   "metadata": {},
   "outputs": [],
   "source": []
  },
  {
   "cell_type": "code",
   "execution_count": 34,
   "metadata": {
    "ExecuteTime": {
     "end_time": "2020-12-03T20:13:48.841671Z",
     "start_time": "2020-12-03T20:13:38.389135Z"
    },
    "scrolled": true
   },
   "outputs": [
    {
     "name": "stdout",
     "output_type": "stream",
     "text": [
      "Epoch 1/25\n",
      "455/455 [==============================] - 0s 1ms/step - loss: 0.2492 - acc: 0.9385 - val_loss: 0.1355 - val_acc: 0.9825\n",
      "Epoch 2/25\n",
      "455/455 [==============================] - 0s 798us/step - loss: 0.1028 - acc: 0.9736 - val_loss: 0.1104 - val_acc: 0.9737\n",
      "Epoch 3/25\n",
      "455/455 [==============================] - 0s 826us/step - loss: 0.0808 - acc: 0.9802 - val_loss: 0.0866 - val_acc: 0.9825\n",
      "Epoch 4/25\n",
      "455/455 [==============================] - 0s 768us/step - loss: 0.0727 - acc: 0.9802 - val_loss: 0.0816 - val_acc: 0.9825\n",
      "Epoch 5/25\n",
      "455/455 [==============================] - 0s 785us/step - loss: 0.0688 - acc: 0.9802 - val_loss: 0.0795 - val_acc: 0.9825\n",
      "Epoch 6/25\n",
      "455/455 [==============================] - 0s 1ms/step - loss: 0.0646 - acc: 0.9802 - val_loss: 0.0966 - val_acc: 0.9649\n",
      "Epoch 7/25\n",
      "455/455 [==============================] - 0s 934us/step - loss: 0.0624 - acc: 0.9846 - val_loss: 0.0777 - val_acc: 0.9825\n",
      "Epoch 8/25\n",
      "455/455 [==============================] - 0s 983us/step - loss: 0.0586 - acc: 0.9846 - val_loss: 0.0738 - val_acc: 0.9825\n",
      "Epoch 9/25\n",
      "455/455 [==============================] - 0s 956us/step - loss: 0.0568 - acc: 0.9868 - val_loss: 0.0706 - val_acc: 0.9825\n",
      "Epoch 10/25\n",
      "455/455 [==============================] - 0s 831us/step - loss: 0.0560 - acc: 0.9824 - val_loss: 0.0732 - val_acc: 0.9825\n",
      "Epoch 11/25\n",
      "455/455 [==============================] - 0s 716us/step - loss: 0.0532 - acc: 0.9868 - val_loss: 0.0765 - val_acc: 0.9737\n",
      "Epoch 12/25\n",
      "455/455 [==============================] - 0s 720us/step - loss: 0.0506 - acc: 0.9868 - val_loss: 0.0905 - val_acc: 0.9825\n",
      "Epoch 13/25\n",
      "455/455 [==============================] - 0s 961us/step - loss: 0.0498 - acc: 0.9868 - val_loss: 0.0784 - val_acc: 0.9737\n",
      "Epoch 14/25\n",
      "455/455 [==============================] - 0s 886us/step - loss: 0.0483 - acc: 0.9868 - val_loss: 0.0827 - val_acc: 0.9825\n",
      "Epoch 15/25\n",
      "455/455 [==============================] - 0s 816us/step - loss: 0.0470 - acc: 0.9868 - val_loss: 0.0822 - val_acc: 0.9825\n",
      "Epoch 16/25\n",
      "455/455 [==============================] - 0s 742us/step - loss: 0.0453 - acc: 0.9890 - val_loss: 0.0774 - val_acc: 0.9825\n",
      "Epoch 17/25\n",
      "455/455 [==============================] - 0s 1000us/step - loss: 0.0455 - acc: 0.9868 - val_loss: 0.0774 - val_acc: 0.9825\n",
      "Epoch 18/25\n",
      "455/455 [==============================] - 1s 1ms/step - loss: 0.0434 - acc: 0.9868 - val_loss: 0.0725 - val_acc: 0.9825\n",
      "Epoch 19/25\n",
      "455/455 [==============================] - 0s 793us/step - loss: 0.0421 - acc: 0.9890 - val_loss: 0.0712 - val_acc: 0.9825\n",
      "Epoch 20/25\n",
      "455/455 [==============================] - 0s 906us/step - loss: 0.0401 - acc: 0.9912 - val_loss: 0.0892 - val_acc: 0.9825\n",
      "Epoch 21/25\n",
      "455/455 [==============================] - 0s 825us/step - loss: 0.0401 - acc: 0.9890 - val_loss: 0.0807 - val_acc: 0.9912\n",
      "Epoch 22/25\n",
      "455/455 [==============================] - 0s 947us/step - loss: 0.0390 - acc: 0.9890 - val_loss: 0.0777 - val_acc: 0.9825\n",
      "Epoch 23/25\n",
      "455/455 [==============================] - 0s 946us/step - loss: 0.0361 - acc: 0.9912 - val_loss: 0.0946 - val_acc: 0.9737\n",
      "Epoch 24/25\n",
      "455/455 [==============================] - 0s 885us/step - loss: 0.0358 - acc: 0.9890 - val_loss: 0.0761 - val_acc: 0.9825\n",
      "Epoch 25/25\n",
      "455/455 [==============================] - 0s 955us/step - loss: 0.0344 - acc: 0.9890 - val_loss: 0.0710 - val_acc: 0.9912\n"
     ]
    }
   ],
   "source": [
    "model_2  = Sequential()\n",
    "model_2.add(Dense(10, activation='tanh',input_shape=(30,)))\n",
    "\n",
    "model_2.add(Dense(5,activation='tanh'))\n",
    "model_2.add(Dense(1,activation='sigmoid'))\n",
    "model_2.compile(loss='binary_crossentropy',optimizer='sgd', metrics=['acc'])\n",
    "model_2.summary()\n",
    "\n",
    "results_2 = model_2.fit(scaled_data,labels,epochs=25, batch_size=1, validation_split=0.2)"
   ]
  },
  {
   "cell_type": "code",
   "execution_count": 35,
   "metadata": {
    "ExecuteTime": {
     "end_time": "2020-12-03T20:13:49.259698Z",
     "start_time": "2020-12-03T20:13:48.843960Z"
    },
    "scrolled": false
   },
   "outputs": [
    {
     "data": {
      "image/png": "[encoded data removed]",
      "text/plain": [
       "<Figure size 432x288 with 1 Axes>"
      ]
     },
     "metadata": {
      "needs_background": "light"
     },
     "output_type": "display_data"
    },
    {
     "data": {
      "image/png": "[encoded data removed]",
      "text/plain": [
       "<Figure size 432x288 with 1 Axes>"
      ]
     },
     "metadata": {
      "needs_background": "light"
     },
     "output_type": "display_data"
    }
   ],
   "source": [
    "visualize_training_results(results_2)"
   ]
  },
  {
   "cell_type": "markdown",
   "metadata": {},
   "source": [
    "## What Happened?\n",
    "\n",
    "Although the final validation score for both models is the same, this model is clearly worse because it hasn't converged yet. We can tell because of the greater variance in the movement of the `val_loss` and `val_acc` lines. This suggests that we can remedy this by either:\n",
    "\n",
    "* Decreasing the size of the network, or\n",
    "* Increasing the size of our training data \n",
    "\n",
    "## Visualizing why we Normalize our Data\n",
    "\n",
    "As a final exercise, let's create a third model that is the same as the first model we created earlier. The only difference is that we will train it on our raw dataset, not the normalized version. This way, we can see how much of a difference normalizing our input data makes.\n",
    "\n",
    "Create, compile, and fit a model in the cell below. The only change in parameters will be using `data` instead of `scaled_data` during the `.fit()` step. "
   ]
  },
  {
   "cell_type": "code",
   "execution_count": 36,
   "metadata": {
    "ExecuteTime": {
     "end_time": "2020-12-03T20:15:19.862012Z",
     "start_time": "2020-12-03T20:15:09.557946Z"
    }
   },
   "outputs": [
    {
     "name": "stdout",
     "output_type": "stream",
     "text": [
      "Model: \"sequential_5\"\n",
      "_________________________________________________________________\n",
      "Layer (type)                 Output Shape              Param #   \n",
      "=================================================================\n",
      "dense_9 (Dense)              (None, 10)                310       \n",
      "_________________________________________________________________\n",
      "dense_10 (Dense)             (None, 1)                 11        \n",
      "=================================================================\n",
      "Total params: 321\n",
      "Trainable params: 321\n",
      "Non-trainable params: 0\n",
      "_________________________________________________________________\n",
      "Epoch 1/25\n",
      "455/455 [==============================] - 0s 959us/step - loss: 0.1953 - acc: 0.9516 - val_loss: 0.1484 - val_acc: 0.9825\n",
      "Epoch 2/25\n",
      "455/455 [==============================] - 0s 780us/step - loss: 0.0930 - acc: 0.9846 - val_loss: 0.1203 - val_acc: 0.9649\n",
      "Epoch 3/25\n",
      "455/455 [==============================] - 0s 958us/step - loss: 0.0757 - acc: 0.9802 - val_loss: 0.1073 - val_acc: 0.9649\n",
      "Epoch 4/25\n",
      "455/455 [==============================] - 0s 999us/step - loss: 0.0676 - acc: 0.9824 - val_loss: 0.0999 - val_acc: 0.9561\n",
      "Epoch 5/25\n",
      "455/455 [==============================] - 0s 934us/step - loss: 0.0629 - acc: 0.9824 - val_loss: 0.0993 - val_acc: 0.9561\n",
      "Epoch 6/25\n",
      "455/455 [==============================] - 0s 1ms/step - loss: 0.0596 - acc: 0.9824 - val_loss: 0.0946 - val_acc: 0.9561\n",
      "Epoch 7/25\n",
      "455/455 [==============================] - 0s 999us/step - loss: 0.0568 - acc: 0.9824 - val_loss: 0.0883 - val_acc: 0.9649\n",
      "Epoch 8/25\n",
      "455/455 [==============================] - 0s 853us/step - loss: 0.0553 - acc: 0.9802 - val_loss: 0.0899 - val_acc: 0.9561\n",
      "Epoch 9/25\n",
      "455/455 [==============================] - 0s 852us/step - loss: 0.0534 - acc: 0.9802 - val_loss: 0.0852 - val_acc: 0.9649\n",
      "Epoch 10/25\n",
      "455/455 [==============================] - 0s 834us/step - loss: 0.0523 - acc: 0.9824 - val_loss: 0.0850 - val_acc: 0.9561\n",
      "Epoch 11/25\n",
      "455/455 [==============================] - 0s 848us/step - loss: 0.0511 - acc: 0.9824 - val_loss: 0.0845 - val_acc: 0.9561\n",
      "Epoch 12/25\n",
      "455/455 [==============================] - 0s 952us/step - loss: 0.0499 - acc: 0.9824 - val_loss: 0.0870 - val_acc: 0.9561\n",
      "Epoch 13/25\n",
      "455/455 [==============================] - 0s 936us/step - loss: 0.0487 - acc: 0.9846 - val_loss: 0.0879 - val_acc: 0.9561\n",
      "Epoch 14/25\n",
      "455/455 [==============================] - 0s 1ms/step - loss: 0.0478 - acc: 0.9802 - val_loss: 0.0871 - val_acc: 0.9561\n",
      "Epoch 15/25\n",
      "455/455 [==============================] - 0s 860us/step - loss: 0.0467 - acc: 0.9868 - val_loss: 0.0899 - val_acc: 0.9561\n",
      "Epoch 16/25\n",
      "455/455 [==============================] - 0s 825us/step - loss: 0.0456 - acc: 0.9846 - val_loss: 0.0828 - val_acc: 0.9649\n",
      "Epoch 17/25\n",
      "455/455 [==============================] - 0s 900us/step - loss: 0.0451 - acc: 0.9846 - val_loss: 0.0860 - val_acc: 0.9649\n",
      "Epoch 18/25\n",
      "455/455 [==============================] - 0s 763us/step - loss: 0.0441 - acc: 0.9824 - val_loss: 0.0880 - val_acc: 0.9649\n",
      "Epoch 19/25\n",
      "455/455 [==============================] - 0s 719us/step - loss: 0.0428 - acc: 0.9846 - val_loss: 0.0865 - val_acc: 0.9649\n",
      "Epoch 20/25\n",
      "455/455 [==============================] - 0s 811us/step - loss: 0.0424 - acc: 0.9868 - val_loss: 0.0897 - val_acc: 0.9649\n",
      "Epoch 21/25\n",
      "455/455 [==============================] - 0s 831us/step - loss: 0.0414 - acc: 0.9868 - val_loss: 0.0962 - val_acc: 0.9561\n",
      "Epoch 22/25\n",
      "455/455 [==============================] - 0s 755us/step - loss: 0.0405 - acc: 0.9846 - val_loss: 0.0982 - val_acc: 0.9561\n",
      "Epoch 23/25\n",
      "455/455 [==============================] - 0s 834us/step - loss: 0.0399 - acc: 0.9846 - val_loss: 0.0901 - val_acc: 0.9561\n",
      "Epoch 24/25\n",
      "455/455 [==============================] - 0s 836us/step - loss: 0.0396 - acc: 0.9824 - val_loss: 0.0846 - val_acc: 0.9649\n",
      "Epoch 25/25\n",
      "455/455 [==============================] - 0s 752us/step - loss: 0.0378 - acc: 0.9846 - val_loss: 0.0762 - val_acc: 0.9649\n"
     ]
    }
   ],
   "source": [
    "model_3 = Sequential()\n",
    "model_3.add(Dense(10, activation='tanh',input_shape=(30,)))\n",
    "\n",
    "# model_2.add(Dense(5,activation='tanh'))\n",
    "model_3.add(Dense(1,activation='sigmoid'))\n",
    "model_3.compile(loss='binary_crossentropy',optimizer='sgd', metrics=['acc'])\n",
    "model_3.summary()\n",
    "\n",
    "results_3 = model_3.fit(scaled_data,labels,epochs=25, batch_size=1, validation_split=0.2)\n"
   ]
  },
  {
   "cell_type": "code",
   "execution_count": null,
   "metadata": {},
   "outputs": [],
   "source": []
  },
  {
   "cell_type": "code",
   "execution_count": 37,
   "metadata": {
    "ExecuteTime": {
     "end_time": "2020-12-03T20:15:19.866206Z",
     "start_time": "2020-12-03T20:15:19.864091Z"
    }
   },
   "outputs": [],
   "source": [
    "# results_3 = None"
   ]
  },
  {
   "cell_type": "code",
   "execution_count": 38,
   "metadata": {
    "ExecuteTime": {
     "end_time": "2020-12-03T20:15:20.287917Z",
     "start_time": "2020-12-03T20:15:19.868251Z"
    }
   },
   "outputs": [
    {
     "data": {
      "image/png": "[encoded data removed]",
      "text/plain": [
       "<Figure size 432x288 with 1 Axes>"
      ]
     },
     "metadata": {
      "needs_background": "light"
     },
     "output_type": "display_data"
    },
    {
     "data": {
      "image/png": "[encoded data removed]",
      "text/plain": [
       "<Figure size 432x288 with 1 Axes>"
      ]
     },
     "metadata": {
      "needs_background": "light"
     },
     "output_type": "display_data"
    }
   ],
   "source": [
    "visualize_training_results(results_3)"
   ]
  },
  {
   "cell_type": "markdown",
   "metadata": {},
   "source": [
    "Wow! Our results were much worse -- over 20% poorer performance when working with non-normalized input data!  \n",
    "\n",
    "\n",
    "## Summary\n",
    "\n",
    "In this lab, we got some practice creating **_Multi-Layer Perceptrons_**, and explored how things like the number of layers in a model and data normalization affect our overall training results!"
   ]
  },
  {
   "cell_type": "markdown",
   "metadata": {},
   "source": [
    "# Study Group Level-UP"
   ]
  },
  {
   "cell_type": "markdown",
   "metadata": {},
   "source": [
    "> Compare the training results for StandardScaled vs MinMaxScaled data"
   ]
  },
  {
   "cell_type": "code",
   "execution_count": 41,
   "metadata": {
    "ExecuteTime": {
     "end_time": "2020-12-03T20:20:04.319316Z",
     "start_time": "2020-12-03T20:19:53.044683Z"
    }
   },
   "outputs": [
    {
     "name": "stdout",
     "output_type": "stream",
     "text": [
      "Model: \"sequential_8\"\n",
      "_________________________________________________________________\n",
      "Layer (type)                 Output Shape              Param #   \n",
      "=================================================================\n",
      "dense_15 (Dense)             (None, 10)                310       \n",
      "_________________________________________________________________\n",
      "dense_16 (Dense)             (None, 1)                 11        \n",
      "=================================================================\n",
      "Total params: 321\n",
      "Trainable params: 321\n",
      "Non-trainable params: 0\n",
      "_________________________________________________________________\n",
      "Epoch 1/25\n",
      "455/455 [==============================] - 0s 962us/step - loss: 0.6516 - acc: 0.7099 - val_loss: 0.5004 - val_acc: 0.9211\n",
      "Epoch 2/25\n",
      "455/455 [==============================] - 0s 796us/step - loss: 0.4617 - acc: 0.8879 - val_loss: 0.4293 - val_acc: 0.8772\n",
      "Epoch 3/25\n",
      "455/455 [==============================] - 0s 967us/step - loss: 0.3327 - acc: 0.9275 - val_loss: 0.2526 - val_acc: 0.9561\n",
      "Epoch 4/25\n",
      "455/455 [==============================] - 0s 928us/step - loss: 0.2530 - acc: 0.9407 - val_loss: 0.2077 - val_acc: 0.9649\n",
      "Epoch 5/25\n",
      "455/455 [==============================] - 0s 872us/step - loss: 0.2081 - acc: 0.9385 - val_loss: 0.1752 - val_acc: 0.9825\n",
      "Epoch 6/25\n",
      "455/455 [==============================] - 0s 902us/step - loss: 0.1808 - acc: 0.9538 - val_loss: 0.1846 - val_acc: 0.9649\n",
      "Epoch 7/25\n",
      "455/455 [==============================] - 0s 777us/step - loss: 0.1606 - acc: 0.9516 - val_loss: 0.1995 - val_acc: 0.9298\n",
      "Epoch 8/25\n",
      "455/455 [==============================] - 0s 825us/step - loss: 0.1455 - acc: 0.9560 - val_loss: 0.1169 - val_acc: 0.9825\n",
      "Epoch 9/25\n",
      "455/455 [==============================] - 0s 919us/step - loss: 0.1355 - acc: 0.9670 - val_loss: 0.1334 - val_acc: 0.9737\n",
      "Epoch 10/25\n",
      "455/455 [==============================] - 0s 948us/step - loss: 0.1260 - acc: 0.9626 - val_loss: 0.1347 - val_acc: 0.9825\n",
      "Epoch 11/25\n",
      "455/455 [==============================] - 0s 1ms/step - loss: 0.1187 - acc: 0.9648 - val_loss: 0.1760 - val_acc: 0.9386\n",
      "Epoch 12/25\n",
      "455/455 [==============================] - 0s 953us/step - loss: 0.1141 - acc: 0.9692 - val_loss: 0.1317 - val_acc: 0.9825\n",
      "Epoch 13/25\n",
      "455/455 [==============================] - 0s 966us/step - loss: 0.1064 - acc: 0.9670 - val_loss: 0.0959 - val_acc: 0.9825\n",
      "Epoch 14/25\n",
      "455/455 [==============================] - 0s 915us/step - loss: 0.1045 - acc: 0.9670 - val_loss: 0.1369 - val_acc: 0.9737\n",
      "Epoch 15/25\n",
      "455/455 [==============================] - 0s 962us/step - loss: 0.0991 - acc: 0.9736 - val_loss: 0.1102 - val_acc: 0.9912\n",
      "Epoch 16/25\n",
      "455/455 [==============================] - 0s 793us/step - loss: 0.0977 - acc: 0.9670 - val_loss: 0.1034 - val_acc: 0.9912\n",
      "Epoch 17/25\n",
      "455/455 [==============================] - 0s 921us/step - loss: 0.0944 - acc: 0.9736 - val_loss: 0.1231 - val_acc: 0.9912\n",
      "Epoch 18/25\n",
      "455/455 [==============================] - 0s 937us/step - loss: 0.0914 - acc: 0.9780 - val_loss: 0.1522 - val_acc: 0.9386\n",
      "Epoch 19/25\n",
      "455/455 [==============================] - 0s 860us/step - loss: 0.0898 - acc: 0.9736 - val_loss: 0.1270 - val_acc: 0.9737\n",
      "Epoch 20/25\n",
      "455/455 [==============================] - 0s 937us/step - loss: 0.0859 - acc: 0.9802 - val_loss: 0.1358 - val_acc: 0.9561\n",
      "Epoch 21/25\n",
      "455/455 [==============================] - 0s 992us/step - loss: 0.0861 - acc: 0.9736 - val_loss: 0.1003 - val_acc: 0.9912\n",
      "Epoch 22/25\n",
      "455/455 [==============================] - 0s 1ms/step - loss: 0.0829 - acc: 0.9692 - val_loss: 0.0933 - val_acc: 0.9912\n",
      "Epoch 23/25\n",
      "455/455 [==============================] - 0s 979us/step - loss: 0.0819 - acc: 0.9714 - val_loss: 0.1233 - val_acc: 0.9649\n",
      "Epoch 24/25\n",
      "455/455 [==============================] - 0s 927us/step - loss: 0.0784 - acc: 0.9670 - val_loss: 0.0652 - val_acc: 0.9737\n",
      "Epoch 25/25\n",
      "455/455 [==============================] - 0s 906us/step - loss: 0.0812 - acc: 0.9736 - val_loss: 0.0967 - val_acc: 0.9825\n"
     ]
    },
    {
     "data": {
      "image/png": "[encoded data removed]",
      "text/plain": [
       "<Figure size 432x288 with 1 Axes>"
      ]
     },
     "metadata": {
      "needs_background": "light"
     },
     "output_type": "display_data"
    },
    {
     "data": {
      "image/png": "[encoded data removed]",
      "text/plain": [
       "<Figure size 432x288 with 1 Axes>"
      ]
     },
     "metadata": {
      "needs_background": "light"
     },
     "output_type": "display_data"
    }
   ],
   "source": [
    "from sklearn.preprocessing import MinMaxScaler\n",
    "scaler = MinMaxScaler()\n",
    "\n",
    "min_scaled_data = scaler.fit_transform(data)\n",
    "\n",
    "model_4 =Sequential()\n",
    "model_4.add(Dense(10,activation='tanh',input_shape=(30,)))\n",
    "model_4.add(Dense(1, activation='sigmoid'))\n",
    "\n",
    "model_4.compile(loss='binary_crossentropy',optimizer='sgd',metrics=['acc'])\n",
    "model_4.summary()\n",
    "\n",
    "results_4 = model_4.fit(min_scaled_data,target,epochs=25,batch_size=1,validation_split=0.2)\n",
    "visualize_training_results(results_4)"
   ]
  },
  {
   "cell_type": "code",
   "execution_count": 40,
   "metadata": {
    "ExecuteTime": {
     "end_time": "2020-12-03T20:19:23.711223Z",
     "start_time": "2020-12-03T20:19:13.320986Z"
    },
    "scrolled": false
   },
   "outputs": [
    {
     "name": "stdout",
     "output_type": "stream",
     "text": [
      "Model: \"sequential_7\"\n",
      "_________________________________________________________________\n",
      "Layer (type)                 Output Shape              Param #   \n",
      "=================================================================\n",
      "dense_13 (Dense)             (None, 10)                310       \n",
      "_________________________________________________________________\n",
      "dense_14 (Dense)             (None, 1)                 11        \n",
      "=================================================================\n",
      "Total params: 321\n",
      "Trainable params: 321\n",
      "Non-trainable params: 0\n",
      "_________________________________________________________________\n",
      "Epoch 1/25\n",
      "455/455 [==============================] - 0s 932us/step - loss: 0.6476 - acc: 0.7495 - val_loss: 0.5825 - val_acc: 0.9474\n",
      "Epoch 2/25\n",
      "455/455 [==============================] - 0s 776us/step - loss: 0.5371 - acc: 0.8769 - val_loss: 0.4890 - val_acc: 0.8860\n",
      "Epoch 3/25\n",
      "455/455 [==============================] - 0s 805us/step - loss: 0.4086 - acc: 0.9121 - val_loss: 0.3956 - val_acc: 0.8772\n",
      "Epoch 4/25\n",
      "455/455 [==============================] - 0s 906us/step - loss: 0.3099 - acc: 0.9451 - val_loss: 0.2557 - val_acc: 0.9561\n",
      "Epoch 5/25\n",
      "455/455 [==============================] - 0s 848us/step - loss: 0.2442 - acc: 0.9385 - val_loss: 0.2118 - val_acc: 0.9561\n",
      "Epoch 6/25\n",
      "455/455 [==============================] - 0s 894us/step - loss: 0.2065 - acc: 0.9407 - val_loss: 0.1945 - val_acc: 0.9737\n",
      "Epoch 7/25\n",
      "455/455 [==============================] - 0s 760us/step - loss: 0.1786 - acc: 0.9363 - val_loss: 0.2016 - val_acc: 0.9561\n",
      "Epoch 8/25\n",
      "455/455 [==============================] - 0s 752us/step - loss: 0.1600 - acc: 0.9495 - val_loss: 0.1908 - val_acc: 0.9474\n",
      "Epoch 9/25\n",
      "455/455 [==============================] - 0s 881us/step - loss: 0.1463 - acc: 0.9538 - val_loss: 0.1666 - val_acc: 0.9561\n",
      "Epoch 10/25\n",
      "455/455 [==============================] - 0s 883us/step - loss: 0.1350 - acc: 0.9582 - val_loss: 0.1731 - val_acc: 0.9474\n",
      "Epoch 11/25\n",
      "455/455 [==============================] - 0s 879us/step - loss: 0.1263 - acc: 0.9604 - val_loss: 0.1364 - val_acc: 0.9737\n",
      "Epoch 12/25\n",
      "455/455 [==============================] - 0s 765us/step - loss: 0.1205 - acc: 0.9604 - val_loss: 0.1634 - val_acc: 0.9474\n",
      "Epoch 13/25\n",
      "455/455 [==============================] - 0s 857us/step - loss: 0.1153 - acc: 0.9648 - val_loss: 0.1102 - val_acc: 0.9912\n",
      "Epoch 14/25\n",
      "455/455 [==============================] - 0s 889us/step - loss: 0.1071 - acc: 0.9560 - val_loss: 0.0897 - val_acc: 0.9825\n",
      "Epoch 15/25\n",
      "455/455 [==============================] - 0s 811us/step - loss: 0.1066 - acc: 0.9604 - val_loss: 0.1137 - val_acc: 0.9912\n",
      "Epoch 16/25\n",
      "455/455 [==============================] - 0s 776us/step - loss: 0.1015 - acc: 0.9670 - val_loss: 0.0994 - val_acc: 0.9912\n",
      "Epoch 17/25\n",
      "455/455 [==============================] - 0s 922us/step - loss: 0.0983 - acc: 0.9692 - val_loss: 0.1230 - val_acc: 0.9912\n",
      "Epoch 18/25\n",
      "455/455 [==============================] - 0s 834us/step - loss: 0.0936 - acc: 0.9648 - val_loss: 0.1386 - val_acc: 0.9649\n",
      "Epoch 19/25\n",
      "455/455 [==============================] - 0s 775us/step - loss: 0.0919 - acc: 0.9648 - val_loss: 0.0930 - val_acc: 0.9912\n",
      "Epoch 20/25\n",
      "455/455 [==============================] - 0s 944us/step - loss: 0.0921 - acc: 0.9670 - val_loss: 0.1064 - val_acc: 0.9912\n",
      "Epoch 21/25\n",
      "455/455 [==============================] - 0s 953us/step - loss: 0.0894 - acc: 0.9736 - val_loss: 0.0928 - val_acc: 0.9912\n",
      "Epoch 22/25\n",
      "455/455 [==============================] - 0s 869us/step - loss: 0.0866 - acc: 0.9758 - val_loss: 0.1063 - val_acc: 0.9912\n",
      "Epoch 23/25\n",
      "455/455 [==============================] - 0s 894us/step - loss: 0.0851 - acc: 0.9670 - val_loss: 0.1017 - val_acc: 0.9912\n",
      "Epoch 24/25\n",
      "455/455 [==============================] - 0s 743us/step - loss: 0.0846 - acc: 0.9714 - val_loss: 0.0919 - val_acc: 0.9912\n",
      "Epoch 25/25\n",
      "455/455 [==============================] - 0s 757us/step - loss: 0.0821 - acc: 0.9714 - val_loss: 0.0764 - val_acc: 0.9912\n"
     ]
    },
    {
     "data": {
      "image/png": "[encoded data removed]",
      "text/plain": [
       "<Figure size 432x288 with 1 Axes>"
      ]
     },
     "metadata": {
      "needs_background": "light"
     },
     "output_type": "display_data"
    },
    {
     "data": {
      "image/png": "[encoded data removed]",
      "text/plain": [
       "<Figure size 432x288 with 1 Axes>"
      ]
     },
     "metadata": {
      "needs_background": "light"
     },
     "output_type": "display_data"
    }
   ],
   "source": [
    "from sklearn.preprocessing import MinMaxScaler\n",
    "scaler = MinMaxScaler()\n",
    "\n",
    "min_scaled_data = scaler.fit_transform(data)\n",
    "\n",
    "model_4 =Sequential()\n",
    "model_4.add(Dense(10,activation='relu',input_shape=(30,)))\n",
    "model_4.add(Dense(1, activation='sigmoid'))\n",
    "\n",
    "model_4.compile(loss='binary_crossentropy',optimizer='sgd',metrics=['acc'])\n",
    "model_4.summary()\n",
    "\n",
    "results_4 = model_4.fit(min_scaled_data,target,epochs=25,batch_size=1,validation_split=0.2)\n",
    "visualize_training_results(results_4)"
   ]
  },
  {
   "cell_type": "code",
   "execution_count": null,
   "metadata": {},
   "outputs": [],
   "source": []
  }
 ],
 "metadata": {
  "colab": {
   "collapsed_sections": [],
   "name": "Copy of James' Study Group Notes - Section 41-42 (condensed version).ipynb",
   "provenance": []
  },
  "kernelspec": {
   "display_name": "Python [conda env:learn-env] *",
   "language": "python",
   "name": "conda-env-learn-env-py"
  },
  "language_info": {
   "codemirror_mode": {
    "name": "ipython",
    "version": 3
   },
   "file_extension": ".py",
   "mimetype": "text/x-python",
   "name": "python",
   "nbconvert_exporter": "python",
   "pygments_lexer": "ipython3",
   "version": "3.6.11"
  },
  "toc": {
   "base_numbering": 1,
   "nav_menu": {},
   "number_sections": false,
   "sideBar": true,
   "skip_h1_title": false,
   "title_cell": "Table of Contents",
   "title_sidebar": "Contents",
   "toc_cell": false,
   "toc_position": {
    "height": "calc(100% - 180px)",
    "left": "10px",
    "top": "150px",
    "width": "256px"
   },
   "toc_section_display": true,
   "toc_window_display": true
  }
 },
 "nbformat": 4,
 "nbformat_minor": 1
}
