{
 "cells": [
  {
   "cell_type": "markdown",
   "metadata": {},
   "source": [
    "# Objectives\n",
    "YWBAT\n",
    "* apply the CLT to measure the mean distribution of a sample of data\n",
    "* define confidence intervals for the mean distribution of a sample of data\n",
    "* conduct bootstrap sampling on an array of data\n",
    "* plot the sampling distribution of means using seaborn\n",
    "\n",
    "\n",
    "# Outline\n",
    "* load in the `ks-projects-201801.csv.gz` file using pandas in the `data/` folder\n",
    "* take a bootstrap sample of the Comics category? (goal values)\n",
    "    * does it resemble a normal distribution? Why/why not? \n",
    "    * should we clean any of the data? \n",
    "* plot the bootstrap sample of the Comics vs the original distribution of the Comics Category (goal values)\n",
    "* using the CLT what is the distribution of sample means for the Comics category? Use 36 bootstrap sampling distributions. \n",
    "* what is the standard deviation of the sampling distribution of means? \n",
    "    * look up the formula for this, use the video I sent in the slack channel\n",
    "* now look at the pledged ammounts? \n",
    "* repeat this same exercise with Comics category, but only for pledged ammount that are within 70% of their goal. If there aren't enough items to do sampling, find another category where the pledged amounts are high"
   ]
  },
  {
   "cell_type": "code",
   "execution_count": null,
   "metadata": {},
   "outputs": [],
   "source": []
  }
 ],
 "metadata": {
  "kernelspec": {
   "display_name": "flatiron-env",
   "language": "python",
   "name": "flatiron-env"
  },
  "language_info": {
   "codemirror_mode": {
    "name": "ipython",
    "version": 3
   },
   "file_extension": ".py",
   "mimetype": "text/x-python",
   "name": "python",
   "nbconvert_exporter": "python",
   "pygments_lexer": "ipython3",
   "version": "3.7.3"
  }
 },
 "nbformat": 4,
 "nbformat_minor": 2
}
