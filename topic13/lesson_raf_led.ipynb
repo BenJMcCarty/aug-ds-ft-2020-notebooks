{
 "cells": [
  {
   "cell_type": "markdown",
   "metadata": {},
   "source": [
    "# Objectives\n",
    "YWBAT\n",
    "* apply the CLT to measure the mean distribution of a sample of data\n",
    "* define confidence intervals for the mean distribution of a sample of data\n",
    "* conduct bootstrap sampling on an array of data\n",
    "* plot the sampling distribution of means using seaborn\n",
    "\n",
    "\n",
    "# Outline\n",
    "* load in the `ks-projects-201801.csv.gz` file using pandas in the `data/` folder\n",
    "* take a bootstrap sample of the Comics category? (goal values)\n",
    "    * does it resemble a normal distribution? Why/why not? \n",
    "    * should we clean any of the data? \n",
    "* plot the bootstrap sample of the Comics vs the original distribution of the Comics Category (goal values)\n",
    "* using the CLT what is the distribution of sample means for the Comics category? Use 30 bootstrap sampling distributions. \n",
    "* what is the standard deviation of the sampling distribution of means? \n",
    "    * look up the formula for this, use the video I sent in the slack channel\n",
    "* now look at the pledged amounts? \n",
    "* repeat this same exercise with Comics category, but only for pledged amount that are within 70% of their goal. If there aren't enough items to do sampling, find another category where the pledged amounts are high"
   ]
  },
  {
   "cell_type": "code",
   "execution_count": 16,
   "metadata": {},
   "outputs": [],
   "source": [
    "import pandas as pd\n",
    "import numpy as np\n",
    "\n",
    "import scipy.stats as scs\n",
    "\n",
    "import matplotlib.pyplot as plt\n",
    "import seaborn as sns"
   ]
  },
  {
   "cell_type": "code",
   "execution_count": 73,
   "metadata": {},
   "outputs": [],
   "source": [
    "def plot_dist(arr, xlabel=\"X\", name=\"data\", bins=20):\n",
    "    sns.distplot(arr, bins=bins)\n",
    "    plt.ylabel(\"PDF\")\n",
    "    plt.xlabel(xlabel)\n",
    "    plt.title(f\"PDF of {name}\")\n",
    "    plt.show() \n",
    "    \n",
    "    \n",
    "def sample_bootstrap(X):\n",
    "    return np.random.choice(X, size=X.shape[0], replace=True)\n",
    "\n",
    "\n",
    "def calculate_mean_statistics(arr, num_samples=30, plot_sampling_dist=False, ci=0.95):\n",
    "    sample_mus = []\n",
    "    sample_size = arr.shape[0]\n",
    "    for i in range(num_samples):\n",
    "        bootstrap = sample_bootstrap(arr)\n",
    "        sample_mus.append(bootstrap.mean())\n",
    "    sample_mu = np.mean(sample_mus)\n",
    "    sample_std = arr.std()/np.sqrt(sample_size)\n",
    "    if plot_sampling_dist:\n",
    "        plot_dist(sample_mus, name=\"sample means\")\n",
    "    lower_limit, upper_limit = get_limits(sample_mu, sample_std, ci=ci)\n",
    "    return sample_mu, sample_std, lower_limit, upper_limit\n",
    "\n",
    "\n",
    "def get_limits(sample_mu, sample_std, ci=0.95):\n",
    "    norm_dist = scs.norm(sample_mu, sample_std)\n",
    "    outer_area = 1-ci\n",
    "    half_outer_area = outer_area/2\n",
    "    lower_limit = norm_dist.ppf(half_outer_area)\n",
    "    upper_limit = norm_dist.ppf(1-half_outer_area)\n",
    "    return lower_limit, upper_limit"
   ]
  },
  {
   "cell_type": "code",
   "execution_count": 18,
   "metadata": {},
   "outputs": [
    {
     "data": {
      "text/html": [
       "<div>\n",
       "<style scoped>\n",
       "    .dataframe tbody tr th:only-of-type {\n",
       "        vertical-align: middle;\n",
       "    }\n",
       "\n",
       "    .dataframe tbody tr th {\n",
       "        vertical-align: top;\n",
       "    }\n",
       "\n",
       "    .dataframe thead th {\n",
       "        text-align: right;\n",
       "    }\n",
       "</style>\n",
       "<table border=\"1\" class=\"dataframe\">\n",
       "  <thead>\n",
       "    <tr style=\"text-align: right;\">\n",
       "      <th></th>\n",
       "      <th>ID</th>\n",
       "      <th>name</th>\n",
       "      <th>category</th>\n",
       "      <th>main_category</th>\n",
       "      <th>currency</th>\n",
       "      <th>deadline</th>\n",
       "      <th>goal</th>\n",
       "      <th>launched</th>\n",
       "      <th>pledged</th>\n",
       "      <th>state</th>\n",
       "      <th>backers</th>\n",
       "      <th>country</th>\n",
       "      <th>usd pledged</th>\n",
       "      <th>usd_pledged_real</th>\n",
       "      <th>usd_goal_real</th>\n",
       "    </tr>\n",
       "  </thead>\n",
       "  <tbody>\n",
       "    <tr>\n",
       "      <th>0</th>\n",
       "      <td>1000002330</td>\n",
       "      <td>The Songs of Adelaide &amp; Abullah</td>\n",
       "      <td>Poetry</td>\n",
       "      <td>Publishing</td>\n",
       "      <td>GBP</td>\n",
       "      <td>2015-10-09</td>\n",
       "      <td>1000.0</td>\n",
       "      <td>2015-08-11 12:12:28</td>\n",
       "      <td>0.0</td>\n",
       "      <td>failed</td>\n",
       "      <td>0</td>\n",
       "      <td>GB</td>\n",
       "      <td>0.0</td>\n",
       "      <td>0.0</td>\n",
       "      <td>1533.95</td>\n",
       "    </tr>\n",
       "    <tr>\n",
       "      <th>1</th>\n",
       "      <td>1000003930</td>\n",
       "      <td>Greeting From Earth: ZGAC Arts Capsule For ET</td>\n",
       "      <td>Narrative Film</td>\n",
       "      <td>Film &amp; Video</td>\n",
       "      <td>USD</td>\n",
       "      <td>2017-11-01</td>\n",
       "      <td>30000.0</td>\n",
       "      <td>2017-09-02 04:43:57</td>\n",
       "      <td>2421.0</td>\n",
       "      <td>failed</td>\n",
       "      <td>15</td>\n",
       "      <td>US</td>\n",
       "      <td>100.0</td>\n",
       "      <td>2421.0</td>\n",
       "      <td>30000.00</td>\n",
       "    </tr>\n",
       "    <tr>\n",
       "      <th>2</th>\n",
       "      <td>1000004038</td>\n",
       "      <td>Where is Hank?</td>\n",
       "      <td>Narrative Film</td>\n",
       "      <td>Film &amp; Video</td>\n",
       "      <td>USD</td>\n",
       "      <td>2013-02-26</td>\n",
       "      <td>45000.0</td>\n",
       "      <td>2013-01-12 00:20:50</td>\n",
       "      <td>220.0</td>\n",
       "      <td>failed</td>\n",
       "      <td>3</td>\n",
       "      <td>US</td>\n",
       "      <td>220.0</td>\n",
       "      <td>220.0</td>\n",
       "      <td>45000.00</td>\n",
       "    </tr>\n",
       "    <tr>\n",
       "      <th>3</th>\n",
       "      <td>1000007540</td>\n",
       "      <td>ToshiCapital Rekordz Needs Help to Complete Album</td>\n",
       "      <td>Music</td>\n",
       "      <td>Music</td>\n",
       "      <td>USD</td>\n",
       "      <td>2012-04-16</td>\n",
       "      <td>5000.0</td>\n",
       "      <td>2012-03-17 03:24:11</td>\n",
       "      <td>1.0</td>\n",
       "      <td>failed</td>\n",
       "      <td>1</td>\n",
       "      <td>US</td>\n",
       "      <td>1.0</td>\n",
       "      <td>1.0</td>\n",
       "      <td>5000.00</td>\n",
       "    </tr>\n",
       "    <tr>\n",
       "      <th>4</th>\n",
       "      <td>1000011046</td>\n",
       "      <td>Community Film Project: The Art of Neighborhoo...</td>\n",
       "      <td>Film &amp; Video</td>\n",
       "      <td>Film &amp; Video</td>\n",
       "      <td>USD</td>\n",
       "      <td>2015-08-29</td>\n",
       "      <td>19500.0</td>\n",
       "      <td>2015-07-04 08:35:03</td>\n",
       "      <td>1283.0</td>\n",
       "      <td>canceled</td>\n",
       "      <td>14</td>\n",
       "      <td>US</td>\n",
       "      <td>1283.0</td>\n",
       "      <td>1283.0</td>\n",
       "      <td>19500.00</td>\n",
       "    </tr>\n",
       "  </tbody>\n",
       "</table>\n",
       "</div>"
      ],
      "text/plain": [
       "           ID                                               name  \\\n",
       "0  1000002330                    The Songs of Adelaide & Abullah   \n",
       "1  1000003930      Greeting From Earth: ZGAC Arts Capsule For ET   \n",
       "2  1000004038                                     Where is Hank?   \n",
       "3  1000007540  ToshiCapital Rekordz Needs Help to Complete Album   \n",
       "4  1000011046  Community Film Project: The Art of Neighborhoo...   \n",
       "\n",
       "         category main_category currency    deadline     goal  \\\n",
       "0          Poetry    Publishing      GBP  2015-10-09   1000.0   \n",
       "1  Narrative Film  Film & Video      USD  2017-11-01  30000.0   \n",
       "2  Narrative Film  Film & Video      USD  2013-02-26  45000.0   \n",
       "3           Music         Music      USD  2012-04-16   5000.0   \n",
       "4    Film & Video  Film & Video      USD  2015-08-29  19500.0   \n",
       "\n",
       "              launched  pledged     state  backers country  usd pledged  \\\n",
       "0  2015-08-11 12:12:28      0.0    failed        0      GB          0.0   \n",
       "1  2017-09-02 04:43:57   2421.0    failed       15      US        100.0   \n",
       "2  2013-01-12 00:20:50    220.0    failed        3      US        220.0   \n",
       "3  2012-03-17 03:24:11      1.0    failed        1      US          1.0   \n",
       "4  2015-07-04 08:35:03   1283.0  canceled       14      US       1283.0   \n",
       "\n",
       "   usd_pledged_real  usd_goal_real  \n",
       "0               0.0        1533.95  \n",
       "1            2421.0       30000.00  \n",
       "2             220.0       45000.00  \n",
       "3               1.0        5000.00  \n",
       "4            1283.0       19500.00  "
      ]
     },
     "execution_count": 18,
     "metadata": {},
     "output_type": "execute_result"
    }
   ],
   "source": [
    "df = pd.read_csv(\"../data/ks-projects-201801.csv.gz\")\n",
    "df.head()"
   ]
  },
  {
   "cell_type": "code",
   "execution_count": 19,
   "metadata": {},
   "outputs": [
    {
     "data": {
      "text/plain": [
       "(378661, 15)"
      ]
     },
     "execution_count": 19,
     "metadata": {},
     "output_type": "execute_result"
    }
   ],
   "source": [
    "df.shape"
   ]
  },
  {
   "cell_type": "code",
   "execution_count": 20,
   "metadata": {},
   "outputs": [
    {
     "data": {
      "text/html": [
       "<div>\n",
       "<style scoped>\n",
       "    .dataframe tbody tr th:only-of-type {\n",
       "        vertical-align: middle;\n",
       "    }\n",
       "\n",
       "    .dataframe tbody tr th {\n",
       "        vertical-align: top;\n",
       "    }\n",
       "\n",
       "    .dataframe thead th {\n",
       "        text-align: right;\n",
       "    }\n",
       "</style>\n",
       "<table border=\"1\" class=\"dataframe\">\n",
       "  <thead>\n",
       "    <tr style=\"text-align: right;\">\n",
       "      <th></th>\n",
       "      <th>ID</th>\n",
       "      <th>name</th>\n",
       "      <th>category</th>\n",
       "      <th>main_category</th>\n",
       "      <th>currency</th>\n",
       "      <th>deadline</th>\n",
       "      <th>goal</th>\n",
       "      <th>launched</th>\n",
       "      <th>pledged</th>\n",
       "      <th>state</th>\n",
       "      <th>backers</th>\n",
       "      <th>country</th>\n",
       "      <th>usd pledged</th>\n",
       "      <th>usd_pledged_real</th>\n",
       "      <th>usd_goal_real</th>\n",
       "    </tr>\n",
       "  </thead>\n",
       "  <tbody>\n",
       "    <tr>\n",
       "      <th>24</th>\n",
       "      <td>1000091520</td>\n",
       "      <td>The Book Zoo - A Mini-Comic</td>\n",
       "      <td>Comics</td>\n",
       "      <td>Comics</td>\n",
       "      <td>USD</td>\n",
       "      <td>2014-11-12</td>\n",
       "      <td>175.0</td>\n",
       "      <td>2014-10-23 17:15:50</td>\n",
       "      <td>701.66</td>\n",
       "      <td>successful</td>\n",
       "      <td>66</td>\n",
       "      <td>US</td>\n",
       "      <td>701.66</td>\n",
       "      <td>701.66</td>\n",
       "      <td>175.00</td>\n",
       "    </tr>\n",
       "    <tr>\n",
       "      <th>28</th>\n",
       "      <td>1000104953</td>\n",
       "      <td>Rebel Army Origins: The Heroic Story Of Major ...</td>\n",
       "      <td>Comics</td>\n",
       "      <td>Comics</td>\n",
       "      <td>GBP</td>\n",
       "      <td>2016-01-28</td>\n",
       "      <td>100.0</td>\n",
       "      <td>2015-12-29 16:59:29</td>\n",
       "      <td>112.38</td>\n",
       "      <td>successful</td>\n",
       "      <td>27</td>\n",
       "      <td>GB</td>\n",
       "      <td>167.70</td>\n",
       "      <td>160.60</td>\n",
       "      <td>142.91</td>\n",
       "    </tr>\n",
       "    <tr>\n",
       "      <th>91</th>\n",
       "      <td>1000348776</td>\n",
       "      <td>P/O/V Comic and Literary Anthology</td>\n",
       "      <td>Comics</td>\n",
       "      <td>Comics</td>\n",
       "      <td>USD</td>\n",
       "      <td>2012-03-06</td>\n",
       "      <td>4289.0</td>\n",
       "      <td>2012-01-21 18:25:26</td>\n",
       "      <td>474.00</td>\n",
       "      <td>failed</td>\n",
       "      <td>14</td>\n",
       "      <td>US</td>\n",
       "      <td>474.00</td>\n",
       "      <td>474.00</td>\n",
       "      <td>4289.00</td>\n",
       "    </tr>\n",
       "    <tr>\n",
       "      <th>208</th>\n",
       "      <td>1000869383</td>\n",
       "      <td>The Case of the Silent Girl - a dark Sherlock ...</td>\n",
       "      <td>Comics</td>\n",
       "      <td>Comics</td>\n",
       "      <td>SEK</td>\n",
       "      <td>2016-07-18</td>\n",
       "      <td>4450.0</td>\n",
       "      <td>2016-06-18 20:16:00</td>\n",
       "      <td>8503.00</td>\n",
       "      <td>successful</td>\n",
       "      <td>47</td>\n",
       "      <td>SE</td>\n",
       "      <td>409.54</td>\n",
       "      <td>986.03</td>\n",
       "      <td>516.03</td>\n",
       "    </tr>\n",
       "    <tr>\n",
       "      <th>228</th>\n",
       "      <td>1000997384</td>\n",
       "      <td>Quick, The Clockwork Knight Volume #2</td>\n",
       "      <td>Comics</td>\n",
       "      <td>Comics</td>\n",
       "      <td>USD</td>\n",
       "      <td>2014-06-03</td>\n",
       "      <td>2000.0</td>\n",
       "      <td>2014-04-16 05:25:22</td>\n",
       "      <td>2585.00</td>\n",
       "      <td>successful</td>\n",
       "      <td>105</td>\n",
       "      <td>US</td>\n",
       "      <td>2585.00</td>\n",
       "      <td>2585.00</td>\n",
       "      <td>2000.00</td>\n",
       "    </tr>\n",
       "  </tbody>\n",
       "</table>\n",
       "</div>"
      ],
      "text/plain": [
       "             ID                                               name category  \\\n",
       "24   1000091520                        The Book Zoo - A Mini-Comic   Comics   \n",
       "28   1000104953  Rebel Army Origins: The Heroic Story Of Major ...   Comics   \n",
       "91   1000348776                 P/O/V Comic and Literary Anthology   Comics   \n",
       "208  1000869383  The Case of the Silent Girl - a dark Sherlock ...   Comics   \n",
       "228  1000997384              Quick, The Clockwork Knight Volume #2   Comics   \n",
       "\n",
       "    main_category currency    deadline    goal             launched  pledged  \\\n",
       "24         Comics      USD  2014-11-12   175.0  2014-10-23 17:15:50   701.66   \n",
       "28         Comics      GBP  2016-01-28   100.0  2015-12-29 16:59:29   112.38   \n",
       "91         Comics      USD  2012-03-06  4289.0  2012-01-21 18:25:26   474.00   \n",
       "208        Comics      SEK  2016-07-18  4450.0  2016-06-18 20:16:00  8503.00   \n",
       "228        Comics      USD  2014-06-03  2000.0  2014-04-16 05:25:22  2585.00   \n",
       "\n",
       "          state  backers country  usd pledged  usd_pledged_real  usd_goal_real  \n",
       "24   successful       66      US       701.66            701.66         175.00  \n",
       "28   successful       27      GB       167.70            160.60         142.91  \n",
       "91       failed       14      US       474.00            474.00        4289.00  \n",
       "208  successful       47      SE       409.54            986.03         516.03  \n",
       "228  successful      105      US      2585.00           2585.00        2000.00  "
      ]
     },
     "execution_count": 20,
     "metadata": {},
     "output_type": "execute_result"
    }
   ],
   "source": [
    "df_comics = df.loc[df['category']=='Comics']\n",
    "df_comics.head()"
   ]
  },
  {
   "cell_type": "code",
   "execution_count": 15,
   "metadata": {},
   "outputs": [
    {
     "data": {
      "text/plain": [
       "0"
      ]
     },
     "execution_count": 15,
     "metadata": {},
     "output_type": "execute_result"
    }
   ],
   "source": [
    "# checking for category/main_cateory mismatches\n",
    "sum(df_comics['category']!=df_comics['main_category'])"
   ]
  },
  {
   "cell_type": "code",
   "execution_count": 22,
   "metadata": {},
   "outputs": [
    {
     "data": {
      "image/png": "[encoded data removed]",
      "text/plain": [
       "<Figure size 432x288 with 1 Axes>"
      ]
     },
     "metadata": {
      "needs_background": "light"
     },
     "output_type": "display_data"
    }
   ],
   "source": [
    "plot_dist(df_comics['goal'])"
   ]
  },
  {
   "cell_type": "code",
   "execution_count": 33,
   "metadata": {},
   "outputs": [
    {
     "data": {
      "text/html": [
       "<div>\n",
       "<style scoped>\n",
       "    .dataframe tbody tr th:only-of-type {\n",
       "        vertical-align: middle;\n",
       "    }\n",
       "\n",
       "    .dataframe tbody tr th {\n",
       "        vertical-align: top;\n",
       "    }\n",
       "\n",
       "    .dataframe thead th {\n",
       "        text-align: right;\n",
       "    }\n",
       "</style>\n",
       "<table border=\"1\" class=\"dataframe\">\n",
       "  <thead>\n",
       "    <tr style=\"text-align: right;\">\n",
       "      <th></th>\n",
       "      <th>goal</th>\n",
       "    </tr>\n",
       "  </thead>\n",
       "  <tbody>\n",
       "    <tr>\n",
       "      <th>count</th>\n",
       "      <td>4.996000e+03</td>\n",
       "    </tr>\n",
       "    <tr>\n",
       "      <th>mean</th>\n",
       "      <td>3.304677e+04</td>\n",
       "    </tr>\n",
       "    <tr>\n",
       "      <th>std</th>\n",
       "      <td>1.428954e+06</td>\n",
       "    </tr>\n",
       "    <tr>\n",
       "      <th>min</th>\n",
       "      <td>1.000000e+00</td>\n",
       "    </tr>\n",
       "    <tr>\n",
       "      <th>25%</th>\n",
       "      <td>1.500000e+03</td>\n",
       "    </tr>\n",
       "    <tr>\n",
       "      <th>50%</th>\n",
       "      <td>3.845000e+03</td>\n",
       "    </tr>\n",
       "    <tr>\n",
       "      <th>75%</th>\n",
       "      <td>8.000000e+03</td>\n",
       "    </tr>\n",
       "    <tr>\n",
       "      <th>max</th>\n",
       "      <td>1.000000e+08</td>\n",
       "    </tr>\n",
       "  </tbody>\n",
       "</table>\n",
       "</div>"
      ],
      "text/plain": [
       "               goal\n",
       "count  4.996000e+03\n",
       "mean   3.304677e+04\n",
       "std    1.428954e+06\n",
       "min    1.000000e+00\n",
       "25%    1.500000e+03\n",
       "50%    3.845000e+03\n",
       "75%    8.000000e+03\n",
       "max    1.000000e+08"
      ]
     },
     "execution_count": 33,
     "metadata": {},
     "output_type": "execute_result"
    }
   ],
   "source": [
    "df_comics[['goal']].describe()"
   ]
  },
  {
   "cell_type": "code",
   "execution_count": 36,
   "metadata": {},
   "outputs": [],
   "source": [
    "df_c_lh = df_comics.loc[df_comics['goal']<=df['goal'].median()]"
   ]
  },
  {
   "cell_type": "code",
   "execution_count": 37,
   "metadata": {},
   "outputs": [
    {
     "data": {
      "image/png": "[encoded data removed]",
      "text/plain": [
       "<Figure size 432x288 with 1 Axes>"
      ]
     },
     "metadata": {
      "needs_background": "light"
     },
     "output_type": "display_data"
    }
   ],
   "source": [
    "plot_dist(df_c_lh['goal'], name='lower median')"
   ]
  },
  {
   "cell_type": "markdown",
   "metadata": {},
   "source": [
    "# Let's calculate the sample mean of the lower half of the data"
   ]
  },
  {
   "cell_type": "code",
   "execution_count": 38,
   "metadata": {},
   "outputs": [
    {
     "data": {
      "text/plain": [
       "2219.2712323491655"
      ]
     },
     "execution_count": 38,
     "metadata": {},
     "output_type": "execute_result"
    }
   ],
   "source": [
    "lh_goal_mu_raw = df_c_lh['goal'].mean()\n",
    "lh_goal_mu_raw"
   ]
  },
  {
   "cell_type": "code",
   "execution_count": 40,
   "metadata": {},
   "outputs": [],
   "source": [
    "sampling_distribution_mus = []\n",
    "\n",
    "for i in range(30):\n",
    "    bootstrap_sample = sample_bootstrap(df_c_lh['goal'])\n",
    "    bs_sample_mean = bootstrap_sample.mean()\n",
    "    sampling_distribution_mus.append(bs_sample_mean)"
   ]
  },
  {
   "cell_type": "code",
   "execution_count": 42,
   "metadata": {},
   "outputs": [
    {
     "data": {
      "image/png": "[encoded data removed]",
      "text/plain": [
       "<Figure size 432x288 with 1 Axes>"
      ]
     },
     "metadata": {
      "needs_background": "light"
     },
     "output_type": "display_data"
    }
   ],
   "source": [
    "plot_dist(sampling_distribution_mus, name=\"sample means\")"
   ]
  },
  {
   "cell_type": "code",
   "execution_count": 43,
   "metadata": {},
   "outputs": [
    {
     "data": {
      "text/plain": [
       "39.756821791055344"
      ]
     },
     "execution_count": 43,
     "metadata": {},
     "output_type": "execute_result"
    }
   ],
   "source": [
    "sampling_distribution_std = lh_goal_mu_raw/np.sqrt(df_c_lh.shape[0])\n",
    "sampling_distribution_std"
   ]
  },
  {
   "cell_type": "code",
   "execution_count": 44,
   "metadata": {},
   "outputs": [
    {
     "data": {
      "text/plain": [
       "2218.694306803595"
      ]
     },
     "execution_count": 44,
     "metadata": {},
     "output_type": "execute_result"
    }
   ],
   "source": [
    "np.mean(sampling_distribution_mus)"
   ]
  },
  {
   "cell_type": "code",
   "execution_count": 45,
   "metadata": {},
   "outputs": [],
   "source": [
    "# our distribution of means of the these lowerhalf values has the parameters mu=2218.69, std=39.756\n",
    "sample_lh_mu=2218.69\n",
    "sample_lh_std=39.756"
   ]
  },
  {
   "cell_type": "code",
   "execution_count": 46,
   "metadata": {},
   "outputs": [],
   "source": [
    "# what are our (95%) confidence intervals for our mean of the lower half of the goal data for comics?\n",
    "\n",
    "lh_comics_dist = scs.norm(loc=sample_lh_mu, scale=sample_lh_std)"
   ]
  },
  {
   "cell_type": "code",
   "execution_count": 54,
   "metadata": {},
   "outputs": [
    {
     "data": {
      "text/plain": [
       "(2140.7696718306256, 2296.6103281693745)"
      ]
     },
     "execution_count": 54,
     "metadata": {},
     "output_type": "execute_result"
    }
   ],
   "source": [
    "# lower_bound of 0.05\n",
    "lh_comics_dist.ppf(0.025), lh_comics_dist.ppf(0.975)"
   ]
  },
  {
   "cell_type": "code",
   "execution_count": 55,
   "metadata": {},
   "outputs": [],
   "source": [
    "# if we take a random sample of kickstarter comic campaigns under the median, \n",
    "# we'll see a mean between 2140 and 2296 with 95% confidence"
   ]
  },
  {
   "cell_type": "code",
   "execution_count": 58,
   "metadata": {},
   "outputs": [
    {
     "data": {
      "text/plain": [
       "(2139.178, 2298.202)"
      ]
     },
     "execution_count": 58,
     "metadata": {},
     "output_type": "execute_result"
    }
   ],
   "source": [
    "sample_lh_mu-2*sample_lh_std, sample_lh_mu+2*sample_lh_std"
   ]
  },
  {
   "cell_type": "code",
   "execution_count": 59,
   "metadata": {},
   "outputs": [],
   "source": [
    "# let's find the columns where pledge/goal >= 0.70"
   ]
  },
  {
   "cell_type": "code",
   "execution_count": 60,
   "metadata": {},
   "outputs": [
    {
     "name": "stderr",
     "output_type": "stream",
     "text": [
      "/Users/rcarrasco/anaconda3/lib/python3.7/site-packages/ipykernel_launcher.py:1: SettingWithCopyWarning: \n",
      "A value is trying to be set on a copy of a slice from a DataFrame.\n",
      "Try using .loc[row_indexer,col_indexer] = value instead\n",
      "\n",
      "See the caveats in the documentation: http://pandas.pydata.org/pandas-docs/stable/indexing.html#indexing-view-versus-copy\n",
      "  \"\"\"Entry point for launching an IPython kernel.\n"
     ]
    },
    {
     "data": {
      "text/html": [
       "<div>\n",
       "<style scoped>\n",
       "    .dataframe tbody tr th:only-of-type {\n",
       "        vertical-align: middle;\n",
       "    }\n",
       "\n",
       "    .dataframe tbody tr th {\n",
       "        vertical-align: top;\n",
       "    }\n",
       "\n",
       "    .dataframe thead th {\n",
       "        text-align: right;\n",
       "    }\n",
       "</style>\n",
       "<table border=\"1\" class=\"dataframe\">\n",
       "  <thead>\n",
       "    <tr style=\"text-align: right;\">\n",
       "      <th></th>\n",
       "      <th>ID</th>\n",
       "      <th>name</th>\n",
       "      <th>category</th>\n",
       "      <th>main_category</th>\n",
       "      <th>currency</th>\n",
       "      <th>deadline</th>\n",
       "      <th>goal</th>\n",
       "      <th>launched</th>\n",
       "      <th>pledged</th>\n",
       "      <th>state</th>\n",
       "      <th>backers</th>\n",
       "      <th>country</th>\n",
       "      <th>usd pledged</th>\n",
       "      <th>usd_pledged_real</th>\n",
       "      <th>usd_goal_real</th>\n",
       "      <th>pledge_percent</th>\n",
       "    </tr>\n",
       "  </thead>\n",
       "  <tbody>\n",
       "    <tr>\n",
       "      <th>24</th>\n",
       "      <td>1000091520</td>\n",
       "      <td>The Book Zoo - A Mini-Comic</td>\n",
       "      <td>Comics</td>\n",
       "      <td>Comics</td>\n",
       "      <td>USD</td>\n",
       "      <td>2014-11-12</td>\n",
       "      <td>175.0</td>\n",
       "      <td>2014-10-23 17:15:50</td>\n",
       "      <td>701.66</td>\n",
       "      <td>successful</td>\n",
       "      <td>66</td>\n",
       "      <td>US</td>\n",
       "      <td>701.66</td>\n",
       "      <td>701.66</td>\n",
       "      <td>175.00</td>\n",
       "      <td>4.009486</td>\n",
       "    </tr>\n",
       "    <tr>\n",
       "      <th>28</th>\n",
       "      <td>1000104953</td>\n",
       "      <td>Rebel Army Origins: The Heroic Story Of Major ...</td>\n",
       "      <td>Comics</td>\n",
       "      <td>Comics</td>\n",
       "      <td>GBP</td>\n",
       "      <td>2016-01-28</td>\n",
       "      <td>100.0</td>\n",
       "      <td>2015-12-29 16:59:29</td>\n",
       "      <td>112.38</td>\n",
       "      <td>successful</td>\n",
       "      <td>27</td>\n",
       "      <td>GB</td>\n",
       "      <td>167.70</td>\n",
       "      <td>160.60</td>\n",
       "      <td>142.91</td>\n",
       "      <td>1.123800</td>\n",
       "    </tr>\n",
       "    <tr>\n",
       "      <th>91</th>\n",
       "      <td>1000348776</td>\n",
       "      <td>P/O/V Comic and Literary Anthology</td>\n",
       "      <td>Comics</td>\n",
       "      <td>Comics</td>\n",
       "      <td>USD</td>\n",
       "      <td>2012-03-06</td>\n",
       "      <td>4289.0</td>\n",
       "      <td>2012-01-21 18:25:26</td>\n",
       "      <td>474.00</td>\n",
       "      <td>failed</td>\n",
       "      <td>14</td>\n",
       "      <td>US</td>\n",
       "      <td>474.00</td>\n",
       "      <td>474.00</td>\n",
       "      <td>4289.00</td>\n",
       "      <td>0.110515</td>\n",
       "    </tr>\n",
       "    <tr>\n",
       "      <th>208</th>\n",
       "      <td>1000869383</td>\n",
       "      <td>The Case of the Silent Girl - a dark Sherlock ...</td>\n",
       "      <td>Comics</td>\n",
       "      <td>Comics</td>\n",
       "      <td>SEK</td>\n",
       "      <td>2016-07-18</td>\n",
       "      <td>4450.0</td>\n",
       "      <td>2016-06-18 20:16:00</td>\n",
       "      <td>8503.00</td>\n",
       "      <td>successful</td>\n",
       "      <td>47</td>\n",
       "      <td>SE</td>\n",
       "      <td>409.54</td>\n",
       "      <td>986.03</td>\n",
       "      <td>516.03</td>\n",
       "      <td>1.910787</td>\n",
       "    </tr>\n",
       "    <tr>\n",
       "      <th>228</th>\n",
       "      <td>1000997384</td>\n",
       "      <td>Quick, The Clockwork Knight Volume #2</td>\n",
       "      <td>Comics</td>\n",
       "      <td>Comics</td>\n",
       "      <td>USD</td>\n",
       "      <td>2014-06-03</td>\n",
       "      <td>2000.0</td>\n",
       "      <td>2014-04-16 05:25:22</td>\n",
       "      <td>2585.00</td>\n",
       "      <td>successful</td>\n",
       "      <td>105</td>\n",
       "      <td>US</td>\n",
       "      <td>2585.00</td>\n",
       "      <td>2585.00</td>\n",
       "      <td>2000.00</td>\n",
       "      <td>1.292500</td>\n",
       "    </tr>\n",
       "  </tbody>\n",
       "</table>\n",
       "</div>"
      ],
      "text/plain": [
       "             ID                                               name category  \\\n",
       "24   1000091520                        The Book Zoo - A Mini-Comic   Comics   \n",
       "28   1000104953  Rebel Army Origins: The Heroic Story Of Major ...   Comics   \n",
       "91   1000348776                 P/O/V Comic and Literary Anthology   Comics   \n",
       "208  1000869383  The Case of the Silent Girl - a dark Sherlock ...   Comics   \n",
       "228  1000997384              Quick, The Clockwork Knight Volume #2   Comics   \n",
       "\n",
       "    main_category currency    deadline    goal             launched  pledged  \\\n",
       "24         Comics      USD  2014-11-12   175.0  2014-10-23 17:15:50   701.66   \n",
       "28         Comics      GBP  2016-01-28   100.0  2015-12-29 16:59:29   112.38   \n",
       "91         Comics      USD  2012-03-06  4289.0  2012-01-21 18:25:26   474.00   \n",
       "208        Comics      SEK  2016-07-18  4450.0  2016-06-18 20:16:00  8503.00   \n",
       "228        Comics      USD  2014-06-03  2000.0  2014-04-16 05:25:22  2585.00   \n",
       "\n",
       "          state  backers country  usd pledged  usd_pledged_real  \\\n",
       "24   successful       66      US       701.66            701.66   \n",
       "28   successful       27      GB       167.70            160.60   \n",
       "91       failed       14      US       474.00            474.00   \n",
       "208  successful       47      SE       409.54            986.03   \n",
       "228  successful      105      US      2585.00           2585.00   \n",
       "\n",
       "     usd_goal_real  pledge_percent  \n",
       "24          175.00        4.009486  \n",
       "28          142.91        1.123800  \n",
       "91         4289.00        0.110515  \n",
       "208         516.03        1.910787  \n",
       "228        2000.00        1.292500  "
      ]
     },
     "execution_count": 60,
     "metadata": {},
     "output_type": "execute_result"
    }
   ],
   "source": [
    "df_comics['pledge_percent'] = df_comics['pledged'] / df_comics['goal']\n",
    "df_comics.head()"
   ]
  },
  {
   "cell_type": "code",
   "execution_count": 61,
   "metadata": {},
   "outputs": [
    {
     "name": "stderr",
     "output_type": "stream",
     "text": [
      "/Users/rcarrasco/anaconda3/lib/python3.7/site-packages/ipykernel_launcher.py:1: SettingWithCopyWarning: \n",
      "A value is trying to be set on a copy of a slice from a DataFrame.\n",
      "Try using .loc[row_indexer,col_indexer] = value instead\n",
      "\n",
      "See the caveats in the documentation: http://pandas.pydata.org/pandas-docs/stable/indexing.html#indexing-view-versus-copy\n",
      "  \"\"\"Entry point for launching an IPython kernel.\n"
     ]
    },
    {
     "data": {
      "text/html": [
       "<div>\n",
       "<style scoped>\n",
       "    .dataframe tbody tr th:only-of-type {\n",
       "        vertical-align: middle;\n",
       "    }\n",
       "\n",
       "    .dataframe tbody tr th {\n",
       "        vertical-align: top;\n",
       "    }\n",
       "\n",
       "    .dataframe thead th {\n",
       "        text-align: right;\n",
       "    }\n",
       "</style>\n",
       "<table border=\"1\" class=\"dataframe\">\n",
       "  <thead>\n",
       "    <tr style=\"text-align: right;\">\n",
       "      <th></th>\n",
       "      <th>ID</th>\n",
       "      <th>name</th>\n",
       "      <th>category</th>\n",
       "      <th>main_category</th>\n",
       "      <th>currency</th>\n",
       "      <th>deadline</th>\n",
       "      <th>goal</th>\n",
       "      <th>launched</th>\n",
       "      <th>pledged</th>\n",
       "      <th>state</th>\n",
       "      <th>backers</th>\n",
       "      <th>country</th>\n",
       "      <th>usd pledged</th>\n",
       "      <th>usd_pledged_real</th>\n",
       "      <th>usd_goal_real</th>\n",
       "      <th>pledge_percent</th>\n",
       "      <th>pp_g_70</th>\n",
       "    </tr>\n",
       "  </thead>\n",
       "  <tbody>\n",
       "    <tr>\n",
       "      <th>24</th>\n",
       "      <td>1000091520</td>\n",
       "      <td>The Book Zoo - A Mini-Comic</td>\n",
       "      <td>Comics</td>\n",
       "      <td>Comics</td>\n",
       "      <td>USD</td>\n",
       "      <td>2014-11-12</td>\n",
       "      <td>175.0</td>\n",
       "      <td>2014-10-23 17:15:50</td>\n",
       "      <td>701.66</td>\n",
       "      <td>successful</td>\n",
       "      <td>66</td>\n",
       "      <td>US</td>\n",
       "      <td>701.66</td>\n",
       "      <td>701.66</td>\n",
       "      <td>175.00</td>\n",
       "      <td>4.009486</td>\n",
       "      <td>True</td>\n",
       "    </tr>\n",
       "    <tr>\n",
       "      <th>28</th>\n",
       "      <td>1000104953</td>\n",
       "      <td>Rebel Army Origins: The Heroic Story Of Major ...</td>\n",
       "      <td>Comics</td>\n",
       "      <td>Comics</td>\n",
       "      <td>GBP</td>\n",
       "      <td>2016-01-28</td>\n",
       "      <td>100.0</td>\n",
       "      <td>2015-12-29 16:59:29</td>\n",
       "      <td>112.38</td>\n",
       "      <td>successful</td>\n",
       "      <td>27</td>\n",
       "      <td>GB</td>\n",
       "      <td>167.70</td>\n",
       "      <td>160.60</td>\n",
       "      <td>142.91</td>\n",
       "      <td>1.123800</td>\n",
       "      <td>True</td>\n",
       "    </tr>\n",
       "    <tr>\n",
       "      <th>91</th>\n",
       "      <td>1000348776</td>\n",
       "      <td>P/O/V Comic and Literary Anthology</td>\n",
       "      <td>Comics</td>\n",
       "      <td>Comics</td>\n",
       "      <td>USD</td>\n",
       "      <td>2012-03-06</td>\n",
       "      <td>4289.0</td>\n",
       "      <td>2012-01-21 18:25:26</td>\n",
       "      <td>474.00</td>\n",
       "      <td>failed</td>\n",
       "      <td>14</td>\n",
       "      <td>US</td>\n",
       "      <td>474.00</td>\n",
       "      <td>474.00</td>\n",
       "      <td>4289.00</td>\n",
       "      <td>0.110515</td>\n",
       "      <td>False</td>\n",
       "    </tr>\n",
       "    <tr>\n",
       "      <th>208</th>\n",
       "      <td>1000869383</td>\n",
       "      <td>The Case of the Silent Girl - a dark Sherlock ...</td>\n",
       "      <td>Comics</td>\n",
       "      <td>Comics</td>\n",
       "      <td>SEK</td>\n",
       "      <td>2016-07-18</td>\n",
       "      <td>4450.0</td>\n",
       "      <td>2016-06-18 20:16:00</td>\n",
       "      <td>8503.00</td>\n",
       "      <td>successful</td>\n",
       "      <td>47</td>\n",
       "      <td>SE</td>\n",
       "      <td>409.54</td>\n",
       "      <td>986.03</td>\n",
       "      <td>516.03</td>\n",
       "      <td>1.910787</td>\n",
       "      <td>True</td>\n",
       "    </tr>\n",
       "    <tr>\n",
       "      <th>228</th>\n",
       "      <td>1000997384</td>\n",
       "      <td>Quick, The Clockwork Knight Volume #2</td>\n",
       "      <td>Comics</td>\n",
       "      <td>Comics</td>\n",
       "      <td>USD</td>\n",
       "      <td>2014-06-03</td>\n",
       "      <td>2000.0</td>\n",
       "      <td>2014-04-16 05:25:22</td>\n",
       "      <td>2585.00</td>\n",
       "      <td>successful</td>\n",
       "      <td>105</td>\n",
       "      <td>US</td>\n",
       "      <td>2585.00</td>\n",
       "      <td>2585.00</td>\n",
       "      <td>2000.00</td>\n",
       "      <td>1.292500</td>\n",
       "      <td>True</td>\n",
       "    </tr>\n",
       "  </tbody>\n",
       "</table>\n",
       "</div>"
      ],
      "text/plain": [
       "             ID                                               name category  \\\n",
       "24   1000091520                        The Book Zoo - A Mini-Comic   Comics   \n",
       "28   1000104953  Rebel Army Origins: The Heroic Story Of Major ...   Comics   \n",
       "91   1000348776                 P/O/V Comic and Literary Anthology   Comics   \n",
       "208  1000869383  The Case of the Silent Girl - a dark Sherlock ...   Comics   \n",
       "228  1000997384              Quick, The Clockwork Knight Volume #2   Comics   \n",
       "\n",
       "    main_category currency    deadline    goal             launched  pledged  \\\n",
       "24         Comics      USD  2014-11-12   175.0  2014-10-23 17:15:50   701.66   \n",
       "28         Comics      GBP  2016-01-28   100.0  2015-12-29 16:59:29   112.38   \n",
       "91         Comics      USD  2012-03-06  4289.0  2012-01-21 18:25:26   474.00   \n",
       "208        Comics      SEK  2016-07-18  4450.0  2016-06-18 20:16:00  8503.00   \n",
       "228        Comics      USD  2014-06-03  2000.0  2014-04-16 05:25:22  2585.00   \n",
       "\n",
       "          state  backers country  usd pledged  usd_pledged_real  \\\n",
       "24   successful       66      US       701.66            701.66   \n",
       "28   successful       27      GB       167.70            160.60   \n",
       "91       failed       14      US       474.00            474.00   \n",
       "208  successful       47      SE       409.54            986.03   \n",
       "228  successful      105      US      2585.00           2585.00   \n",
       "\n",
       "     usd_goal_real  pledge_percent  pp_g_70  \n",
       "24          175.00        4.009486     True  \n",
       "28          142.91        1.123800     True  \n",
       "91         4289.00        0.110515    False  \n",
       "208         516.03        1.910787     True  \n",
       "228        2000.00        1.292500     True  "
      ]
     },
     "execution_count": 61,
     "metadata": {},
     "output_type": "execute_result"
    }
   ],
   "source": [
    "df_comics['pp_g_70'] = df_comics['pledge_percent']>0.70\n",
    "df_comics.head()"
   ]
  },
  {
   "cell_type": "code",
   "execution_count": 63,
   "metadata": {},
   "outputs": [
    {
     "data": {
      "image/png": "[encoded data removed]",
      "text/plain": [
       "<Figure size 432x288 with 1 Axes>"
      ]
     },
     "metadata": {
      "needs_background": "light"
     },
     "output_type": "display_data"
    }
   ],
   "source": [
    "df_comics['pp_g_70'].value_counts().plot(kind='barh')\n",
    "plt.show()"
   ]
  },
  {
   "cell_type": "code",
   "execution_count": 64,
   "metadata": {},
   "outputs": [],
   "source": [
    "df_c_g70 = df_comics.loc[df_comics['pp_g_70']==True]"
   ]
  },
  {
   "cell_type": "code",
   "execution_count": 65,
   "metadata": {},
   "outputs": [
    {
     "data": {
      "image/png": "[encoded data removed]",
      "text/plain": [
       "<Figure size 432x288 with 1 Axes>"
      ]
     },
     "metadata": {
      "needs_background": "light"
     },
     "output_type": "display_data"
    }
   ],
   "source": [
    "plot_dist(df_c_g70['goal'])"
   ]
  },
  {
   "cell_type": "code",
   "execution_count": 71,
   "metadata": {},
   "outputs": [],
   "source": [
    "# remove all data under the 75 percentile\n",
    "df_c_g70_75_under = df_c_g70.loc[df_c_g70['goal']<6000]"
   ]
  },
  {
   "cell_type": "code",
   "execution_count": 72,
   "metadata": {},
   "outputs": [
    {
     "data": {
      "image/png": "[encoded data removed]",
      "text/plain": [
       "<Figure size 432x288 with 1 Axes>"
      ]
     },
     "metadata": {
      "needs_background": "light"
     },
     "output_type": "display_data"
    }
   ],
   "source": [
    "plot_dist(df_c_g70_75_under['goal'])"
   ]
  },
  {
   "cell_type": "code",
   "execution_count": 75,
   "metadata": {},
   "outputs": [
    {
     "data": {
      "image/png": "[encoded data removed]",
      "text/plain": [
       "<Figure size 432x288 with 1 Axes>"
      ]
     },
     "metadata": {
      "needs_background": "light"
     },
     "output_type": "display_data"
    },
    {
     "data": {
      "text/plain": [
       "(2024.0630500088982,\n",
       " 35.571552778026955,\n",
       " 1954.3440876897996,\n",
       " 2093.7820123279967)"
      ]
     },
     "execution_count": 75,
     "metadata": {},
     "output_type": "execute_result"
    }
   ],
   "source": [
    "calculate_mean_statistics(df_c_g70_75_under['goal'], plot_sampling_dist=True)"
   ]
  },
  {
   "cell_type": "code",
   "execution_count": 85,
   "metadata": {},
   "outputs": [
    {
     "data": {
      "image/png": "[encoded data removed]",
      "text/plain": [
       "<Figure size 432x288 with 1 Axes>"
      ]
     },
     "metadata": {
      "needs_background": "light"
     },
     "output_type": "display_data"
    }
   ],
   "source": [
    "sns.scatterplot(x='goal', y='pledged', data=df_c_g70, style='state', hue='country', alpha=0.5)\n",
    "plt.show()"
   ]
  },
  {
   "cell_type": "markdown",
   "metadata": {},
   "source": [
    "# What did we learn? \n",
    "* feature engineering\n",
    "    * roi, that's an engineered feature\n",
    "* how to find confidence intervals using the ppf function\n",
    "* bootstrap sampling\n",
    "* the wonders of clt \n",
    "* bootstrap samples can reuse values\n",
    "* herman hendig write dope comics\n",
    "* order of functions doesn't matter\n",
    "    * execute functions after they're defined\n",
    "* sampling distributions sd function\n",
    "* divide std by sqrt root of sample size to get the sampling std\n",
    "\n",
    "# what is a zscore\n",
    "* how many standard deviation away from the mean a data point is\n",
    "\n",
    "# What is a z-critical score\n",
    "* the z-score to meet a confidence interval "
   ]
  },
  {
   "cell_type": "code",
   "execution_count": null,
   "metadata": {},
   "outputs": [],
   "source": []
  }
 ],
 "metadata": {
  "kernelspec": {
   "display_name": "flatiron-env",
   "language": "python",
   "name": "flatiron-env"
  },
  "language_info": {
   "codemirror_mode": {
    "name": "ipython",
    "version": 3
   },
   "file_extension": ".py",
   "mimetype": "text/x-python",
   "name": "python",
   "nbconvert_exporter": "python",
   "pygments_lexer": "ipython3",
   "version": "3.7.3"
  }
 },
 "nbformat": 4,
 "nbformat_minor": 2
}
