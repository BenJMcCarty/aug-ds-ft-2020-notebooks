{
 "cells": [
  {
   "cell_type": "markdown",
   "metadata": {},
   "source": [
    "# Objectives\n",
    "YWBAT\n",
    "* explain how bayesian classification works\n",
    "* define a prior probability\n",
    "* use sklearn gridsearchcv\n",
    "* try and use a pipeline\n",
    "\n",
    "# Questions\n",
    "* when modeling\n",
    "    * should we process validation set with data then split? \n",
    "    * I (Rafa) think that splitting first is better"
   ]
  },
  {
   "cell_type": "code",
   "execution_count": 125,
   "metadata": {},
   "outputs": [],
   "source": [
    "import warnings\n",
    "warnings.filterwarnings('ignore')\n",
    "\n",
    "import numpy as np\n",
    "import pandas as pd\n",
    "\n",
    "from sklearn.naive_bayes import BernoulliNB, CategoricalNB, GaussianNB, MultinomialNB\n",
    "from sklearn.model_selection import GridSearchCV, train_test_split\n",
    "from sklearn.metrics import classification_report, confusion_matrix, plot_confusion_matrix\n",
    "from sklearn.base import BaseEstimator\n",
    "\n",
    "from sklearn.pipeline import Pipeline\n",
    "\n",
    "import matplotlib.pyplot as plt\n",
    "import seaborn as sns\n",
    "\n",
    "import plotly.express as px\n",
    "import plotly\n",
    "import plotly.graph_objects as go\n",
    "\n",
    "np.random.seed(42)"
   ]
  },
  {
   "cell_type": "code",
   "execution_count": 14,
   "metadata": {},
   "outputs": [],
   "source": [
    "yes_no_converter = lambda x: 1 if x==\"yes\" else 0"
   ]
  },
  {
   "cell_type": "code",
   "execution_count": 51,
   "metadata": {},
   "outputs": [
    {
     "data": {
      "text/html": [
       "<div>\n",
       "<style scoped>\n",
       "    .dataframe tbody tr th:only-of-type {\n",
       "        vertical-align: middle;\n",
       "    }\n",
       "\n",
       "    .dataframe tbody tr th {\n",
       "        vertical-align: top;\n",
       "    }\n",
       "\n",
       "    .dataframe thead th {\n",
       "        text-align: right;\n",
       "    }\n",
       "</style>\n",
       "<table border=\"1\" class=\"dataframe\">\n",
       "  <thead>\n",
       "    <tr style=\"text-align: right;\">\n",
       "      <th></th>\n",
       "      <th>age</th>\n",
       "      <th>job</th>\n",
       "      <th>marital</th>\n",
       "      <th>education</th>\n",
       "      <th>default</th>\n",
       "      <th>balance</th>\n",
       "      <th>housing</th>\n",
       "      <th>loan</th>\n",
       "      <th>contact</th>\n",
       "      <th>day</th>\n",
       "      <th>month</th>\n",
       "      <th>duration</th>\n",
       "      <th>campaign</th>\n",
       "      <th>pdays</th>\n",
       "      <th>previous</th>\n",
       "      <th>poutcome</th>\n",
       "      <th>y</th>\n",
       "    </tr>\n",
       "  </thead>\n",
       "  <tbody>\n",
       "    <tr>\n",
       "      <th>0</th>\n",
       "      <td>58</td>\n",
       "      <td>management</td>\n",
       "      <td>married</td>\n",
       "      <td>tertiary</td>\n",
       "      <td>no</td>\n",
       "      <td>2143</td>\n",
       "      <td>yes</td>\n",
       "      <td>no</td>\n",
       "      <td>unknown</td>\n",
       "      <td>5</td>\n",
       "      <td>may</td>\n",
       "      <td>261</td>\n",
       "      <td>1</td>\n",
       "      <td>-1</td>\n",
       "      <td>0</td>\n",
       "      <td>unknown</td>\n",
       "      <td>no</td>\n",
       "    </tr>\n",
       "    <tr>\n",
       "      <th>1</th>\n",
       "      <td>44</td>\n",
       "      <td>technician</td>\n",
       "      <td>single</td>\n",
       "      <td>secondary</td>\n",
       "      <td>no</td>\n",
       "      <td>29</td>\n",
       "      <td>yes</td>\n",
       "      <td>no</td>\n",
       "      <td>unknown</td>\n",
       "      <td>5</td>\n",
       "      <td>may</td>\n",
       "      <td>151</td>\n",
       "      <td>1</td>\n",
       "      <td>-1</td>\n",
       "      <td>0</td>\n",
       "      <td>unknown</td>\n",
       "      <td>no</td>\n",
       "    </tr>\n",
       "    <tr>\n",
       "      <th>2</th>\n",
       "      <td>33</td>\n",
       "      <td>entrepreneur</td>\n",
       "      <td>married</td>\n",
       "      <td>secondary</td>\n",
       "      <td>no</td>\n",
       "      <td>2</td>\n",
       "      <td>yes</td>\n",
       "      <td>yes</td>\n",
       "      <td>unknown</td>\n",
       "      <td>5</td>\n",
       "      <td>may</td>\n",
       "      <td>76</td>\n",
       "      <td>1</td>\n",
       "      <td>-1</td>\n",
       "      <td>0</td>\n",
       "      <td>unknown</td>\n",
       "      <td>no</td>\n",
       "    </tr>\n",
       "    <tr>\n",
       "      <th>3</th>\n",
       "      <td>47</td>\n",
       "      <td>blue-collar</td>\n",
       "      <td>married</td>\n",
       "      <td>unknown</td>\n",
       "      <td>no</td>\n",
       "      <td>1506</td>\n",
       "      <td>yes</td>\n",
       "      <td>no</td>\n",
       "      <td>unknown</td>\n",
       "      <td>5</td>\n",
       "      <td>may</td>\n",
       "      <td>92</td>\n",
       "      <td>1</td>\n",
       "      <td>-1</td>\n",
       "      <td>0</td>\n",
       "      <td>unknown</td>\n",
       "      <td>no</td>\n",
       "    </tr>\n",
       "    <tr>\n",
       "      <th>4</th>\n",
       "      <td>33</td>\n",
       "      <td>unknown</td>\n",
       "      <td>single</td>\n",
       "      <td>unknown</td>\n",
       "      <td>no</td>\n",
       "      <td>1</td>\n",
       "      <td>no</td>\n",
       "      <td>no</td>\n",
       "      <td>unknown</td>\n",
       "      <td>5</td>\n",
       "      <td>may</td>\n",
       "      <td>198</td>\n",
       "      <td>1</td>\n",
       "      <td>-1</td>\n",
       "      <td>0</td>\n",
       "      <td>unknown</td>\n",
       "      <td>no</td>\n",
       "    </tr>\n",
       "  </tbody>\n",
       "</table>\n",
       "</div>"
      ],
      "text/plain": [
       "   age           job  marital  education default  balance housing loan  \\\n",
       "0   58    management  married   tertiary      no     2143     yes   no   \n",
       "1   44    technician   single  secondary      no       29     yes   no   \n",
       "2   33  entrepreneur  married  secondary      no        2     yes  yes   \n",
       "3   47   blue-collar  married    unknown      no     1506     yes   no   \n",
       "4   33       unknown   single    unknown      no        1      no   no   \n",
       "\n",
       "   contact  day month  duration  campaign  pdays  previous poutcome   y  \n",
       "0  unknown    5   may       261         1     -1         0  unknown  no  \n",
       "1  unknown    5   may       151         1     -1         0  unknown  no  \n",
       "2  unknown    5   may        76         1     -1         0  unknown  no  \n",
       "3  unknown    5   may        92         1     -1         0  unknown  no  \n",
       "4  unknown    5   may       198         1     -1         0  unknown  no  "
      ]
     },
     "execution_count": 51,
     "metadata": {},
     "output_type": "execute_result"
    }
   ],
   "source": [
    "df = pd.read_csv(\"../data/bank-full.csv\")\n",
    "df.head()"
   ]
  },
  {
   "cell_type": "code",
   "execution_count": 56,
   "metadata": {},
   "outputs": [],
   "source": [
    "df_train, df_valid = train_test_split(df, test_size=0.10)"
   ]
  },
  {
   "cell_type": "code",
   "execution_count": 57,
   "metadata": {},
   "outputs": [
    {
     "data": {
      "text/html": [
       "<div>\n",
       "<style scoped>\n",
       "    .dataframe tbody tr th:only-of-type {\n",
       "        vertical-align: middle;\n",
       "    }\n",
       "\n",
       "    .dataframe tbody tr th {\n",
       "        vertical-align: top;\n",
       "    }\n",
       "\n",
       "    .dataframe thead th {\n",
       "        text-align: right;\n",
       "    }\n",
       "</style>\n",
       "<table border=\"1\" class=\"dataframe\">\n",
       "  <thead>\n",
       "    <tr style=\"text-align: right;\">\n",
       "      <th></th>\n",
       "      <th>age</th>\n",
       "      <th>job</th>\n",
       "      <th>marital</th>\n",
       "      <th>education</th>\n",
       "      <th>default</th>\n",
       "      <th>balance</th>\n",
       "      <th>housing</th>\n",
       "      <th>loan</th>\n",
       "      <th>contact</th>\n",
       "      <th>day</th>\n",
       "      <th>month</th>\n",
       "      <th>duration</th>\n",
       "      <th>campaign</th>\n",
       "      <th>pdays</th>\n",
       "      <th>previous</th>\n",
       "      <th>poutcome</th>\n",
       "      <th>y</th>\n",
       "    </tr>\n",
       "  </thead>\n",
       "  <tbody>\n",
       "    <tr>\n",
       "      <th>32834</th>\n",
       "      <td>27</td>\n",
       "      <td>blue-collar</td>\n",
       "      <td>single</td>\n",
       "      <td>secondary</td>\n",
       "      <td>no</td>\n",
       "      <td>-116</td>\n",
       "      <td>yes</td>\n",
       "      <td>yes</td>\n",
       "      <td>cellular</td>\n",
       "      <td>17</td>\n",
       "      <td>apr</td>\n",
       "      <td>432</td>\n",
       "      <td>2</td>\n",
       "      <td>343</td>\n",
       "      <td>1</td>\n",
       "      <td>failure</td>\n",
       "      <td>no</td>\n",
       "    </tr>\n",
       "    <tr>\n",
       "      <th>14711</th>\n",
       "      <td>33</td>\n",
       "      <td>admin.</td>\n",
       "      <td>married</td>\n",
       "      <td>secondary</td>\n",
       "      <td>no</td>\n",
       "      <td>0</td>\n",
       "      <td>yes</td>\n",
       "      <td>no</td>\n",
       "      <td>cellular</td>\n",
       "      <td>15</td>\n",
       "      <td>jul</td>\n",
       "      <td>120</td>\n",
       "      <td>6</td>\n",
       "      <td>-1</td>\n",
       "      <td>0</td>\n",
       "      <td>unknown</td>\n",
       "      <td>no</td>\n",
       "    </tr>\n",
       "    <tr>\n",
       "      <th>10513</th>\n",
       "      <td>31</td>\n",
       "      <td>technician</td>\n",
       "      <td>divorced</td>\n",
       "      <td>secondary</td>\n",
       "      <td>no</td>\n",
       "      <td>-1185</td>\n",
       "      <td>yes</td>\n",
       "      <td>no</td>\n",
       "      <td>unknown</td>\n",
       "      <td>16</td>\n",
       "      <td>jun</td>\n",
       "      <td>81</td>\n",
       "      <td>5</td>\n",
       "      <td>-1</td>\n",
       "      <td>0</td>\n",
       "      <td>unknown</td>\n",
       "      <td>no</td>\n",
       "    </tr>\n",
       "    <tr>\n",
       "      <th>4124</th>\n",
       "      <td>38</td>\n",
       "      <td>services</td>\n",
       "      <td>single</td>\n",
       "      <td>tertiary</td>\n",
       "      <td>no</td>\n",
       "      <td>323</td>\n",
       "      <td>yes</td>\n",
       "      <td>no</td>\n",
       "      <td>unknown</td>\n",
       "      <td>19</td>\n",
       "      <td>may</td>\n",
       "      <td>138</td>\n",
       "      <td>1</td>\n",
       "      <td>-1</td>\n",
       "      <td>0</td>\n",
       "      <td>unknown</td>\n",
       "      <td>no</td>\n",
       "    </tr>\n",
       "    <tr>\n",
       "      <th>7064</th>\n",
       "      <td>34</td>\n",
       "      <td>technician</td>\n",
       "      <td>single</td>\n",
       "      <td>secondary</td>\n",
       "      <td>no</td>\n",
       "      <td>1386</td>\n",
       "      <td>yes</td>\n",
       "      <td>yes</td>\n",
       "      <td>unknown</td>\n",
       "      <td>28</td>\n",
       "      <td>may</td>\n",
       "      <td>185</td>\n",
       "      <td>6</td>\n",
       "      <td>-1</td>\n",
       "      <td>0</td>\n",
       "      <td>unknown</td>\n",
       "      <td>no</td>\n",
       "    </tr>\n",
       "  </tbody>\n",
       "</table>\n",
       "</div>"
      ],
      "text/plain": [
       "       age          job   marital  education default  balance housing loan  \\\n",
       "32834   27  blue-collar    single  secondary      no     -116     yes  yes   \n",
       "14711   33       admin.   married  secondary      no        0     yes   no   \n",
       "10513   31   technician  divorced  secondary      no    -1185     yes   no   \n",
       "4124    38     services    single   tertiary      no      323     yes   no   \n",
       "7064    34   technician    single  secondary      no     1386     yes  yes   \n",
       "\n",
       "        contact  day month  duration  campaign  pdays  previous poutcome   y  \n",
       "32834  cellular   17   apr       432         2    343         1  failure  no  \n",
       "14711  cellular   15   jul       120         6     -1         0  unknown  no  \n",
       "10513   unknown   16   jun        81         5     -1         0  unknown  no  \n",
       "4124    unknown   19   may       138         1     -1         0  unknown  no  \n",
       "7064    unknown   28   may       185         6     -1         0  unknown  no  "
      ]
     },
     "execution_count": 57,
     "metadata": {},
     "output_type": "execute_result"
    }
   ],
   "source": [
    "df_train.head()"
   ]
  },
  {
   "cell_type": "markdown",
   "metadata": {},
   "source": [
    "# Bayesian Classification\n",
    "* it's build on the distributions of features between different classes\n",
    "\n",
    "\n",
    "## pros\n",
    "* few assumptions of the data\n",
    "* no requirements for the data\n",
    "* assumption that features are independent events\n",
    "* works well with high dimensions (large feature set)\n",
    "* lower O than knn\n",
    "* not many hyper-parameters to tune\n",
    "    * simple to tune\n",
    "\n",
    "## cons\n",
    "* independence assumption is hard to meet in real world data\n",
    "* gaussian assumption may not be valid\n",
    "    * that the features are all from a normal distribution across the classes"
   ]
  },
  {
   "cell_type": "code",
   "execution_count": 58,
   "metadata": {},
   "outputs": [],
   "source": [
    "def transform_df(df):\n",
    "    df['housing'] = df['housing'].apply(yes_no_converter)\n",
    "    # df['y'] = df['y'].apply(yes_no_converter)\n",
    "    return df\n",
    "\n",
    "\n",
    "df_train = transform_df(df_train)\n",
    "df_valid = transform_df(df_valid)"
   ]
  },
  {
   "cell_type": "code",
   "execution_count": 59,
   "metadata": {},
   "outputs": [
    {
     "data": {
      "text/html": [
       "<div>\n",
       "<style scoped>\n",
       "    .dataframe tbody tr th:only-of-type {\n",
       "        vertical-align: middle;\n",
       "    }\n",
       "\n",
       "    .dataframe tbody tr th {\n",
       "        vertical-align: top;\n",
       "    }\n",
       "\n",
       "    .dataframe thead th {\n",
       "        text-align: right;\n",
       "    }\n",
       "</style>\n",
       "<table border=\"1\" class=\"dataframe\">\n",
       "  <thead>\n",
       "    <tr style=\"text-align: right;\">\n",
       "      <th></th>\n",
       "      <th>age</th>\n",
       "      <th>job</th>\n",
       "      <th>marital</th>\n",
       "      <th>education</th>\n",
       "      <th>default</th>\n",
       "      <th>balance</th>\n",
       "      <th>housing</th>\n",
       "      <th>loan</th>\n",
       "      <th>contact</th>\n",
       "      <th>day</th>\n",
       "      <th>month</th>\n",
       "      <th>duration</th>\n",
       "      <th>campaign</th>\n",
       "      <th>pdays</th>\n",
       "      <th>previous</th>\n",
       "      <th>poutcome</th>\n",
       "      <th>y</th>\n",
       "    </tr>\n",
       "  </thead>\n",
       "  <tbody>\n",
       "    <tr>\n",
       "      <th>32834</th>\n",
       "      <td>27</td>\n",
       "      <td>blue-collar</td>\n",
       "      <td>single</td>\n",
       "      <td>secondary</td>\n",
       "      <td>no</td>\n",
       "      <td>-116</td>\n",
       "      <td>1</td>\n",
       "      <td>yes</td>\n",
       "      <td>cellular</td>\n",
       "      <td>17</td>\n",
       "      <td>apr</td>\n",
       "      <td>432</td>\n",
       "      <td>2</td>\n",
       "      <td>343</td>\n",
       "      <td>1</td>\n",
       "      <td>failure</td>\n",
       "      <td>no</td>\n",
       "    </tr>\n",
       "    <tr>\n",
       "      <th>14711</th>\n",
       "      <td>33</td>\n",
       "      <td>admin.</td>\n",
       "      <td>married</td>\n",
       "      <td>secondary</td>\n",
       "      <td>no</td>\n",
       "      <td>0</td>\n",
       "      <td>1</td>\n",
       "      <td>no</td>\n",
       "      <td>cellular</td>\n",
       "      <td>15</td>\n",
       "      <td>jul</td>\n",
       "      <td>120</td>\n",
       "      <td>6</td>\n",
       "      <td>-1</td>\n",
       "      <td>0</td>\n",
       "      <td>unknown</td>\n",
       "      <td>no</td>\n",
       "    </tr>\n",
       "    <tr>\n",
       "      <th>10513</th>\n",
       "      <td>31</td>\n",
       "      <td>technician</td>\n",
       "      <td>divorced</td>\n",
       "      <td>secondary</td>\n",
       "      <td>no</td>\n",
       "      <td>-1185</td>\n",
       "      <td>1</td>\n",
       "      <td>no</td>\n",
       "      <td>unknown</td>\n",
       "      <td>16</td>\n",
       "      <td>jun</td>\n",
       "      <td>81</td>\n",
       "      <td>5</td>\n",
       "      <td>-1</td>\n",
       "      <td>0</td>\n",
       "      <td>unknown</td>\n",
       "      <td>no</td>\n",
       "    </tr>\n",
       "    <tr>\n",
       "      <th>4124</th>\n",
       "      <td>38</td>\n",
       "      <td>services</td>\n",
       "      <td>single</td>\n",
       "      <td>tertiary</td>\n",
       "      <td>no</td>\n",
       "      <td>323</td>\n",
       "      <td>1</td>\n",
       "      <td>no</td>\n",
       "      <td>unknown</td>\n",
       "      <td>19</td>\n",
       "      <td>may</td>\n",
       "      <td>138</td>\n",
       "      <td>1</td>\n",
       "      <td>-1</td>\n",
       "      <td>0</td>\n",
       "      <td>unknown</td>\n",
       "      <td>no</td>\n",
       "    </tr>\n",
       "    <tr>\n",
       "      <th>7064</th>\n",
       "      <td>34</td>\n",
       "      <td>technician</td>\n",
       "      <td>single</td>\n",
       "      <td>secondary</td>\n",
       "      <td>no</td>\n",
       "      <td>1386</td>\n",
       "      <td>1</td>\n",
       "      <td>yes</td>\n",
       "      <td>unknown</td>\n",
       "      <td>28</td>\n",
       "      <td>may</td>\n",
       "      <td>185</td>\n",
       "      <td>6</td>\n",
       "      <td>-1</td>\n",
       "      <td>0</td>\n",
       "      <td>unknown</td>\n",
       "      <td>no</td>\n",
       "    </tr>\n",
       "  </tbody>\n",
       "</table>\n",
       "</div>"
      ],
      "text/plain": [
       "       age          job   marital  education default  balance  housing loan  \\\n",
       "32834   27  blue-collar    single  secondary      no     -116        1  yes   \n",
       "14711   33       admin.   married  secondary      no        0        1   no   \n",
       "10513   31   technician  divorced  secondary      no    -1185        1   no   \n",
       "4124    38     services    single   tertiary      no      323        1   no   \n",
       "7064    34   technician    single  secondary      no     1386        1  yes   \n",
       "\n",
       "        contact  day month  duration  campaign  pdays  previous poutcome   y  \n",
       "32834  cellular   17   apr       432         2    343         1  failure  no  \n",
       "14711  cellular   15   jul       120         6     -1         0  unknown  no  \n",
       "10513   unknown   16   jun        81         5     -1         0  unknown  no  \n",
       "4124    unknown   19   may       138         1     -1         0  unknown  no  \n",
       "7064    unknown   28   may       185         6     -1         0  unknown  no  "
      ]
     },
     "metadata": {},
     "output_type": "display_data"
    },
    {
     "data": {
      "text/html": [
       "<div>\n",
       "<style scoped>\n",
       "    .dataframe tbody tr th:only-of-type {\n",
       "        vertical-align: middle;\n",
       "    }\n",
       "\n",
       "    .dataframe tbody tr th {\n",
       "        vertical-align: top;\n",
       "    }\n",
       "\n",
       "    .dataframe thead th {\n",
       "        text-align: right;\n",
       "    }\n",
       "</style>\n",
       "<table border=\"1\" class=\"dataframe\">\n",
       "  <thead>\n",
       "    <tr style=\"text-align: right;\">\n",
       "      <th></th>\n",
       "      <th>age</th>\n",
       "      <th>job</th>\n",
       "      <th>marital</th>\n",
       "      <th>education</th>\n",
       "      <th>default</th>\n",
       "      <th>balance</th>\n",
       "      <th>housing</th>\n",
       "      <th>loan</th>\n",
       "      <th>contact</th>\n",
       "      <th>day</th>\n",
       "      <th>month</th>\n",
       "      <th>duration</th>\n",
       "      <th>campaign</th>\n",
       "      <th>pdays</th>\n",
       "      <th>previous</th>\n",
       "      <th>poutcome</th>\n",
       "      <th>y</th>\n",
       "    </tr>\n",
       "  </thead>\n",
       "  <tbody>\n",
       "    <tr>\n",
       "      <th>9777</th>\n",
       "      <td>39</td>\n",
       "      <td>management</td>\n",
       "      <td>married</td>\n",
       "      <td>primary</td>\n",
       "      <td>no</td>\n",
       "      <td>1873</td>\n",
       "      <td>0</td>\n",
       "      <td>no</td>\n",
       "      <td>unknown</td>\n",
       "      <td>9</td>\n",
       "      <td>jun</td>\n",
       "      <td>161</td>\n",
       "      <td>2</td>\n",
       "      <td>-1</td>\n",
       "      <td>0</td>\n",
       "      <td>unknown</td>\n",
       "      <td>no</td>\n",
       "    </tr>\n",
       "    <tr>\n",
       "      <th>39006</th>\n",
       "      <td>32</td>\n",
       "      <td>technician</td>\n",
       "      <td>single</td>\n",
       "      <td>secondary</td>\n",
       "      <td>no</td>\n",
       "      <td>55</td>\n",
       "      <td>1</td>\n",
       "      <td>no</td>\n",
       "      <td>cellular</td>\n",
       "      <td>18</td>\n",
       "      <td>may</td>\n",
       "      <td>185</td>\n",
       "      <td>1</td>\n",
       "      <td>-1</td>\n",
       "      <td>0</td>\n",
       "      <td>unknown</td>\n",
       "      <td>no</td>\n",
       "    </tr>\n",
       "    <tr>\n",
       "      <th>17239</th>\n",
       "      <td>48</td>\n",
       "      <td>technician</td>\n",
       "      <td>married</td>\n",
       "      <td>secondary</td>\n",
       "      <td>no</td>\n",
       "      <td>759</td>\n",
       "      <td>1</td>\n",
       "      <td>no</td>\n",
       "      <td>cellular</td>\n",
       "      <td>28</td>\n",
       "      <td>jul</td>\n",
       "      <td>84</td>\n",
       "      <td>5</td>\n",
       "      <td>-1</td>\n",
       "      <td>0</td>\n",
       "      <td>unknown</td>\n",
       "      <td>no</td>\n",
       "    </tr>\n",
       "    <tr>\n",
       "      <th>34008</th>\n",
       "      <td>29</td>\n",
       "      <td>management</td>\n",
       "      <td>married</td>\n",
       "      <td>tertiary</td>\n",
       "      <td>no</td>\n",
       "      <td>125</td>\n",
       "      <td>0</td>\n",
       "      <td>no</td>\n",
       "      <td>cellular</td>\n",
       "      <td>30</td>\n",
       "      <td>apr</td>\n",
       "      <td>130</td>\n",
       "      <td>2</td>\n",
       "      <td>-1</td>\n",
       "      <td>0</td>\n",
       "      <td>unknown</td>\n",
       "      <td>no</td>\n",
       "    </tr>\n",
       "    <tr>\n",
       "      <th>5724</th>\n",
       "      <td>37</td>\n",
       "      <td>admin.</td>\n",
       "      <td>married</td>\n",
       "      <td>secondary</td>\n",
       "      <td>no</td>\n",
       "      <td>-255</td>\n",
       "      <td>1</td>\n",
       "      <td>no</td>\n",
       "      <td>unknown</td>\n",
       "      <td>26</td>\n",
       "      <td>may</td>\n",
       "      <td>96</td>\n",
       "      <td>2</td>\n",
       "      <td>-1</td>\n",
       "      <td>0</td>\n",
       "      <td>unknown</td>\n",
       "      <td>no</td>\n",
       "    </tr>\n",
       "  </tbody>\n",
       "</table>\n",
       "</div>"
      ],
      "text/plain": [
       "       age         job  marital  education default  balance  housing loan  \\\n",
       "9777    39  management  married    primary      no     1873        0   no   \n",
       "39006   32  technician   single  secondary      no       55        1   no   \n",
       "17239   48  technician  married  secondary      no      759        1   no   \n",
       "34008   29  management  married   tertiary      no      125        0   no   \n",
       "5724    37      admin.  married  secondary      no     -255        1   no   \n",
       "\n",
       "        contact  day month  duration  campaign  pdays  previous poutcome   y  \n",
       "9777    unknown    9   jun       161         2     -1         0  unknown  no  \n",
       "39006  cellular   18   may       185         1     -1         0  unknown  no  \n",
       "17239  cellular   28   jul        84         5     -1         0  unknown  no  \n",
       "34008  cellular   30   apr       130         2     -1         0  unknown  no  \n",
       "5724    unknown   26   may        96         2     -1         0  unknown  no  "
      ]
     },
     "metadata": {},
     "output_type": "display_data"
    }
   ],
   "source": [
    "display(df_train.head())\n",
    "display(df_valid.head())"
   ]
  },
  {
   "cell_type": "code",
   "execution_count": 60,
   "metadata": {},
   "outputs": [],
   "source": [
    "feature_set = ['age', 'balance', 'housing']"
   ]
  },
  {
   "cell_type": "code",
   "execution_count": 61,
   "metadata": {},
   "outputs": [],
   "source": [
    "# let's just build a NB model"
   ]
  },
  {
   "cell_type": "code",
   "execution_count": 62,
   "metadata": {},
   "outputs": [],
   "source": [
    "g_bayes = GaussianNB()"
   ]
  },
  {
   "cell_type": "code",
   "execution_count": 63,
   "metadata": {},
   "outputs": [],
   "source": [
    "X = df_train[feature_set]\n",
    "y = df_train['y']"
   ]
  },
  {
   "cell_type": "code",
   "execution_count": 64,
   "metadata": {},
   "outputs": [
    {
     "data": {
      "text/plain": [
       "GaussianNB(priors=None, var_smoothing=1e-09)"
      ]
     },
     "execution_count": 64,
     "metadata": {},
     "output_type": "execute_result"
    }
   ],
   "source": [
    "g_bayes.fit(X, y)"
   ]
  },
  {
   "cell_type": "code",
   "execution_count": 68,
   "metadata": {},
   "outputs": [],
   "source": [
    "X_valid = df_valid[feature_set]\n",
    "y_valid = df_valid['y']"
   ]
  },
  {
   "cell_type": "code",
   "execution_count": 69,
   "metadata": {},
   "outputs": [
    {
     "data": {
      "text/plain": [
       "0.8726227333038479"
      ]
     },
     "execution_count": 69,
     "metadata": {},
     "output_type": "execute_result"
    }
   ],
   "source": [
    "g_bayes.score(X_valid, y_valid)"
   ]
  },
  {
   "cell_type": "code",
   "execution_count": 70,
   "metadata": {},
   "outputs": [],
   "source": [
    "y_valid_pred = g_bayes.predict(X_valid)"
   ]
  },
  {
   "cell_type": "code",
   "execution_count": 71,
   "metadata": {},
   "outputs": [
    {
     "data": {
      "image/png": "[encoded data removed]",
      "text/plain": [
       "<Figure size 432x288 with 2 Axes>"
      ]
     },
     "metadata": {
      "needs_background": "light"
     },
     "output_type": "display_data"
    }
   ],
   "source": [
    "plot_confusion_matrix(g_bayes, X_valid, y_valid, cmap='rocket', values_format='0.4g')\n",
    "plt.show()"
   ]
  },
  {
   "cell_type": "markdown",
   "metadata": {},
   "source": [
    "# How do we fit this into a sklearn flow?"
   ]
  },
  {
   "cell_type": "code",
   "execution_count": 152,
   "metadata": {},
   "outputs": [],
   "source": [
    "class SelectColumnsTransformer(BaseEstimator):\n",
    "    def __init__(self, columns=None):\n",
    "        self.columns = columns\n",
    "\n",
    "    def transform(self, X, **transform_params):\n",
    "        cpy_df = X[self.columns].copy()\n",
    "        return cpy_df\n",
    "\n",
    "    def fit(self, X, y=None, **fit_params):\n",
    "        return self\n",
    "    \n",
    "\n",
    "class TransformCategorical():\n",
    "\n",
    "    # here you define the operation it should perform\n",
    "    def transform(self, X, y=None, **fit_params):\n",
    "        try:\n",
    "            X['housing'] = X['housing'].apply(self.yes_no_converter)\n",
    "        except:\n",
    "            pass\n",
    "        return X\n",
    "\n",
    "    # just return self\n",
    "    def fit(self, X, y=None, **fit_params):\n",
    "        return self\n",
    "    \n",
    "    @staticmethod\n",
    "    def yes_no_converter(x):\n",
    "        return 1 if x==\"yes\" else 0"
   ]
  },
  {
   "cell_type": "code",
   "execution_count": 153,
   "metadata": {},
   "outputs": [],
   "source": [
    "# pipeline.fit() → fit then transform\n",
    "# pipeline.predict () → transform then predicts on the model step\n",
    "# pipeline assumes last step is a model that contains .predict(), .score(), .predict_proba()\n",
    "pipeline = Pipeline(steps=[\n",
    "    (\"columnTransformer\", SelectColumnsTransformer(columns=feature_set)),\n",
    "    (\"transformCategorical\", TransformCategorical()),\n",
    "    (\"gaussianBayes\", GaussianNB())\n",
    "])"
   ]
  },
  {
   "cell_type": "code",
   "execution_count": 154,
   "metadata": {},
   "outputs": [
    {
     "data": {
      "text/plain": [
       "Pipeline(memory=None,\n",
       "         steps=[('columnTransformer',\n",
       "                 SelectColumnsTransformer(columns=['age', 'balance',\n",
       "                                                   'housing'])),\n",
       "                ('transformCategorical',\n",
       "                 <__main__.TransformCategorical object at 0x1a25ecca20>),\n",
       "                ('gaussianBayes',\n",
       "                 GaussianNB(priors=None, var_smoothing=1e-09))],\n",
       "         verbose=False)"
      ]
     },
     "execution_count": 154,
     "metadata": {},
     "output_type": "execute_result"
    }
   ],
   "source": [
    "X_train = df_train.drop(columns=['y'])\n",
    "y_train = df_train['y']\n",
    "pipeline.fit(X_train, y_train)"
   ]
  },
  {
   "cell_type": "code",
   "execution_count": 155,
   "metadata": {},
   "outputs": [
    {
     "data": {
      "text/plain": [
       "0.8724015922158337"
      ]
     },
     "execution_count": 155,
     "metadata": {},
     "output_type": "execute_result"
    }
   ],
   "source": [
    "X_valid = df_valid.drop(columns=['y'])\n",
    "y_valid = df_valid['y']\n",
    "pipeline.score(X_valid, y_valid)"
   ]
  },
  {
   "cell_type": "markdown",
   "metadata": {},
   "source": [
    "# gridsearch, tho?"
   ]
  },
  {
   "cell_type": "code",
   "execution_count": 104,
   "metadata": {},
   "outputs": [],
   "source": [
    "param_grid = {\n",
    "    \"gaussianBayes__var_smoothing\": [1e-9, 1e-8, 1e-3, 1]\n",
    "}"
   ]
  },
  {
   "cell_type": "code",
   "execution_count": 105,
   "metadata": {},
   "outputs": [
    {
     "data": {
      "text/plain": [
       "Pipeline(memory=None,\n",
       "         steps=[('columnTransformer',\n",
       "                 <__main__.SelectColumnsTransformer object at 0x1a1debfc18>),\n",
       "                ('transformCategorical',\n",
       "                 <__main__.TransformCategorical object at 0x1a1debfe10>),\n",
       "                ('gaussianBayes',\n",
       "                 GaussianNB(priors=None, var_smoothing=1e-09))],\n",
       "         verbose=False)"
      ]
     },
     "execution_count": 105,
     "metadata": {},
     "output_type": "execute_result"
    }
   ],
   "source": [
    "pipeline"
   ]
  },
  {
   "cell_type": "code",
   "execution_count": 106,
   "metadata": {},
   "outputs": [],
   "source": [
    "gs_pipeline = GridSearchCV(pipeline, param_grid=param_grid, verbose=2)"
   ]
  },
  {
   "cell_type": "code",
   "execution_count": 107,
   "metadata": {},
   "outputs": [
    {
     "name": "stdout",
     "output_type": "stream",
     "text": [
      "Fitting 5 folds for each of 4 candidates, totalling 20 fits\n",
      "[CV] gaussianBayes__var_smoothing=1e-09 ..............................\n",
      "[CV] ............... gaussianBayes__var_smoothing=1e-09, total=   0.1s\n",
      "[CV] gaussianBayes__var_smoothing=1e-09 ..............................\n"
     ]
    },
    {
     "name": "stderr",
     "output_type": "stream",
     "text": [
      "[Parallel(n_jobs=1)]: Using backend SequentialBackend with 1 concurrent workers.\n",
      "[Parallel(n_jobs=1)]: Done   1 out of   1 | elapsed:    0.1s remaining:    0.0s\n"
     ]
    },
    {
     "name": "stdout",
     "output_type": "stream",
     "text": [
      "[CV] ............... gaussianBayes__var_smoothing=1e-09, total=   0.1s\n",
      "[CV] gaussianBayes__var_smoothing=1e-09 ..............................\n",
      "[CV] ............... gaussianBayes__var_smoothing=1e-09, total=   0.1s\n",
      "[CV] gaussianBayes__var_smoothing=1e-09 ..............................\n",
      "[CV] ............... gaussianBayes__var_smoothing=1e-09, total=   0.1s\n",
      "[CV] gaussianBayes__var_smoothing=1e-09 ..............................\n",
      "[CV] ............... gaussianBayes__var_smoothing=1e-09, total=   0.1s\n",
      "[CV] gaussianBayes__var_smoothing=1e-08 ..............................\n",
      "[CV] ............... gaussianBayes__var_smoothing=1e-08, total=   0.1s\n",
      "[CV] gaussianBayes__var_smoothing=1e-08 ..............................\n",
      "[CV] ............... gaussianBayes__var_smoothing=1e-08, total=   0.1s\n",
      "[CV] gaussianBayes__var_smoothing=1e-08 ..............................\n",
      "[CV] ............... gaussianBayes__var_smoothing=1e-08, total=   0.1s\n",
      "[CV] gaussianBayes__var_smoothing=1e-08 ..............................\n",
      "[CV] ............... gaussianBayes__var_smoothing=1e-08, total=   0.1s\n",
      "[CV] gaussianBayes__var_smoothing=1e-08 ..............................\n",
      "[CV] ............... gaussianBayes__var_smoothing=1e-08, total=   0.1s\n",
      "[CV] gaussianBayes__var_smoothing=0.001 ..............................\n",
      "[CV] ............... gaussianBayes__var_smoothing=0.001, total=   0.1s\n",
      "[CV] gaussianBayes__var_smoothing=0.001 ..............................\n",
      "[CV] ............... gaussianBayes__var_smoothing=0.001, total=   0.1s\n",
      "[CV] gaussianBayes__var_smoothing=0.001 ..............................\n",
      "[CV] ............... gaussianBayes__var_smoothing=0.001, total=   0.1s\n",
      "[CV] gaussianBayes__var_smoothing=0.001 ..............................\n",
      "[CV] ............... gaussianBayes__var_smoothing=0.001, total=   0.1s\n",
      "[CV] gaussianBayes__var_smoothing=0.001 ..............................\n",
      "[CV] ............... gaussianBayes__var_smoothing=0.001, total=   0.1s\n",
      "[CV] gaussianBayes__var_smoothing=1 ..................................\n",
      "[CV] ................... gaussianBayes__var_smoothing=1, total=   0.1s\n",
      "[CV] gaussianBayes__var_smoothing=1 ..................................\n",
      "[CV] ................... gaussianBayes__var_smoothing=1, total=   0.1s\n",
      "[CV] gaussianBayes__var_smoothing=1 ..................................\n",
      "[CV] ................... gaussianBayes__var_smoothing=1, total=   0.1s\n",
      "[CV] gaussianBayes__var_smoothing=1 ..................................\n",
      "[CV] ................... gaussianBayes__var_smoothing=1, total=   0.1s\n",
      "[CV] gaussianBayes__var_smoothing=1 ..................................\n",
      "[CV] ................... gaussianBayes__var_smoothing=1, total=   0.1s\n"
     ]
    },
    {
     "name": "stderr",
     "output_type": "stream",
     "text": [
      "[Parallel(n_jobs=1)]: Done  20 out of  20 | elapsed:    1.9s finished\n"
     ]
    },
    {
     "data": {
      "text/plain": [
       "GridSearchCV(cv=None, error_score=nan,\n",
       "             estimator=Pipeline(memory=None,\n",
       "                                steps=[('columnTransformer',\n",
       "                                        <__main__.SelectColumnsTransformer object at 0x1a1debfc18>),\n",
       "                                       ('transformCategorical',\n",
       "                                        <__main__.TransformCategorical object at 0x1a1debfe10>),\n",
       "                                       ('gaussianBayes',\n",
       "                                        GaussianNB(priors=None,\n",
       "                                                   var_smoothing=1e-09))],\n",
       "                                verbose=False),\n",
       "             iid='deprecated', n_jobs=None,\n",
       "             param_grid={'gaussianBayes__var_smoothing': [1e-09, 1e-08, 0.001,\n",
       "                                                          1]},\n",
       "             pre_dispatch='2*n_jobs', refit=True, return_train_score=False,\n",
       "             scoring=None, verbose=2)"
      ]
     },
     "execution_count": 107,
     "metadata": {},
     "output_type": "execute_result"
    }
   ],
   "source": [
    "gs_pipeline.fit(X_train, y_train)"
   ]
  },
  {
   "cell_type": "code",
   "execution_count": 109,
   "metadata": {},
   "outputs": [],
   "source": [
    "best_model = gs_pipeline.best_estimator_"
   ]
  },
  {
   "cell_type": "code",
   "execution_count": 114,
   "metadata": {},
   "outputs": [
    {
     "data": {
      "image/png": "[encoded data removed]",
      "text/plain": [
       "<Figure size 432x288 with 2 Axes>"
      ]
     },
     "metadata": {
      "needs_background": "light"
     },
     "output_type": "display_data"
    }
   ],
   "source": [
    "plot_confusion_matrix(best_model, X_valid, y_valid, values_format='0.4g')\n",
    "plt.show()"
   ]
  },
  {
   "cell_type": "code",
   "execution_count": 115,
   "metadata": {},
   "outputs": [
    {
     "data": {
      "image/png": "[encoded data removed]",
      "text/plain": [
       "<Figure size 432x288 with 2 Axes>"
      ]
     },
     "metadata": {
      "needs_background": "light"
     },
     "output_type": "display_data"
    }
   ],
   "source": [
    "plot_confusion_matrix(best_model, X_train, y_train, values_format='0.5g')\n",
    "plt.show()"
   ]
  },
  {
   "cell_type": "markdown",
   "metadata": {},
   "source": [
    "# GRIDSEARCH, BUT EVEN COOLER!"
   ]
  },
  {
   "cell_type": "code",
   "execution_count": 118,
   "metadata": {},
   "outputs": [
    {
     "data": {
      "text/plain": [
       "Pipeline(memory=None,\n",
       "         steps=[('columnTransformer',\n",
       "                 <__main__.SelectColumnsTransformer object at 0x1a1debfc18>),\n",
       "                ('transformCategorical',\n",
       "                 <__main__.TransformCategorical object at 0x1a1debfe10>),\n",
       "                ('gaussianBayes',\n",
       "                 GaussianNB(priors=None, var_smoothing=1e-09))],\n",
       "         verbose=False)"
      ]
     },
     "execution_count": 118,
     "metadata": {},
     "output_type": "execute_result"
    }
   ],
   "source": [
    "pipeline"
   ]
  },
  {
   "cell_type": "code",
   "execution_count": 117,
   "metadata": {},
   "outputs": [
    {
     "data": {
      "text/html": [
       "<div>\n",
       "<style scoped>\n",
       "    .dataframe tbody tr th:only-of-type {\n",
       "        vertical-align: middle;\n",
       "    }\n",
       "\n",
       "    .dataframe tbody tr th {\n",
       "        vertical-align: top;\n",
       "    }\n",
       "\n",
       "    .dataframe thead th {\n",
       "        text-align: right;\n",
       "    }\n",
       "</style>\n",
       "<table border=\"1\" class=\"dataframe\">\n",
       "  <thead>\n",
       "    <tr style=\"text-align: right;\">\n",
       "      <th></th>\n",
       "      <th>age</th>\n",
       "      <th>job</th>\n",
       "      <th>marital</th>\n",
       "      <th>education</th>\n",
       "      <th>default</th>\n",
       "      <th>balance</th>\n",
       "      <th>housing</th>\n",
       "      <th>loan</th>\n",
       "      <th>contact</th>\n",
       "      <th>day</th>\n",
       "      <th>month</th>\n",
       "      <th>duration</th>\n",
       "      <th>campaign</th>\n",
       "      <th>pdays</th>\n",
       "      <th>previous</th>\n",
       "      <th>poutcome</th>\n",
       "      <th>y</th>\n",
       "    </tr>\n",
       "  </thead>\n",
       "  <tbody>\n",
       "    <tr>\n",
       "      <th>0</th>\n",
       "      <td>58</td>\n",
       "      <td>management</td>\n",
       "      <td>married</td>\n",
       "      <td>tertiary</td>\n",
       "      <td>no</td>\n",
       "      <td>2143</td>\n",
       "      <td>yes</td>\n",
       "      <td>no</td>\n",
       "      <td>unknown</td>\n",
       "      <td>5</td>\n",
       "      <td>may</td>\n",
       "      <td>261</td>\n",
       "      <td>1</td>\n",
       "      <td>-1</td>\n",
       "      <td>0</td>\n",
       "      <td>unknown</td>\n",
       "      <td>no</td>\n",
       "    </tr>\n",
       "    <tr>\n",
       "      <th>1</th>\n",
       "      <td>44</td>\n",
       "      <td>technician</td>\n",
       "      <td>single</td>\n",
       "      <td>secondary</td>\n",
       "      <td>no</td>\n",
       "      <td>29</td>\n",
       "      <td>yes</td>\n",
       "      <td>no</td>\n",
       "      <td>unknown</td>\n",
       "      <td>5</td>\n",
       "      <td>may</td>\n",
       "      <td>151</td>\n",
       "      <td>1</td>\n",
       "      <td>-1</td>\n",
       "      <td>0</td>\n",
       "      <td>unknown</td>\n",
       "      <td>no</td>\n",
       "    </tr>\n",
       "  </tbody>\n",
       "</table>\n",
       "</div>"
      ],
      "text/plain": [
       "   age         job  marital  education default  balance housing loan  contact  \\\n",
       "0   58  management  married   tertiary      no     2143     yes   no  unknown   \n",
       "1   44  technician   single  secondary      no       29     yes   no  unknown   \n",
       "\n",
       "   day month  duration  campaign  pdays  previous poutcome   y  \n",
       "0    5   may       261         1     -1         0  unknown  no  \n",
       "1    5   may       151         1     -1         0  unknown  no  "
      ]
     },
     "execution_count": 117,
     "metadata": {},
     "output_type": "execute_result"
    }
   ],
   "source": [
    "df.head(2)"
   ]
  },
  {
   "cell_type": "code",
   "execution_count": 156,
   "metadata": {},
   "outputs": [],
   "source": [
    "param_grid = {\n",
    "    \"columnTransformer__columns\": [\n",
    "            ['age', 'balance', 'housing'],\n",
    "            ['age', 'balance', 'duration'],\n",
    "            ['age', 'balance', 'housing', 'duration'],\n",
    "        ],\n",
    "    \"gaussianBayes__var_smoothing\": [1e-9, 1e-8, 1e-3, 1]\n",
    "}"
   ]
  },
  {
   "cell_type": "code",
   "execution_count": 157,
   "metadata": {},
   "outputs": [],
   "source": [
    "gs_pipeline = GridSearchCV(estimator=pipeline, param_grid=param_grid, cv=8, verbose=2, n_jobs=-1)"
   ]
  },
  {
   "cell_type": "code",
   "execution_count": 158,
   "metadata": {},
   "outputs": [
    {
     "name": "stdout",
     "output_type": "stream",
     "text": [
      "Fitting 8 folds for each of 12 candidates, totalling 96 fits\n"
     ]
    },
    {
     "name": "stderr",
     "output_type": "stream",
     "text": [
      "[Parallel(n_jobs=-1)]: Using backend LokyBackend with 8 concurrent workers.\n",
      "[Parallel(n_jobs=-1)]: Done  25 tasks      | elapsed:    3.8s\n",
      "[Parallel(n_jobs=-1)]: Done  96 out of  96 | elapsed:    7.0s finished\n"
     ]
    },
    {
     "data": {
      "text/plain": [
       "GridSearchCV(cv=8, error_score=nan,\n",
       "             estimator=Pipeline(memory=None,\n",
       "                                steps=[('columnTransformer',\n",
       "                                        SelectColumnsTransformer(columns=['age',\n",
       "                                                                          'balance',\n",
       "                                                                          'housing'])),\n",
       "                                       ('transformCategorical',\n",
       "                                        <__main__.TransformCategorical object at 0x1a25ecca20>),\n",
       "                                       ('gaussianBayes',\n",
       "                                        GaussianNB(priors=None,\n",
       "                                                   var_smoothing=1e-09))],\n",
       "                                verbose=False),\n",
       "             iid='deprecated', n_jobs=-1,\n",
       "             param_grid={'columnTransformer__columns': [['age', 'balance',\n",
       "                                                         'housing'],\n",
       "                                                        ['age', 'balance',\n",
       "                                                         'duration'],\n",
       "                                                        ['age', 'balance',\n",
       "                                                         'housing',\n",
       "                                                         'duration']],\n",
       "                         'gaussianBayes__var_smoothing': [1e-09, 1e-08, 0.001,\n",
       "                                                          1]},\n",
       "             pre_dispatch='2*n_jobs', refit=True, return_train_score=False,\n",
       "             scoring=None, verbose=2)"
      ]
     },
     "execution_count": 158,
     "metadata": {},
     "output_type": "execute_result"
    }
   ],
   "source": [
    "gs_pipeline.fit(X_train, y_train)"
   ]
  },
  {
   "cell_type": "code",
   "execution_count": 159,
   "metadata": {},
   "outputs": [
    {
     "data": {
      "text/plain": [
       "Pipeline(memory=None,\n",
       "         steps=[('columnTransformer',\n",
       "                 SelectColumnsTransformer(columns=['age', 'balance',\n",
       "                                                   'duration'])),\n",
       "                ('transformCategorical',\n",
       "                 <__main__.TransformCategorical object at 0x1a2241e8d0>),\n",
       "                ('gaussianBayes',\n",
       "                 GaussianNB(priors=None, var_smoothing=0.001))],\n",
       "         verbose=False)"
      ]
     },
     "execution_count": 159,
     "metadata": {},
     "output_type": "execute_result"
    }
   ],
   "source": [
    "gs_pipeline.best_estimator_"
   ]
  },
  {
   "cell_type": "code",
   "execution_count": 160,
   "metadata": {},
   "outputs": [
    {
     "data": {
      "image/png": "[encoded data removed]",
      "text/plain": [
       "<Figure size 432x288 with 2 Axes>"
      ]
     },
     "metadata": {
      "needs_background": "light"
     },
     "output_type": "display_data"
    }
   ],
   "source": [
    "plot_confusion_matrix(gs_pipeline, X_valid, y_valid, values_format='0.5g')\n",
    "plt.show()"
   ]
  },
  {
   "cell_type": "code",
   "execution_count": 135,
   "metadata": {},
   "outputs": [
    {
     "data": {
      "text/html": [
       "<div>\n",
       "<style scoped>\n",
       "    .dataframe tbody tr th:only-of-type {\n",
       "        vertical-align: middle;\n",
       "    }\n",
       "\n",
       "    .dataframe tbody tr th {\n",
       "        vertical-align: top;\n",
       "    }\n",
       "\n",
       "    .dataframe thead th {\n",
       "        text-align: right;\n",
       "    }\n",
       "</style>\n",
       "<table border=\"1\" class=\"dataframe\">\n",
       "  <thead>\n",
       "    <tr style=\"text-align: right;\">\n",
       "      <th></th>\n",
       "      <th>mean_fit_time</th>\n",
       "      <th>std_fit_time</th>\n",
       "      <th>mean_score_time</th>\n",
       "      <th>std_score_time</th>\n",
       "      <th>param_columnTransformer__columns</th>\n",
       "      <th>param_gaussianBayes__var_smoothing</th>\n",
       "      <th>params</th>\n",
       "      <th>split0_test_score</th>\n",
       "      <th>split1_test_score</th>\n",
       "      <th>split2_test_score</th>\n",
       "      <th>split3_test_score</th>\n",
       "      <th>split4_test_score</th>\n",
       "      <th>split5_test_score</th>\n",
       "      <th>split6_test_score</th>\n",
       "      <th>split7_test_score</th>\n",
       "      <th>mean_test_score</th>\n",
       "      <th>std_test_score</th>\n",
       "      <th>rank_test_score</th>\n",
       "    </tr>\n",
       "  </thead>\n",
       "  <tbody>\n",
       "    <tr>\n",
       "      <th>0</th>\n",
       "      <td>0.176543</td>\n",
       "      <td>0.014966</td>\n",
       "      <td>0.042354</td>\n",
       "      <td>0.011616</td>\n",
       "      <td>[age, balance, housing]</td>\n",
       "      <td>1e-09</td>\n",
       "      <td>{'columnTransformer__columns': ['age', 'balanc...</td>\n",
       "      <td>0.874779</td>\n",
       "      <td>0.872002</td>\n",
       "      <td>0.870035</td>\n",
       "      <td>0.874361</td>\n",
       "      <td>0.871412</td>\n",
       "      <td>0.873968</td>\n",
       "      <td>0.872198</td>\n",
       "      <td>0.874361</td>\n",
       "      <td>0.872889</td>\n",
       "      <td>0.001607</td>\n",
       "      <td>11</td>\n",
       "    </tr>\n",
       "    <tr>\n",
       "      <th>1</th>\n",
       "      <td>0.123523</td>\n",
       "      <td>0.015336</td>\n",
       "      <td>0.027581</td>\n",
       "      <td>0.003187</td>\n",
       "      <td>[age, balance, housing]</td>\n",
       "      <td>1e-08</td>\n",
       "      <td>{'columnTransformer__columns': ['age', 'balanc...</td>\n",
       "      <td>0.874779</td>\n",
       "      <td>0.872002</td>\n",
       "      <td>0.870035</td>\n",
       "      <td>0.874361</td>\n",
       "      <td>0.871412</td>\n",
       "      <td>0.873968</td>\n",
       "      <td>0.872198</td>\n",
       "      <td>0.874361</td>\n",
       "      <td>0.872889</td>\n",
       "      <td>0.001607</td>\n",
       "      <td>11</td>\n",
       "    </tr>\n",
       "    <tr>\n",
       "      <th>2</th>\n",
       "      <td>0.102033</td>\n",
       "      <td>0.007334</td>\n",
       "      <td>0.022869</td>\n",
       "      <td>0.004906</td>\n",
       "      <td>[age, balance, housing]</td>\n",
       "      <td>0.001</td>\n",
       "      <td>{'columnTransformer__columns': ['age', 'balanc...</td>\n",
       "      <td>0.874779</td>\n",
       "      <td>0.872395</td>\n",
       "      <td>0.873575</td>\n",
       "      <td>0.875344</td>\n",
       "      <td>0.872591</td>\n",
       "      <td>0.875541</td>\n",
       "      <td>0.871215</td>\n",
       "      <td>0.875737</td>\n",
       "      <td>0.873897</td>\n",
       "      <td>0.001590</td>\n",
       "      <td>10</td>\n",
       "    </tr>\n",
       "    <tr>\n",
       "      <th>3</th>\n",
       "      <td>0.103898</td>\n",
       "      <td>0.015880</td>\n",
       "      <td>0.022415</td>\n",
       "      <td>0.004903</td>\n",
       "      <td>[age, balance, housing]</td>\n",
       "      <td>1</td>\n",
       "      <td>{'columnTransformer__columns': ['age', 'balanc...</td>\n",
       "      <td>0.881266</td>\n",
       "      <td>0.879866</td>\n",
       "      <td>0.881636</td>\n",
       "      <td>0.881046</td>\n",
       "      <td>0.879670</td>\n",
       "      <td>0.881636</td>\n",
       "      <td>0.879866</td>\n",
       "      <td>0.880849</td>\n",
       "      <td>0.880729</td>\n",
       "      <td>0.000763</td>\n",
       "      <td>3</td>\n",
       "    </tr>\n",
       "    <tr>\n",
       "      <th>4</th>\n",
       "      <td>0.099738</td>\n",
       "      <td>0.013516</td>\n",
       "      <td>0.020877</td>\n",
       "      <td>0.003769</td>\n",
       "      <td>[age, balance, duration]</td>\n",
       "      <td>1e-09</td>\n",
       "      <td>{'columnTransformer__columns': ['age', 'balanc...</td>\n",
       "      <td>0.878710</td>\n",
       "      <td>0.880653</td>\n",
       "      <td>0.883995</td>\n",
       "      <td>0.878687</td>\n",
       "      <td>0.881046</td>\n",
       "      <td>0.884978</td>\n",
       "      <td>0.879670</td>\n",
       "      <td>0.874951</td>\n",
       "      <td>0.880336</td>\n",
       "      <td>0.002965</td>\n",
       "      <td>6</td>\n",
       "    </tr>\n",
       "  </tbody>\n",
       "</table>\n",
       "</div>"
      ],
      "text/plain": [
       "   mean_fit_time  std_fit_time  mean_score_time  std_score_time  \\\n",
       "0       0.176543      0.014966         0.042354        0.011616   \n",
       "1       0.123523      0.015336         0.027581        0.003187   \n",
       "2       0.102033      0.007334         0.022869        0.004906   \n",
       "3       0.103898      0.015880         0.022415        0.004903   \n",
       "4       0.099738      0.013516         0.020877        0.003769   \n",
       "\n",
       "  param_columnTransformer__columns param_gaussianBayes__var_smoothing  \\\n",
       "0          [age, balance, housing]                              1e-09   \n",
       "1          [age, balance, housing]                              1e-08   \n",
       "2          [age, balance, housing]                              0.001   \n",
       "3          [age, balance, housing]                                  1   \n",
       "4         [age, balance, duration]                              1e-09   \n",
       "\n",
       "                                              params  split0_test_score  \\\n",
       "0  {'columnTransformer__columns': ['age', 'balanc...           0.874779   \n",
       "1  {'columnTransformer__columns': ['age', 'balanc...           0.874779   \n",
       "2  {'columnTransformer__columns': ['age', 'balanc...           0.874779   \n",
       "3  {'columnTransformer__columns': ['age', 'balanc...           0.881266   \n",
       "4  {'columnTransformer__columns': ['age', 'balanc...           0.878710   \n",
       "\n",
       "   split1_test_score  split2_test_score  split3_test_score  split4_test_score  \\\n",
       "0           0.872002           0.870035           0.874361           0.871412   \n",
       "1           0.872002           0.870035           0.874361           0.871412   \n",
       "2           0.872395           0.873575           0.875344           0.872591   \n",
       "3           0.879866           0.881636           0.881046           0.879670   \n",
       "4           0.880653           0.883995           0.878687           0.881046   \n",
       "\n",
       "   split5_test_score  split6_test_score  split7_test_score  mean_test_score  \\\n",
       "0           0.873968           0.872198           0.874361         0.872889   \n",
       "1           0.873968           0.872198           0.874361         0.872889   \n",
       "2           0.875541           0.871215           0.875737         0.873897   \n",
       "3           0.881636           0.879866           0.880849         0.880729   \n",
       "4           0.884978           0.879670           0.874951         0.880336   \n",
       "\n",
       "   std_test_score  rank_test_score  \n",
       "0        0.001607               11  \n",
       "1        0.001607               11  \n",
       "2        0.001590               10  \n",
       "3        0.000763                3  \n",
       "4        0.002965                6  "
      ]
     },
     "execution_count": 135,
     "metadata": {},
     "output_type": "execute_result"
    }
   ],
   "source": [
    "gs_df = pd.DataFrame(gs_pipeline.cv_results_)\n",
    "gs_df.head()"
   ]
  },
  {
   "cell_type": "code",
   "execution_count": 161,
   "metadata": {},
   "outputs": [
    {
     "data": {
      "text/html": [
       "<div>\n",
       "<style scoped>\n",
       "    .dataframe tbody tr th:only-of-type {\n",
       "        vertical-align: middle;\n",
       "    }\n",
       "\n",
       "    .dataframe tbody tr th {\n",
       "        vertical-align: top;\n",
       "    }\n",
       "\n",
       "    .dataframe thead th {\n",
       "        text-align: right;\n",
       "    }\n",
       "</style>\n",
       "<table border=\"1\" class=\"dataframe\">\n",
       "  <thead>\n",
       "    <tr style=\"text-align: right;\">\n",
       "      <th></th>\n",
       "      <th>mean_fit_time</th>\n",
       "      <th>std_fit_time</th>\n",
       "      <th>mean_score_time</th>\n",
       "      <th>std_score_time</th>\n",
       "      <th>param_columnTransformer__columns</th>\n",
       "      <th>param_gaussianBayes__var_smoothing</th>\n",
       "      <th>params</th>\n",
       "      <th>split0_test_score</th>\n",
       "      <th>split1_test_score</th>\n",
       "      <th>split2_test_score</th>\n",
       "      <th>split3_test_score</th>\n",
       "      <th>split4_test_score</th>\n",
       "      <th>split5_test_score</th>\n",
       "      <th>split6_test_score</th>\n",
       "      <th>split7_test_score</th>\n",
       "      <th>mean_test_score</th>\n",
       "      <th>std_test_score</th>\n",
       "      <th>rank_test_score</th>\n",
       "    </tr>\n",
       "  </thead>\n",
       "  <tbody>\n",
       "    <tr>\n",
       "      <th>6</th>\n",
       "      <td>0.093101</td>\n",
       "      <td>0.011302</td>\n",
       "      <td>0.020604</td>\n",
       "      <td>0.003626</td>\n",
       "      <td>[age, balance, duration]</td>\n",
       "      <td>0.001</td>\n",
       "      <td>{'columnTransformer__columns': ['age', 'balanc...</td>\n",
       "      <td>0.879890</td>\n",
       "      <td>0.881046</td>\n",
       "      <td>0.884389</td>\n",
       "      <td>0.881439</td>\n",
       "      <td>0.88026</td>\n",
       "      <td>0.887338</td>\n",
       "      <td>0.881243</td>\n",
       "      <td>0.878883</td>\n",
       "      <td>0.881811</td>\n",
       "      <td>0.002572</td>\n",
       "      <td>1</td>\n",
       "    </tr>\n",
       "    <tr>\n",
       "      <th>10</th>\n",
       "      <td>0.109869</td>\n",
       "      <td>0.007711</td>\n",
       "      <td>0.023922</td>\n",
       "      <td>0.005168</td>\n",
       "      <td>[age, balance, housing, duration]</td>\n",
       "      <td>0.001</td>\n",
       "      <td>{'columnTransformer__columns': ['age', 'balanc...</td>\n",
       "      <td>0.879890</td>\n",
       "      <td>0.881046</td>\n",
       "      <td>0.884389</td>\n",
       "      <td>0.881439</td>\n",
       "      <td>0.88026</td>\n",
       "      <td>0.887338</td>\n",
       "      <td>0.881243</td>\n",
       "      <td>0.878883</td>\n",
       "      <td>0.881811</td>\n",
       "      <td>0.002572</td>\n",
       "      <td>1</td>\n",
       "    </tr>\n",
       "    <tr>\n",
       "      <th>3</th>\n",
       "      <td>0.103898</td>\n",
       "      <td>0.015880</td>\n",
       "      <td>0.022415</td>\n",
       "      <td>0.004903</td>\n",
       "      <td>[age, balance, housing]</td>\n",
       "      <td>1</td>\n",
       "      <td>{'columnTransformer__columns': ['age', 'balanc...</td>\n",
       "      <td>0.881266</td>\n",
       "      <td>0.879866</td>\n",
       "      <td>0.881636</td>\n",
       "      <td>0.881046</td>\n",
       "      <td>0.87967</td>\n",
       "      <td>0.881636</td>\n",
       "      <td>0.879866</td>\n",
       "      <td>0.880849</td>\n",
       "      <td>0.880729</td>\n",
       "      <td>0.000763</td>\n",
       "      <td>3</td>\n",
       "    </tr>\n",
       "    <tr>\n",
       "      <th>7</th>\n",
       "      <td>0.098369</td>\n",
       "      <td>0.011076</td>\n",
       "      <td>0.022380</td>\n",
       "      <td>0.004334</td>\n",
       "      <td>[age, balance, duration]</td>\n",
       "      <td>1</td>\n",
       "      <td>{'columnTransformer__columns': ['age', 'balanc...</td>\n",
       "      <td>0.881266</td>\n",
       "      <td>0.879866</td>\n",
       "      <td>0.881636</td>\n",
       "      <td>0.881046</td>\n",
       "      <td>0.87967</td>\n",
       "      <td>0.881636</td>\n",
       "      <td>0.879866</td>\n",
       "      <td>0.880849</td>\n",
       "      <td>0.880729</td>\n",
       "      <td>0.000763</td>\n",
       "      <td>3</td>\n",
       "    </tr>\n",
       "    <tr>\n",
       "      <th>11</th>\n",
       "      <td>0.111045</td>\n",
       "      <td>0.013489</td>\n",
       "      <td>0.022866</td>\n",
       "      <td>0.002481</td>\n",
       "      <td>[age, balance, housing, duration]</td>\n",
       "      <td>1</td>\n",
       "      <td>{'columnTransformer__columns': ['age', 'balanc...</td>\n",
       "      <td>0.881266</td>\n",
       "      <td>0.879866</td>\n",
       "      <td>0.881636</td>\n",
       "      <td>0.881046</td>\n",
       "      <td>0.87967</td>\n",
       "      <td>0.881636</td>\n",
       "      <td>0.879866</td>\n",
       "      <td>0.880849</td>\n",
       "      <td>0.880729</td>\n",
       "      <td>0.000763</td>\n",
       "      <td>3</td>\n",
       "    </tr>\n",
       "  </tbody>\n",
       "</table>\n",
       "</div>"
      ],
      "text/plain": [
       "    mean_fit_time  std_fit_time  mean_score_time  std_score_time  \\\n",
       "6        0.093101      0.011302         0.020604        0.003626   \n",
       "10       0.109869      0.007711         0.023922        0.005168   \n",
       "3        0.103898      0.015880         0.022415        0.004903   \n",
       "7        0.098369      0.011076         0.022380        0.004334   \n",
       "11       0.111045      0.013489         0.022866        0.002481   \n",
       "\n",
       "     param_columnTransformer__columns param_gaussianBayes__var_smoothing  \\\n",
       "6            [age, balance, duration]                              0.001   \n",
       "10  [age, balance, housing, duration]                              0.001   \n",
       "3             [age, balance, housing]                                  1   \n",
       "7            [age, balance, duration]                                  1   \n",
       "11  [age, balance, housing, duration]                                  1   \n",
       "\n",
       "                                               params  split0_test_score  \\\n",
       "6   {'columnTransformer__columns': ['age', 'balanc...           0.879890   \n",
       "10  {'columnTransformer__columns': ['age', 'balanc...           0.879890   \n",
       "3   {'columnTransformer__columns': ['age', 'balanc...           0.881266   \n",
       "7   {'columnTransformer__columns': ['age', 'balanc...           0.881266   \n",
       "11  {'columnTransformer__columns': ['age', 'balanc...           0.881266   \n",
       "\n",
       "    split1_test_score  split2_test_score  split3_test_score  \\\n",
       "6            0.881046           0.884389           0.881439   \n",
       "10           0.881046           0.884389           0.881439   \n",
       "3            0.879866           0.881636           0.881046   \n",
       "7            0.879866           0.881636           0.881046   \n",
       "11           0.879866           0.881636           0.881046   \n",
       "\n",
       "    split4_test_score  split5_test_score  split6_test_score  \\\n",
       "6             0.88026           0.887338           0.881243   \n",
       "10            0.88026           0.887338           0.881243   \n",
       "3             0.87967           0.881636           0.879866   \n",
       "7             0.87967           0.881636           0.879866   \n",
       "11            0.87967           0.881636           0.879866   \n",
       "\n",
       "    split7_test_score  mean_test_score  std_test_score  rank_test_score  \n",
       "6            0.878883         0.881811        0.002572                1  \n",
       "10           0.878883         0.881811        0.002572                1  \n",
       "3            0.880849         0.880729        0.000763                3  \n",
       "7            0.880849         0.880729        0.000763                3  \n",
       "11           0.880849         0.880729        0.000763                3  "
      ]
     },
     "execution_count": 161,
     "metadata": {},
     "output_type": "execute_result"
    }
   ],
   "source": [
    "gs_df.sort_values('mean_test_score', ascending=False).head(5)"
   ]
  },
  {
   "cell_type": "markdown",
   "metadata": {},
   "source": [
    "# Even better Pipeline stuff!\n",
    "* multiple model gridsearch in pipeline\n",
    "\n",
    "\n",
    "## solutions \n",
    "* [https://stackoverflow.com/questions/23045318/scikit-grid-search-over-multiple-classifiers](https://stackoverflow.com/questions/23045318/scikit-grid-search-over-multiple-classifiers)\n",
    "\n",
    "* [https://github.com/erdosn/dsc-pipelines-lab-v2-1-onl01-dtsc-ft-041320/blob/master/index.ipynb](https://github.com/erdosn/dsc-pipelines-lab-v2-1-onl01-dtsc-ft-041320/blob/master/index.ipynb)"
   ]
  },
  {
   "cell_type": "markdown",
   "metadata": {},
   "source": [
    "## What did we learn? \n",
    "* pipeline options\n",
    "* seeing how gridsearch can work\n",
    "* gridsearchcv automatically does a train/test split\n",
    "* what's the best way to save the output of a gridsearch?\n",
    "* pros and cons of bayesian classification\n",
    "* sklearn joblib\n",
    "* what a non parametric model is\n",
    "\n",
    "## What did you enjoy? \n",
    "* pipelines\n",
    "* seeing gridsearch work"
   ]
  },
  {
   "cell_type": "code",
   "execution_count": 162,
   "metadata": {},
   "outputs": [
    {
     "data": {
      "text/plain": [
       "{'columnTransformer__columns': ['age', 'balance', 'housing'],\n",
       " 'gaussianBayes__var_smoothing': 1e-09}"
      ]
     },
     "execution_count": 162,
     "metadata": {},
     "output_type": "execute_result"
    }
   ],
   "source": [
    "best_params = gs_df['params'][0]\n",
    "best_params"
   ]
  },
  {
   "cell_type": "code",
   "execution_count": 163,
   "metadata": {},
   "outputs": [],
   "source": [
    "from sklearn.externals import joblib"
   ]
  },
  {
   "cell_type": "code",
   "execution_count": 164,
   "metadata": {},
   "outputs": [
    {
     "data": {
      "text/plain": [
       "['best_model.pkl']"
      ]
     },
     "execution_count": 164,
     "metadata": {},
     "output_type": "execute_result"
    }
   ],
   "source": [
    "joblib.dump(gs_pipeline.best_estimator_, \"best_model.pkl\")"
   ]
  },
  {
   "cell_type": "code",
   "execution_count": null,
   "metadata": {},
   "outputs": [],
   "source": []
  }
 ],
 "metadata": {
  "kernelspec": {
   "display_name": "Python [conda env:flatiron-env] *",
   "language": "python",
   "name": "conda-env-flatiron-env-py"
  },
  "language_info": {
   "codemirror_mode": {
    "name": "ipython",
    "version": 3
   },
   "file_extension": ".py",
   "mimetype": "text/x-python",
   "name": "python",
   "nbconvert_exporter": "python",
   "pygments_lexer": "ipython3",
   "version": "3.6.10"
  }
 },
 "nbformat": 4,
 "nbformat_minor": 4
}
