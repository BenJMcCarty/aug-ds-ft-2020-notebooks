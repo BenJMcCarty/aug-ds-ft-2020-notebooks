{
 "cells": [
  {
   "cell_type": "markdown",
   "metadata": {},
   "source": [
    "# Objectives \n",
    "YWBAT\n",
    "* calculate bayesian stats in Python\n",
    "* explain how this leads to ML and DL\n",
    "* explain what a prior probability is\n",
    "\n",
    "# Outline\n",
    "* load in the iris dataset! \n",
    "* plot some histograms\n",
    "* answer some bayesian stats questions on the data\n",
    "* discussion"
   ]
  },
  {
   "cell_type": "code",
   "execution_count": 2,
   "metadata": {},
   "outputs": [],
   "source": [
    "import warnings\n",
    "warnings.filterwarnings('ignore') \n",
    "\n",
    "\n",
    "import pandas as pd\n",
    "import numpy as np\n",
    "\n",
    "from sklearn.datasets import load_iris \n",
    "\n",
    "\n",
    "import plotly.express as px\n",
    "import seaborn as sns\n",
    "import matplotlib.pyplot as plt\n",
    "\n",
    "# this is a magic command\n",
    "# it will run plt.show() for you\n",
    "%matplotlib inline"
   ]
  },
  {
   "cell_type": "code",
   "execution_count": 12,
   "metadata": {},
   "outputs": [],
   "source": [
    "# # run if you need to create and save iris_dataset\n",
    "# iris = load_iris()\n",
    "# data = iris.data\n",
    "# target = iris.target\n",
    "# feature_names = iris.feature_names # column names\n",
    "# target_names = iris.target_names\n",
    "# target_names_array = [target_names[i] for i in target]\n",
    "# df = pd.DataFrame(data=data, columns=feature_names)\n",
    "# df['target']=target_names_array\n",
    "# df.head()\n",
    "# df.to_csv(\"../data/iris.csv\", index=False)"
   ]
  },
  {
   "cell_type": "markdown",
   "metadata": {},
   "source": [
    "# Reload in data"
   ]
  },
  {
   "cell_type": "code",
   "execution_count": null,
   "metadata": {},
   "outputs": [],
   "source": []
  }
 ],
 "metadata": {
  "kernelspec": {
   "display_name": "Python 3",
   "language": "python",
   "name": "python3"
  },
  "language_info": {
   "codemirror_mode": {
    "name": "ipython",
    "version": 3
   },
   "file_extension": ".py",
   "mimetype": "text/x-python",
   "name": "python",
   "nbconvert_exporter": "python",
   "pygments_lexer": "ipython3",
   "version": "3.6.9"
  }
 },
 "nbformat": 4,
 "nbformat_minor": 2
}
