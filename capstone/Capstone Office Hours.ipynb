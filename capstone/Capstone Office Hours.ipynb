{
 "cells": [
  {
   "cell_type": "markdown",
   "metadata": {},
   "source": [
    "# Capstone Office Hours"
   ]
  },
  {
   "cell_type": "markdown",
   "metadata": {},
   "source": [
    "- onine-ds-ft-081720\n",
    "- [Questions Doc](https://docs.google.com/document/d/1oJLFYAGc-tCDrKtlDVSxfWK4fBNCMgL69hY3-ej6QXk/edit?usp=sharing)"
   ]
  },
  {
   "cell_type": "markdown",
   "metadata": {
    "heading_collapsed": true
   },
   "source": [
    "## 12/17/20 "
   ]
  },
  {
   "cell_type": "markdown",
   "metadata": {
    "hidden": true
   },
   "source": [
    "- Graduation Requirements Update\n",
    "    - 4 blog posts\n"
   ]
  },
  {
   "cell_type": "markdown",
   "metadata": {
    "heading_collapsed": true
   },
   "source": [
    "## 12/22/20\n"
   ]
  },
  {
   "cell_type": "markdown",
   "metadata": {
    "hidden": true
   },
   "source": [
    "- Just a quick explanation of TPUs on Google Colab\n",
    "    - A special AI-boosted type of processor designed by google specifically for neural networks.\n",
    "        - https://en.wikipedia.org/wiki/Tensor_Processing_Unit\n",
    "        - https://colab.research.google.com/github/zaidalyafeai/Notebooks/blob/master/GPUvsTPU.ipynb\n",
    "        \n",
    "\n",
    "- Word2vec /training deep nlp\n",
    "    - how to incorporate bigrams (or lemmas?) into w2v\n",
    "- Webscraping safety tips:\n",
    "    - Not overloading server/getting booted\n",
    "    - fakeuseragnet\n",
    "        - https://pypi.org/project/fake-useragent/\n",
    "    - ```python \n",
    "    import time\n",
    "    import numpy as np\n",
    "    sleep_times = [0.5,0.7,0.9, 1.0]\n",
    "    for in in my_list_of_urls:\n",
    "        \n",
    "        time.sleep(np.random.choice(sleep_times))\n",
    "    ```\n",
    "- How to set up dynamic importing from a .py so you don’t have to restart kernel when you edit the .py\n",
    "    - https://ipython.org/ipython-doc/3/config/extensions/autoreload.html\n",
    "    \n"
   ]
  },
  {
   "cell_type": "markdown",
   "metadata": {
    "hidden": true
   },
   "source": [
    "### Planned Deep-Dive Topics for Post-Break Week"
   ]
  },
  {
   "cell_type": "markdown",
   "metadata": {
    "hidden": true
   },
   "source": [
    "1. Deep NLP - deeper dive \n",
    "2. Making a dashboard\n",
    "    - Streamlit\n",
    "    - Dash\n",
    "    - Dashboards with api calls \n"
   ]
  },
  {
   "cell_type": "markdown",
   "metadata": {
    "hidden": true
   },
   "source": [
    "### Auto-Reloading Modules"
   ]
  },
  {
   "cell_type": "code",
   "execution_count": 13,
   "metadata": {
    "ExecuteTime": {
     "end_time": "2020-12-22T19:13:26.496658Z",
     "start_time": "2020-12-22T19:13:26.435194Z"
    },
    "hidden": true
   },
   "outputs": [],
   "source": [
    "import example as ex\n",
    "from example import test_func"
   ]
  },
  {
   "cell_type": "code",
   "execution_count": 14,
   "metadata": {
    "ExecuteTime": {
     "end_time": "2020-12-22T19:13:40.688781Z",
     "start_time": "2020-12-22T19:13:40.664383Z"
    },
    "hidden": true
   },
   "outputs": [
    {
     "name": "stdout",
     "output_type": "stream",
     "text": [
      "The autoreload extension is already loaded. To reload it, use:\n",
      "  %reload_ext autoreload\n"
     ]
    }
   ],
   "source": [
    "%load_ext autoreload\n",
    "%autoreload 2"
   ]
  },
  {
   "cell_type": "code",
   "execution_count": 15,
   "metadata": {
    "ExecuteTime": {
     "end_time": "2020-12-22T19:13:46.713307Z",
     "start_time": "2020-12-22T19:13:46.688032Z"
    },
    "hidden": true
   },
   "outputs": [
    {
     "name": "stdout",
     "output_type": "stream",
     "text": [
      "Testing the function\n"
     ]
    }
   ],
   "source": [
    "ex.test_func()"
   ]
  },
  {
   "cell_type": "code",
   "execution_count": 16,
   "metadata": {
    "ExecuteTime": {
     "end_time": "2020-12-22T19:13:50.127712Z",
     "start_time": "2020-12-22T19:13:50.103970Z"
    },
    "hidden": true
   },
   "outputs": [
    {
     "name": "stdout",
     "output_type": "stream",
     "text": [
      "Testing the function\n"
     ]
    }
   ],
   "source": [
    "test_func()"
   ]
  },
  {
   "cell_type": "code",
   "execution_count": 17,
   "metadata": {
    "ExecuteTime": {
     "end_time": "2020-12-22T19:14:11.826839Z",
     "start_time": "2020-12-22T19:14:11.802099Z"
    },
    "hidden": true
   },
   "outputs": [
    {
     "name": "stdout",
     "output_type": "stream",
     "text": [
      "Testing the function after making changes\n"
     ]
    }
   ],
   "source": [
    "ex.test_func()"
   ]
  },
  {
   "cell_type": "code",
   "execution_count": 18,
   "metadata": {
    "ExecuteTime": {
     "end_time": "2020-12-22T19:14:20.439645Z",
     "start_time": "2020-12-22T19:14:20.418194Z"
    },
    "hidden": true
   },
   "outputs": [
    {
     "name": "stdout",
     "output_type": "stream",
     "text": [
      "Testing the function after making changes\n"
     ]
    }
   ],
   "source": [
    "test_func()"
   ]
  },
  {
   "cell_type": "markdown",
   "metadata": {},
   "source": [
    "# Dashboards + Office Hours (01/05/2021)"
   ]
  },
  {
   "cell_type": "markdown",
   "metadata": {},
   "source": [
    ">- Dashboarding notebook and .py files are in another repository:\n",
    "    - https://github.com/jirvingphd/dashboarding-studygroup-01052021"
   ]
  },
  {
   "cell_type": "markdown",
   "metadata": {
    "heading_collapsed": true
   },
   "source": [
    "# Deep NLP Revisited + Office Hours (01/06/2021)"
   ]
  },
  {
   "cell_type": "markdown",
   "metadata": {
    "hidden": true
   },
   "source": [
    "- Notebook is in sub-folder:\n",
    "    `deep_nlp_revisted_01062021` > `deep_nlp_revisited.ipynb`"
   ]
  },
  {
   "cell_type": "markdown",
   "metadata": {
    "hidden": true
   },
   "source": [
    "## Questions"
   ]
  },
  {
   "cell_type": "markdown",
   "metadata": {
    "hidden": true
   },
   "source": [
    "- Tips on training Word2vec\n",
    "- tips on different layers (eg LSTM, bidirectional) and how to use them together\n",
    "- Can we use multiple LSTM layers in the same model?\n"
   ]
  },
  {
   "cell_type": "markdown",
   "metadata": {},
   "source": [
    "# 01/07/21 Office Hours\n"
   ]
  },
  {
   "cell_type": "markdown",
   "metadata": {},
   "source": [
    "- Q: Heroku Deployment.\n",
    "\n",
    "- Q: would be nice to also hear about other web-hosting options (eg adding to an existing site, running on an owned domain name)\n",
    "\n",
    "- Q: how to set checkpoints for neural networks:\n",
    "    - See the [\"Using Google Colab for Computer Vision notebook\"](https://colab.research.google.com/drive/1qZ4uPq94ZV0UcONdhepiTFV6HIUCsvpq?usp=sharing) (also in notes repo)\n",
    "    - [Link to Callbacks section](https://colab.research.google.com/drive/1qZ4uPq94ZV0UcONdhepiTFV6HIUCsvpq#scrollTo=2r14qGFIVrfO)\n"
   ]
  },
  {
   "cell_type": "markdown",
   "metadata": {},
   "source": [
    "# 01/12/21 Office Hours + Abstracts"
   ]
  },
  {
   "cell_type": "markdown",
   "metadata": {},
   "source": [
    "## Questions?"
   ]
  },
  {
   "cell_type": "markdown",
   "metadata": {
    "ExecuteTime": {
     "end_time": "2021-01-12T19:06:48.004542Z",
     "start_time": "2021-01-12T19:06:48.000050Z"
    }
   },
   "source": [
    "- Q: How to gridsearch gensim?\n",
    "\n",
    "```python\n",
    "params =  [dict(min_count=3, min_words=2000),\n",
    "          dict(min_count=5, min_words=3000)]\n",
    "\n",
    "results = []\n",
    "for param in paramas:\n",
    "    ....\n",
    "    model = ...\n",
    "    results.append(model.score())\n",
    "    \n",
    "```"
   ]
  },
  {
   "cell_type": "markdown",
   "metadata": {},
   "source": [
    "## Writing your Abstract"
   ]
  },
  {
   "cell_type": "markdown",
   "metadata": {},
   "source": [
    "- Tips for writing an abstract:\n",
    "    - [Scribbr - Abstracts](https://www.scribbr.com/dissertation/abstract/)\n",
    "    \n",
    "    \n",
    "- Additional Resources:\n",
    "    - [Scientific Publication on Writing an Abstract](https://www.ncbi.nlm.nih.gov/pmc/articles/PMC3136027/) (Best)\n",
    "    - **[Article: How to write a good scientific abstract](https://www.ptglab.com/news/blog/how-to-write-a-good-scientific-abstract/)(A bit too conference-oriented, but very helpful)**\n",
    "\n",
    "    - Overall Guide on Project Notebooks:\n",
    "        - [Data Science Project Style Guide](https://www.dataquest.io/blog/data-science-project-style-guide/)(Overall Project Guide)"
   ]
  },
  {
   "cell_type": "markdown",
   "metadata": {},
   "source": [
    "### Example Abstracts"
   ]
  },
  {
   "cell_type": "markdown",
   "metadata": {},
   "source": [
    "#### [My Capstone](https://github.com/jirvingphd/dsc-5-capstone-project-online-ds-ft-021119) "
   ]
  },
  {
   "cell_type": "markdown",
   "metadata": {},
   "source": [
    "> Note: This is not a perfect example (was still tuning my final models for my final scores when I was hired). I've added the missing content (noted by `<...>`\n",
    "- [X] Your research problem and objectives\n",
    "- [X] Your methods\n",
    "- [x] Your key results or arguments\n",
    "- [x] Your conclusion\n",
    "\n",
    "- 425 words"
   ]
  },
  {
   "cell_type": "markdown",
   "metadata": {},
   "source": [
    "Stock Market prices are notoriously difficult to model, but advances in machine learning algorithms in recent years provide renewed possibilities in accurately modeling market performance. One notable addition in modern machine learning is that of Natural Language Processing (NLP). For those modeling a specific stock, performing NLP feature extraction and analysis on the collection of news headlines, shareholder documents, or social media postings that mention the company can provide additional information about the human/social elements to predicting market behaviors. These insights could not be captured by historical price data and technical indicators alone.\n",
    "\n",
    "President Donald J. Trump is one of the most prolific users of social media, specifically Twitter, using it as a direct messaging channel to his followers, avoiding the traditional filtering and restriction that normally controls the public influence of the President of the United States. An additional element of the presidency that Trump has avoided is that of financial transparency and divesting of assets. Historically, this is done in order to avoid conflicts of interest, apparent or actual. The president is also known to target companies directly with his Tweets, advocating for specific changes/decisions by the company, or simply airing his greivances. This leads to the natural question, how much influence does President Trump exert over the financial markets?\n",
    "\n",
    "To explore this question, we built multiple types of models attempting to answer this question, using the S&P500 as our market index. First, we built a classification model to predict the change in stock price 60 mins after the tweet. We trained Word2Vec embeddings on President Trump's tweets since his election, which we used as the embedding layer for LSTM and GRU neural networks. <Our best classification model achieved an accuracy of 55%.>\n",
    "\n",
    "We next build a baseline time series regression model, using historical price data alone to predict price by trading-hour. We then built upon this, adding several technical indicators of market performance as additional features. Finally, we combined the predicitons of our classification model, as well as several other metrics about the tweets (sentiment scores, # of retweets/favorites, upper-to-lowercase ratio,etc.) to see if combining all of these sources of information could explain even more of the variance in stock market prices.\n",
    "<Our final model had an R^2 score of [##] and Mean Absolute Error of [##].>\n",
    "\n",
    "< Overall, our models underperformed our initial expectations. However, upon further consideration, our models overall perform better than guessing and could be used as one piece of data when trading stocks. It currently should not be used as the sole source of trading advice/insights.>"
   ]
  },
  {
   "cell_type": "markdown",
   "metadata": {},
   "source": [
    "### Generating Wordclouds\n",
    "- https://www.datacamp.com/community/tutorials/wordcloud-python"
   ]
  },
  {
   "cell_type": "markdown",
   "metadata": {},
   "source": [
    "```python\n",
    "## Saving muiltiple texts as one str\n",
    "combined_text = \",\".join(df['text'])\n",
    "```"
   ]
  },
  {
   "cell_type": "code",
   "execution_count": null,
   "metadata": {},
   "outputs": [],
   "source": []
  }
 ],
 "metadata": {
  "kernelspec": {
   "display_name": "learn-env",
   "language": "python",
   "name": "learn-env"
  },
  "language_info": {
   "codemirror_mode": {
    "name": "ipython",
    "version": 3
   },
   "file_extension": ".py",
   "mimetype": "text/x-python",
   "name": "python",
   "nbconvert_exporter": "python",
   "pygments_lexer": "ipython3",
   "version": "3.6.11"
  },
  "toc": {
   "base_numbering": 1,
   "nav_menu": {},
   "number_sections": false,
   "sideBar": true,
   "skip_h1_title": false,
   "title_cell": "Table of Contents",
   "title_sidebar": "Contents",
   "toc_cell": false,
   "toc_position": {
    "height": "calc(100% - 180px)",
    "left": "10px",
    "top": "150px",
    "width": "256px"
   },
   "toc_section_display": true,
   "toc_window_display": true
  }
 },
 "nbformat": 4,
 "nbformat_minor": 4
}
