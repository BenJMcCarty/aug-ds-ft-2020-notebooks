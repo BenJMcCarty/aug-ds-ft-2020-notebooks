{
 "cells": [
  {
   "cell_type": "markdown",
   "metadata": {},
   "source": [
    "# Capstone Office Hours"
   ]
  },
  {
   "cell_type": "markdown",
   "metadata": {},
   "source": [
    "- onine-ds-ft-081720\n",
    "- [Questions Doc](https://docs.google.com/document/d/1oJLFYAGc-tCDrKtlDVSxfWK4fBNCMgL69hY3-ej6QXk/edit?usp=sharing)"
   ]
  },
  {
   "cell_type": "markdown",
   "metadata": {},
   "source": [
    "## 12/17/20 "
   ]
  },
  {
   "cell_type": "markdown",
   "metadata": {},
   "source": [
    "- Graduation Requirements Update\n",
    "    - 4 blog posts\n"
   ]
  },
  {
   "cell_type": "markdown",
   "metadata": {
    "heading_collapsed": true
   },
   "source": [
    "## 12/22/20\n"
   ]
  },
  {
   "cell_type": "markdown",
   "metadata": {
    "hidden": true
   },
   "source": [
    "- Just a quick explanation of TPUs on Google Colab\n",
    "    - A special AI-boosted type of processor designed by google specifically for neural networks.\n",
    "        - https://en.wikipedia.org/wiki/Tensor_Processing_Unit\n",
    "        - https://colab.research.google.com/github/zaidalyafeai/Notebooks/blob/master/GPUvsTPU.ipynb\n",
    "        \n",
    "\n",
    "- Word2vec /training deep nlp\n",
    "    - how to incorporate bigrams (or lemmas?) into w2v\n",
    "- Webscraping safety tips:\n",
    "    - Not overloading server/getting booted\n",
    "    - fakeuseragnet\n",
    "        - https://pypi.org/project/fake-useragent/\n",
    "    - ```python \n",
    "    import time\n",
    "    import numpy as np\n",
    "    sleep_times = [0.5,0.7,0.9, 1.0]\n",
    "    for in in my_list_of_urls:\n",
    "        \n",
    "        time.sleep(np.random.choice(sleep_times))\n",
    "    ```\n",
    "- How to set up dynamic importing from a .py so you don’t have to restart kernel when you edit the .py\n",
    "    - https://ipython.org/ipython-doc/3/config/extensions/autoreload.html\n",
    "    \n"
   ]
  },
  {
   "cell_type": "markdown",
   "metadata": {
    "hidden": true
   },
   "source": [
    "### Planned Deep-Dive Topics for Post-Break Week"
   ]
  },
  {
   "cell_type": "markdown",
   "metadata": {
    "hidden": true
   },
   "source": [
    "1. Deep NLP - deeper dive \n",
    "2. Making a dashboard\n",
    "    - Streamlit\n",
    "    - Dash\n",
    "    - Dashboards with api calls \n"
   ]
  },
  {
   "cell_type": "markdown",
   "metadata": {
    "hidden": true
   },
   "source": [
    "### Auto-Reloading Modules"
   ]
  },
  {
   "cell_type": "code",
   "execution_count": 13,
   "metadata": {
    "ExecuteTime": {
     "end_time": "2020-12-22T19:13:26.496658Z",
     "start_time": "2020-12-22T19:13:26.435194Z"
    },
    "hidden": true
   },
   "outputs": [],
   "source": [
    "import example as ex\n",
    "from example import test_func"
   ]
  },
  {
   "cell_type": "code",
   "execution_count": 14,
   "metadata": {
    "ExecuteTime": {
     "end_time": "2020-12-22T19:13:40.688781Z",
     "start_time": "2020-12-22T19:13:40.664383Z"
    },
    "hidden": true
   },
   "outputs": [
    {
     "name": "stdout",
     "output_type": "stream",
     "text": [
      "The autoreload extension is already loaded. To reload it, use:\n",
      "  %reload_ext autoreload\n"
     ]
    }
   ],
   "source": [
    "%load_ext autoreload\n",
    "%autoreload 2"
   ]
  },
  {
   "cell_type": "code",
   "execution_count": 15,
   "metadata": {
    "ExecuteTime": {
     "end_time": "2020-12-22T19:13:46.713307Z",
     "start_time": "2020-12-22T19:13:46.688032Z"
    },
    "hidden": true
   },
   "outputs": [
    {
     "name": "stdout",
     "output_type": "stream",
     "text": [
      "Testing the function\n"
     ]
    }
   ],
   "source": [
    "ex.test_func()"
   ]
  },
  {
   "cell_type": "code",
   "execution_count": 16,
   "metadata": {
    "ExecuteTime": {
     "end_time": "2020-12-22T19:13:50.127712Z",
     "start_time": "2020-12-22T19:13:50.103970Z"
    },
    "hidden": true
   },
   "outputs": [
    {
     "name": "stdout",
     "output_type": "stream",
     "text": [
      "Testing the function\n"
     ]
    }
   ],
   "source": [
    "test_func()"
   ]
  },
  {
   "cell_type": "code",
   "execution_count": 17,
   "metadata": {
    "ExecuteTime": {
     "end_time": "2020-12-22T19:14:11.826839Z",
     "start_time": "2020-12-22T19:14:11.802099Z"
    },
    "hidden": true
   },
   "outputs": [
    {
     "name": "stdout",
     "output_type": "stream",
     "text": [
      "Testing the function after making changes\n"
     ]
    }
   ],
   "source": [
    "ex.test_func()"
   ]
  },
  {
   "cell_type": "code",
   "execution_count": 18,
   "metadata": {
    "ExecuteTime": {
     "end_time": "2020-12-22T19:14:20.439645Z",
     "start_time": "2020-12-22T19:14:20.418194Z"
    },
    "hidden": true
   },
   "outputs": [
    {
     "name": "stdout",
     "output_type": "stream",
     "text": [
      "Testing the function after making changes\n"
     ]
    }
   ],
   "source": [
    "test_func()"
   ]
  },
  {
   "cell_type": "markdown",
   "metadata": {},
   "source": [
    "# Dashboards + Office Hours (01/05/20201)"
   ]
  },
  {
   "cell_type": "markdown",
   "metadata": {},
   "source": [
    ">- Dashboarding notebook and .py files are in another repository:\n",
    "    - https://github.com/jirvingphd/dashboarding-studygroup-01052021"
   ]
  },
  {
   "cell_type": "markdown",
   "metadata": {},
   "source": [
    "## Questions?"
   ]
  },
  {
   "cell_type": "markdown",
   "metadata": {},
   "source": [
    "- "
   ]
  },
  {
   "cell_type": "code",
   "execution_count": null,
   "metadata": {},
   "outputs": [],
   "source": []
  }
 ],
 "metadata": {
  "kernelspec": {
   "display_name": "learn-env",
   "language": "python",
   "name": "learn-env"
  },
  "language_info": {
   "codemirror_mode": {
    "name": "ipython",
    "version": 3
   },
   "file_extension": ".py",
   "mimetype": "text/x-python",
   "name": "python",
   "nbconvert_exporter": "python",
   "pygments_lexer": "ipython3",
   "version": "3.6.11"
  },
  "toc": {
   "base_numbering": 1,
   "nav_menu": {},
   "number_sections": true,
   "sideBar": true,
   "skip_h1_title": false,
   "title_cell": "Table of Contents",
   "title_sidebar": "Contents",
   "toc_cell": false,
   "toc_position": {
    "height": "calc(100% - 180px)",
    "left": "10px",
    "top": "150px",
    "width": "256px"
   },
   "toc_section_display": true,
   "toc_window_display": true
  }
 },
 "nbformat": 4,
 "nbformat_minor": 4
}
