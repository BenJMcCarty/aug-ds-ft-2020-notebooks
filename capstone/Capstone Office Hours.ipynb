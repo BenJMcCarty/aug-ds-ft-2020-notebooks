{
 "cells": [
  {
   "cell_type": "markdown",
   "metadata": {},
   "source": [
    "# Capstone Office Hours"
   ]
  },
  {
   "cell_type": "markdown",
   "metadata": {},
   "source": [
    "- onine-ds-ft-081720\n",
    "- [Questions Doc](https://docs.google.com/document/d/1oJLFYAGc-tCDrKtlDVSxfWK4fBNCMgL69hY3-ej6QXk/edit?usp=sharing)"
   ]
  },
  {
   "cell_type": "markdown",
   "metadata": {
    "heading_collapsed": true
   },
   "source": [
    "## 12/17/20 "
   ]
  },
  {
   "cell_type": "markdown",
   "metadata": {
    "hidden": true
   },
   "source": [
    "- Graduation Requirements Update\n",
    "    - 4 blog posts\n"
   ]
  },
  {
   "cell_type": "markdown",
   "metadata": {
    "heading_collapsed": true
   },
   "source": [
    "## 12/22/20\n"
   ]
  },
  {
   "cell_type": "markdown",
   "metadata": {
    "hidden": true
   },
   "source": [
    "- Just a quick explanation of TPUs on Google Colab\n",
    "    - A special AI-boosted type of processor designed by google specifically for neural networks.\n",
    "        - https://en.wikipedia.org/wiki/Tensor_Processing_Unit\n",
    "        - https://colab.research.google.com/github/zaidalyafeai/Notebooks/blob/master/GPUvsTPU.ipynb\n",
    "        \n",
    "\n",
    "- Word2vec /training deep nlp\n",
    "    - how to incorporate bigrams (or lemmas?) into w2v\n",
    "- Webscraping safety tips:\n",
    "    - Not overloading server/getting booted\n",
    "    - fakeuseragnet\n",
    "        - https://pypi.org/project/fake-useragent/\n",
    "    - ```python \n",
    "    import time\n",
    "    import numpy as np\n",
    "    sleep_times = [0.5,0.7,0.9, 1.0]\n",
    "    for in in my_list_of_urls:\n",
    "        \n",
    "        time.sleep(np.random.choice(sleep_times))\n",
    "    ```\n",
    "- How to set up dynamic importing from a .py so you don’t have to restart kernel when you edit the .py\n",
    "    - https://ipython.org/ipython-doc/3/config/extensions/autoreload.html\n",
    "    \n"
   ]
  },
  {
   "cell_type": "markdown",
   "metadata": {
    "hidden": true
   },
   "source": [
    "### Planned Deep-Dive Topics for Post-Break Week"
   ]
  },
  {
   "cell_type": "markdown",
   "metadata": {
    "hidden": true
   },
   "source": [
    "1. Deep NLP - deeper dive \n",
    "2. Making a dashboard\n",
    "    - Streamlit\n",
    "    - Dash\n",
    "    - Dashboards with api calls \n"
   ]
  },
  {
   "cell_type": "markdown",
   "metadata": {
    "hidden": true
   },
   "source": [
    "### Auto-Reloading Modules"
   ]
  },
  {
   "cell_type": "code",
   "execution_count": 13,
   "metadata": {
    "ExecuteTime": {
     "end_time": "2020-12-22T19:13:26.496658Z",
     "start_time": "2020-12-22T19:13:26.435194Z"
    },
    "hidden": true
   },
   "outputs": [],
   "source": [
    "import example as ex\n",
    "from example import test_func"
   ]
  },
  {
   "cell_type": "code",
   "execution_count": 14,
   "metadata": {
    "ExecuteTime": {
     "end_time": "2020-12-22T19:13:40.688781Z",
     "start_time": "2020-12-22T19:13:40.664383Z"
    },
    "hidden": true
   },
   "outputs": [
    {
     "name": "stdout",
     "output_type": "stream",
     "text": [
      "The autoreload extension is already loaded. To reload it, use:\n",
      "  %reload_ext autoreload\n"
     ]
    }
   ],
   "source": [
    "%load_ext autoreload\n",
    "%autoreload 2"
   ]
  },
  {
   "cell_type": "code",
   "execution_count": 15,
   "metadata": {
    "ExecuteTime": {
     "end_time": "2020-12-22T19:13:46.713307Z",
     "start_time": "2020-12-22T19:13:46.688032Z"
    },
    "hidden": true
   },
   "outputs": [
    {
     "name": "stdout",
     "output_type": "stream",
     "text": [
      "Testing the function\n"
     ]
    }
   ],
   "source": [
    "ex.test_func()"
   ]
  },
  {
   "cell_type": "code",
   "execution_count": 16,
   "metadata": {
    "ExecuteTime": {
     "end_time": "2020-12-22T19:13:50.127712Z",
     "start_time": "2020-12-22T19:13:50.103970Z"
    },
    "hidden": true
   },
   "outputs": [
    {
     "name": "stdout",
     "output_type": "stream",
     "text": [
      "Testing the function\n"
     ]
    }
   ],
   "source": [
    "test_func()"
   ]
  },
  {
   "cell_type": "code",
   "execution_count": 17,
   "metadata": {
    "ExecuteTime": {
     "end_time": "2020-12-22T19:14:11.826839Z",
     "start_time": "2020-12-22T19:14:11.802099Z"
    },
    "hidden": true
   },
   "outputs": [
    {
     "name": "stdout",
     "output_type": "stream",
     "text": [
      "Testing the function after making changes\n"
     ]
    }
   ],
   "source": [
    "ex.test_func()"
   ]
  },
  {
   "cell_type": "code",
   "execution_count": 18,
   "metadata": {
    "ExecuteTime": {
     "end_time": "2020-12-22T19:14:20.439645Z",
     "start_time": "2020-12-22T19:14:20.418194Z"
    },
    "hidden": true
   },
   "outputs": [
    {
     "name": "stdout",
     "output_type": "stream",
     "text": [
      "Testing the function after making changes\n"
     ]
    }
   ],
   "source": [
    "test_func()"
   ]
  },
  {
   "cell_type": "markdown",
   "metadata": {},
   "source": [
    "# Dashboards + Office Hours (01/05/2021)"
   ]
  },
  {
   "cell_type": "markdown",
   "metadata": {},
   "source": [
    ">- Dashboarding notebook and .py files are in another repository:\n",
    "    - https://github.com/jirvingphd/dashboarding-studygroup-01052021"
   ]
  },
  {
   "cell_type": "markdown",
   "metadata": {
    "heading_collapsed": true
   },
   "source": [
    "# Deep NLP Revisited + Office Hours (01/06/2021)"
   ]
  },
  {
   "cell_type": "markdown",
   "metadata": {
    "hidden": true
   },
   "source": [
    "- Notebook is in sub-folder:\n",
    "    `deep_nlp_revisted_01062021` > `deep_nlp_revisited.ipynb`"
   ]
  },
  {
   "cell_type": "markdown",
   "metadata": {
    "hidden": true
   },
   "source": [
    "## Questions"
   ]
  },
  {
   "cell_type": "markdown",
   "metadata": {
    "hidden": true
   },
   "source": [
    "- Tips on training Word2vec\n",
    "- tips on different layers (eg LSTM, bidirectional) and how to use them together\n",
    "- Can we use multiple LSTM layers in the same model?\n"
   ]
  },
  {
   "cell_type": "markdown",
   "metadata": {},
   "source": [
    "# 01/07/21 Office Hours\n"
   ]
  },
  {
   "cell_type": "markdown",
   "metadata": {},
   "source": [
    "- Q: Heroku Deployment.\n",
    "\n",
    "- Q: would be nice to also hear about other web-hosting options (eg adding to an existing site, running on an owned domain name)\n",
    "\n",
    "- Q: how to set checkpoints for neural networks:\n",
    "    - See the [\"Using Google Colab for Computer Vision notebook\"](https://colab.research.google.com/drive/1qZ4uPq94ZV0UcONdhepiTFV6HIUCsvpq?usp=sharing) (also in notes repo)\n",
    "    - [Link to Callbacks section](https://colab.research.google.com/drive/1qZ4uPq94ZV0UcONdhepiTFV6HIUCsvpq#scrollTo=2r14qGFIVrfO)\n"
   ]
  },
  {
   "cell_type": "markdown",
   "metadata": {},
   "source": [
    "# 01/12/21 Office Hours + Abstracts"
   ]
  },
  {
   "cell_type": "markdown",
   "metadata": {},
   "source": [
    "## Questions?"
   ]
  },
  {
   "cell_type": "markdown",
   "metadata": {
    "ExecuteTime": {
     "end_time": "2021-01-12T19:06:48.004542Z",
     "start_time": "2021-01-12T19:06:48.000050Z"
    }
   },
   "source": [
    "- Q: How to gridsearch gensim?\n",
    "\n",
    "```python\n",
    "params =  [dict(min_count=3, min_words=2000),\n",
    "          dict(min_count=5, min_words=3000)]\n",
    "\n",
    "results = []\n",
    "for param in paramas:\n",
    "    ....\n",
    "    model = ...\n",
    "    results.append(model.score())\n",
    "    \n",
    "```"
   ]
  },
  {
   "cell_type": "markdown",
   "metadata": {},
   "source": [
    "## Writing your Abstract"
   ]
  },
  {
   "cell_type": "markdown",
   "metadata": {},
   "source": [
    "- Tips for writing an abstract:\n",
    "    - [Scribbr - Abstracts](https://www.scribbr.com/dissertation/abstract/)\n",
    "    \n",
    "    \n",
    "- Additional Resources:\n",
    "    - [Scientific Publication on Writing an Abstract](https://www.ncbi.nlm.nih.gov/pmc/articles/PMC3136027/) (Best)\n",
    "    - **[Article: How to write a good scientific abstract](https://www.ptglab.com/news/blog/how-to-write-a-good-scientific-abstract/)(A bit too conference-oriented, but very helpful)**\n",
    "\n",
    "    - Overall Guide on Project Notebooks:\n",
    "        - [Data Science Project Style Guide](https://www.dataquest.io/blog/data-science-project-style-guide/)(Overall Project Guide)"
   ]
  },
  {
   "cell_type": "markdown",
   "metadata": {},
   "source": [
    "### Example Abstracts"
   ]
  },
  {
   "cell_type": "markdown",
   "metadata": {},
   "source": [
    "#### [My Capstone](https://github.com/jirvingphd/dsc-5-capstone-project-online-ds-ft-021119) "
   ]
  },
  {
   "cell_type": "markdown",
   "metadata": {},
   "source": [
    "> Note: This is not a perfect example (was still tuning my final models for my final scores when I was hired). I've added the missing content (noted by `<...>`\n",
    "- [X] Your research problem and objectives\n",
    "- [X] Your methods\n",
    "- [x] Your key results or arguments\n",
    "- [x] Your conclusion\n",
    "\n",
    "- 425 words"
   ]
  },
  {
   "cell_type": "markdown",
   "metadata": {},
   "source": [
    "Stock Market prices are notoriously difficult to model, but advances in machine learning algorithms in recent years provide renewed possibilities in accurately modeling market performance. One notable addition in modern machine learning is that of Natural Language Processing (NLP). For those modeling a specific stock, performing NLP feature extraction and analysis on the collection of news headlines, shareholder documents, or social media postings that mention the company can provide additional information about the human/social elements to predicting market behaviors. These insights could not be captured by historical price data and technical indicators alone.\n",
    "\n",
    "President Donald J. Trump is one of the most prolific users of social media, specifically Twitter, using it as a direct messaging channel to his followers, avoiding the traditional filtering and restriction that normally controls the public influence of the President of the United States. An additional element of the presidency that Trump has avoided is that of financial transparency and divesting of assets. Historically, this is done in order to avoid conflicts of interest, apparent or actual. The president is also known to target companies directly with his Tweets, advocating for specific changes/decisions by the company, or simply airing his greivances. This leads to the natural question, how much influence does President Trump exert over the financial markets?\n",
    "\n",
    "To explore this question, we built multiple types of models attempting to answer this question, using the S&P500 as our market index. First, we built a classification model to predict the change in stock price 60 mins after the tweet. We trained Word2Vec embeddings on President Trump's tweets since his election, which we used as the embedding layer for LSTM and GRU neural networks. <Our best classification model achieved an accuracy of 55%.>\n",
    "\n",
    "We next build a baseline time series regression model, using historical price data alone to predict price by trading-hour. We then built upon this, adding several technical indicators of market performance as additional features. Finally, we combined the predicitons of our classification model, as well as several other metrics about the tweets (sentiment scores, # of retweets/favorites, upper-to-lowercase ratio,etc.) to see if combining all of these sources of information could explain even more of the variance in stock market prices.\n",
    "<Our final model had an R^2 score of [##] and Mean Absolute Error of [##].>\n",
    "\n",
    "< Overall, our models underperformed our initial expectations. However, upon further consideration, our models overall perform better than guessing and could be used as one piece of data when trading stocks. It currently should not be used as the sole source of trading advice/insights.>"
   ]
  },
  {
   "cell_type": "markdown",
   "metadata": {},
   "source": [
    "### Generating Wordclouds\n",
    "- https://www.datacamp.com/community/tutorials/wordcloud-python"
   ]
  },
  {
   "cell_type": "markdown",
   "metadata": {},
   "source": [
    "```python\n",
    "## Saving muiltiple texts as one str\n",
    "combined_text = \",\".join(df['text'])\n",
    "```"
   ]
  },
  {
   "cell_type": "markdown",
   "metadata": {},
   "source": [
    "# 01/13/21 Office Hours"
   ]
  },
  {
   "cell_type": "markdown",
   "metadata": {},
   "source": [
    "## Questions?"
   ]
  },
  {
   "cell_type": "markdown",
   "metadata": {},
   "source": [
    "- Notes on updated template app.py\n",
    "- Group sharing presentations? \n",
    "    - Yes! Week after grad requirements due."
   ]
  },
  {
   "cell_type": "markdown",
   "metadata": {},
   "source": [
    "### Individual Errors\n",
    "- [ ] Tia's new error / related to using Dash.\n",
    "- [ ] Kourosh's 403 error \n"
   ]
  },
  {
   "cell_type": "markdown",
   "metadata": {},
   "source": [
    "## Moving Functions to a Py File"
   ]
  },
  {
   "cell_type": "markdown",
   "metadata": {},
   "source": [
    "- Go to subfolder `moving_functions_to_py_files`"
   ]
  },
  {
   "cell_type": "code",
   "execution_count": 1,
   "metadata": {
    "ExecuteTime": {
     "end_time": "2021-01-13T19:46:30.239085Z",
     "start_time": "2021-01-13T19:46:28.160046Z"
    }
   },
   "outputs": [
    {
     "data": {
      "text/html": [
       "<div>\n",
       "<style scoped>\n",
       "    .dataframe tbody tr th:only-of-type {\n",
       "        vertical-align: middle;\n",
       "    }\n",
       "\n",
       "    .dataframe tbody tr th {\n",
       "        vertical-align: top;\n",
       "    }\n",
       "\n",
       "    .dataframe thead th {\n",
       "        text-align: right;\n",
       "    }\n",
       "</style>\n",
       "<table border=\"1\" class=\"dataframe\">\n",
       "  <thead>\n",
       "    <tr style=\"text-align: right;\">\n",
       "      <th></th>\n",
       "      <th>source</th>\n",
       "      <th>text</th>\n",
       "      <th>created_at</th>\n",
       "      <th>retweet_count</th>\n",
       "      <th>favorite_count</th>\n",
       "      <th>is_retweet</th>\n",
       "      <th>id_str</th>\n",
       "    </tr>\n",
       "  </thead>\n",
       "  <tbody>\n",
       "    <tr>\n",
       "      <th>0</th>\n",
       "      <td>Twitter Media Studio</td>\n",
       "      <td>https://t.co/EVAEYD1AgV</td>\n",
       "      <td>01-01-2020 03:12:07</td>\n",
       "      <td>25016</td>\n",
       "      <td>108830</td>\n",
       "      <td>False</td>\n",
       "      <td>1212209862094012416</td>\n",
       "    </tr>\n",
       "    <tr>\n",
       "      <th>1</th>\n",
       "      <td>Twitter for iPhone</td>\n",
       "      <td>HAPPY NEW YEAR!</td>\n",
       "      <td>01-01-2020 01:30:35</td>\n",
       "      <td>85409</td>\n",
       "      <td>576045</td>\n",
       "      <td>False</td>\n",
       "      <td>1212184310389850119</td>\n",
       "    </tr>\n",
       "    <tr>\n",
       "      <th>2</th>\n",
       "      <td>Twitter for iPhone</td>\n",
       "      <td>Our fantastic First Lady! https://t.co/6iswto4WDI</td>\n",
       "      <td>01-01-2020 01:22:28</td>\n",
       "      <td>27567</td>\n",
       "      <td>132633</td>\n",
       "      <td>False</td>\n",
       "      <td>1212182267113680896</td>\n",
       "    </tr>\n",
       "    <tr>\n",
       "      <th>3</th>\n",
       "      <td>Twitter for iPhone</td>\n",
       "      <td>RT @DanScavino: https://t.co/CJRPySkF1Z</td>\n",
       "      <td>01-01-2020 01:18:47</td>\n",
       "      <td>10796</td>\n",
       "      <td>0</td>\n",
       "      <td>True</td>\n",
       "      <td>1212181341078458369</td>\n",
       "    </tr>\n",
       "    <tr>\n",
       "      <th>4</th>\n",
       "      <td>Twitter for iPhone</td>\n",
       "      <td>RT @SenJohnKennedy: I think Speaker Pelosi is ...</td>\n",
       "      <td>01-01-2020 01:17:43</td>\n",
       "      <td>8893</td>\n",
       "      <td>0</td>\n",
       "      <td>True</td>\n",
       "      <td>1212181071988703232</td>\n",
       "    </tr>\n",
       "    <tr>\n",
       "      <th>...</th>\n",
       "      <td>...</td>\n",
       "      <td>...</td>\n",
       "      <td>...</td>\n",
       "      <td>...</td>\n",
       "      <td>...</td>\n",
       "      <td>...</td>\n",
       "      <td>...</td>\n",
       "    </tr>\n",
       "    <tr>\n",
       "      <th>14061</th>\n",
       "      <td>Twitter for Android</td>\n",
       "      <td>The President of Taiwan CALLED ME today to wis...</td>\n",
       "      <td>12-03-2016 00:44:20</td>\n",
       "      <td>24700</td>\n",
       "      <td>111106</td>\n",
       "      <td>False</td>\n",
       "      <td>804848711599882240</td>\n",
       "    </tr>\n",
       "    <tr>\n",
       "      <th>14062</th>\n",
       "      <td>Twitter for iPhone</td>\n",
       "      <td>Thank you Ohio! Together we made history – and...</td>\n",
       "      <td>12-02-2016 02:45:18</td>\n",
       "      <td>17283</td>\n",
       "      <td>72196</td>\n",
       "      <td>False</td>\n",
       "      <td>804516764562374656</td>\n",
       "    </tr>\n",
       "    <tr>\n",
       "      <th>14063</th>\n",
       "      <td>Twitter for iPhone</td>\n",
       "      <td>Heading to U.S. Bank Arena in Cincinnati Ohio ...</td>\n",
       "      <td>12-01-2016 22:52:10</td>\n",
       "      <td>5564</td>\n",
       "      <td>31256</td>\n",
       "      <td>False</td>\n",
       "      <td>804458095569158144</td>\n",
       "    </tr>\n",
       "    <tr>\n",
       "      <th>14064</th>\n",
       "      <td>Twitter for Android</td>\n",
       "      <td>Getting ready to leave for the Great State of ...</td>\n",
       "      <td>12-01-2016 14:38:09</td>\n",
       "      <td>9834</td>\n",
       "      <td>57249</td>\n",
       "      <td>False</td>\n",
       "      <td>804333771021570048</td>\n",
       "    </tr>\n",
       "    <tr>\n",
       "      <th>14065</th>\n",
       "      <td>Twitter for iPhone</td>\n",
       "      <td>My thoughts and prayers are with those affecte...</td>\n",
       "      <td>12-01-2016 14:37:57</td>\n",
       "      <td>12077</td>\n",
       "      <td>65724</td>\n",
       "      <td>False</td>\n",
       "      <td>804333718999539712</td>\n",
       "    </tr>\n",
       "  </tbody>\n",
       "</table>\n",
       "<p>14066 rows × 7 columns</p>\n",
       "</div>"
      ],
      "text/plain": [
       "                     source  \\\n",
       "0      Twitter Media Studio   \n",
       "1        Twitter for iPhone   \n",
       "2        Twitter for iPhone   \n",
       "3        Twitter for iPhone   \n",
       "4        Twitter for iPhone   \n",
       "...                     ...   \n",
       "14061   Twitter for Android   \n",
       "14062    Twitter for iPhone   \n",
       "14063    Twitter for iPhone   \n",
       "14064   Twitter for Android   \n",
       "14065    Twitter for iPhone   \n",
       "\n",
       "                                                    text           created_at  \\\n",
       "0                                https://t.co/EVAEYD1AgV  01-01-2020 03:12:07   \n",
       "1                                        HAPPY NEW YEAR!  01-01-2020 01:30:35   \n",
       "2      Our fantastic First Lady! https://t.co/6iswto4WDI  01-01-2020 01:22:28   \n",
       "3                RT @DanScavino: https://t.co/CJRPySkF1Z  01-01-2020 01:18:47   \n",
       "4      RT @SenJohnKennedy: I think Speaker Pelosi is ...  01-01-2020 01:17:43   \n",
       "...                                                  ...                  ...   \n",
       "14061  The President of Taiwan CALLED ME today to wis...  12-03-2016 00:44:20   \n",
       "14062  Thank you Ohio! Together we made history – and...  12-02-2016 02:45:18   \n",
       "14063  Heading to U.S. Bank Arena in Cincinnati Ohio ...  12-01-2016 22:52:10   \n",
       "14064  Getting ready to leave for the Great State of ...  12-01-2016 14:38:09   \n",
       "14065  My thoughts and prayers are with those affecte...  12-01-2016 14:37:57   \n",
       "\n",
       "       retweet_count  favorite_count is_retweet               id_str  \n",
       "0              25016          108830      False  1212209862094012416  \n",
       "1              85409          576045      False  1212184310389850119  \n",
       "2              27567          132633      False  1212182267113680896  \n",
       "3              10796               0       True  1212181341078458369  \n",
       "4               8893               0       True  1212181071988703232  \n",
       "...              ...             ...        ...                  ...  \n",
       "14061          24700          111106      False   804848711599882240  \n",
       "14062          17283           72196      False   804516764562374656  \n",
       "14063           5564           31256      False   804458095569158144  \n",
       "14064           9834           57249      False   804333771021570048  \n",
       "14065          12077           65724      False   804333718999539712  \n",
       "\n",
       "[14066 rows x 7 columns]"
      ]
     },
     "execution_count": 1,
     "metadata": {},
     "output_type": "execute_result"
    }
   ],
   "source": [
    "import pandas as pd\n",
    "pd.read_csv('https://raw.githubusercontent.com/learn-co-curriculum/aug-ds-ft-2020-notebooks/master/capstone/deep_nlp_revisted_01062021/trump_tweets_12012016_to_01012020.csv')"
   ]
  },
  {
   "cell_type": "code",
   "execution_count": null,
   "metadata": {},
   "outputs": [],
   "source": []
  }
 ],
 "metadata": {
  "kernelspec": {
   "display_name": "learn-env",
   "language": "python",
   "name": "learn-env"
  },
  "language_info": {
   "codemirror_mode": {
    "name": "ipython",
    "version": 3
   },
   "file_extension": ".py",
   "mimetype": "text/x-python",
   "name": "python",
   "nbconvert_exporter": "python",
   "pygments_lexer": "ipython3",
   "version": "3.6.11"
  },
  "toc": {
   "base_numbering": 1,
   "nav_menu": {},
   "number_sections": false,
   "sideBar": true,
   "skip_h1_title": false,
   "title_cell": "Table of Contents",
   "title_sidebar": "Contents",
   "toc_cell": false,
   "toc_position": {
    "height": "calc(100% - 180px)",
    "left": "10px",
    "top": "150px",
    "width": "256px"
   },
   "toc_section_display": true,
   "toc_window_display": true
  }
 },
 "nbformat": 4,
 "nbformat_minor": 4
}
