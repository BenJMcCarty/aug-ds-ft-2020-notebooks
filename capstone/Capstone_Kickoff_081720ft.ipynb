{
 "cells": [
  {
   "cell_type": "markdown",
   "metadata": {
    "heading_collapsed": true
   },
   "source": [
    "# Capstone Kickoff"
   ]
  },
  {
   "cell_type": "markdown",
   "metadata": {
    "hidden": true
   },
   "source": [
    "- online-ds-ft-081720\n",
    "- 12/15/20"
   ]
  },
  {
   "cell_type": "markdown",
   "metadata": {
    "hidden": true
   },
   "source": [
    "## Learning Objectives"
   ]
  },
  {
   "cell_type": "markdown",
   "metadata": {
    "hidden": true
   },
   "source": [
    "- Learn the deadlines for the capstone project.\n",
    "- Review the Canvas capstone project README.\n",
    "- Discuss some strategies/goals for deciding what to do for your capstone.\n",
    "- Example capstone projects\n"
   ]
  },
  {
   "cell_type": "markdown",
   "metadata": {
    "hidden": true
   },
   "source": [
    "## Announcements/Reminders"
   ]
  },
  {
   "cell_type": "markdown",
   "metadata": {
    "hidden": true
   },
   "source": [
    "- **MOD 4 PROJECT REVIEW HARD DEADLINE = 12/25/20**\n",
    "    - If you haven't yet, SCHEDULE YOUR REVIEW!!! (see your homeroom for the links).\n",
    "    - If you can't find something by the hard deadline, **slack me directly**! "
   ]
  },
  {
   "cell_type": "markdown",
   "metadata": {
    "heading_collapsed": true
   },
   "source": [
    "# Timeline [081720FT]"
   ]
  },
  {
   "cell_type": "markdown",
   "metadata": {
    "hidden": true
   },
   "source": [
    "### CAPSTONE DEADLINES"
   ]
  },
  {
   "cell_type": "markdown",
   "metadata": {
    "hidden": true
   },
   "source": [
    "| Deadline/Period| Project Component | Date|\n",
    "| --- |---|---|\n",
    "| **Deadline** | **Datasets chosen/proposed** | **12/22/20 (Tuesday)**|\n",
    "|**BREAK**|**HOLIDAY BREAK** (No study group or 1:1s)|12/24/20 - 01/02/21|\n",
    "| **Deadline**| **Turn in your links and schedule Your Review**| **01/15/21**|\n",
    "| **PROJECT REVIEWS** | **WEEK ONE (First Review)** |01/18/21 - 01/23/21|\n",
    "|**PROJECT REVIEWS** | **WEEK TWO (Follow-Up Reviews)**|01/25/21 - 01/29/21|\n",
    "|**HARD DEADLINE**| **Successfully Pass Project Review**|**01/29/21**|"
   ]
  },
  {
   "cell_type": "markdown",
   "metadata": {
    "hidden": true
   },
   "source": [
    "### GUIDELINES"
   ]
  },
  {
   "cell_type": "markdown",
   "metadata": {
    "hidden": true
   },
   "source": [
    "| Guideline| Project Component | Date|\n",
    "| --- |---|---|\n",
    "| Guideline |Majority of EDA/analysis/modeling | ~01/08/21 |\n",
    "| Guideline| Presentation & Dashboard building|Week of ~01/11/21|"
   ]
  },
  {
   "cell_type": "markdown",
   "metadata": {
    "hidden": true
   },
   "source": [
    "### GRADUATION DEADLINE"
   ]
  },
  {
   "cell_type": "markdown",
   "metadata": {
    "hidden": true
   },
   "source": [
    "> #### **ALL GRADUATION REQUIREMENTS MUST BE COMPLETED BY 01/29/21**\n",
    "- [ ] Passed all project reviews.\n",
    "- [ ] 7 Blog Posts completed."
   ]
  },
  {
   "cell_type": "markdown",
   "metadata": {
    "heading_collapsed": true
   },
   "source": [
    "# CAPSTONE README (Canvas)"
   ]
  },
  {
   "cell_type": "markdown",
   "metadata": {
    "hidden": true
   },
   "source": [
    "## Capstone Project"
   ]
  },
  {
   "cell_type": "markdown",
   "metadata": {
    "hidden": true
   },
   "source": [
    "Congratulations on making it to the Capstone project! It's been a long journey, but we can finally see the light at the end of the tunnel!\n",
    "\n",
    "![Actual Footage of you seeing the light at the end of the tunnel](https://raw.githubusercontent.com/learn-co-curriculum/dsc-capstone-project/main/images/end-of-tunnel.gif)\n",
    "\n",
    "Now that you've learned all the material in our course, it's time to show off and flex your data science muscles with your own **_Capstone Project_**! This project will allow you to showcase everything you've learned as a data scientist to by completing a professional-level data science project of your choosing. This project will be significantly larger than any project you've completed so far, and will be the crown jewel of your portfolio. A strong capstone project is the single most important thing you can do to get the attention of potential employers, so be prepared to put as much effort into this project as possible - the results will be **_worth it!_**\n",
    "\n",
    "![Your portfolio brings all the employers to your inbox](https://raw.githubusercontent.com/learn-co-curriculum/dsc-capstone-project/main/images/milkshake.gif)"
   ]
  },
  {
   "cell_type": "markdown",
   "metadata": {
    "hidden": true
   },
   "source": [
    "## Project Overview"
   ]
  },
  {
   "cell_type": "markdown",
   "metadata": {
    "hidden": true
   },
   "source": [
    "> Your Capstone project should develop a data product or analysis related to a single topic of your choice. You are free to choose any topic and use any data, so long as your project meets the requirements below.\n",
    "\n",
    "### Choosing a Topic\n",
    "\n",
    "When choosing a topic, think through these questions:  \n",
    "\n",
    "* What would I be motivated to work on?\n",
    "* What data could I use?\n",
    "* How could an individual or organization use my product or findings?\n",
    "* What will I be able to accomplish in the time I have available?\n",
    "* What challenges do I foresee with this project?"
   ]
  },
  {
   "cell_type": "markdown",
   "metadata": {
    "hidden": true
   },
   "source": [
    "### Sourcing Your Own Data"
   ]
  },
  {
   "cell_type": "markdown",
   "metadata": {
    "hidden": true
   },
   "source": [
    "Sourcing new data is a valuable skill for data scientists, but it requires a great deal of care. An inappropriate dataset or an unclear business problem can lead you spend a lot of time on a project that delivers underwhelming results. The guidelines below will help you complete a project that demonstrates your ability to engage in the full data science process.\n",
    "\n",
    "Your data must be...\n",
    "\n",
    "1. **Appropriate for supervised learning models.** You may use unsupervised learning methods in your project (e.g. to generate cluster assignment labels), but there must be a substantial supervised learning component.\n",
    "\n",
    "2. **Usable to solve a specific business problem.** This solution must rely on your model(s).\n",
    "\n",
    "3. **Somewhat complex.** It should contain thousands of rows and features that require creativity to use. You _can_ use a pre-existing clean dataset, but you should consider combining it with other datasets and/or engineering your own features.\n",
    "\n",
    "4. **Unfamiliar.** It can't be one we've already worked with during the course or that is commonly used for demonstration purposes (e.g. MNIST).\n",
    "\n",
    "5. **Manageable.** Stick to data that you can model with the knowledge and computational resources you have.\n",
    "\n",
    "Once you've sourced your own data and identified the business problem you want to solve with it, you must to **run them by your instructor for approval**."
   ]
  },
  {
   "cell_type": "markdown",
   "metadata": {
    "hidden": true
   },
   "source": [
    "#### Problem First, or Data First?\n",
    "\n",
    "There are two ways that you can source your own dataset: **_Problem First_** or **_Data First_**. The less time you have to complete the project, the more strongly we recommend a Data First approach to this project.\n",
    "\n",
    "**_Problem First_**: Start with a problem that you are interested in that you could potentially solve using one of the four project models. Then look for data that you could use to solve that problem. This approach is high-risk, high-reward: Very rewarding if you are able to solve a problem you are invested in, but frustrating if you end up sinking lots of time in without finding appropriate data. To mitigate the risk, set a firm limit for the amount of time you will allow yourself to look for data before moving on to the Data First approach.\n",
    "\n",
    "**_Data First_**: Take a look at some of the most popular internet repositories of cool data sets we've listed below. If you find a data set that's particularly interesting for you, then it's totally okay to build your problem around that data set.\n",
    "\n",
    "There are plenty of amazing places that you can get your data from. We recommend you start looking at data sets in some of these resources first:\n",
    "\n",
    "* [UCI Machine Learning Datasets Repository](https://archive.ics.uci.edu/ml/datasets.php)\n",
    "* [Kaggle Datasets](https://www.kaggle.com/datasets)\n",
    "* [Awesome Datasets Repo on Github](https://github.com/awesomedata/awesome-public-datasets)"
   ]
  },
  {
   "cell_type": "markdown",
   "metadata": {
    "hidden": true
   },
   "source": [
    "## The Deliverables"
   ]
  },
  {
   "cell_type": "markdown",
   "metadata": {
    "hidden": true
   },
   "source": [
    "There are three deliverables for this project:\n",
    "\n",
    "* A **GitHub repository**\n",
    "* A **Jupyter Notebook**\n",
    "* A **non-technical presentation**\n",
    "\n",
    "Review the \"Project Submission & Review\" page in the \"Milestones Instructions\" topic for instructions on creating and submitting your deliverables. Refer to the rubric associated with this assignment for specifications describing high-quality deliverables.\n",
    "\n",
    "### Key Points\n",
    "\n",
    "* **Project management is key.**  You have a lot of freedom in this project - this can feel liberating, but also means that you can accidentally lose a lot of time if you're not careful. Map out a rough daily project plan with key milestones and due dates for deliverables - you can adjust this as needed as you progress. Use this to make sure you're making timely progress towards successful completion. Ask for help if you find yourself struggling to keep up with your plan.\n",
    "\n",
    "* **Create an MVP, then refine it.** Once you've chosen a project, define a Minimum Viable Product (MVP) that you feel confident you can deliver, and set daily goals to get that done as soon as you can. This will reduce your anxiety about whether or when you can finish the project, and will give you the time you need to polish all of your deliverables so that they are super shiny for sharing with employers.\n",
    "\n",
    "* **Your deliverables should explicitly address each step of the data science process.** Refer to [the Data Science Process lesson](https://github.com/learn-co-curriculum/dsc-data-science-processes) from Topic 19 for more information about process models you can use.\n",
    "\n",
    "## Getting Started\n",
    "\n",
    "Create a new repository for your project to get started. We recommend structuring your project repository similar to the structure in [the Phase 1 Project Template](https://github.com/learn-co-curriculum/dsc-project-template). You can do this either by creating a new fork of that repository to work in or by building a new repository from scratch that mimics that structure.\n",
    "\n",
    "You can also check out [Capstone projects from former Flatiron DS students](https://github.com/learn-co-curriculum/dsc-capstone-examples) for inspiration.\n",
    "\n",
    "## Project Submission and Review\n",
    "\n",
    "Review the \"Capstone Submission & Review\" page in the \"Milestones Instructions\" topic to learn how to submit your project and how it will be reviewed. Your project must pass review for you to graduate from your program.\n",
    "\n",
    "## Summary\n",
    "\n",
    "The Capstone Project is the most critical part of the program. It gives you a chance to bring together all the skills you've learned into a realistic project, including the project management, business analysis, and communication.  Most importantly, it provides employers with strong signal about your technical abilities and allows you to show the world what an amazing Data Scientist you've become!"
   ]
  },
  {
   "cell_type": "markdown",
   "metadata": {
    "heading_collapsed": true
   },
   "source": [
    "# Notes/Tips From James"
   ]
  },
  {
   "cell_type": "markdown",
   "metadata": {
    "hidden": true
   },
   "source": [
    "- **NOTE FROM JAMES (originally part of learn lesson): Think of 2 versions of your question:**\n",
    "    - One that could be answered in ~3 days. \n",
    "    - One that you're excited/motivated to tackle and would want to continue working on post-graduation.\n",
    "    \n",
    "    \n",
    "- **Using Off-the-shelf datasets**. \n",
    "    - Adding additional source of data/APIs or using unsupervised learning like autoencoders or clustering can be used to turn an off-the-shelf dataset into something appropriate for the capstone. \n",
    "    \n",
    "    \n",
    "    \n",
    "- **If you plan to make a dashboard:** <br>experiment with using Plotly/PlotlyExpress figures, which are very easy to use with Dash dashboards.\n",
    "    - Plotly Express: https://plot.ly/python/plotly-express/\n",
    "    - [Dash User guide](https://dash.plot.ly/?_ga=2.156178875.1650132709.1582051288-909099599.1571873348)\n",
    "\n",
    "\n",
    "- **OSEMN Process Template Repo**.\n",
    "    - I have a template project repo with a template README and the OSEMN framework notebook.\n",
    "    - Repo: https://github.com/jirvingphd/osemn-project-template\n",
    "        - **Fork the repo then click the green \"Use template\" button**\n",
    "\n",
    "\n",
    "        \n",
    "        \n",
    "\n",
    "        "
   ]
  },
  {
   "cell_type": "markdown",
   "metadata": {
    "heading_collapsed": true
   },
   "source": [
    "# EXAMPLES"
   ]
  },
  {
   "cell_type": "markdown",
   "metadata": {
    "hidden": true
   },
   "source": [
    "#### From Capstone README:\n",
    "Take a look at this [technical report](https://github.com/paulinaczheng/twitter_flu_tracking) from a Flatiron student that used tweet data to predict the weekly number of flu cases during flu season. Pay attention to how well structured the project is, and how much she relies on great visualizations to tell her story for her. Your explanations don't have to be wordy - a visualization is worth a thousand words!"
   ]
  },
  {
   "cell_type": "markdown",
   "metadata": {
    "hidden": true
   },
   "source": [
    "## Example Capstones"
   ]
  },
  {
   "cell_type": "markdown",
   "metadata": {
    "hidden": true
   },
   "source": [
    "### Recent Graduates (070620FT)\n",
    "> YouTube Recording of Sharing Session:\n",
    "- https://youtu.be/Ac2npALgCtQ\n",
    "#### Repos From Recording:\n",
    "\n",
    "| # | Student | Capstone Title | Repo Link|\n",
    "| --- | --- | --- | --- |\n",
    "|1. | Jeff Spagnola | Deep Fake Image Detection | https://github.com/spags093/dsc-capstone-project-v2-onl01-dtsc-ft-070620|\n",
    "|2.| Avonlea Fisher | The 411 on 311 Calls | https://github.com/AvonleaFisher/Analyzing-NYC-311-Service-Requests|\n",
    "|3.| Miguel Santana | Customer Segmentation and Customer Churn Analysis |https://github.com/msantana269/Capstone|\n",
    "| 4. |Lauren Esser | Using News Headlines to Better Predict the Stock Market | https://github.com/lauren-esser/Better-Stock-Market-Prediction\n",
    "| 5.| Sung Bae | Product/Service Monitoring System | https://github.com/singsang2/capstone-twitter-analysis\n",
    "\n",
    "- Not Presented:\n",
    "    - https://github.com/emperorner0/AI_Generated_Review_Detection_in_Book_Reviews\n"
   ]
  },
  {
   "cell_type": "markdown",
   "metadata": {
    "hidden": true
   },
   "source": [
    "### Capstone Repos"
   ]
  },
  {
   "cell_type": "markdown",
   "metadata": {
    "hidden": true
   },
   "source": [
    "- https://github.com/slieb74/NBA-Shot-Analysis\n",
    "- https://github.com/NaokoSuga/gentrification_yelp\n",
    "- https://github.com/paulinaczheng/twitter_flu_tracking\n",
    "- https://github.com/mrethana/news_bias_final\n",
    "- https://github.com/cpease00/etf_forecasting\n",
    "- https://github.com/davidmasse/freelancer-rates\n",
    "- https://github.com/lpilossoph/Capstone-Project\n",
    "- https://github.com/whitcrrd/puzzle-image-segmentation"
   ]
  },
  {
   "cell_type": "markdown",
   "metadata": {
    "hidden": true
   },
   "source": [
    "### My Cohort (when I was a student) (online-ds-ft-021119)"
   ]
  },
  {
   "cell_type": "markdown",
   "metadata": {
    "hidden": true
   },
   "source": [
    "- https://github.com/whitcrrd/puzzle-image-segmentation\n",
    "- https://github.com/kpokrass/Global_Warming\n",
    "\n",
    "- https://github.com/jirvingphd/dsc-5-capstone-project-online-ds-ft-021119"
   ]
  },
  {
   "cell_type": "markdown",
   "metadata": {
    "hidden": true
   },
   "source": [
    "## Example Dashboards"
   ]
  },
  {
   "cell_type": "markdown",
   "metadata": {
    "hidden": true
   },
   "source": [
    "#### Hosted Online:\n",
    "- https://still-plateau-25734.herokuapp.com/ (Dash)\n",
    "- http://burlington-app.herokuapp.com/ (Dash)\n",
    "\n",
    "- https://datastudio.google.com/reporting/20efa577-3f3f-448c-a11b-0ccbba069500 (Google Data Studio)\n",
    "\n",
    "#### Must Clone Repo: \n",
    "- https://github.com/spags093/dsc-capstone-project-v2-onl01-dtsc-ft-070620/ (Flask)\n",
    "    - Check the `App instructions.txt` [inside this folder](https://github.com/spags093/dsc-capstone-project-v2-onl01-dtsc-ft-070620/tree/master/Deepfake%20Detection%20App) for how to run locally"
   ]
  }
 ],
 "metadata": {
  "kernelspec": {
   "display_name": "learn-env",
   "language": "python",
   "name": "learn-env"
  },
  "language_info": {
   "codemirror_mode": {
    "name": "ipython",
    "version": 3
   },
   "file_extension": ".py",
   "mimetype": "text/x-python",
   "name": "python",
   "nbconvert_exporter": "python",
   "pygments_lexer": "ipython3",
   "version": "3.6.11"
  },
  "toc": {
   "base_numbering": 1,
   "nav_menu": {},
   "number_sections": false,
   "sideBar": true,
   "skip_h1_title": false,
   "title_cell": "Table of Contents",
   "title_sidebar": "Contents",
   "toc_cell": false,
   "toc_position": {
    "height": "calc(100% - 180px)",
    "left": "10px",
    "top": "150px",
    "width": "256px"
   },
   "toc_section_display": true,
   "toc_window_display": true
  }
 },
 "nbformat": 4,
 "nbformat_minor": 2
}
