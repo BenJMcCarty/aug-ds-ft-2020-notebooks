{
 "cells": [
  {
   "cell_type": "markdown",
   "metadata": {},
   "source": [
    "# Making a Local Python Package/Module with Sub-Modules"
   ]
  },
  {
   "cell_type": "markdown",
   "metadata": {},
   "source": [
    "- online-ds-ft-081720\n",
    "- 01/14/21"
   ]
  },
  {
   "cell_type": "markdown",
   "metadata": {},
   "source": [
    "## Structuring Packages"
   ]
  },
  {
   "cell_type": "markdown",
   "metadata": {},
   "source": [
    "### Use folders & `__init__.py` to define package"
   ]
  },
  {
   "cell_type": "markdown",
   "metadata": {},
   "source": [
    "#### [Official Packaging Tutorial](https://packaging.python.org/tutorials/packaging-projects/)\n",
    "- Our module is structure like this:\n",
    "```\n",
    "capstone_functions\n",
    "    └── __init__.py\n",
    "    └── my_functions.py\n",
    "    └── lz.py\n",
    "```"
   ]
  },
  {
   "cell_type": "markdown",
   "metadata": {},
   "source": [
    "- The folder can contain other py files as well, but its needs an __init__.py to be recognized as a package. \n",
    "- The other py files can be import inside of __init__.py to make them part of the namespace"
   ]
  },
  {
   "cell_type": "markdown",
   "metadata": {},
   "source": [
    "#### [Packaging Namespaces/Submodules](https://packaging.python.org/guides/packaging-namespace-packages/#packaging-namespace-packages)_\n",
    "\n",
    "- Contents of our __init__.py\n",
    "\n",
    "```python\n",
    "\"\"\"A collection of example functions for 081720FT cohort\n",
    "- James M. Irving, Ph.D.\n",
    "- james.irving.phd@gmail.com\"\"\"\n",
    "\n",
    "from capstone_functions import my_functions\n",
    "from capstone_functions import lz\n",
    "```"
   ]
  },
  {
   "cell_type": "code",
   "execution_count": null,
   "metadata": {
    "ExecuteTime": {
     "end_time": "2021-01-14T18:27:25.502381Z",
     "start_time": "2021-01-14T18:27:23.975020Z"
    }
   },
   "outputs": [],
   "source": [
    "%load_ext autoreload\n",
    "%autoreload 2\n",
    "\n",
    "import capstone_functions as cf"
   ]
  },
  {
   "cell_type": "code",
   "execution_count": null,
   "metadata": {
    "ExecuteTime": {
     "end_time": "2021-01-14T18:27:25.530191Z",
     "start_time": "2021-01-14T18:27:25.504279Z"
    }
   },
   "outputs": [],
   "source": [
    "help(cf)"
   ]
  },
  {
   "cell_type": "code",
   "execution_count": null,
   "metadata": {
    "ExecuteTime": {
     "end_time": "2021-01-14T18:27:26.960680Z",
     "start_time": "2021-01-14T18:27:26.931092Z"
    }
   },
   "outputs": [],
   "source": [
    "help(cf.my_functions)"
   ]
  },
  {
   "cell_type": "code",
   "execution_count": null,
   "metadata": {
    "ExecuteTime": {
     "end_time": "2021-01-14T18:27:30.402318Z",
     "start_time": "2021-01-14T18:27:30.369566Z"
    }
   },
   "outputs": [],
   "source": [
    "help(cf.easy)"
   ]
  },
  {
   "cell_type": "code",
   "execution_count": null,
   "metadata": {
    "ExecuteTime": {
     "end_time": "2021-01-14T18:29:13.706111Z",
     "start_time": "2021-01-14T18:29:13.658091Z"
    }
   },
   "outputs": [],
   "source": [
    "cf.lz.metrics.r2_score"
   ]
  },
  {
   "cell_type": "code",
   "execution_count": null,
   "metadata": {
    "ExecuteTime": {
     "end_time": "2021-01-14T18:29:18.738273Z",
     "start_time": "2021-01-14T18:29:18.710792Z"
    }
   },
   "outputs": [],
   "source": [
    "cf.lz.pd.DataFrame"
   ]
  },
  {
   "cell_type": "code",
   "execution_count": null,
   "metadata": {
    "ExecuteTime": {
     "end_time": "2021-01-14T18:29:44.171895Z",
     "start_time": "2021-01-14T18:29:44.139904Z"
    }
   },
   "outputs": [],
   "source": [
    "X = [3]\n",
    "y = 'cheese'\n",
    "cf.my_functions.print_xy(X,y)"
   ]
  },
  {
   "cell_type": "markdown",
   "metadata": {},
   "source": [
    "# Appendix: Publishing on PyPi"
   ]
  },
  {
   "cell_type": "markdown",
   "metadata": {},
   "source": [
    "#### The Manual Way\n",
    "- The official tutorial for packaging and publishing on pypi \n",
    "    - [Official Packaging Tutorial](https://packaging.python.org/tutorials/packaging-projects/)\n",
    "    \n",
    "#### The Template/Automation/Fancy Way   \n",
    "- [My Blog Post (as a student) on Using Cookiecutter template packages](https://jirvingphd.github.io/i_published_my_own_python_package_and_you_can_too)\n",
    "    - [Companion Official Tutorial to reference during my tutorial](https://cookiecutter-pypackage.readthedocs.io/en/latest/tutorial.html)"
   ]
  },
  {
   "cell_type": "code",
   "execution_count": null,
   "metadata": {},
   "outputs": [],
   "source": []
  }
 ],
 "metadata": {
  "kernelspec": {
   "display_name": "learn-env",
   "language": "python",
   "name": "learn-env"
  },
  "language_info": {
   "codemirror_mode": {
    "name": "ipython",
    "version": 3
   },
   "file_extension": ".py",
   "mimetype": "text/x-python",
   "name": "python",
   "nbconvert_exporter": "python",
   "pygments_lexer": "ipython3",
   "version": "3.6.11"
  },
  "toc": {
   "base_numbering": 1,
   "nav_menu": {},
   "number_sections": true,
   "sideBar": true,
   "skip_h1_title": false,
   "title_cell": "Table of Contents",
   "title_sidebar": "Contents",
   "toc_cell": false,
   "toc_position": {},
   "toc_section_display": true,
   "toc_window_display": false
  }
 },
 "nbformat": 4,
 "nbformat_minor": 4
}
