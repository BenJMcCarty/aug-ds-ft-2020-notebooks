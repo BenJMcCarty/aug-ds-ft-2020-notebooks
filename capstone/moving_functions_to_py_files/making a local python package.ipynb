{
 "cells": [
  {
   "cell_type": "markdown",
   "metadata": {},
   "source": [
    "# Making a Local Python Package/Module with Sub-Modules"
   ]
  },
  {
   "cell_type": "markdown",
   "metadata": {},
   "source": [
    "## References"
   ]
  },
  {
   "cell_type": "markdown",
   "metadata": {},
   "source": [
    "#### [Official Packaging Tutorial](https://packaging.python.org/tutorials/packaging-projects/)\n",
    "- Our module is structure like this:\n",
    "```\n",
    "capstone_functions\n",
    "    └── __init__.py\n",
    "    └── my_functions.py\n",
    "    └── lz.py\n",
    "```\n",
    "\n",
    "#### [Packaging Namespaces/Submodules](https://packaging.python.org/guides/packaging-namespace-packages/#packaging-namespace-packages)_\n",
    "\n",
    "- Contents of our __init__.py\n",
    "\n",
    "```python\n",
    "\"\"\"A collection of example functions for 081720FT cohort\n",
    "- James M. Irving, Ph.D.\n",
    "- james.irving.phd@gmail.com\"\"\"\n",
    "\n",
    "from capstone_functions import my_functions\n",
    "from capstone_functions import lz\n",
    "```"
   ]
  },
  {
   "cell_type": "code",
   "execution_count": 13,
   "metadata": {
    "ExecuteTime": {
     "end_time": "2021-01-14T18:27:25.502381Z",
     "start_time": "2021-01-14T18:27:23.975020Z"
    }
   },
   "outputs": [
    {
     "name": "stdout",
     "output_type": "stream",
     "text": [
      "The autoreload extension is already loaded. To reload it, use:\n",
      "  %reload_ext autoreload\n"
     ]
    }
   ],
   "source": [
    "%load_ext autoreload\n",
    "%autoreload 2\n",
    "\n",
    "import capstone_functions as cf"
   ]
  },
  {
   "cell_type": "code",
   "execution_count": 14,
   "metadata": {
    "ExecuteTime": {
     "end_time": "2021-01-14T18:27:25.530191Z",
     "start_time": "2021-01-14T18:27:25.504279Z"
    }
   },
   "outputs": [
    {
     "name": "stdout",
     "output_type": "stream",
     "text": [
      "Help on package capstone_functions:\n",
      "\n",
      "NAME\n",
      "    capstone_functions\n",
      "\n",
      "DESCRIPTION\n",
      "    A collection of example functions for 081720FT cohort\n",
      "    - James M. Irving, Ph.D.\n",
      "    - james.irving.phd@gmail.com\n",
      "\n",
      "PACKAGE CONTENTS\n",
      "    easy\n",
      "    my_functions\n",
      "\n",
      "FILE\n",
      "    /Users/jamesirving/Documents/GitHub/_COHORT_NOTES/081720FT/aug-ds-ft-2020-notebooks/capstone/moving_functions_to_py_files/capstone_functions/__init__.py\n",
      "\n",
      "\n"
     ]
    }
   ],
   "source": [
    "help(cf)"
   ]
  },
  {
   "cell_type": "code",
   "execution_count": 15,
   "metadata": {
    "ExecuteTime": {
     "end_time": "2021-01-14T18:27:26.960680Z",
     "start_time": "2021-01-14T18:27:26.931092Z"
    }
   },
   "outputs": [
    {
     "name": "stdout",
     "output_type": "stream",
     "text": [
      "Help on module capstone_functions.my_functions in capstone_functions:\n",
      "\n",
      "NAME\n",
      "    capstone_functions.my_functions\n",
      "\n",
      "FUNCTIONS\n",
      "    print_xy(X, y)\n",
      "        Example function to print 2 things\n",
      "        \n",
      "        Args:\n",
      "            X (list): First thing printed\n",
      "            y (list): Second thing printed\n",
      "        Ex:\n",
      "        >> X = []..\n",
      "        >> print(X,y)\n",
      "    \n",
      "    print_xy2(X, y)\n",
      "    \n",
      "    series_xy_file(X, y)\n",
      "\n",
      "FILE\n",
      "    /Users/jamesirving/Documents/GitHub/_COHORT_NOTES/081720FT/aug-ds-ft-2020-notebooks/capstone/moving_functions_to_py_files/capstone_functions/my_functions.py\n",
      "\n",
      "\n"
     ]
    }
   ],
   "source": [
    "help(cf.my_functions)"
   ]
  },
  {
   "cell_type": "code",
   "execution_count": 16,
   "metadata": {
    "ExecuteTime": {
     "end_time": "2021-01-14T18:27:30.402318Z",
     "start_time": "2021-01-14T18:27:30.369566Z"
    }
   },
   "outputs": [
    {
     "name": "stdout",
     "output_type": "stream",
     "text": [
      "Help on module capstone_functions.easy in capstone_functions:\n",
      "\n",
      "NAME\n",
      "    capstone_functions.easy - A module of convience imports\n",
      "\n",
      "FILE\n",
      "    /Users/jamesirving/Documents/GitHub/_COHORT_NOTES/081720FT/aug-ds-ft-2020-notebooks/capstone/moving_functions_to_py_files/capstone_functions/easy.py\n",
      "\n",
      "\n"
     ]
    }
   ],
   "source": [
    "help(cf.easy)"
   ]
  },
  {
   "cell_type": "code",
   "execution_count": 19,
   "metadata": {
    "ExecuteTime": {
     "end_time": "2021-01-14T18:29:13.706111Z",
     "start_time": "2021-01-14T18:29:13.658091Z"
    }
   },
   "outputs": [
    {
     "data": {
      "text/plain": [
       "<function sklearn.metrics._regression.r2_score(y_true, y_pred, *, sample_weight=None, multioutput='uniform_average')>"
      ]
     },
     "execution_count": 19,
     "metadata": {},
     "output_type": "execute_result"
    }
   ],
   "source": [
    "cf.lz.metrics.r2_score"
   ]
  },
  {
   "cell_type": "code",
   "execution_count": 20,
   "metadata": {
    "ExecuteTime": {
     "end_time": "2021-01-14T18:29:18.738273Z",
     "start_time": "2021-01-14T18:29:18.710792Z"
    }
   },
   "outputs": [
    {
     "data": {
      "text/plain": [
       "pandas.core.frame.DataFrame"
      ]
     },
     "execution_count": 20,
     "metadata": {},
     "output_type": "execute_result"
    }
   ],
   "source": [
    "cf.lz.pd.DataFrame"
   ]
  },
  {
   "cell_type": "code",
   "execution_count": 22,
   "metadata": {
    "ExecuteTime": {
     "end_time": "2021-01-14T18:29:44.171895Z",
     "start_time": "2021-01-14T18:29:44.139904Z"
    }
   },
   "outputs": [
    {
     "name": "stdout",
     "output_type": "stream",
     "text": [
      "[3]\n",
      "cheese\n"
     ]
    }
   ],
   "source": [
    "X = [3]\n",
    "y = 'cheese'\n",
    "cf.my_functions.print_xy(X,y)"
   ]
  },
  {
   "cell_type": "code",
   "execution_count": null,
   "metadata": {},
   "outputs": [],
   "source": []
  }
 ],
 "metadata": {
  "kernelspec": {
   "display_name": "learn-env",
   "language": "python",
   "name": "learn-env"
  },
  "language_info": {
   "codemirror_mode": {
    "name": "ipython",
    "version": 3
   },
   "file_extension": ".py",
   "mimetype": "text/x-python",
   "name": "python",
   "nbconvert_exporter": "python",
   "pygments_lexer": "ipython3",
   "version": "3.6.11"
  },
  "toc": {
   "base_numbering": 1,
   "nav_menu": {},
   "number_sections": true,
   "sideBar": true,
   "skip_h1_title": false,
   "title_cell": "Table of Contents",
   "title_sidebar": "Contents",
   "toc_cell": false,
   "toc_position": {},
   "toc_section_display": true,
   "toc_window_display": false
  }
 },
 "nbformat": 4,
 "nbformat_minor": 4
}
