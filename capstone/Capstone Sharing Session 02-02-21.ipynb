{
 "cells": [
  {
   "cell_type": "markdown",
   "metadata": {},
   "source": [
    "# Capstone Sharing Session"
   ]
  },
  {
   "cell_type": "markdown",
   "metadata": {},
   "source": [
    "- online-ds-ft-081720\n",
    "- 02/02/21"
   ]
  },
  {
   "cell_type": "markdown",
   "metadata": {
    "heading_collapsed": true
   },
   "source": [
    "## Announcements/Reminders"
   ]
  },
  {
   "cell_type": "markdown",
   "metadata": {
    "hidden": true
   },
   "source": [
    "> - **Our Bonus Study Group will be: Tableau Fundamentals**\n",
    "    - Thursday 02/04/21 at 2 pm EST (on the cohort calendar)\n",
    "    \n",
    "> - **Graduation Ceremony is 02/11/21 at 7 pm EST.**\n",
    "    - You have until this Thursday at 12pm EST to submit your final graduation requirements and still be included in this ceremony. "
   ]
  },
  {
   "cell_type": "markdown",
   "metadata": {},
   "source": [
    "## Presentations\n",
    "\n",
    "| # | Student | Capstone Title | Repo Link| App Link |\n",
    "| --- | --- | --- | --- | --- |\n",
    "|1. | Tia Plagata  | The Destination Dictionary |https://github.com/tiaplagata/capstone-project | [Repo Link](https://github.com/tiaplagata/dash-travel-app)|\n",
    "|2.| Kourosh Alizadeh   | Philosophy NLP & Text Classification | https://github.com/kcalizadeh/phil_nlp | [App Link](http://philosophydata.com/) |\n",
    "|3.| Seth Chart| Data Jobs|https://github.com/sethchart/DataJobs | |\n",
    "| 4. | Kristen Davis |  Correlating NGSS and State Based Science Standards | https://github.com/kristen770/Sceince-Standards-NLP-Analysis | |\n",
    "|5.| Max Steele |Registered Voter Participation in Union County, North Carolina | https://github.com/zero731/NC_Elections_Capstone  |   [App Link](https://share.streamlit.io/zero731/nc_elections_capstone/main/UC_elec_app.py) |\n",
    "|6. | Jaklyn Soler |  San Francisco 311 Calls | https://github.com/jaykayso/SAN_FRANCISCO_311_CALLS |\n",
    "|7. | Seth Holley | Wikipedia Protection with NLP|https://github.com/spe301/Wikipedia-Capstone| ||\n",
    "|8.| Vivienne DiFrancesco |Predicting Depression Using Health Care Data| https://github.com/AnyOldRandomNameWillDOo/Capstone-Project|[App Link](https://share.streamlit.io/anyoldrandomnamewilldoo/capstone-project/main/depression_app.py) |\n",
    "\n",
    "\n"
   ]
  },
  {
   "cell_type": "markdown",
   "metadata": {},
   "source": [
    "## Recording URL"
   ]
  },
  {
   "cell_type": "markdown",
   "metadata": {},
   "source": [
    "- TBD"
   ]
  }
 ],
 "metadata": {
  "kernelspec": {
   "display_name": "learn-env",
   "language": "python",
   "name": "learn-env"
  },
  "language_info": {
   "codemirror_mode": {
    "name": "ipython",
    "version": 3
   },
   "file_extension": ".py",
   "mimetype": "text/x-python",
   "name": "python",
   "nbconvert_exporter": "python",
   "pygments_lexer": "ipython3",
   "version": "3.6.11"
  },
  "toc": {
   "base_numbering": 1,
   "nav_menu": {},
   "number_sections": false,
   "sideBar": true,
   "skip_h1_title": false,
   "title_cell": "Table of Contents",
   "title_sidebar": "Contents",
   "toc_cell": false,
   "toc_position": {
    "height": "calc(100% - 180px)",
    "left": "10px",
    "top": "150px",
    "width": "256px"
   },
   "toc_section_display": true,
   "toc_window_display": false
  }
 },
 "nbformat": 4,
 "nbformat_minor": 4
}
