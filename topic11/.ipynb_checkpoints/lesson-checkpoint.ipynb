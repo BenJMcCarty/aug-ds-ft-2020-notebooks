{
 "cells": [
  {
   "cell_type": "code",
   "execution_count": 1,
   "metadata": {},
   "outputs": [],
   "source": [
    "a, b, c = 2, [3, 4], \"string\""
   ]
  },
  {
   "cell_type": "markdown",
   "metadata": {},
   "source": [
    "# Questions\n",
    "* permutations\n",
    "* permutations with repetition\n",
    "* combinations"
   ]
  },
  {
   "cell_type": "markdown",
   "metadata": {},
   "source": [
    "# Context\n",
    "Where I have used permutations/combinations in ML or DL\n",
    "* Counting parameters in a Deep Learning Network\n",
    "* Graph Theory\n",
    "* I don't use this in probability too much, because things do it for me"
   ]
  },
  {
   "cell_type": "markdown",
   "metadata": {},
   "source": [
    "# Permutations\n",
    "* different ways of ordering a list, set\n",
    "* how many ways things can be combined\n",
    "* permutations are an exhaustive listing of outcomes or states that are possible\n",
    "\n",
    "Ex: \n",
    "\n",
    "let's say I have 10 students and I need to make a line of 6 of them. How many ways can I do this?\n",
    "\n",
    "Formula \n",
    "\n",
    "```python\n",
    "Perm(n, k) = fact(n) / fact(n - k)\n",
    "```\n",
    "\n",
    "# Permutations with repetition\n",
    "Ex: \n",
    "let's say I have 5 students [mike, nick, andrew, andrew, gus]\n",
    "\n",
    "I need to make a line of 3 students, how many lines can I make?\n",
    "\n",
    "mike, nick, andrew\n",
    "mike, nick, andrew\n",
    "mike, nick, gus\n",
    "mike, andrew, andrew\n",
    "mike, andrew, gus\n",
    "mike, andrew, gus\n",
    "\n",
    "let's take [mike, andrew, gus] as an example\n",
    "\n",
    "\n",
    "\n",
    "# Division in Combinatorics\n",
    "typically this removes double counting\n",
    "\n",
    "* numerator = all of the unique lists of all of the elements\n",
    "* denominator = the number of elements you do not need\n"
   ]
  },
  {
   "cell_type": "markdown",
   "metadata": {},
   "source": [
    "# Objectives\n",
    "YWBAT\n",
    "* identify when to use permutations and combinations\n",
    "* how to use combinatorics to calculate an event space\n",
    "\n",
    "\n",
    "# Probability Space Axioms\n",
    "* sum(P(E_i)) = 1.0\n",
    "* P(E_i)>0 for all Events\n",
    "    * P(E_i)<1 if there are more than 1 event\n",
    "* $P(A\\cup B) = P(A) + P(B)$, given A and B are independent\n",
    "\n",
    "\n",
    "## Ex: rolling a 6 sided dice\n",
    "* P(1) + P(2) + ... + P(6) = 1.0"
   ]
  },
  {
   "cell_type": "code",
   "execution_count": 8,
   "metadata": {},
   "outputs": [],
   "source": [
    "from itertools import permutations, combinations\n",
    "from math import factorial"
   ]
  },
  {
   "cell_type": "code",
   "execution_count": 6,
   "metadata": {},
   "outputs": [
    {
     "data": {
      "text/plain": [
       "120"
      ]
     },
     "execution_count": 6,
     "metadata": {},
     "output_type": "execute_result"
    }
   ],
   "source": [
    "# let's say our event space is all revolved around making lists of 1-5\n",
    "\n",
    "lst = [1, 2, 3, 4, 5]\n",
    "space = []\n",
    "total_permutations = 0\n",
    "for p in permutations(lst):\n",
    "    total_permutations += 1\n",
    "    space.append(p)\n",
    "total_permutations"
   ]
  },
  {
   "cell_type": "code",
   "execution_count": 13,
   "metadata": {},
   "outputs": [],
   "source": [
    "# P(having a list that begins with 2 even numbers?)\n",
    "lst = [1, 2, 3, 4, 5]\n",
    "total_events = factorial(len(lst))\n",
    "num_events = 0\n",
    "even_events = []\n",
    "for p in permutations(lst):\n",
    "    if p[0]%2==p[1]%2==0:\n",
    "        num_events+=1\n",
    "        even_events.append(p)"
   ]
  },
  {
   "cell_type": "code",
   "execution_count": 14,
   "metadata": {},
   "outputs": [
    {
     "data": {
      "text/plain": [
       "0.1"
      ]
     },
     "execution_count": 14,
     "metadata": {},
     "output_type": "execute_result"
    }
   ],
   "source": [
    "num_events/total_events"
   ]
  },
  {
   "cell_type": "code",
   "execution_count": 15,
   "metadata": {},
   "outputs": [
    {
     "data": {
      "text/plain": [
       "12"
      ]
     },
     "execution_count": 15,
     "metadata": {},
     "output_type": "execute_result"
    }
   ],
   "source": [
    "num_events"
   ]
  },
  {
   "cell_type": "code",
   "execution_count": 16,
   "metadata": {},
   "outputs": [
    {
     "data": {
      "text/plain": [
       "[(2, 4, 1, 3, 5),\n",
       " (2, 4, 1, 5, 3),\n",
       " (2, 4, 3, 1, 5),\n",
       " (2, 4, 3, 5, 1),\n",
       " (2, 4, 5, 1, 3),\n",
       " (2, 4, 5, 3, 1),\n",
       " (4, 2, 1, 3, 5),\n",
       " (4, 2, 1, 5, 3),\n",
       " (4, 2, 3, 1, 5),\n",
       " (4, 2, 3, 5, 1),\n",
       " (4, 2, 5, 1, 3),\n",
       " (4, 2, 5, 3, 1)]"
      ]
     },
     "execution_count": 16,
     "metadata": {},
     "output_type": "execute_result"
    }
   ],
   "source": [
    "even_events"
   ]
  },
  {
   "cell_type": "markdown",
   "metadata": {},
   "source": [
    "# Combinations\n",
    "* combinations are like permutations but order doesn't matter\n",
    "\n",
    "\n",
    "Ex: \n",
    "\n",
    "Given 10 students how many groups of 6 students can one create?\n",
    "\n",
    "```python\n",
    "10!/(4!*6!)\n",
    "```\n",
    "\n",
    "in general\n",
    "\n",
    "Given n items how many groups of k can one make?\n",
    "\n",
    "```python\n",
    "n!/((n-k)!k!)\n",
    "```"
   ]
  },
  {
   "cell_type": "code",
   "execution_count": 18,
   "metadata": {},
   "outputs": [
    {
     "name": "stdout",
     "output_type": "stream",
     "text": [
      "10\n",
      "[(1, 2, 3), (1, 2, 4), (1, 2, 5), (1, 3, 4), (1, 3, 5), (1, 4, 5), (2, 3, 4), (2, 3, 5), (2, 4, 5), (3, 4, 5)]\n"
     ]
    }
   ],
   "source": [
    "lst = [1, 2, 3, 4, 5]\n",
    "\n",
    "\n",
    "\n",
    "total_groups_of_three = 0\n",
    "groups_of_three = []\n",
    "\n",
    "for c in combinations(lst, 3):\n",
    "    total_groups_of_three += 1\n",
    "    groups_of_three.append(c) \n",
    "    \n",
    "    \n",
    "print(total_groups_of_three)\n",
    "print(groups_of_three)"
   ]
  },
  {
   "cell_type": "code",
   "execution_count": 44,
   "metadata": {},
   "outputs": [],
   "source": [
    "# let's code all of these in our own formula\n",
    "\n",
    "def factorial(n):\n",
    "    if n == 1:\n",
    "        return 1\n",
    "    return n*factorial(n-1)\n",
    "\n",
    "\n",
    "def permutations(n, p):\n",
    "    \"\"\"\n",
    "    this function returns the answer to the question\n",
    "    given 10 unique items, how lists of p length can one create\n",
    "    \"\"\"\n",
    "    numerator = factorial(n)\n",
    "    denominator = factorial(n-p)\n",
    "    print(numerator, denominator)\n",
    "    return numerator/denominator"
   ]
  },
  {
   "cell_type": "code",
   "execution_count": 45,
   "metadata": {},
   "outputs": [
    {
     "data": {
      "text/plain": [
       "24"
      ]
     },
     "execution_count": 45,
     "metadata": {},
     "output_type": "execute_result"
    }
   ],
   "source": [
    "factorial(4)"
   ]
  },
  {
   "cell_type": "code",
   "execution_count": 47,
   "metadata": {},
   "outputs": [],
   "source": [
    "# 0! = 1\n",
    "# 0 is neither positive nor negative"
   ]
  },
  {
   "cell_type": "code",
   "execution_count": null,
   "metadata": {},
   "outputs": [],
   "source": []
  }
 ],
 "metadata": {
  "kernelspec": {
   "display_name": "flatiron-env",
   "language": "python",
   "name": "flatiron-env"
  },
  "language_info": {
   "codemirror_mode": {
    "name": "ipython",
    "version": 3
   },
   "file_extension": ".py",
   "mimetype": "text/x-python",
   "name": "python",
   "nbconvert_exporter": "python",
   "pygments_lexer": "ipython3",
   "version": "3.7.3"
  }
 },
 "nbformat": 4,
 "nbformat_minor": 2
}
